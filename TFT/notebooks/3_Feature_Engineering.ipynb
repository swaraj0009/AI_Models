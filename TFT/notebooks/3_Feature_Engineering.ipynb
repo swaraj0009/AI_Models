{
  "cells": [
    {
      "cell_type": "markdown",
      "metadata": {
        "id": "jG-QM25bGvR5"
      },
      "source": [
        "### Feature Engineering"
      ]
    },
    {
      "cell_type": "code",
      "source": [
        "from google.colab import drive\n",
        "drive.mount('/content/drive')"
      ],
      "metadata": {
        "id": "4Qb-2IDYGwbG",
        "outputId": "b061db89-2e1e-42d2-b9d3-17f8c96c25e0",
        "colab": {
          "base_uri": "https://localhost:8080/"
        }
      },
      "execution_count": 1,
      "outputs": [
        {
          "output_type": "stream",
          "name": "stdout",
          "text": [
            "Mounted at /content/drive\n"
          ]
        }
      ]
    },
    {
      "cell_type": "code",
      "source": [
        "# ⚡ Quick Setup - Run after runtime reset (CPU/GPU Switch)\n",
        "# Installs essential packages silently to save output clutter\n",
        "\n",
        "!pip install matplotlib seaborn pandas numpy --quiet\n",
        "\n",
        "print(\"\\033[92m✅ All required packages installed successfully.\\033[0m\")"
      ],
      "metadata": {
        "id": "q2WWjuJDosnT",
        "outputId": "da195e2a-09a5-490d-b1c1-35d07e9af883",
        "colab": {
          "base_uri": "https://localhost:8080/"
        }
      },
      "execution_count": 2,
      "outputs": [
        {
          "output_type": "stream",
          "name": "stdout",
          "text": [
            "\u001b[92m✅ All required packages installed successfully.\u001b[0m\n"
          ]
        }
      ]
    },
    {
      "cell_type": "markdown",
      "metadata": {
        "id": "_nrcGi8GGvR6"
      },
      "source": [
        "#### Import libraries"
      ]
    },
    {
      "cell_type": "code",
      "execution_count": 3,
      "metadata": {
        "id": "9IvMWblLGvR6"
      },
      "outputs": [],
      "source": [
        "import numpy as np\n",
        "import pandas as pd\n",
        "import matplotlib.pyplot as plt\n",
        "import seaborn as sns\n",
        "import os\n",
        "import glob"
      ]
    },
    {
      "cell_type": "markdown",
      "metadata": {
        "id": "ZuwTCX9DGvR6"
      },
      "source": [
        "#### Load the EDA & Preprocessing notebook"
      ]
    },
    {
      "cell_type": "code",
      "execution_count": 4,
      "metadata": {
        "id": "Z1AI1gqPGvR6"
      },
      "outputs": [],
      "source": [
        "# df2 = pd.read_parquet(\"/home/data/processed/PreProcessing.parquet\")\n",
        "df2 = pd.read_parquet(\"/content/drive/MyDrive/datasets/processed/PreProcessingcolab.parquet\")"
      ]
    },
    {
      "cell_type": "markdown",
      "metadata": {
        "id": "mnvMP_NxGvR6"
      },
      "source": [
        "#### Time Based Calender features"
      ]
    },
    {
      "cell_type": "code",
      "execution_count": 5,
      "metadata": {
        "id": "NRxiT_CSGvR7"
      },
      "outputs": [],
      "source": [
        "df2['hour'] = df2['Timestamp'].dt.hour\n",
        "df2['dayofweek'] = df2['Timestamp'].dt.dayofweek\n",
        "df2['is_weekend'] = df2['dayofweek'] >= 5\n",
        "df2['month'] = df2['Timestamp'].dt.month\n",
        "df2['day'] = df2['Timestamp'].dt.day"
      ]
    },
    {
      "cell_type": "markdown",
      "metadata": {
        "id": "M5nxnqIKGvR7"
      },
      "source": [
        "#### Cyclical Time Features for Time Series Data"
      ]
    },
    {
      "cell_type": "code",
      "execution_count": 6,
      "metadata": {
        "id": "Kk_K3kGoGvR7"
      },
      "outputs": [],
      "source": [
        "# Cyclical encoding for hour\n",
        "df2['hour_sin'] = np.sin(2 * np.pi * df2['hour'] / 24).round(4)\n",
        "df2['hour_cos'] = np.cos(2 * np.pi * df2['hour'] / 24).round(4)\n",
        "\n",
        "# Same for day of week\n",
        "df2['dayofweek_sin'] = np.sin(2 * np.pi * df2['dayofweek'] / 7).round(4)\n",
        "df2['dayofweek_cos'] = np.cos(2 * np.pi * df2['dayofweek'] / 7).round(4)\n",
        "\n",
        "# Optional month encoding if relevant\n",
        "df2['month_sin'] = np.sin(2 * np.pi * (df2['month'] - 1) / 12).round(4)\n",
        "df2['month_cos'] = np.cos(2 * np.pi * (df2['month'] - 1) / 12).round(4)"
      ]
    },
    {
      "cell_type": "code",
      "execution_count": 7,
      "metadata": {
        "id": "mb-zBQVlGvR7",
        "outputId": "3aa94830-bb87-45ec-f092-3bc139308326",
        "colab": {
          "base_uri": "https://localhost:8080/",
          "height": 307
        }
      },
      "outputs": [
        {
          "output_type": "execute_result",
          "data": {
            "text/plain": [
              "   Timestamp [s]  CPU cores  CPU capacity provisioned [MHZ]  CPU usage [MHZ]  \\\n",
              "0     1376314846          4                     11703.99824     10912.027692   \n",
              "1     1376315146          4                     11703.99824     10890.570362   \n",
              "2     1376315446          4                     11703.99824     10434.114431   \n",
              "3     1376315746          4                     11703.99824     10539.450415   \n",
              "4     1376316046          4                     11703.99824     10951.041020   \n",
              "\n",
              "   CPU usage [%]  Memory capacity provisioned [KB]  Memory usage [KB]  \\\n",
              "0      93.233333                        67108864.0       6.129274e+06   \n",
              "1      93.050000                        67108864.0       6.755624e+06   \n",
              "2      89.150000                        67108864.0       8.947846e+06   \n",
              "3      90.050000                        67108864.0       1.879048e+07   \n",
              "4      93.566667                        67108864.0       9.305761e+06   \n",
              "\n",
              "   Disk read throughput [KB/s]  Disk write throughput [KB/s]  \\\n",
              "0                     0.133333                  15981.600000   \n",
              "1                     1.333333                  19137.333333   \n",
              "2                     2.533333                  19974.933333   \n",
              "3                     5.466667                   8791.800000   \n",
              "4                     5.400000                  15679.533333   \n",
              "\n",
              "   Network received throughput [KB/s]  ...  dayofweek is_weekend month  day  \\\n",
              "0                            0.000000  ...          0      False     8   12   \n",
              "1                            0.000000  ...          0      False     8   12   \n",
              "2                          535.666667  ...          0      False     8   12   \n",
              "3                          349.666667  ...          0      False     8   12   \n",
              "4                            0.000000  ...          0      False     8   12   \n",
              "\n",
              "  hour_sin  hour_cos  dayofweek_sin  dayofweek_cos  month_sin  month_cos  \n",
              "0  -0.2588   -0.9659            0.0            1.0       -0.5     -0.866  \n",
              "1  -0.2588   -0.9659            0.0            1.0       -0.5     -0.866  \n",
              "2  -0.2588   -0.9659            0.0            1.0       -0.5     -0.866  \n",
              "3  -0.2588   -0.9659            0.0            1.0       -0.5     -0.866  \n",
              "4  -0.5000   -0.8660            0.0            1.0       -0.5     -0.866  \n",
              "\n",
              "[5 rows x 26 columns]"
            ],
            "text/html": [
              "\n",
              "  <div id=\"df-2c6f0c27-73ec-4a1c-bf75-f4ecf8fb5e3a\" class=\"colab-df-container\">\n",
              "    <div>\n",
              "<style scoped>\n",
              "    .dataframe tbody tr th:only-of-type {\n",
              "        vertical-align: middle;\n",
              "    }\n",
              "\n",
              "    .dataframe tbody tr th {\n",
              "        vertical-align: top;\n",
              "    }\n",
              "\n",
              "    .dataframe thead th {\n",
              "        text-align: right;\n",
              "    }\n",
              "</style>\n",
              "<table border=\"1\" class=\"dataframe\">\n",
              "  <thead>\n",
              "    <tr style=\"text-align: right;\">\n",
              "      <th></th>\n",
              "      <th>Timestamp [s]</th>\n",
              "      <th>CPU cores</th>\n",
              "      <th>CPU capacity provisioned [MHZ]</th>\n",
              "      <th>CPU usage [MHZ]</th>\n",
              "      <th>CPU usage [%]</th>\n",
              "      <th>Memory capacity provisioned [KB]</th>\n",
              "      <th>Memory usage [KB]</th>\n",
              "      <th>Disk read throughput [KB/s]</th>\n",
              "      <th>Disk write throughput [KB/s]</th>\n",
              "      <th>Network received throughput [KB/s]</th>\n",
              "      <th>...</th>\n",
              "      <th>dayofweek</th>\n",
              "      <th>is_weekend</th>\n",
              "      <th>month</th>\n",
              "      <th>day</th>\n",
              "      <th>hour_sin</th>\n",
              "      <th>hour_cos</th>\n",
              "      <th>dayofweek_sin</th>\n",
              "      <th>dayofweek_cos</th>\n",
              "      <th>month_sin</th>\n",
              "      <th>month_cos</th>\n",
              "    </tr>\n",
              "  </thead>\n",
              "  <tbody>\n",
              "    <tr>\n",
              "      <th>0</th>\n",
              "      <td>1376314846</td>\n",
              "      <td>4</td>\n",
              "      <td>11703.99824</td>\n",
              "      <td>10912.027692</td>\n",
              "      <td>93.233333</td>\n",
              "      <td>67108864.0</td>\n",
              "      <td>6.129274e+06</td>\n",
              "      <td>0.133333</td>\n",
              "      <td>15981.600000</td>\n",
              "      <td>0.000000</td>\n",
              "      <td>...</td>\n",
              "      <td>0</td>\n",
              "      <td>False</td>\n",
              "      <td>8</td>\n",
              "      <td>12</td>\n",
              "      <td>-0.2588</td>\n",
              "      <td>-0.9659</td>\n",
              "      <td>0.0</td>\n",
              "      <td>1.0</td>\n",
              "      <td>-0.5</td>\n",
              "      <td>-0.866</td>\n",
              "    </tr>\n",
              "    <tr>\n",
              "      <th>1</th>\n",
              "      <td>1376315146</td>\n",
              "      <td>4</td>\n",
              "      <td>11703.99824</td>\n",
              "      <td>10890.570362</td>\n",
              "      <td>93.050000</td>\n",
              "      <td>67108864.0</td>\n",
              "      <td>6.755624e+06</td>\n",
              "      <td>1.333333</td>\n",
              "      <td>19137.333333</td>\n",
              "      <td>0.000000</td>\n",
              "      <td>...</td>\n",
              "      <td>0</td>\n",
              "      <td>False</td>\n",
              "      <td>8</td>\n",
              "      <td>12</td>\n",
              "      <td>-0.2588</td>\n",
              "      <td>-0.9659</td>\n",
              "      <td>0.0</td>\n",
              "      <td>1.0</td>\n",
              "      <td>-0.5</td>\n",
              "      <td>-0.866</td>\n",
              "    </tr>\n",
              "    <tr>\n",
              "      <th>2</th>\n",
              "      <td>1376315446</td>\n",
              "      <td>4</td>\n",
              "      <td>11703.99824</td>\n",
              "      <td>10434.114431</td>\n",
              "      <td>89.150000</td>\n",
              "      <td>67108864.0</td>\n",
              "      <td>8.947846e+06</td>\n",
              "      <td>2.533333</td>\n",
              "      <td>19974.933333</td>\n",
              "      <td>535.666667</td>\n",
              "      <td>...</td>\n",
              "      <td>0</td>\n",
              "      <td>False</td>\n",
              "      <td>8</td>\n",
              "      <td>12</td>\n",
              "      <td>-0.2588</td>\n",
              "      <td>-0.9659</td>\n",
              "      <td>0.0</td>\n",
              "      <td>1.0</td>\n",
              "      <td>-0.5</td>\n",
              "      <td>-0.866</td>\n",
              "    </tr>\n",
              "    <tr>\n",
              "      <th>3</th>\n",
              "      <td>1376315746</td>\n",
              "      <td>4</td>\n",
              "      <td>11703.99824</td>\n",
              "      <td>10539.450415</td>\n",
              "      <td>90.050000</td>\n",
              "      <td>67108864.0</td>\n",
              "      <td>1.879048e+07</td>\n",
              "      <td>5.466667</td>\n",
              "      <td>8791.800000</td>\n",
              "      <td>349.666667</td>\n",
              "      <td>...</td>\n",
              "      <td>0</td>\n",
              "      <td>False</td>\n",
              "      <td>8</td>\n",
              "      <td>12</td>\n",
              "      <td>-0.2588</td>\n",
              "      <td>-0.9659</td>\n",
              "      <td>0.0</td>\n",
              "      <td>1.0</td>\n",
              "      <td>-0.5</td>\n",
              "      <td>-0.866</td>\n",
              "    </tr>\n",
              "    <tr>\n",
              "      <th>4</th>\n",
              "      <td>1376316046</td>\n",
              "      <td>4</td>\n",
              "      <td>11703.99824</td>\n",
              "      <td>10951.041020</td>\n",
              "      <td>93.566667</td>\n",
              "      <td>67108864.0</td>\n",
              "      <td>9.305761e+06</td>\n",
              "      <td>5.400000</td>\n",
              "      <td>15679.533333</td>\n",
              "      <td>0.000000</td>\n",
              "      <td>...</td>\n",
              "      <td>0</td>\n",
              "      <td>False</td>\n",
              "      <td>8</td>\n",
              "      <td>12</td>\n",
              "      <td>-0.5000</td>\n",
              "      <td>-0.8660</td>\n",
              "      <td>0.0</td>\n",
              "      <td>1.0</td>\n",
              "      <td>-0.5</td>\n",
              "      <td>-0.866</td>\n",
              "    </tr>\n",
              "  </tbody>\n",
              "</table>\n",
              "<p>5 rows × 26 columns</p>\n",
              "</div>\n",
              "    <div class=\"colab-df-buttons\">\n",
              "\n",
              "  <div class=\"colab-df-container\">\n",
              "    <button class=\"colab-df-convert\" onclick=\"convertToInteractive('df-2c6f0c27-73ec-4a1c-bf75-f4ecf8fb5e3a')\"\n",
              "            title=\"Convert this dataframe to an interactive table.\"\n",
              "            style=\"display:none;\">\n",
              "\n",
              "  <svg xmlns=\"http://www.w3.org/2000/svg\" height=\"24px\" viewBox=\"0 -960 960 960\">\n",
              "    <path d=\"M120-120v-720h720v720H120Zm60-500h600v-160H180v160Zm220 220h160v-160H400v160Zm0 220h160v-160H400v160ZM180-400h160v-160H180v160Zm440 0h160v-160H620v160ZM180-180h160v-160H180v160Zm440 0h160v-160H620v160Z\"/>\n",
              "  </svg>\n",
              "    </button>\n",
              "\n",
              "  <style>\n",
              "    .colab-df-container {\n",
              "      display:flex;\n",
              "      gap: 12px;\n",
              "    }\n",
              "\n",
              "    .colab-df-convert {\n",
              "      background-color: #E8F0FE;\n",
              "      border: none;\n",
              "      border-radius: 50%;\n",
              "      cursor: pointer;\n",
              "      display: none;\n",
              "      fill: #1967D2;\n",
              "      height: 32px;\n",
              "      padding: 0 0 0 0;\n",
              "      width: 32px;\n",
              "    }\n",
              "\n",
              "    .colab-df-convert:hover {\n",
              "      background-color: #E2EBFA;\n",
              "      box-shadow: 0px 1px 2px rgba(60, 64, 67, 0.3), 0px 1px 3px 1px rgba(60, 64, 67, 0.15);\n",
              "      fill: #174EA6;\n",
              "    }\n",
              "\n",
              "    .colab-df-buttons div {\n",
              "      margin-bottom: 4px;\n",
              "    }\n",
              "\n",
              "    [theme=dark] .colab-df-convert {\n",
              "      background-color: #3B4455;\n",
              "      fill: #D2E3FC;\n",
              "    }\n",
              "\n",
              "    [theme=dark] .colab-df-convert:hover {\n",
              "      background-color: #434B5C;\n",
              "      box-shadow: 0px 1px 3px 1px rgba(0, 0, 0, 0.15);\n",
              "      filter: drop-shadow(0px 1px 2px rgba(0, 0, 0, 0.3));\n",
              "      fill: #FFFFFF;\n",
              "    }\n",
              "  </style>\n",
              "\n",
              "    <script>\n",
              "      const buttonEl =\n",
              "        document.querySelector('#df-2c6f0c27-73ec-4a1c-bf75-f4ecf8fb5e3a button.colab-df-convert');\n",
              "      buttonEl.style.display =\n",
              "        google.colab.kernel.accessAllowed ? 'block' : 'none';\n",
              "\n",
              "      async function convertToInteractive(key) {\n",
              "        const element = document.querySelector('#df-2c6f0c27-73ec-4a1c-bf75-f4ecf8fb5e3a');\n",
              "        const dataTable =\n",
              "          await google.colab.kernel.invokeFunction('convertToInteractive',\n",
              "                                                    [key], {});\n",
              "        if (!dataTable) return;\n",
              "\n",
              "        const docLinkHtml = 'Like what you see? Visit the ' +\n",
              "          '<a target=\"_blank\" href=https://colab.research.google.com/notebooks/data_table.ipynb>data table notebook</a>'\n",
              "          + ' to learn more about interactive tables.';\n",
              "        element.innerHTML = '';\n",
              "        dataTable['output_type'] = 'display_data';\n",
              "        await google.colab.output.renderOutput(dataTable, element);\n",
              "        const docLink = document.createElement('div');\n",
              "        docLink.innerHTML = docLinkHtml;\n",
              "        element.appendChild(docLink);\n",
              "      }\n",
              "    </script>\n",
              "  </div>\n",
              "\n",
              "\n",
              "    <div id=\"df-2a751b9a-8c6a-4c5e-a5c2-034b42fb9ce3\">\n",
              "      <button class=\"colab-df-quickchart\" onclick=\"quickchart('df-2a751b9a-8c6a-4c5e-a5c2-034b42fb9ce3')\"\n",
              "                title=\"Suggest charts\"\n",
              "                style=\"display:none;\">\n",
              "\n",
              "<svg xmlns=\"http://www.w3.org/2000/svg\" height=\"24px\"viewBox=\"0 0 24 24\"\n",
              "     width=\"24px\">\n",
              "    <g>\n",
              "        <path d=\"M19 3H5c-1.1 0-2 .9-2 2v14c0 1.1.9 2 2 2h14c1.1 0 2-.9 2-2V5c0-1.1-.9-2-2-2zM9 17H7v-7h2v7zm4 0h-2V7h2v10zm4 0h-2v-4h2v4z\"/>\n",
              "    </g>\n",
              "</svg>\n",
              "      </button>\n",
              "\n",
              "<style>\n",
              "  .colab-df-quickchart {\n",
              "      --bg-color: #E8F0FE;\n",
              "      --fill-color: #1967D2;\n",
              "      --hover-bg-color: #E2EBFA;\n",
              "      --hover-fill-color: #174EA6;\n",
              "      --disabled-fill-color: #AAA;\n",
              "      --disabled-bg-color: #DDD;\n",
              "  }\n",
              "\n",
              "  [theme=dark] .colab-df-quickchart {\n",
              "      --bg-color: #3B4455;\n",
              "      --fill-color: #D2E3FC;\n",
              "      --hover-bg-color: #434B5C;\n",
              "      --hover-fill-color: #FFFFFF;\n",
              "      --disabled-bg-color: #3B4455;\n",
              "      --disabled-fill-color: #666;\n",
              "  }\n",
              "\n",
              "  .colab-df-quickchart {\n",
              "    background-color: var(--bg-color);\n",
              "    border: none;\n",
              "    border-radius: 50%;\n",
              "    cursor: pointer;\n",
              "    display: none;\n",
              "    fill: var(--fill-color);\n",
              "    height: 32px;\n",
              "    padding: 0;\n",
              "    width: 32px;\n",
              "  }\n",
              "\n",
              "  .colab-df-quickchart:hover {\n",
              "    background-color: var(--hover-bg-color);\n",
              "    box-shadow: 0 1px 2px rgba(60, 64, 67, 0.3), 0 1px 3px 1px rgba(60, 64, 67, 0.15);\n",
              "    fill: var(--button-hover-fill-color);\n",
              "  }\n",
              "\n",
              "  .colab-df-quickchart-complete:disabled,\n",
              "  .colab-df-quickchart-complete:disabled:hover {\n",
              "    background-color: var(--disabled-bg-color);\n",
              "    fill: var(--disabled-fill-color);\n",
              "    box-shadow: none;\n",
              "  }\n",
              "\n",
              "  .colab-df-spinner {\n",
              "    border: 2px solid var(--fill-color);\n",
              "    border-color: transparent;\n",
              "    border-bottom-color: var(--fill-color);\n",
              "    animation:\n",
              "      spin 1s steps(1) infinite;\n",
              "  }\n",
              "\n",
              "  @keyframes spin {\n",
              "    0% {\n",
              "      border-color: transparent;\n",
              "      border-bottom-color: var(--fill-color);\n",
              "      border-left-color: var(--fill-color);\n",
              "    }\n",
              "    20% {\n",
              "      border-color: transparent;\n",
              "      border-left-color: var(--fill-color);\n",
              "      border-top-color: var(--fill-color);\n",
              "    }\n",
              "    30% {\n",
              "      border-color: transparent;\n",
              "      border-left-color: var(--fill-color);\n",
              "      border-top-color: var(--fill-color);\n",
              "      border-right-color: var(--fill-color);\n",
              "    }\n",
              "    40% {\n",
              "      border-color: transparent;\n",
              "      border-right-color: var(--fill-color);\n",
              "      border-top-color: var(--fill-color);\n",
              "    }\n",
              "    60% {\n",
              "      border-color: transparent;\n",
              "      border-right-color: var(--fill-color);\n",
              "    }\n",
              "    80% {\n",
              "      border-color: transparent;\n",
              "      border-right-color: var(--fill-color);\n",
              "      border-bottom-color: var(--fill-color);\n",
              "    }\n",
              "    90% {\n",
              "      border-color: transparent;\n",
              "      border-bottom-color: var(--fill-color);\n",
              "    }\n",
              "  }\n",
              "</style>\n",
              "\n",
              "      <script>\n",
              "        async function quickchart(key) {\n",
              "          const quickchartButtonEl =\n",
              "            document.querySelector('#' + key + ' button');\n",
              "          quickchartButtonEl.disabled = true;  // To prevent multiple clicks.\n",
              "          quickchartButtonEl.classList.add('colab-df-spinner');\n",
              "          try {\n",
              "            const charts = await google.colab.kernel.invokeFunction(\n",
              "                'suggestCharts', [key], {});\n",
              "          } catch (error) {\n",
              "            console.error('Error during call to suggestCharts:', error);\n",
              "          }\n",
              "          quickchartButtonEl.classList.remove('colab-df-spinner');\n",
              "          quickchartButtonEl.classList.add('colab-df-quickchart-complete');\n",
              "        }\n",
              "        (() => {\n",
              "          let quickchartButtonEl =\n",
              "            document.querySelector('#df-2a751b9a-8c6a-4c5e-a5c2-034b42fb9ce3 button');\n",
              "          quickchartButtonEl.style.display =\n",
              "            google.colab.kernel.accessAllowed ? 'block' : 'none';\n",
              "        })();\n",
              "      </script>\n",
              "    </div>\n",
              "\n",
              "    </div>\n",
              "  </div>\n"
            ],
            "application/vnd.google.colaboratory.intrinsic+json": {
              "type": "dataframe",
              "variable_name": "df2"
            }
          },
          "metadata": {},
          "execution_count": 7
        }
      ],
      "source": [
        "df2.head()"
      ]
    },
    {
      "cell_type": "code",
      "execution_count": 8,
      "metadata": {
        "id": "T7hsolxnGvR7",
        "outputId": "6b6aebeb-8efa-4950-a8fa-74a25fb67303",
        "colab": {
          "base_uri": "https://localhost:8080/",
          "height": 487
        }
      },
      "outputs": [
        {
          "output_type": "display_data",
          "data": {
            "text/plain": [
              "<Figure size 800x500 with 1 Axes>"
            ],
            "image/png": "[encoded data removed]"
          },
          "metadata": {}
        }
      ],
      "source": [
        "import matplotlib.pyplot as plt\n",
        "\n",
        "# Example: Plot cyclical encoding for one day (0 to 23 hours)\n",
        "hours = np.arange(0, 24)\n",
        "hour_sin = np.sin(2 * np.pi * hours / 24)\n",
        "hour_cos = np.cos(2 * np.pi * hours / 24)\n",
        "\n",
        "plt.figure(figsize=(8, 5))\n",
        "plt.plot(hours, hour_sin, label='hour_sin', marker='o')\n",
        "plt.plot(hours, hour_cos, label='hour_cos', marker='s')\n",
        "plt.title(\"Cyclical Encoding of Hour (Sine & Cosine)\")\n",
        "plt.xlabel(\"Hour of Day\")\n",
        "plt.ylabel(\"Value\")\n",
        "plt.grid()\n",
        "plt.legend()\n",
        "plt.show()"
      ]
    },
    {
      "cell_type": "markdown",
      "metadata": {
        "id": "Urz6vKJ8GvR7"
      },
      "source": [
        "#### Compute the CPU & Memory usage"
      ]
    },
    {
      "cell_type": "code",
      "execution_count": 9,
      "metadata": {
        "id": "n0dv7gZSGvR7"
      },
      "outputs": [],
      "source": [
        "df2['cpu_utilization_ratio'] = (df2['CPU usage [MHZ]'] / df2['CPU capacity provisioned [MHZ]']).round(4)\n",
        "df2['memory_utilization_ratio'] = (df2['Memory usage [KB]'] / df2['Memory capacity provisioned [KB]']).round(4)\n",
        "\n",
        "# Optional: Convert to percentage view for easy debugging (not for modeling)\n",
        "df2['cpu_util_percent'] = (df2['cpu_utilization_ratio'] * 100).round(2)\n",
        "df2['memory_util_percent'] = (df2['memory_utilization_ratio'] * 100).round(2)"
      ]
    },
    {
      "cell_type": "markdown",
      "metadata": {
        "id": "cp6gVDF2GvR7"
      },
      "source": [
        "#### Lag Features Trend Detection of CPU & Memory Features"
      ]
    },
    {
      "cell_type": "code",
      "execution_count": 10,
      "metadata": {
        "id": "OdtSlTLWGvR7"
      },
      "outputs": [],
      "source": [
        "# Resource Utilization Change Features (Trend Detection)\n",
        "\n",
        "df2['cpu_util_prev'] = df2.groupby('VM')['cpu_utilization_ratio'].shift(1)\n",
        "df2['cpu_util_diff'] = df2['cpu_utilization_ratio'] - df2['cpu_util_prev']\n",
        "\n",
        "df2['memory_util_prev'] = df2.groupby('VM')['memory_utilization_ratio'].shift(1)\n",
        "df2['memory_util_diff'] = df2['memory_utilization_ratio'] - df2['memory_util_prev']"
      ]
    },
    {
      "cell_type": "markdown",
      "metadata": {
        "id": "74EAlMPOGvR7"
      },
      "source": [
        "#### Compute the Disk Usage Ratio, Rolling stats"
      ]
    },
    {
      "cell_type": "code",
      "execution_count": 11,
      "metadata": {
        "id": "6Jc_6O8nGvR7"
      },
      "outputs": [],
      "source": [
        "# Total Disk Throughput\n",
        "df2['disk_total_throughput'] = (\n",
        "    df2['Disk read throughput [KB/s]'] + df2['Disk write throughput [KB/s]']\n",
        ")\n",
        "\n",
        "# Rolling Average and Std for Disk (window size = 5)\n",
        "df2['disk_rolling_mean'] = (\n",
        "    df2.groupby('VM')['disk_total_throughput']\n",
        "    .rolling(window=5)\n",
        "    .mean()\n",
        "    .reset_index(level=0, drop=True)\n",
        ")\n",
        "df2['disk_rolling_std'] = (\n",
        "    df2.groupby('VM')['disk_total_throughput']\n",
        "    .rolling(window=5)\n",
        "    .std()\n",
        "    .reset_index(level=0, drop=True)\n",
        ")"
      ]
    },
    {
      "cell_type": "markdown",
      "metadata": {
        "id": "hHiqpdi5GvR7"
      },
      "source": [
        "#### Compute the Network Throughput, Rolling stats"
      ]
    },
    {
      "cell_type": "code",
      "execution_count": 12,
      "metadata": {
        "id": "HWXh6gYsGvR7"
      },
      "outputs": [],
      "source": [
        "# Total Network Throughput\n",
        "df2['network_total_throughput'] = (\n",
        "    df2['Network received throughput [KB/s]'] + df2['Network transmitted throughput [KB/s]']\n",
        ")\n",
        "\n",
        "# Rolling Average and Std for Network (window size = 5)\n",
        "df2['network_rolling_mean'] = (\n",
        "    df2.groupby('VM')['network_total_throughput']\n",
        "    .rolling(window=5)\n",
        "    .mean()\n",
        "    .reset_index(level=0, drop=True)\n",
        ")\n",
        "df2['network_rolling_std'] = (\n",
        "    df2.groupby('VM')['network_total_throughput']\n",
        "    .rolling(window=5)\n",
        "    .std()\n",
        "    .reset_index(level=0, drop=True)\n",
        ")"
      ]
    },
    {
      "cell_type": "markdown",
      "metadata": {
        "id": "jHTn-rMOGvR8"
      },
      "source": [
        "####  Lag Features Trend Detection of Disk & Network Features"
      ]
    },
    {
      "cell_type": "code",
      "execution_count": 13,
      "metadata": {
        "id": "pMYHpHwhGvR8"
      },
      "outputs": [],
      "source": [
        "# -------------------- Disk Features --------------------\n",
        "if 'Disk read throughput [KB/s]' in df2.columns:\n",
        "    df2['disk_read_prev'] = df2.groupby('VM')['Disk read throughput [KB/s]'].shift(1)\n",
        "    df2['disk_read_diff'] = df2['Disk read throughput [KB/s]'] - df2['disk_read_prev']\n",
        "\n",
        "if 'Disk write throughput [KB/s]' in df2.columns:\n",
        "    df2['disk_write_prev'] = df2.groupby('VM')['Disk write throughput [KB/s]'].shift(1)\n",
        "    df2['disk_write_diff'] = df2['Disk write throughput [KB/s]'] - df2['disk_write_prev']\n",
        "\n",
        "# -------------------- Network Features --------------------\n",
        "df2['network_received_prev'] = df2.groupby('VM')['Network received throughput [KB/s]'].shift(1)\n",
        "df2['network_received_diff'] = df2['Network received throughput [KB/s]'] - df2['network_received_prev']\n",
        "\n",
        "df2['network_transmitted_prev'] = df2.groupby('VM')['Network transmitted throughput [KB/s]'].shift(1)\n",
        "df2['network_transmitted_diff'] = df2['Network transmitted throughput [KB/s]'] - df2['network_transmitted_prev']\n",
        "\n",
        "# Total Network Throughput Change per VM\n",
        "df2['network_total_prev'] = df2.groupby('VM')['network_total_throughput'].shift(1)\n",
        "df2['network_total_diff'] = df2['network_total_throughput'] - df2['network_total_prev']"
      ]
    },
    {
      "cell_type": "code",
      "execution_count": 14,
      "metadata": {
        "id": "Q-CxBc0aGvR8",
        "outputId": "a983ee24-8488-445c-bdc6-7b0e7d519436",
        "colab": {
          "base_uri": "https://localhost:8080/"
        }
      },
      "outputs": [
        {
          "output_type": "stream",
          "name": "stdout",
          "text": [
            "1133235\n",
            "7987\n"
          ]
        }
      ],
      "source": [
        "print(df2['cpu_utilization_ratio'].isnull().sum())  # count of NaNs\n",
        "print(np.isinf(df2['cpu_utilization_ratio']).sum()) # count of infinite values"
      ]
    },
    {
      "cell_type": "markdown",
      "metadata": {
        "id": "uahpLA5CGvR8"
      },
      "source": [
        "#### Resource Utilization Behavior"
      ]
    },
    {
      "cell_type": "code",
      "execution_count": 15,
      "metadata": {
        "id": "ttPTgXE5GvR8",
        "outputId": "b3fbc504-67b7-4b2c-cdae-19020edae4d1",
        "colab": {
          "base_uri": "https://localhost:8080/",
          "height": 803
        }
      },
      "outputs": [
        {
          "output_type": "display_data",
          "data": {
            "text/plain": [
              "<Figure size 600x400 with 1 Axes>"
            ],
            "image/png": "[encoded data removed]"
          },
          "metadata": {}
        },
        {
          "output_type": "display_data",
          "data": {
            "text/plain": [
              "<Figure size 600x400 with 1 Axes>"
            ],
            "image/png": "[encoded data removed]"
          },
          "metadata": {}
        }
      ],
      "source": [
        "# Remove NaNs and infinite values\n",
        "clean_cpu = df2['cpu_utilization_ratio'].replace([np.inf, -np.inf], np.nan).dropna()\n",
        "clean_mem = df2['memory_utilization_ratio'].replace([np.inf, -np.inf], np.nan).dropna()\n",
        "\n",
        "plt.figure(figsize=(6, 4))\n",
        "plt.hist(clean_cpu, bins=50, alpha=0.7, color='red', label='CPU Utilization')\n",
        "plt.title(\"CPU Utilization Distribution\")\n",
        "plt.xlabel(\"Utilization Ratio\")\n",
        "plt.ylabel(\"Frequency\")\n",
        "plt.grid(True)\n",
        "plt.legend()\n",
        "plt.show()\n",
        "\n",
        "plt.figure(figsize=(6, 4))\n",
        "plt.hist(clean_mem, bins=50, alpha=0.7, color='green', label='Memory Utilization')\n",
        "plt.title(\"Memory Utilization Distribution\")\n",
        "plt.xlabel(\"Utilization Ratio\")\n",
        "plt.ylabel(\"Frequency\")\n",
        "plt.grid(True)\n",
        "plt.legend()\n",
        "plt.show()"
      ]
    },
    {
      "cell_type": "code",
      "source": [
        "# Correlation matrix b/w targets"
      ],
      "metadata": {
        "id": "4GbWYCTnof6j"
      },
      "execution_count": 16,
      "outputs": []
    },
    {
      "cell_type": "code",
      "source": [
        "import seaborn as sns\n",
        "import matplotlib.pyplot as plt\n",
        "\n",
        "# Define targets\n",
        "target_cols = [\n",
        "    'cpu_utilization_ratio',\n",
        "    'memory_utilization_ratio',\n",
        "    'disk_total_throughput',\n",
        "    'network_total_throughput'\n",
        "]\n",
        "\n",
        "# Compute correlation matrix\n",
        "corr_matrix = df2[target_cols].corr()\n",
        "\n",
        "print(corr_matrix)\n",
        "\n",
        "# Set up the plot\n",
        "plt.figure(figsize=(8, 6))\n",
        "sns.heatmap(corr_matrix, annot=True, cmap='coolwarm', fmt=\".2f\", linewidths=0.5)\n",
        "\n",
        "# Title and layout\n",
        "plt.title(\"🔗 Correlation Matrix of Resource Utilization Metrics\", fontsize=14, weight='bold')\n",
        "plt.tight_layout()\n",
        "plt.show()"
      ],
      "metadata": {
        "id": "HjLW_dtpoWID",
        "outputId": "4c934b05-f549-496d-a9a0-66e45ee5664a",
        "colab": {
          "base_uri": "https://localhost:8080/",
          "height": 867
        }
      },
      "execution_count": 19,
      "outputs": [
        {
          "output_type": "stream",
          "name": "stdout",
          "text": [
            "                          cpu_utilization_ratio  memory_utilization_ratio  \\\n",
            "cpu_utilization_ratio                  1.000000                  0.017159   \n",
            "memory_utilization_ratio               0.017159                  1.000000   \n",
            "disk_total_throughput                  0.066501                  0.007276   \n",
            "network_total_throughput               0.072079                  0.004014   \n",
            "\n",
            "                          disk_total_throughput  network_total_throughput  \n",
            "cpu_utilization_ratio                  0.066501                  0.072079  \n",
            "memory_utilization_ratio               0.007276                  0.004014  \n",
            "disk_total_throughput                  1.000000                  0.161970  \n",
            "network_total_throughput               0.161970                  1.000000  \n"
          ]
        },
        {
          "output_type": "stream",
          "name": "stderr",
          "text": [
            "/tmp/ipython-input-19-804552542.py:23: UserWarning: Glyph 128279 (\\N{LINK SYMBOL}) missing from font(s) DejaVu Sans.\n",
            "  plt.tight_layout()\n",
            "/usr/local/lib/python3.11/dist-packages/IPython/core/pylabtools.py:151: UserWarning: Glyph 128279 (\\N{LINK SYMBOL}) missing from font(s) DejaVu Sans.\n",
            "  fig.canvas.print_figure(bytes_io, **kw)\n"
          ]
        },
        {
          "output_type": "display_data",
          "data": {
            "text/plain": [
              "<Figure size 800x600 with 2 Axes>"
            ],
            "image/png": "[encoded data removed]"
          },
          "metadata": {}
        }
      ]
    },
    {
      "cell_type": "code",
      "execution_count": null,
      "metadata": {
        "id": "WClEH7ouGvR8"
      },
      "outputs": [],
      "source": [
        "#### 🔹 Optional – Cluster VMs by Behavior\n",
        "\n",
        "# from sklearn.preprocessing import StandardScaler\n",
        "# from sklearn.cluster import KMeans\n",
        "\n",
        "# features_for_cluster = vm_summary.drop(columns=['VM'])  # Only metrics\n",
        "# scaled = StandardScaler().fit_transform(features_for_cluster)\n",
        "\n",
        "# kmeans = KMeans(n_clusters=4, random_state=42)\n",
        "# vm_summary['cluster'] = kmeans.fit_predict(scaled)\n",
        "\n",
        "# # Check cluster sizes\n",
        "# print(vm_summary['cluster'].value_counts())\n",
        "\n",
        "# # Sample plot\n",
        "# sns.pairplot(vm_summary, hue='cluster', vars=['CPU usage [%]_mean', 'Memory usage [KB]_mean'])\n",
        "# plt.suptitle(\"Clustered VM Behavior\", y=1.02)\n",
        "# plt.show()"
      ]
    },
    {
      "cell_type": "code",
      "execution_count": null,
      "metadata": {
        "id": "__F3rEvRGvR8",
        "outputId": "c0e08913-3a61-41ce-87c5-5ff278465187",
        "colab": {
          "base_uri": "https://localhost:8080/"
        }
      },
      "outputs": [
        {
          "output_type": "stream",
          "name": "stdout",
          "text": [
            "['Timestamp [s]', 'CPU cores', 'CPU capacity provisioned [MHZ]', 'CPU usage [MHZ]', 'CPU usage [%]', 'Memory capacity provisioned [KB]', 'Memory usage [KB]', 'Disk read throughput [KB/s]', 'Disk write throughput [KB/s]', 'Network received throughput [KB/s]', 'Network transmitted throughput [KB/s]', 'VM', 'Timestamp', 'time_idx', 'time_diff', 'hour', 'dayofweek', 'is_weekend', 'month', 'day', 'hour_sin', 'hour_cos', 'dayofweek_sin', 'dayofweek_cos', 'month_sin', 'month_cos', 'cpu_utilization_ratio', 'memory_utilization_ratio', 'cpu_util_percent', 'memory_util_percent', 'cpu_util_prev', 'cpu_util_diff', 'memory_util_prev', 'memory_util_diff', 'disk_total_throughput', 'disk_rolling_mean', 'disk_rolling_std', 'network_total_throughput', 'network_rolling_mean', 'network_rolling_std', 'disk_read_prev', 'disk_read_diff', 'disk_write_prev', 'disk_write_diff', 'network_received_prev', 'network_received_diff', 'network_transmitted_prev', 'network_transmitted_diff', 'network_total_prev', 'network_total_diff']\n"
          ]
        }
      ],
      "source": [
        "print(df2.columns.tolist())"
      ]
    },
    {
      "cell_type": "markdown",
      "metadata": {
        "id": "KXdyrZQtGvR8"
      },
      "source": [
        "#### Save the cleaned DataFrame to a Parquet file"
      ]
    },
    {
      "cell_type": "code",
      "execution_count": null,
      "metadata": {
        "id": "qwXdkuJGGvR8"
      },
      "outputs": [],
      "source": [
        "# df2.to_parquet(\"/home/data/processed/FeatureEng.parquet\", index=False)\n",
        "# df2.to_parquet(\"/content/drive/MyDrive/datasets/processed/FeatureEngcolab.parquet\", index=False)\n",
        "# df2.to_parquet(\"/content/drive/MyDrive/datasets/processed/FeatureEngcolab\", partition_cols=[\"VM\"], index=False)\n"
      ]
    }
  ],
  "metadata": {
    "kernelspec": {
      "display_name": "Python 3.8.12 ('forecasting_env': venv)",
      "language": "python",
      "name": "python3"
    },
    "language_info": {
      "codemirror_mode": {
        "name": "ipython",
        "version": 3
      },
      "file_extension": ".py",
      "mimetype": "text/x-python",
      "name": "python",
      "nbconvert_exporter": "python",
      "pygments_lexer": "ipython3",
      "version": "3.8.12"
    },
    "vscode": {
      "interpreter": {
        "hash": "2133a3972b28273c10fa027bbde5fb58efc69f3a1cd517826cf4b1affadfce4e"
      }
    },
    "colab": {
      "provenance": []
    }
  },
  "nbformat": 4,
  "nbformat_minor": 0
}