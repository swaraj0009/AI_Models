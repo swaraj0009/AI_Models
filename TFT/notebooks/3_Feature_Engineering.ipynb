{
  "cells": [
    {
      "cell_type": "markdown",
      "metadata": {
        "id": "jG-QM25bGvR5"
      },
      "source": [
        "### Feature Engineering"
      ]
    },
    {
      "cell_type": "code",
      "source": [
        "from google.colab import drive\n",
        "drive.mount('/content/drive')"
      ],
      "metadata": {
        "id": "4Qb-2IDYGwbG",
        "outputId": "dd8436ff-53ca-496c-96e3-a48235b5930b",
        "colab": {
          "base_uri": "https://localhost:8080/"
        }
      },
      "execution_count": 56,
      "outputs": [
        {
          "output_type": "stream",
          "name": "stdout",
          "text": [
            "Drive already mounted at /content/drive; to attempt to forcibly remount, call drive.mount(\"/content/drive\", force_remount=True).\n"
          ]
        }
      ]
    },
    {
      "cell_type": "code",
      "source": [
        "# ⚡ Quick Setup - Run after runtime reset (CPU/GPU Switch)\n",
        "# Installs essential packages silently to save output clutter\n",
        "\n",
        "!pip install matplotlib seaborn pandas numpy missingno --quiet\n",
        "\n",
        "print(\"\\033[92m✅ All required packages installed successfully.\\033[0m\")"
      ],
      "metadata": {
        "id": "q2WWjuJDosnT",
        "outputId": "067dea29-be62-4605-8944-c601c3ba3dc6",
        "colab": {
          "base_uri": "https://localhost:8080/"
        }
      },
      "execution_count": 57,
      "outputs": [
        {
          "output_type": "stream",
          "name": "stdout",
          "text": [
            "\u001b[92m✅ All required packages installed successfully.\u001b[0m\n"
          ]
        }
      ]
    },
    {
      "cell_type": "markdown",
      "metadata": {
        "id": "_nrcGi8GGvR6"
      },
      "source": [
        "#### Import libraries"
      ]
    },
    {
      "cell_type": "code",
      "execution_count": 58,
      "metadata": {
        "id": "9IvMWblLGvR6"
      },
      "outputs": [],
      "source": [
        "import numpy as np\n",
        "import pandas as pd\n",
        "import matplotlib.pyplot as plt\n",
        "import seaborn as sns\n",
        "import os\n",
        "import glob\n",
        "import shutil"
      ]
    },
    {
      "cell_type": "markdown",
      "metadata": {
        "id": "ZuwTCX9DGvR6"
      },
      "source": [
        "#### Load the EDA & Preprocessing notebook"
      ]
    },
    {
      "cell_type": "code",
      "execution_count": 59,
      "metadata": {
        "id": "Z1AI1gqPGvR6"
      },
      "outputs": [],
      "source": [
        "# df2 = pd.read_parquet(\"/home/data/processed/PreProcessing.parquet\")\n",
        "df2 = pd.read_parquet(\"/content/drive/MyDrive/datasets/processed/PreProcessingcolab.parquet\")"
      ]
    },
    {
      "cell_type": "code",
      "source": [
        "# prompt: remove the time_idx\n",
        "\n",
        "df2 = df2.drop('time_idx', axis=1, errors='ignore')"
      ],
      "metadata": {
        "id": "mZZh53blWRlQ"
      },
      "execution_count": 60,
      "outputs": []
    },
    {
      "cell_type": "markdown",
      "metadata": {
        "id": "mnvMP_NxGvR6"
      },
      "source": [
        "#### Time Based Calender features"
      ]
    },
    {
      "cell_type": "code",
      "execution_count": 61,
      "metadata": {
        "id": "NRxiT_CSGvR7"
      },
      "outputs": [],
      "source": [
        "df2['hour'] = df2['timestamp'].dt.hour\n",
        "df2['dayofweek'] = df2['timestamp'].dt.dayofweek\n",
        "df2['is_weekend'] = df2['dayofweek'] >= 5\n",
        "df2['month'] = df2['timestamp'].dt.month\n",
        "df2['day'] = df2['timestamp'].dt.day"
      ]
    },
    {
      "cell_type": "markdown",
      "metadata": {
        "id": "M5nxnqIKGvR7"
      },
      "source": [
        "#### Cyclical Time Features for Time Series Data"
      ]
    },
    {
      "cell_type": "code",
      "execution_count": 62,
      "metadata": {
        "id": "Kk_K3kGoGvR7"
      },
      "outputs": [],
      "source": [
        "# Cyclical encoding for hour\n",
        "df2['hour_sin'] = np.sin(2 * np.pi * df2['hour'] / 24).round(4)\n",
        "df2['hour_cos'] = np.cos(2 * np.pi * df2['hour'] / 24).round(4)\n",
        "\n",
        "# Same for day of week\n",
        "df2['dayofweek_sin'] = np.sin(2 * np.pi * df2['dayofweek'] / 7).round(4)\n",
        "df2['dayofweek_cos'] = np.cos(2 * np.pi * df2['dayofweek'] / 7).round(4)\n",
        "\n",
        "# Optional month encoding if relevant\n",
        "df2['month_sin'] = np.sin(2 * np.pi * (df2['month'] - 1) / 12).round(4)\n",
        "df2['month_cos'] = np.cos(2 * np.pi * (df2['month'] - 1) / 12).round(4)"
      ]
    },
    {
      "cell_type": "code",
      "execution_count": 63,
      "metadata": {
        "id": "mb-zBQVlGvR7",
        "outputId": "9912f070-42b5-418e-cc35-aef2057e35fb",
        "colab": {
          "base_uri": "https://localhost:8080/",
          "height": 394
        }
      },
      "outputs": [
        {
          "output_type": "execute_result",
          "data": {
            "text/plain": [
              "            timestamp  Timestamp [s]  CPU cores  \\\n",
              "0 2013-08-12 13:45:00   1.376315e+09        4.0   \n",
              "1 2013-08-12 13:50:00   1.376315e+09        4.0   \n",
              "2 2013-08-12 13:55:00   1.376316e+09        4.0   \n",
              "3 2013-08-12 14:00:00   1.376316e+09        4.0   \n",
              "4 2013-08-12 14:05:00   1.376316e+09        4.0   \n",
              "\n",
              "   CPU capacity provisioned [MHZ]  CPU usage [MHZ]  CPU usage [%]  \\\n",
              "0                     11703.99824     10890.570362      93.050000   \n",
              "1                     11703.99824     10434.114431      89.150000   \n",
              "2                     11703.99824     10539.450415      90.050000   \n",
              "3                     11703.99824     10951.041020      93.566667   \n",
              "4                     11703.99824     10913.978359      93.250000   \n",
              "\n",
              "   Memory capacity provisioned [KB]  Memory usage [KB]  \\\n",
              "0                        67108864.0       6.755624e+06   \n",
              "1                        67108864.0       8.947846e+06   \n",
              "2                        67108864.0       1.879048e+07   \n",
              "3                        67108864.0       9.305761e+06   \n",
              "4                        67108864.0       6.352970e+06   \n",
              "\n",
              "   Disk read throughput [KB/s]  Disk write throughput [KB/s]  ...  dayofweek  \\\n",
              "0                     1.333333                  19137.333333  ...          0   \n",
              "1                     2.533333                  19974.933333  ...          0   \n",
              "2                     5.466667                   8791.800000  ...          0   \n",
              "3                     5.400000                  15679.533333  ...          0   \n",
              "4                     4.466667                  15553.733333  ...          0   \n",
              "\n",
              "   is_weekend month day  hour_sin  hour_cos  dayofweek_sin  dayofweek_cos  \\\n",
              "0       False     8  12   -0.2588   -0.9659            0.0            1.0   \n",
              "1       False     8  12   -0.2588   -0.9659            0.0            1.0   \n",
              "2       False     8  12   -0.2588   -0.9659            0.0            1.0   \n",
              "3       False     8  12   -0.5000   -0.8660            0.0            1.0   \n",
              "4       False     8  12   -0.5000   -0.8660            0.0            1.0   \n",
              "\n",
              "   month_sin  month_cos  \n",
              "0       -0.5     -0.866  \n",
              "1       -0.5     -0.866  \n",
              "2       -0.5     -0.866  \n",
              "3       -0.5     -0.866  \n",
              "4       -0.5     -0.866  \n",
              "\n",
              "[5 rows x 25 columns]"
            ],
            "text/html": [
              "\n",
              "  <div id=\"df-3648f595-f2db-4206-aeb7-4f752afd1544\" class=\"colab-df-container\">\n",
              "    <div>\n",
              "<style scoped>\n",
              "    .dataframe tbody tr th:only-of-type {\n",
              "        vertical-align: middle;\n",
              "    }\n",
              "\n",
              "    .dataframe tbody tr th {\n",
              "        vertical-align: top;\n",
              "    }\n",
              "\n",
              "    .dataframe thead th {\n",
              "        text-align: right;\n",
              "    }\n",
              "</style>\n",
              "<table border=\"1\" class=\"dataframe\">\n",
              "  <thead>\n",
              "    <tr style=\"text-align: right;\">\n",
              "      <th></th>\n",
              "      <th>timestamp</th>\n",
              "      <th>Timestamp [s]</th>\n",
              "      <th>CPU cores</th>\n",
              "      <th>CPU capacity provisioned [MHZ]</th>\n",
              "      <th>CPU usage [MHZ]</th>\n",
              "      <th>CPU usage [%]</th>\n",
              "      <th>Memory capacity provisioned [KB]</th>\n",
              "      <th>Memory usage [KB]</th>\n",
              "      <th>Disk read throughput [KB/s]</th>\n",
              "      <th>Disk write throughput [KB/s]</th>\n",
              "      <th>...</th>\n",
              "      <th>dayofweek</th>\n",
              "      <th>is_weekend</th>\n",
              "      <th>month</th>\n",
              "      <th>day</th>\n",
              "      <th>hour_sin</th>\n",
              "      <th>hour_cos</th>\n",
              "      <th>dayofweek_sin</th>\n",
              "      <th>dayofweek_cos</th>\n",
              "      <th>month_sin</th>\n",
              "      <th>month_cos</th>\n",
              "    </tr>\n",
              "  </thead>\n",
              "  <tbody>\n",
              "    <tr>\n",
              "      <th>0</th>\n",
              "      <td>2013-08-12 13:45:00</td>\n",
              "      <td>1.376315e+09</td>\n",
              "      <td>4.0</td>\n",
              "      <td>11703.99824</td>\n",
              "      <td>10890.570362</td>\n",
              "      <td>93.050000</td>\n",
              "      <td>67108864.0</td>\n",
              "      <td>6.755624e+06</td>\n",
              "      <td>1.333333</td>\n",
              "      <td>19137.333333</td>\n",
              "      <td>...</td>\n",
              "      <td>0</td>\n",
              "      <td>False</td>\n",
              "      <td>8</td>\n",
              "      <td>12</td>\n",
              "      <td>-0.2588</td>\n",
              "      <td>-0.9659</td>\n",
              "      <td>0.0</td>\n",
              "      <td>1.0</td>\n",
              "      <td>-0.5</td>\n",
              "      <td>-0.866</td>\n",
              "    </tr>\n",
              "    <tr>\n",
              "      <th>1</th>\n",
              "      <td>2013-08-12 13:50:00</td>\n",
              "      <td>1.376315e+09</td>\n",
              "      <td>4.0</td>\n",
              "      <td>11703.99824</td>\n",
              "      <td>10434.114431</td>\n",
              "      <td>89.150000</td>\n",
              "      <td>67108864.0</td>\n",
              "      <td>8.947846e+06</td>\n",
              "      <td>2.533333</td>\n",
              "      <td>19974.933333</td>\n",
              "      <td>...</td>\n",
              "      <td>0</td>\n",
              "      <td>False</td>\n",
              "      <td>8</td>\n",
              "      <td>12</td>\n",
              "      <td>-0.2588</td>\n",
              "      <td>-0.9659</td>\n",
              "      <td>0.0</td>\n",
              "      <td>1.0</td>\n",
              "      <td>-0.5</td>\n",
              "      <td>-0.866</td>\n",
              "    </tr>\n",
              "    <tr>\n",
              "      <th>2</th>\n",
              "      <td>2013-08-12 13:55:00</td>\n",
              "      <td>1.376316e+09</td>\n",
              "      <td>4.0</td>\n",
              "      <td>11703.99824</td>\n",
              "      <td>10539.450415</td>\n",
              "      <td>90.050000</td>\n",
              "      <td>67108864.0</td>\n",
              "      <td>1.879048e+07</td>\n",
              "      <td>5.466667</td>\n",
              "      <td>8791.800000</td>\n",
              "      <td>...</td>\n",
              "      <td>0</td>\n",
              "      <td>False</td>\n",
              "      <td>8</td>\n",
              "      <td>12</td>\n",
              "      <td>-0.2588</td>\n",
              "      <td>-0.9659</td>\n",
              "      <td>0.0</td>\n",
              "      <td>1.0</td>\n",
              "      <td>-0.5</td>\n",
              "      <td>-0.866</td>\n",
              "    </tr>\n",
              "    <tr>\n",
              "      <th>3</th>\n",
              "      <td>2013-08-12 14:00:00</td>\n",
              "      <td>1.376316e+09</td>\n",
              "      <td>4.0</td>\n",
              "      <td>11703.99824</td>\n",
              "      <td>10951.041020</td>\n",
              "      <td>93.566667</td>\n",
              "      <td>67108864.0</td>\n",
              "      <td>9.305761e+06</td>\n",
              "      <td>5.400000</td>\n",
              "      <td>15679.533333</td>\n",
              "      <td>...</td>\n",
              "      <td>0</td>\n",
              "      <td>False</td>\n",
              "      <td>8</td>\n",
              "      <td>12</td>\n",
              "      <td>-0.5000</td>\n",
              "      <td>-0.8660</td>\n",
              "      <td>0.0</td>\n",
              "      <td>1.0</td>\n",
              "      <td>-0.5</td>\n",
              "      <td>-0.866</td>\n",
              "    </tr>\n",
              "    <tr>\n",
              "      <th>4</th>\n",
              "      <td>2013-08-12 14:05:00</td>\n",
              "      <td>1.376316e+09</td>\n",
              "      <td>4.0</td>\n",
              "      <td>11703.99824</td>\n",
              "      <td>10913.978359</td>\n",
              "      <td>93.250000</td>\n",
              "      <td>67108864.0</td>\n",
              "      <td>6.352970e+06</td>\n",
              "      <td>4.466667</td>\n",
              "      <td>15553.733333</td>\n",
              "      <td>...</td>\n",
              "      <td>0</td>\n",
              "      <td>False</td>\n",
              "      <td>8</td>\n",
              "      <td>12</td>\n",
              "      <td>-0.5000</td>\n",
              "      <td>-0.8660</td>\n",
              "      <td>0.0</td>\n",
              "      <td>1.0</td>\n",
              "      <td>-0.5</td>\n",
              "      <td>-0.866</td>\n",
              "    </tr>\n",
              "  </tbody>\n",
              "</table>\n",
              "<p>5 rows × 25 columns</p>\n",
              "</div>\n",
              "    <div class=\"colab-df-buttons\">\n",
              "\n",
              "  <div class=\"colab-df-container\">\n",
              "    <button class=\"colab-df-convert\" onclick=\"convertToInteractive('df-3648f595-f2db-4206-aeb7-4f752afd1544')\"\n",
              "            title=\"Convert this dataframe to an interactive table.\"\n",
              "            style=\"display:none;\">\n",
              "\n",
              "  <svg xmlns=\"http://www.w3.org/2000/svg\" height=\"24px\" viewBox=\"0 -960 960 960\">\n",
              "    <path d=\"M120-120v-720h720v720H120Zm60-500h600v-160H180v160Zm220 220h160v-160H400v160Zm0 220h160v-160H400v160ZM180-400h160v-160H180v160Zm440 0h160v-160H620v160ZM180-180h160v-160H180v160Zm440 0h160v-160H620v160Z\"/>\n",
              "  </svg>\n",
              "    </button>\n",
              "\n",
              "  <style>\n",
              "    .colab-df-container {\n",
              "      display:flex;\n",
              "      gap: 12px;\n",
              "    }\n",
              "\n",
              "    .colab-df-convert {\n",
              "      background-color: #E8F0FE;\n",
              "      border: none;\n",
              "      border-radius: 50%;\n",
              "      cursor: pointer;\n",
              "      display: none;\n",
              "      fill: #1967D2;\n",
              "      height: 32px;\n",
              "      padding: 0 0 0 0;\n",
              "      width: 32px;\n",
              "    }\n",
              "\n",
              "    .colab-df-convert:hover {\n",
              "      background-color: #E2EBFA;\n",
              "      box-shadow: 0px 1px 2px rgba(60, 64, 67, 0.3), 0px 1px 3px 1px rgba(60, 64, 67, 0.15);\n",
              "      fill: #174EA6;\n",
              "    }\n",
              "\n",
              "    .colab-df-buttons div {\n",
              "      margin-bottom: 4px;\n",
              "    }\n",
              "\n",
              "    [theme=dark] .colab-df-convert {\n",
              "      background-color: #3B4455;\n",
              "      fill: #D2E3FC;\n",
              "    }\n",
              "\n",
              "    [theme=dark] .colab-df-convert:hover {\n",
              "      background-color: #434B5C;\n",
              "      box-shadow: 0px 1px 3px 1px rgba(0, 0, 0, 0.15);\n",
              "      filter: drop-shadow(0px 1px 2px rgba(0, 0, 0, 0.3));\n",
              "      fill: #FFFFFF;\n",
              "    }\n",
              "  </style>\n",
              "\n",
              "    <script>\n",
              "      const buttonEl =\n",
              "        document.querySelector('#df-3648f595-f2db-4206-aeb7-4f752afd1544 button.colab-df-convert');\n",
              "      buttonEl.style.display =\n",
              "        google.colab.kernel.accessAllowed ? 'block' : 'none';\n",
              "\n",
              "      async function convertToInteractive(key) {\n",
              "        const element = document.querySelector('#df-3648f595-f2db-4206-aeb7-4f752afd1544');\n",
              "        const dataTable =\n",
              "          await google.colab.kernel.invokeFunction('convertToInteractive',\n",
              "                                                    [key], {});\n",
              "        if (!dataTable) return;\n",
              "\n",
              "        const docLinkHtml = 'Like what you see? Visit the ' +\n",
              "          '<a target=\"_blank\" href=https://colab.research.google.com/notebooks/data_table.ipynb>data table notebook</a>'\n",
              "          + ' to learn more about interactive tables.';\n",
              "        element.innerHTML = '';\n",
              "        dataTable['output_type'] = 'display_data';\n",
              "        await google.colab.output.renderOutput(dataTable, element);\n",
              "        const docLink = document.createElement('div');\n",
              "        docLink.innerHTML = docLinkHtml;\n",
              "        element.appendChild(docLink);\n",
              "      }\n",
              "    </script>\n",
              "  </div>\n",
              "\n",
              "\n",
              "    <div id=\"df-71790771-cd0c-4058-84de-d95a354ccc92\">\n",
              "      <button class=\"colab-df-quickchart\" onclick=\"quickchart('df-71790771-cd0c-4058-84de-d95a354ccc92')\"\n",
              "                title=\"Suggest charts\"\n",
              "                style=\"display:none;\">\n",
              "\n",
              "<svg xmlns=\"http://www.w3.org/2000/svg\" height=\"24px\"viewBox=\"0 0 24 24\"\n",
              "     width=\"24px\">\n",
              "    <g>\n",
              "        <path d=\"M19 3H5c-1.1 0-2 .9-2 2v14c0 1.1.9 2 2 2h14c1.1 0 2-.9 2-2V5c0-1.1-.9-2-2-2zM9 17H7v-7h2v7zm4 0h-2V7h2v10zm4 0h-2v-4h2v4z\"/>\n",
              "    </g>\n",
              "</svg>\n",
              "      </button>\n",
              "\n",
              "<style>\n",
              "  .colab-df-quickchart {\n",
              "      --bg-color: #E8F0FE;\n",
              "      --fill-color: #1967D2;\n",
              "      --hover-bg-color: #E2EBFA;\n",
              "      --hover-fill-color: #174EA6;\n",
              "      --disabled-fill-color: #AAA;\n",
              "      --disabled-bg-color: #DDD;\n",
              "  }\n",
              "\n",
              "  [theme=dark] .colab-df-quickchart {\n",
              "      --bg-color: #3B4455;\n",
              "      --fill-color: #D2E3FC;\n",
              "      --hover-bg-color: #434B5C;\n",
              "      --hover-fill-color: #FFFFFF;\n",
              "      --disabled-bg-color: #3B4455;\n",
              "      --disabled-fill-color: #666;\n",
              "  }\n",
              "\n",
              "  .colab-df-quickchart {\n",
              "    background-color: var(--bg-color);\n",
              "    border: none;\n",
              "    border-radius: 50%;\n",
              "    cursor: pointer;\n",
              "    display: none;\n",
              "    fill: var(--fill-color);\n",
              "    height: 32px;\n",
              "    padding: 0;\n",
              "    width: 32px;\n",
              "  }\n",
              "\n",
              "  .colab-df-quickchart:hover {\n",
              "    background-color: var(--hover-bg-color);\n",
              "    box-shadow: 0 1px 2px rgba(60, 64, 67, 0.3), 0 1px 3px 1px rgba(60, 64, 67, 0.15);\n",
              "    fill: var(--button-hover-fill-color);\n",
              "  }\n",
              "\n",
              "  .colab-df-quickchart-complete:disabled,\n",
              "  .colab-df-quickchart-complete:disabled:hover {\n",
              "    background-color: var(--disabled-bg-color);\n",
              "    fill: var(--disabled-fill-color);\n",
              "    box-shadow: none;\n",
              "  }\n",
              "\n",
              "  .colab-df-spinner {\n",
              "    border: 2px solid var(--fill-color);\n",
              "    border-color: transparent;\n",
              "    border-bottom-color: var(--fill-color);\n",
              "    animation:\n",
              "      spin 1s steps(1) infinite;\n",
              "  }\n",
              "\n",
              "  @keyframes spin {\n",
              "    0% {\n",
              "      border-color: transparent;\n",
              "      border-bottom-color: var(--fill-color);\n",
              "      border-left-color: var(--fill-color);\n",
              "    }\n",
              "    20% {\n",
              "      border-color: transparent;\n",
              "      border-left-color: var(--fill-color);\n",
              "      border-top-color: var(--fill-color);\n",
              "    }\n",
              "    30% {\n",
              "      border-color: transparent;\n",
              "      border-left-color: var(--fill-color);\n",
              "      border-top-color: var(--fill-color);\n",
              "      border-right-color: var(--fill-color);\n",
              "    }\n",
              "    40% {\n",
              "      border-color: transparent;\n",
              "      border-right-color: var(--fill-color);\n",
              "      border-top-color: var(--fill-color);\n",
              "    }\n",
              "    60% {\n",
              "      border-color: transparent;\n",
              "      border-right-color: var(--fill-color);\n",
              "    }\n",
              "    80% {\n",
              "      border-color: transparent;\n",
              "      border-right-color: var(--fill-color);\n",
              "      border-bottom-color: var(--fill-color);\n",
              "    }\n",
              "    90% {\n",
              "      border-color: transparent;\n",
              "      border-bottom-color: var(--fill-color);\n",
              "    }\n",
              "  }\n",
              "</style>\n",
              "\n",
              "      <script>\n",
              "        async function quickchart(key) {\n",
              "          const quickchartButtonEl =\n",
              "            document.querySelector('#' + key + ' button');\n",
              "          quickchartButtonEl.disabled = true;  // To prevent multiple clicks.\n",
              "          quickchartButtonEl.classList.add('colab-df-spinner');\n",
              "          try {\n",
              "            const charts = await google.colab.kernel.invokeFunction(\n",
              "                'suggestCharts', [key], {});\n",
              "          } catch (error) {\n",
              "            console.error('Error during call to suggestCharts:', error);\n",
              "          }\n",
              "          quickchartButtonEl.classList.remove('colab-df-spinner');\n",
              "          quickchartButtonEl.classList.add('colab-df-quickchart-complete');\n",
              "        }\n",
              "        (() => {\n",
              "          let quickchartButtonEl =\n",
              "            document.querySelector('#df-71790771-cd0c-4058-84de-d95a354ccc92 button');\n",
              "          quickchartButtonEl.style.display =\n",
              "            google.colab.kernel.accessAllowed ? 'block' : 'none';\n",
              "        })();\n",
              "      </script>\n",
              "    </div>\n",
              "\n",
              "    </div>\n",
              "  </div>\n"
            ],
            "application/vnd.google.colaboratory.intrinsic+json": {
              "type": "dataframe",
              "variable_name": "df2"
            }
          },
          "metadata": {},
          "execution_count": 63
        }
      ],
      "source": [
        "df2.head()"
      ]
    },
    {
      "cell_type": "code",
      "execution_count": 64,
      "metadata": {
        "id": "T7hsolxnGvR7",
        "outputId": "d590ff5e-9e0d-4ac3-eca2-0a5a65631a84",
        "colab": {
          "base_uri": "https://localhost:8080/",
          "height": 487
        }
      },
      "outputs": [
        {
          "output_type": "display_data",
          "data": {
            "text/plain": [
              "<Figure size 800x500 with 1 Axes>"
            ],
            "image/png": "[encoded data removed]"
          },
          "metadata": {}
        }
      ],
      "source": [
        "import matplotlib.pyplot as plt\n",
        "\n",
        "# Example: Plot cyclical encoding for one day (0 to 23 hours)\n",
        "hours = np.arange(0, 24)\n",
        "hour_sin = np.sin(2 * np.pi * hours / 24)\n",
        "hour_cos = np.cos(2 * np.pi * hours / 24)\n",
        "\n",
        "plt.figure(figsize=(8, 5))\n",
        "plt.plot(hours, hour_sin, label='hour_sin', marker='o')\n",
        "plt.plot(hours, hour_cos, label='hour_cos', marker='s')\n",
        "plt.title(\"Cyclical Encoding of Hour (Sine & Cosine)\")\n",
        "plt.xlabel(\"Hour of Day\")\n",
        "plt.ylabel(\"Value\")\n",
        "plt.grid()\n",
        "plt.legend()\n",
        "plt.show()"
      ]
    },
    {
      "cell_type": "markdown",
      "metadata": {
        "id": "Urz6vKJ8GvR7"
      },
      "source": [
        "#### Compute the CPU & Memory usage"
      ]
    },
    {
      "cell_type": "code",
      "execution_count": 65,
      "metadata": {
        "id": "n0dv7gZSGvR7"
      },
      "outputs": [],
      "source": [
        "df2['cpu_utilization_ratio'] = (df2['CPU usage [MHZ]'] / df2['CPU capacity provisioned [MHZ]']).round(4)\n",
        "df2['memory_utilization_ratio'] = (df2['Memory usage [KB]'] / df2['Memory capacity provisioned [KB]']).round(4)\n",
        "\n",
        "# Optional: Convert to percentage view for easy debugging (not for modeling)\n",
        "# df2['cpu_util_percent'] = (df2['cpu_utilization_ratio'] * 100).round(2)\n",
        "# df2['memory_util_percent'] = (df2['memory_utilization_ratio'] * 100).round(2)"
      ]
    },
    {
      "cell_type": "markdown",
      "metadata": {
        "id": "cp6gVDF2GvR7"
      },
      "source": [
        "#### Lag Features Trend Detection of CPU & Memory Features"
      ]
    },
    {
      "cell_type": "code",
      "execution_count": 66,
      "metadata": {
        "id": "OdtSlTLWGvR7"
      },
      "outputs": [],
      "source": [
        "# Resource Utilization Change Features (Trend Detection)\n",
        "\n",
        "df2['cpu_util_prev'] = df2.groupby('VM')['cpu_utilization_ratio'].shift(1)\n",
        "df2['cpu_util_diff'] = df2['cpu_utilization_ratio'] - df2['cpu_util_prev']\n",
        "\n",
        "df2['memory_util_prev'] = df2.groupby('VM')['memory_utilization_ratio'].shift(1)\n",
        "df2['memory_util_diff'] = df2['memory_utilization_ratio'] - df2['memory_util_prev']"
      ]
    },
    {
      "cell_type": "markdown",
      "metadata": {
        "id": "74EAlMPOGvR7"
      },
      "source": [
        "#### Compute the Disk Usage Ratio, Rolling stats"
      ]
    },
    {
      "cell_type": "code",
      "execution_count": 67,
      "metadata": {
        "id": "6Jc_6O8nGvR7"
      },
      "outputs": [],
      "source": [
        "# Total Disk Throughput\n",
        "df2['disk_total_throughput'] = (\n",
        "    df2['Disk read throughput [KB/s]'] + df2['Disk write throughput [KB/s]']\n",
        ")\n",
        "\n",
        "# Rolling Average and Std for Disk (window size = 5)\n",
        "df2['disk_rolling_mean'] = (\n",
        "    df2.groupby('VM')['disk_total_throughput']\n",
        "    .rolling(window=5)\n",
        "    .mean()\n",
        "    .reset_index(level=0, drop=True)\n",
        ")\n",
        "df2['disk_rolling_std'] = (\n",
        "    df2.groupby('VM')['disk_total_throughput']\n",
        "    .rolling(window=5)\n",
        "    .std()\n",
        "    .reset_index(level=0, drop=True)\n",
        ")"
      ]
    },
    {
      "cell_type": "markdown",
      "metadata": {
        "id": "hHiqpdi5GvR7"
      },
      "source": [
        "#### Compute the Network Throughput, Rolling stats"
      ]
    },
    {
      "cell_type": "code",
      "execution_count": 68,
      "metadata": {
        "id": "HWXh6gYsGvR7"
      },
      "outputs": [],
      "source": [
        "# Total Network Throughput\n",
        "df2['network_total_throughput'] = (\n",
        "    df2['Network received throughput [KB/s]'] + df2['Network transmitted throughput [KB/s]']\n",
        ")\n",
        "\n",
        "# Rolling Average and Std for Network (window size = 5)\n",
        "df2['network_rolling_mean'] = (\n",
        "    df2.groupby('VM')['network_total_throughput']\n",
        "    .rolling(window=5)\n",
        "    .mean()\n",
        "    .reset_index(level=0, drop=True)\n",
        ")\n",
        "df2['network_rolling_std'] = (\n",
        "    df2.groupby('VM')['network_total_throughput']\n",
        "    .rolling(window=5)\n",
        "    .std()\n",
        "    .reset_index(level=0, drop=True)\n",
        ")"
      ]
    },
    {
      "cell_type": "markdown",
      "metadata": {
        "id": "jHTn-rMOGvR8"
      },
      "source": [
        "####  Lag Features Trend Detection of Disk & Network Features"
      ]
    },
    {
      "cell_type": "code",
      "execution_count": 69,
      "metadata": {
        "id": "pMYHpHwhGvR8"
      },
      "outputs": [],
      "source": [
        "# -------------------- Disk Features --------------------\n",
        "if 'Disk read throughput [KB/s]' in df2.columns:\n",
        "    df2['disk_read_prev'] = df2.groupby('VM')['Disk read throughput [KB/s]'].shift(1)\n",
        "    df2['disk_read_diff'] = df2['Disk read throughput [KB/s]'] - df2['disk_read_prev']\n",
        "\n",
        "if 'Disk write throughput [KB/s]' in df2.columns:\n",
        "    df2['disk_write_prev'] = df2.groupby('VM')['Disk write throughput [KB/s]'].shift(1)\n",
        "    df2['disk_write_diff'] = df2['Disk write throughput [KB/s]'] - df2['disk_write_prev']\n",
        "\n",
        "# -------------------- Network Features --------------------\n",
        "df2['network_received_prev'] = df2.groupby('VM')['Network received throughput [KB/s]'].shift(1)\n",
        "df2['network_received_diff'] = df2['Network received throughput [KB/s]'] - df2['network_received_prev']\n",
        "\n",
        "df2['network_transmitted_prev'] = df2.groupby('VM')['Network transmitted throughput [KB/s]'].shift(1)\n",
        "df2['network_transmitted_diff'] = df2['Network transmitted throughput [KB/s]'] - df2['network_transmitted_prev']\n",
        "\n",
        "# Total Network Throughput Change per VM\n",
        "df2['network_total_prev'] = df2.groupby('VM')['network_total_throughput'].shift(1)\n",
        "df2['network_total_diff'] = df2['network_total_throughput'] - df2['network_total_prev']"
      ]
    },
    {
      "cell_type": "markdown",
      "metadata": {
        "id": "uahpLA5CGvR8"
      },
      "source": [
        "#### Resource Utilization Behavior"
      ]
    },
    {
      "cell_type": "code",
      "execution_count": 70,
      "metadata": {
        "id": "ttPTgXE5GvR8",
        "outputId": "afbbd717-c396-4ee7-c422-626b8597686b",
        "colab": {
          "base_uri": "https://localhost:8080/",
          "height": 803
        }
      },
      "outputs": [
        {
          "output_type": "display_data",
          "data": {
            "text/plain": [
              "<Figure size 600x400 with 1 Axes>"
            ],
            "image/png": "[encoded data removed]"
          },
          "metadata": {}
        },
        {
          "output_type": "display_data",
          "data": {
            "text/plain": [
              "<Figure size 600x400 with 1 Axes>"
            ],
            "image/png": "[encoded data removed]"
          },
          "metadata": {}
        }
      ],
      "source": [
        "# ✅ First, clip to 0–1 range\n",
        "df2['cpu_utilization_ratio'] = df2['cpu_utilization_ratio'].clip(0, 1)\n",
        "df2['memory_utilization_ratio'] = df2['memory_utilization_ratio'].clip(0, 1)\n",
        "\n",
        "# ✅ Now remove NaNs and infs AFTER clipping\n",
        "clean_cpu = df2['cpu_utilization_ratio'].replace([np.inf, -np.inf], np.nan).dropna()\n",
        "clean_mem = df2['memory_utilization_ratio'].replace([np.inf, -np.inf], np.nan).dropna()\n",
        "\n",
        "# ✅ Plot\n",
        "plt.figure(figsize=(6, 4))\n",
        "plt.hist(clean_cpu, bins=50, alpha=0.7, color='red', label='CPU Utilization')\n",
        "plt.title(\"CPU Utilization Distribution\")\n",
        "plt.xlabel(\"Utilization Ratio\")\n",
        "plt.ylabel(\"Frequency\")\n",
        "plt.grid(True)\n",
        "plt.legend()\n",
        "plt.show()\n",
        "\n",
        "plt.figure(figsize=(6, 4))\n",
        "plt.hist(clean_mem, bins=50, alpha=0.7, color='green', label='Memory Utilization')\n",
        "plt.title(\"Memory Utilization Distribution\")\n",
        "plt.xlabel(\"Utilization Ratio\")\n",
        "plt.ylabel(\"Frequency\")\n",
        "plt.grid(True)\n",
        "plt.legend()\n",
        "plt.show()"
      ]
    },
    {
      "cell_type": "code",
      "source": [
        "# ✅ Step 1: Clean disk & network throughput columns\n",
        "clean_disk = df2['disk_total_throughput'].replace([np.inf, -np.inf], np.nan).dropna()\n",
        "clean_net = df2['network_total_throughput'].replace([np.inf, -np.inf], np.nan).dropna()\n",
        "\n",
        "# # ✅ Step 2: Apply log1p transformation\n",
        "log_disk = np.log1p(clean_disk)\n",
        "log_net = np.log1p(clean_net)\n",
        "\n",
        "# ✅ Step 3: Plot Disk Throughput Distribution\n",
        "plt.figure(figsize=(6, 4))\n",
        "plt.hist(log_disk, bins=50, alpha=0.7, color='purple', label='Disk Throughput (log1p)')\n",
        "plt.title(\"Disk Throughput Distribution (log-scaled)\")\n",
        "plt.xlabel(\"log1p(KB/s)\")\n",
        "plt.ylabel(\"Frequency\")\n",
        "plt.grid(True)\n",
        "plt.legend()\n",
        "plt.tight_layout()\n",
        "plt.show()\n",
        "\n",
        "# ✅ Step 4: Plot Network Throughput Distribution\n",
        "plt.figure(figsize=(6, 4))\n",
        "plt.hist(log_net, bins=50, alpha=0.7, color='blue', label='Network Throughput (log1p)')\n",
        "plt.title(\"Network Throughput Distribution (log-scaled)\")\n",
        "plt.xlabel(\"log1p(KB/s)\")\n",
        "plt.ylabel(\"Frequency\")\n",
        "plt.grid(True)\n",
        "plt.legend()\n",
        "plt.tight_layout()\n",
        "plt.show()\n"
      ],
      "metadata": {
        "id": "FzUlzoEHWKRX",
        "outputId": "04bad2be-9e4c-4808-994f-dfc252c98806",
        "colab": {
          "base_uri": "https://localhost:8080/",
          "height": 797
        }
      },
      "execution_count": 71,
      "outputs": [
        {
          "output_type": "display_data",
          "data": {
            "text/plain": [
              "<Figure size 600x400 with 1 Axes>"
            ],
            "image/png": "[encoded data removed]"
          },
          "metadata": {}
        },
        {
          "output_type": "display_data",
          "data": {
            "text/plain": [
              "<Figure size 600x400 with 1 Axes>"
            ],
            "image/png": "[encoded data removed]"
          },
          "metadata": {}
        }
      ]
    },
    {
      "cell_type": "code",
      "source": [
        "df2.columns"
      ],
      "metadata": {
        "colab": {
          "base_uri": "https://localhost:8080/"
        },
        "id": "pQIqDWyJAJZg",
        "outputId": "d82584a2-4fa5-4eec-af81-0f4abd7fa95c"
      },
      "execution_count": 72,
      "outputs": [
        {
          "output_type": "execute_result",
          "data": {
            "text/plain": [
              "Index(['timestamp', 'Timestamp [s]', 'CPU cores',\n",
              "       'CPU capacity provisioned [MHZ]', 'CPU usage [MHZ]', 'CPU usage [%]',\n",
              "       'Memory capacity provisioned [KB]', 'Memory usage [KB]',\n",
              "       'Disk read throughput [KB/s]', 'Disk write throughput [KB/s]',\n",
              "       'Network received throughput [KB/s]',\n",
              "       'Network transmitted throughput [KB/s]', 'time_diff', 'VM', 'hour',\n",
              "       'dayofweek', 'is_weekend', 'month', 'day', 'hour_sin', 'hour_cos',\n",
              "       'dayofweek_sin', 'dayofweek_cos', 'month_sin', 'month_cos',\n",
              "       'cpu_utilization_ratio', 'memory_utilization_ratio', 'cpu_util_prev',\n",
              "       'cpu_util_diff', 'memory_util_prev', 'memory_util_diff',\n",
              "       'disk_total_throughput', 'disk_rolling_mean', 'disk_rolling_std',\n",
              "       'network_total_throughput', 'network_rolling_mean',\n",
              "       'network_rolling_std', 'disk_read_prev', 'disk_read_diff',\n",
              "       'disk_write_prev', 'disk_write_diff', 'network_received_prev',\n",
              "       'network_received_diff', 'network_transmitted_prev',\n",
              "       'network_transmitted_diff', 'network_total_prev', 'network_total_diff'],\n",
              "      dtype='object')"
            ]
          },
          "metadata": {},
          "execution_count": 72
        }
      ]
    },
    {
      "cell_type": "code",
      "source": [
        "core_utilization_features = [\n",
        "    \"cpu_utilization_ratio\",\n",
        "    \"memory_utilization_ratio\",\n",
        "    \"disk_total_throughput\",\n",
        "    \"network_total_throughput\"\n",
        "]\n",
        "\n",
        "lag_diff_features = [\n",
        "    \"cpu_util_prev\", \"cpu_util_diff\",\n",
        "    \"memory_util_prev\", \"memory_util_diff\",\n",
        "    \"disk_read_prev\", \"disk_read_diff\",\n",
        "    \"disk_write_prev\", \"disk_write_diff\",\n",
        "    \"network_received_prev\", \"network_received_diff\",\n",
        "    \"network_transmitted_prev\", \"network_transmitted_diff\",\n",
        "    \"network_total_prev\", \"network_total_diff\"\n",
        "]\n",
        "\n",
        "rolling_features = [\n",
        "    \"disk_rolling_mean\", \"disk_rolling_std\",\n",
        "    \"network_rolling_mean\", \"network_rolling_std\"\n",
        "]\n",
        "\n",
        "time_features = [\n",
        "    \"hour\", \"day\", \"dayofweek\", \"month\",\n",
        "    \"hour_sin\", \"hour_cos\",\n",
        "    \"dayofweek_sin\", \"dayofweek_cos\",\n",
        "    \"month_sin\", \"month_cos\",\n",
        "    \"is_weekend\"\n",
        "]\n",
        "\n",
        "static_features = [\n",
        "    \"VM\"  # Include \"vm_type\" if available\n",
        "]\n",
        "\n",
        "timestamp_features = [\n",
        "    \"timestamp\", \"Timestamp [s]\"\n",
        "]"
      ],
      "metadata": {
        "id": "KqHY63Y-AJSL"
      },
      "execution_count": 73,
      "outputs": []
    },
    {
      "cell_type": "code",
      "source": [
        "common_features_all_targets = (\n",
        "    core_utilization_features +\n",
        "    lag_diff_features +\n",
        "    rolling_features +\n",
        "    time_features +\n",
        "    static_features +\n",
        "    timestamp_features\n",
        ")"
      ],
      "metadata": {
        "id": "-0-KdZRHAJJO"
      },
      "execution_count": 74,
      "outputs": []
    },
    {
      "cell_type": "code",
      "source": [
        "df3 = df2[common_features_all_targets].copy()"
      ],
      "metadata": {
        "id": "NCdh6kRZXJOD"
      },
      "execution_count": 75,
      "outputs": []
    },
    {
      "cell_type": "code",
      "source": [
        "import missingno as msno\n",
        "import matplotlib.pyplot as plt\n",
        "\n",
        "print(df3.isna().sum().sort_values(ascending=False))"
      ],
      "metadata": {
        "id": "vgQqmWtlAI4q",
        "colab": {
          "base_uri": "https://localhost:8080/"
        },
        "outputId": "ae199d3a-46ff-47ef-a6c7-b86b18bae8b4"
      },
      "execution_count": 76,
      "outputs": [
        {
          "output_type": "stream",
          "name": "stdout",
          "text": [
            "cpu_util_diff               687844\n",
            "memory_util_diff            686289\n",
            "cpu_util_prev               683725\n",
            "cpu_utilization_ratio       682593\n",
            "memory_util_prev            670514\n",
            "memory_utilization_ratio    669381\n",
            "disk_rolling_std              5000\n",
            "disk_rolling_mean             5000\n",
            "network_rolling_std           5000\n",
            "network_rolling_mean          5000\n",
            "network_total_prev            1250\n",
            "network_total_diff            1250\n",
            "disk_write_diff               1250\n",
            "disk_write_prev               1250\n",
            "network_received_prev         1250\n",
            "network_received_diff         1250\n",
            "network_transmitted_diff      1250\n",
            "network_transmitted_prev      1250\n",
            "disk_read_prev                1250\n",
            "disk_read_diff                1250\n",
            "network_total_throughput         0\n",
            "disk_total_throughput            0\n",
            "hour                             0\n",
            "day                              0\n",
            "dayofweek                        0\n",
            "month                            0\n",
            "hour_sin                         0\n",
            "hour_cos                         0\n",
            "dayofweek_sin                    0\n",
            "dayofweek_cos                    0\n",
            "month_sin                        0\n",
            "month_cos                        0\n",
            "is_weekend                       0\n",
            "VM                               0\n",
            "timestamp                        0\n",
            "Timestamp [s]                    0\n",
            "dtype: int64\n"
          ]
        }
      ]
    },
    {
      "cell_type": "code",
      "source": [
        "df3 = df3[core_utilization_features + lag_diff_features + rolling_features + time_features + static_features + timestamp_features].copy()"
      ],
      "metadata": {
        "id": "D2RSVAl6VRtG"
      },
      "execution_count": 77,
      "outputs": []
    },
    {
      "cell_type": "code",
      "source": [
        "# Step 1: Fill targets with forward-fill + backfill per VM\n",
        "tarc = [\"cpu_utilization_ratio\", \"memory_utilization_ratio\"]\n",
        "# Use transform instead of apply to maintain the original index\n",
        "df3[tarc] = df3.groupby(\"VM\")[tarc].transform(lambda x: x.ffill().bfill())"
      ],
      "metadata": {
        "id": "beQgpIDPAIwE"
      },
      "execution_count": 78,
      "outputs": []
    },
    {
      "cell_type": "code",
      "source": [
        "# Step 2: Fill lag/diff columns with 0\n",
        "\n",
        "df3[lag_diff_features] = df3[lag_diff_features].fillna(0)"
      ],
      "metadata": {
        "id": "9IBokmgoAIGp"
      },
      "execution_count": 79,
      "outputs": []
    },
    {
      "cell_type": "code",
      "source": [
        "# Step 3: Recalculate rolling features to fix NaNs from rolling window start\n",
        "df3[\"disk_rolling_mean\"] = df3.groupby(\"VM\")[\"disk_total_throughput\"].transform(lambda x: x.rolling(window=5, min_periods=1).mean())\n",
        "df3[\"disk_rolling_std\"] = df3.groupby(\"VM\")[\"disk_total_throughput\"].transform(lambda x: x.rolling(window=5, min_periods=1).std())\n",
        "\n",
        "df3[\"network_rolling_mean\"] = df3.groupby(\"VM\")[\"network_total_throughput\"].transform(lambda x: x.rolling(window=5, min_periods=1).mean())\n",
        "df3[\"network_rolling_std\"] = df3.groupby(\"VM\")[\"network_total_throughput\"].transform(lambda x: x.rolling(window=5, min_periods=1).std())"
      ],
      "metadata": {
        "id": "Rdz763KVbBkE"
      },
      "execution_count": 80,
      "outputs": []
    },
    {
      "cell_type": "code",
      "source": [
        "# Step 4: Final drop remaining NaNs (if any)\n",
        "df3.dropna(inplace=True)"
      ],
      "metadata": {
        "id": "BEAxVrq5bPOV"
      },
      "execution_count": 81,
      "outputs": []
    },
    {
      "cell_type": "code",
      "source": [
        "import numpy as np\n",
        "\n",
        "df3.replace([np.inf, -np.inf], np.nan, inplace=True)"
      ],
      "metadata": {
        "id": "SZslaFubdi3u"
      },
      "execution_count": 82,
      "outputs": []
    },
    {
      "cell_type": "code",
      "source": [
        "import numpy as np\n",
        "\n",
        "# Check for remaining NaNs\n",
        "nan_summary = df3.isna().sum()\n",
        "print(\"🔍 Remaining NaNs:\\n\", nan_summary[nan_summary > 0])\n",
        "\n",
        "# Check for infinities\n",
        "inf_check = np.isinf(df3.select_dtypes(include=[np.number])).sum()\n",
        "print(\"🔍 Infinities:\\n\", inf_check[inf_check > 0])"
      ],
      "metadata": {
        "id": "ijEKcl9yc3PA",
        "colab": {
          "base_uri": "https://localhost:8080/"
        },
        "outputId": "635d0615-b59e-4912-a758-201bac61d225"
      },
      "execution_count": 83,
      "outputs": [
        {
          "output_type": "stream",
          "name": "stdout",
          "text": [
            "🔍 Remaining NaNs:\n",
            " cpu_util_prev        4001\n",
            "cpu_util_diff           3\n",
            "memory_util_prev    15659\n",
            "memory_util_diff        4\n",
            "dtype: int64\n",
            "🔍 Infinities:\n",
            " Series([], dtype: int64)\n"
          ]
        }
      ]
    },
    {
      "cell_type": "code",
      "source": [
        "# View again\n",
        "inf_cols = [\"cpu_util_prev\", \"cpu_util_diff\", \"memory_util_prev\", \"memory_util_diff\"]\n",
        "df3[inf_cols].isna().sum()"
      ],
      "metadata": {
        "id": "6WkHf_oMduSr",
        "colab": {
          "base_uri": "https://localhost:8080/",
          "height": 209
        },
        "outputId": "d8bcf33e-3b9f-4278-ef21-7fc7bd0fbec5"
      },
      "execution_count": 84,
      "outputs": [
        {
          "output_type": "execute_result",
          "data": {
            "text/plain": [
              "cpu_util_prev        4001\n",
              "cpu_util_diff           3\n",
              "memory_util_prev    15659\n",
              "memory_util_diff        4\n",
              "dtype: int64"
            ],
            "text/html": [
              "<div>\n",
              "<style scoped>\n",
              "    .dataframe tbody tr th:only-of-type {\n",
              "        vertical-align: middle;\n",
              "    }\n",
              "\n",
              "    .dataframe tbody tr th {\n",
              "        vertical-align: top;\n",
              "    }\n",
              "\n",
              "    .dataframe thead th {\n",
              "        text-align: right;\n",
              "    }\n",
              "</style>\n",
              "<table border=\"1\" class=\"dataframe\">\n",
              "  <thead>\n",
              "    <tr style=\"text-align: right;\">\n",
              "      <th></th>\n",
              "      <th>0</th>\n",
              "    </tr>\n",
              "  </thead>\n",
              "  <tbody>\n",
              "    <tr>\n",
              "      <th>cpu_util_prev</th>\n",
              "      <td>4001</td>\n",
              "    </tr>\n",
              "    <tr>\n",
              "      <th>cpu_util_diff</th>\n",
              "      <td>3</td>\n",
              "    </tr>\n",
              "    <tr>\n",
              "      <th>memory_util_prev</th>\n",
              "      <td>15659</td>\n",
              "    </tr>\n",
              "    <tr>\n",
              "      <th>memory_util_diff</th>\n",
              "      <td>4</td>\n",
              "    </tr>\n",
              "  </tbody>\n",
              "</table>\n",
              "</div><br><label><b>dtype:</b> int64</label>"
            ]
          },
          "metadata": {},
          "execution_count": 84
        }
      ]
    },
    {
      "cell_type": "code",
      "source": [
        "df3[inf_cols] = df3[inf_cols].fillna(0)"
      ],
      "metadata": {
        "id": "CK1OVUQ4eVnh"
      },
      "execution_count": 85,
      "outputs": []
    },
    {
      "cell_type": "code",
      "source": [
        "# View again\n",
        "inf_cols = [\"cpu_util_prev\", \"cpu_util_diff\", \"memory_util_prev\", \"memory_util_diff\"]\n",
        "df3[inf_cols].isna().sum()"
      ],
      "metadata": {
        "id": "1U_Ted25er9C",
        "colab": {
          "base_uri": "https://localhost:8080/",
          "height": 209
        },
        "outputId": "6ce898be-7a65-4193-e476-f5528b81c01e"
      },
      "execution_count": 86,
      "outputs": [
        {
          "output_type": "execute_result",
          "data": {
            "text/plain": [
              "cpu_util_prev       0\n",
              "cpu_util_diff       0\n",
              "memory_util_prev    0\n",
              "memory_util_diff    0\n",
              "dtype: int64"
            ],
            "text/html": [
              "<div>\n",
              "<style scoped>\n",
              "    .dataframe tbody tr th:only-of-type {\n",
              "        vertical-align: middle;\n",
              "    }\n",
              "\n",
              "    .dataframe tbody tr th {\n",
              "        vertical-align: top;\n",
              "    }\n",
              "\n",
              "    .dataframe thead th {\n",
              "        text-align: right;\n",
              "    }\n",
              "</style>\n",
              "<table border=\"1\" class=\"dataframe\">\n",
              "  <thead>\n",
              "    <tr style=\"text-align: right;\">\n",
              "      <th></th>\n",
              "      <th>0</th>\n",
              "    </tr>\n",
              "  </thead>\n",
              "  <tbody>\n",
              "    <tr>\n",
              "      <th>cpu_util_prev</th>\n",
              "      <td>0</td>\n",
              "    </tr>\n",
              "    <tr>\n",
              "      <th>cpu_util_diff</th>\n",
              "      <td>0</td>\n",
              "    </tr>\n",
              "    <tr>\n",
              "      <th>memory_util_prev</th>\n",
              "      <td>0</td>\n",
              "    </tr>\n",
              "    <tr>\n",
              "      <th>memory_util_diff</th>\n",
              "      <td>0</td>\n",
              "    </tr>\n",
              "  </tbody>\n",
              "</table>\n",
              "</div><br><label><b>dtype:</b> int64</label>"
            ]
          },
          "metadata": {},
          "execution_count": 86
        }
      ]
    },
    {
      "cell_type": "code",
      "source": [
        "print(df3.isna().sum().sort_values(ascending=False))"
      ],
      "metadata": {
        "id": "1X74XxX_fGJF",
        "colab": {
          "base_uri": "https://localhost:8080/"
        },
        "outputId": "6d10f0d4-32b8-40e4-c084-cfeebb649294"
      },
      "execution_count": 87,
      "outputs": [
        {
          "output_type": "stream",
          "name": "stdout",
          "text": [
            "cpu_utilization_ratio       0\n",
            "memory_utilization_ratio    0\n",
            "disk_total_throughput       0\n",
            "network_total_throughput    0\n",
            "cpu_util_prev               0\n",
            "cpu_util_diff               0\n",
            "memory_util_prev            0\n",
            "memory_util_diff            0\n",
            "disk_read_prev              0\n",
            "disk_read_diff              0\n",
            "disk_write_prev             0\n",
            "disk_write_diff             0\n",
            "network_received_prev       0\n",
            "network_received_diff       0\n",
            "network_transmitted_prev    0\n",
            "network_transmitted_diff    0\n",
            "network_total_prev          0\n",
            "network_total_diff          0\n",
            "disk_rolling_mean           0\n",
            "disk_rolling_std            0\n",
            "network_rolling_mean        0\n",
            "network_rolling_std         0\n",
            "hour                        0\n",
            "day                         0\n",
            "dayofweek                   0\n",
            "month                       0\n",
            "hour_sin                    0\n",
            "hour_cos                    0\n",
            "dayofweek_sin               0\n",
            "dayofweek_cos               0\n",
            "month_sin                   0\n",
            "month_cos                   0\n",
            "is_weekend                  0\n",
            "VM                          0\n",
            "timestamp                   0\n",
            "Timestamp [s]               0\n",
            "dtype: int64\n"
          ]
        }
      ]
    },
    {
      "cell_type": "code",
      "source": [
        "import numpy as np\n",
        "\n",
        "# Check for NaNs, Infs, and duplicates\n",
        "print(\"🧼 Final Data Validation Summary:\")\n",
        "print(\"-\" * 40)\n",
        "print(f\"🚫 NaNs present: {df3.isna().sum().sum()}\")  # Total NaNs\n",
        "print(f\"♾️ Infs present: {np.isinf(df3.select_dtypes(include=[np.number])).sum().sum()}\")  # Total Infs\n",
        "print(f\"🌀 Duplicate rows: {df3.duplicated().sum()}\")\n",
        "print(f\"✅ Final shape: {df3.shape}\")"
      ],
      "metadata": {
        "id": "f41BLJgnfpbY",
        "colab": {
          "base_uri": "https://localhost:8080/"
        },
        "outputId": "6f8f52fb-84a0-4af9-9412-3cb5be94b693"
      },
      "execution_count": 88,
      "outputs": [
        {
          "output_type": "stream",
          "name": "stdout",
          "text": [
            "🧼 Final Data Validation Summary:\n",
            "----------------------------------------\n",
            "🚫 NaNs present: 0\n",
            "♾️ Infs present: 0\n",
            "🌀 Duplicate rows: 0\n",
            "✅ Final shape: (10328846, 36)\n"
          ]
        }
      ]
    },
    {
      "cell_type": "code",
      "source": [
        "vm_lengths = df3.groupby(\"VM\").size()"
      ],
      "metadata": {
        "id": "jJ6_F2U6hEpu"
      },
      "execution_count": 89,
      "outputs": []
    },
    {
      "cell_type": "code",
      "source": [
        "vm_lengths"
      ],
      "metadata": {
        "id": "78b3N8WvhGLs",
        "colab": {
          "base_uri": "https://localhost:8080/",
          "height": 489
        },
        "outputId": "a2568087-d13a-421d-93fe-4a19ff8d1519"
      },
      "execution_count": 90,
      "outputs": [
        {
          "output_type": "execute_result",
          "data": {
            "text/plain": [
              "VM\n",
              "1       8638\n",
              "10      8638\n",
              "100     8638\n",
              "1000    8638\n",
              "1001    8638\n",
              "        ... \n",
              "995     8638\n",
              "996     8638\n",
              "997     8638\n",
              "998     8638\n",
              "999     8638\n",
              "Length: 1250, dtype: int64"
            ],
            "text/html": [
              "<div>\n",
              "<style scoped>\n",
              "    .dataframe tbody tr th:only-of-type {\n",
              "        vertical-align: middle;\n",
              "    }\n",
              "\n",
              "    .dataframe tbody tr th {\n",
              "        vertical-align: top;\n",
              "    }\n",
              "\n",
              "    .dataframe thead th {\n",
              "        text-align: right;\n",
              "    }\n",
              "</style>\n",
              "<table border=\"1\" class=\"dataframe\">\n",
              "  <thead>\n",
              "    <tr style=\"text-align: right;\">\n",
              "      <th></th>\n",
              "      <th>0</th>\n",
              "    </tr>\n",
              "    <tr>\n",
              "      <th>VM</th>\n",
              "      <th></th>\n",
              "    </tr>\n",
              "  </thead>\n",
              "  <tbody>\n",
              "    <tr>\n",
              "      <th>1</th>\n",
              "      <td>8638</td>\n",
              "    </tr>\n",
              "    <tr>\n",
              "      <th>10</th>\n",
              "      <td>8638</td>\n",
              "    </tr>\n",
              "    <tr>\n",
              "      <th>100</th>\n",
              "      <td>8638</td>\n",
              "    </tr>\n",
              "    <tr>\n",
              "      <th>1000</th>\n",
              "      <td>8638</td>\n",
              "    </tr>\n",
              "    <tr>\n",
              "      <th>1001</th>\n",
              "      <td>8638</td>\n",
              "    </tr>\n",
              "    <tr>\n",
              "      <th>...</th>\n",
              "      <td>...</td>\n",
              "    </tr>\n",
              "    <tr>\n",
              "      <th>995</th>\n",
              "      <td>8638</td>\n",
              "    </tr>\n",
              "    <tr>\n",
              "      <th>996</th>\n",
              "      <td>8638</td>\n",
              "    </tr>\n",
              "    <tr>\n",
              "      <th>997</th>\n",
              "      <td>8638</td>\n",
              "    </tr>\n",
              "    <tr>\n",
              "      <th>998</th>\n",
              "      <td>8638</td>\n",
              "    </tr>\n",
              "    <tr>\n",
              "      <th>999</th>\n",
              "      <td>8638</td>\n",
              "    </tr>\n",
              "  </tbody>\n",
              "</table>\n",
              "<p>1250 rows × 1 columns</p>\n",
              "</div><br><label><b>dtype:</b> int64</label>"
            ]
          },
          "metadata": {},
          "execution_count": 90
        }
      ]
    },
    {
      "cell_type": "code",
      "source": [
        "vm_stats = df3.groupby(\"VM\").agg(\n",
        "    total_rows = (\"timestamp\", \"count\"),\n",
        "    cpu_mean = (\"cpu_utilization_ratio\", \"mean\"),\n",
        "    cpu_std = (\"cpu_utilization_ratio\", \"std\"),\n",
        "    mem_mean = (\"memory_utilization_ratio\", \"mean\"),\n",
        "    mem_std = (\"memory_utilization_ratio\", \"std\"),\n",
        ")\n",
        "\n",
        "# Calculate nan_ratio separately\n",
        "vm_stats['nan_ratio'] = df3.isna().mean()"
      ],
      "metadata": {
        "id": "ashRVy7Si1BD"
      },
      "execution_count": 91,
      "outputs": []
    },
    {
      "cell_type": "code",
      "source": [
        "# Step 2: Filter VMs With Enough Length"
      ],
      "metadata": {
        "id": "levZjixrjLmf"
      },
      "execution_count": 92,
      "outputs": []
    },
    {
      "cell_type": "code",
      "source": [
        "min_timesteps = 8000\n",
        "vm_counts = df3.groupby(\"VM\").size()\n",
        "valid_vms = vm_counts[vm_counts >= min_timesteps].index\n",
        "df4 = df3[df3[\"VM\"].isin(valid_vms)].copy()"
      ],
      "metadata": {
        "id": "rTVhIV_8i_0D"
      },
      "execution_count": 93,
      "outputs": []
    },
    {
      "cell_type": "code",
      "source": [
        "# prompt: print valid_vms\n",
        "\n",
        "valid_vms"
      ],
      "metadata": {
        "colab": {
          "base_uri": "https://localhost:8080/"
        },
        "id": "FN1Se8EasL8p",
        "outputId": "851450ec-322b-4f37-d2de-3d0cd449da5d"
      },
      "execution_count": 94,
      "outputs": [
        {
          "output_type": "execute_result",
          "data": {
            "text/plain": [
              "Index(['1', '10', '100', '1000', '1001', '1002', '1005', '1006', '1007',\n",
              "       '1008',\n",
              "       ...\n",
              "       '990', '991', '992', '993', '994', '995', '996', '997', '998', '999'],\n",
              "      dtype='object', name='VM', length=1154)"
            ]
          },
          "metadata": {},
          "execution_count": 94
        }
      ]
    },
    {
      "cell_type": "code",
      "source": [
        "def check_time_gaps(df3, threshold_minutes=5):\n",
        "    bad_vms = []\n",
        "    for vm, group in df3.groupby(\"VM\"):\n",
        "        deltas = group[\"timestamp\"].sort_values().diff().dt.total_seconds() / 60\n",
        "        if deltas.max() > threshold_minutes:\n",
        "            bad_vms.append(vm)\n",
        "    return bad_vms\n",
        "\n",
        "bad_vms = check_time_gaps(df3)\n",
        "df4 = df3[~df3[\"VM\"].isin(bad_vms)].copy()\n",
        "print(f\"Removed {len(bad_vms)} VMs due to time gaps.\")\n",
        "print(f\"Remaining VMs: {df4['VM'].nunique()}\")"
      ],
      "metadata": {
        "colab": {
          "base_uri": "https://localhost:8080/"
        },
        "id": "WVmtYr6aoDr0",
        "outputId": "ff0b43f6-6f52-4d71-80b3-637d0234ce96"
      },
      "execution_count": 95,
      "outputs": [
        {
          "output_type": "stream",
          "name": "stdout",
          "text": [
            "Removed 409 VMs due to time gaps.\n",
            "Remaining VMs: 841\n"
          ]
        }
      ]
    },
    {
      "cell_type": "code",
      "source": [
        "def confirm_regular_interval(df, expected_minutes=5):\n",
        "    irregular_vms = []\n",
        "    for vm, group in df.groupby(\"VM\"):\n",
        "        deltas = group.sort_values(\"timestamp\")[\"timestamp\"].diff().dt.total_seconds() / 60\n",
        "        if not (deltas.dropna() == expected_minutes).all():\n",
        "            irregular_vms.append(vm)\n",
        "    return irregular_vms\n",
        "\n",
        "# Run on df4\n",
        "irregular_vms = confirm_regular_interval(df4)\n",
        "print(f\"❌ VMs with non-regular 5-min intervals: {len(irregular_vms)}\")"
      ],
      "metadata": {
        "colab": {
          "base_uri": "https://localhost:8080/"
        },
        "id": "mbv0j35Pm7Qi",
        "outputId": "8c163659-aa71-4c26-ee76-79305981bc33"
      },
      "execution_count": 96,
      "outputs": [
        {
          "output_type": "stream",
          "name": "stdout",
          "text": [
            "❌ VMs with non-regular 5-min intervals: 0\n"
          ]
        }
      ]
    },
    {
      "cell_type": "code",
      "source": [
        "df4[\"uptime_ratio\"] = (df4[\"cpu_utilization_ratio\"] > 0).astype(int).groupby(df4[\"VM\"]).transform(\"mean\")"
      ],
      "metadata": {
        "id": "gv3_54xI3btK"
      },
      "execution_count": 97,
      "outputs": []
    },
    {
      "cell_type": "code",
      "source": [
        "print(df4[[\"VM\", \"uptime_ratio\"]].drop_duplicates()[\"uptime_ratio\"].describe())"
      ],
      "metadata": {
        "colab": {
          "base_uri": "https://localhost:8080/"
        },
        "id": "IyZI3jiU34eH",
        "outputId": "4a84f543-4cd6-46b8-b239-814a35988142"
      },
      "execution_count": 98,
      "outputs": [
        {
          "output_type": "stream",
          "name": "stdout",
          "text": [
            "count    841.000000\n",
            "mean       0.791934\n",
            "std        0.337987\n",
            "min        0.000000\n",
            "25%        0.542024\n",
            "50%        1.000000\n",
            "75%        1.000000\n",
            "max        1.000000\n",
            "Name: uptime_ratio, dtype: float64\n"
          ]
        }
      ]
    },
    {
      "cell_type": "code",
      "source": [
        "df4.rename(columns={\"VM\": \"vm_id\"}, inplace=True)"
      ],
      "metadata": {
        "id": "zkdmRN644z2i"
      },
      "execution_count": 99,
      "outputs": []
    },
    {
      "cell_type": "code",
      "source": [
        "df4.sort_values(by=[\"vm_id\", \"timestamp\"], inplace=True)\n",
        "df4[\"time_idx\"] = df4.groupby(\"vm_id\").cumcount()"
      ],
      "metadata": {
        "id": "__lZgIeh4Znh"
      },
      "execution_count": 100,
      "outputs": []
    },
    {
      "cell_type": "code",
      "source": [
        "def check_time_idx_continuity(df):\n",
        "    bad_vms = []\n",
        "    for vm, group in df.groupby(\"vm_id\"):\n",
        "        idx = group[\"time_idx\"].values\n",
        "        expected = np.arange(len(idx))\n",
        "        if not np.array_equal(idx, expected):\n",
        "            bad_vms.append(vm)\n",
        "    return bad_vms\n",
        "\n",
        "bad_timeidx_vms = check_time_idx_continuity(df4)\n",
        "print(f\"❌ VMs with broken or non-continuous time_idx: {len(bad_timeidx_vms)}\")"
      ],
      "metadata": {
        "colab": {
          "base_uri": "https://localhost:8080/"
        },
        "id": "jJCYmBSn485-",
        "outputId": "29a807b4-173e-489f-99d4-25f450d415c3"
      },
      "execution_count": 101,
      "outputs": [
        {
          "output_type": "stream",
          "name": "stdout",
          "text": [
            "❌ VMs with broken or non-continuous time_idx: 0\n"
          ]
        }
      ]
    },
    {
      "cell_type": "code",
      "source": [
        "df4.columns"
      ],
      "metadata": {
        "colab": {
          "base_uri": "https://localhost:8080/"
        },
        "id": "XFHC2qyy4k0z",
        "outputId": "3234dc90-c4a4-4483-f3d0-a433a0bf6d1c"
      },
      "execution_count": 102,
      "outputs": [
        {
          "output_type": "execute_result",
          "data": {
            "text/plain": [
              "Index(['cpu_utilization_ratio', 'memory_utilization_ratio',\n",
              "       'disk_total_throughput', 'network_total_throughput', 'cpu_util_prev',\n",
              "       'cpu_util_diff', 'memory_util_prev', 'memory_util_diff',\n",
              "       'disk_read_prev', 'disk_read_diff', 'disk_write_prev',\n",
              "       'disk_write_diff', 'network_received_prev', 'network_received_diff',\n",
              "       'network_transmitted_prev', 'network_transmitted_diff',\n",
              "       'network_total_prev', 'network_total_diff', 'disk_rolling_mean',\n",
              "       'disk_rolling_std', 'network_rolling_mean', 'network_rolling_std',\n",
              "       'hour', 'day', 'dayofweek', 'month', 'hour_sin', 'hour_cos',\n",
              "       'dayofweek_sin', 'dayofweek_cos', 'month_sin', 'month_cos',\n",
              "       'is_weekend', 'vm_id', 'timestamp', 'Timestamp [s]', 'uptime_ratio',\n",
              "       'time_idx'],\n",
              "      dtype='object')"
            ]
          },
          "metadata": {},
          "execution_count": 102
        }
      ]
    },
    {
      "cell_type": "code",
      "source": [
        "vm_streaks = df4.groupby(\"vm_id\")[\"time_idx\"].max().reset_index()\n",
        "vm_streaks.rename(columns={\"time_idx\": \"max_streak\"}, inplace=True)"
      ],
      "metadata": {
        "id": "z_3RD0DE6kxL"
      },
      "execution_count": 103,
      "outputs": []
    },
    {
      "cell_type": "code",
      "source": [
        "vm_streaks[\"total_points\"] = vm_streaks[\"max_streak\"] + 1"
      ],
      "metadata": {
        "id": "dl65zV-W6mNG"
      },
      "execution_count": 104,
      "outputs": []
    },
    {
      "cell_type": "code",
      "source": [
        "expected_length = 8638  # Or any expected number of points\n",
        "full_streak_vms = vm_streaks[vm_streaks[\"total_points\"] == expected_length]\n",
        "print(f\"✅ VMs with full streak of {expected_length}: {len(full_streak_vms)}\")"
      ],
      "metadata": {
        "colab": {
          "base_uri": "https://localhost:8080/"
        },
        "id": "IwWLHJjs6oSm",
        "outputId": "00836f3c-8898-43e7-c794-b723e2f0e48e"
      },
      "execution_count": 110,
      "outputs": [
        {
          "output_type": "stream",
          "name": "stdout",
          "text": [
            "✅ VMs with full streak of 8638: 751\n"
          ]
        }
      ]
    },
    {
      "cell_type": "code",
      "source": [
        "df_full_streak = df4[df4[\"vm_id\"].isin(full_streak_vms[\"vm_id\"])].copy()"
      ],
      "metadata": {
        "id": "-us1DWpf8NRU"
      },
      "execution_count": 111,
      "outputs": []
    },
    {
      "cell_type": "code",
      "source": [
        "## Just Validation"
      ],
      "metadata": {
        "id": "xZZwXbtQ8QNW"
      },
      "execution_count": null,
      "outputs": []
    },
    {
      "cell_type": "code",
      "source": [
        "print(\"🔢 Unique VMs:\", df_full_streak[\"vm_id\"].nunique())"
      ],
      "metadata": {
        "colab": {
          "base_uri": "https://localhost:8080/"
        },
        "id": "WvJCHQiT8WXa",
        "outputId": "c2df9718-da43-4231-bacd-baa41f3aee87"
      },
      "execution_count": 112,
      "outputs": [
        {
          "output_type": "stream",
          "name": "stdout",
          "text": [
            "🔢 Unique VMs: 751\n"
          ]
        }
      ]
    },
    {
      "cell_type": "code",
      "source": [
        "print(df_full_streak.groupby(\"vm_id\").size().value_counts().sort_index())"
      ],
      "metadata": {
        "colab": {
          "base_uri": "https://localhost:8080/"
        },
        "id": "quv4QZJu8ZWl",
        "outputId": "b026e0c3-245a-44d1-dc4a-db82df061654"
      },
      "execution_count": 113,
      "outputs": [
        {
          "output_type": "stream",
          "name": "stdout",
          "text": [
            "8638    751\n",
            "Name: count, dtype: int64\n"
          ]
        }
      ]
    },
    {
      "cell_type": "code",
      "source": [
        "import numpy as np\n",
        "\n",
        "print(\"🚫 NaNs:\", df_full_streak.isna().sum().sum())\n",
        "print(\"♾️ Infs:\", np.isinf(df_full_streak.select_dtypes(include=[np.number])).sum().sum())"
      ],
      "metadata": {
        "colab": {
          "base_uri": "https://localhost:8080/"
        },
        "id": "p9EviYrA8dXq",
        "outputId": "53f3957c-356f-4208-b12b-413fd065676a"
      },
      "execution_count": 114,
      "outputs": [
        {
          "output_type": "stream",
          "name": "stdout",
          "text": [
            "🚫 NaNs: 0\n",
            "♾️ Infs: 0\n"
          ]
        }
      ]
    },
    {
      "cell_type": "code",
      "source": [
        "def check_time_idx_continuity(df):\n",
        "    for vm, group in df.groupby(\"vm_id\"):\n",
        "        idx = group[\"time_idx\"].values\n",
        "        if not (idx == np.arange(len(idx))).all():\n",
        "            return False\n",
        "    return True\n",
        "\n",
        "print(\"🧩 time_idx continuous:\", check_time_idx_continuity(df_full_streak))"
      ],
      "metadata": {
        "colab": {
          "base_uri": "https://localhost:8080/"
        },
        "id": "fBajXr0L8g3b",
        "outputId": "2b1c6106-dd16-4ec0-da0c-4e1db6cec3f0"
      },
      "execution_count": 115,
      "outputs": [
        {
          "output_type": "stream",
          "name": "stdout",
          "text": [
            "🧩 time_idx continuous: True\n"
          ]
        }
      ]
    },
    {
      "cell_type": "code",
      "source": [
        "# Correlation matrix b/w targets"
      ],
      "metadata": {
        "id": "4GbWYCTnof6j"
      },
      "execution_count": 106,
      "outputs": []
    },
    {
      "cell_type": "code",
      "source": [
        "# Define targets\n",
        "target_cols = [\n",
        "    'cpu_utilization_ratio',\n",
        "    'memory_utilization_ratio',\n",
        "    'disk_total_throughput',\n",
        "    'network_total_throughput'\n",
        "]\n",
        "\n",
        "# Compute correlation matrix\n",
        "corr_matrix = df_full_streak[target_cols].corr()\n",
        "\n",
        "print(corr_matrix)\n",
        "\n",
        "# Set up the plot\n",
        "plt.figure(figsize=(8, 6))\n",
        "sns.heatmap(corr_matrix, annot=True, cmap='coolwarm', fmt=\".2f\", linewidths=0.5)\n",
        "\n",
        "# Title and layout\n",
        "plt.title(\"🔗 Correlation Matrix of Resource Utilization Metrics\", fontsize=14, weight='bold')\n",
        "plt.tight_layout()\n",
        "plt.show()"
      ],
      "metadata": {
        "id": "HjLW_dtpoWID",
        "colab": {
          "base_uri": "https://localhost:8080/",
          "height": 798
        },
        "outputId": "a0e38095-4115-46e4-89dd-dde732707029"
      },
      "execution_count": 116,
      "outputs": [
        {
          "output_type": "stream",
          "name": "stdout",
          "text": [
            "                          cpu_utilization_ratio  memory_utilization_ratio  \\\n",
            "cpu_utilization_ratio                  1.000000                  0.104407   \n",
            "memory_utilization_ratio               0.104407                  1.000000   \n",
            "disk_total_throughput                  0.105622                  0.068900   \n",
            "network_total_throughput               0.112338                  0.034682   \n",
            "\n",
            "                          disk_total_throughput  network_total_throughput  \n",
            "cpu_utilization_ratio                  0.105622                  0.112338  \n",
            "memory_utilization_ratio               0.068900                  0.034682  \n",
            "disk_total_throughput                  1.000000                  0.222887  \n",
            "network_total_throughput               0.222887                  1.000000  \n"
          ]
        },
        {
          "output_type": "display_data",
          "data": {
            "text/plain": [
              "<Figure size 800x600 with 2 Axes>"
            ],
            "image/png": "[encoded data removed]"
          },
          "metadata": {}
        }
      ]
    },
    {
      "cell_type": "code",
      "execution_count": 118,
      "metadata": {
        "id": "__F3rEvRGvR8",
        "colab": {
          "base_uri": "https://localhost:8080/"
        },
        "outputId": "c7025f50-0e6c-413c-b015-b42499a3d031"
      },
      "outputs": [
        {
          "output_type": "stream",
          "name": "stdout",
          "text": [
            "(6845652, 38)\n"
          ]
        }
      ],
      "source": [
        "# print(df4.shape)"
      ]
    },
    {
      "cell_type": "markdown",
      "metadata": {
        "id": "KXdyrZQtGvR8"
      },
      "source": [
        "#### Save the cleaned DataFrame to a Parquet file"
      ]
    },
    {
      "cell_type": "code",
      "execution_count": 109,
      "metadata": {
        "id": "qwXdkuJGGvR8",
        "colab": {
          "base_uri": "https://localhost:8080/"
        },
        "outputId": "7abe87d7-a6c4-423b-98b8-0ebdf6f75209"
      },
      "outputs": [
        {
          "output_type": "stream",
          "name": "stdout",
          "text": [
            "✅ Clean overwrite done.\n"
          ]
        }
      ],
      "source": [
        "df_full_streak.to_parquet(\"/content/drive/MyDrive/datasets/processed/FeatureEng_full_streak.parquet\", index=False)\n",
        "\n",
        "# df2.to_parquet(\"/content/drive/MyDrive/datasets/processed/FeatureEngcolab.parquet\", index=False)\n",
        "\n",
        "# or\n",
        "\n",
        "# # Define save path\n",
        "# save_path = \"/content/drive/MyDrive/datasets/processed/FeatureEngcolab\"\n",
        "\n",
        "# # Step 1: Clean old folders\n",
        "# shutil.rmtree(save_path, ignore_errors=True)\n",
        "\n",
        "# # Step 2: Re-save from your cleaned df2\n",
        "# df2.to_parquet(save_path, partition_cols=[\"VM\"], index=False)\n",
        "\n",
        "# print(\"✅ Clean overwrite done.\")"
      ]
    },
    {
      "cell_type": "code",
      "source": [],
      "metadata": {
        "id": "4e9IRvwJRCE1"
      },
      "execution_count": 109,
      "outputs": []
    }
  ],
  "metadata": {
    "kernelspec": {
      "display_name": "Python 3",
      "name": "python3"
    },
    "language_info": {
      "codemirror_mode": {
        "name": "ipython",
        "version": 3
      },
      "file_extension": ".py",
      "mimetype": "text/x-python",
      "name": "python",
      "nbconvert_exporter": "python",
      "pygments_lexer": "ipython3",
      "version": "3.8.12"
    },
    "vscode": {
      "interpreter": {
        "hash": "2133a3972b28273c10fa027bbde5fb58efc69f3a1cd517826cf4b1affadfce4e"
      }
    },
    "colab": {
      "provenance": [],
      "gpuType": "V28"
    },
    "accelerator": "TPU"
  },
  "nbformat": 4,
  "nbformat_minor": 0
}