{
  "cells": [
    {
      "cell_type": "markdown",
      "metadata": {
        "id": "jG-QM25bGvR5"
      },
      "source": [
        "### Feature Engineering"
      ]
    },
    {
      "cell_type": "code",
      "source": [
        "from google.colab import drive\n",
        "drive.mount('/content/drive')"
      ],
      "metadata": {
        "id": "4Qb-2IDYGwbG",
        "outputId": "4504ff93-4c4d-4e0d-f6a2-58ae8fdeeb03",
        "colab": {
          "base_uri": "https://localhost:8080/"
        }
      },
      "execution_count": 3,
      "outputs": [
        {
          "output_type": "stream",
          "name": "stdout",
          "text": [
            "Mounted at /content/drive\n"
          ]
        }
      ]
    },
    {
      "cell_type": "code",
      "source": [
        "# ⚡ Quick Setup - Run after runtime reset (CPU/GPU Switch)\n",
        "# Installs essential packages silently to save output clutter\n",
        "\n",
        "!pip install matplotlib seaborn pandas numpy missingno --quiet\n",
        "\n",
        "print(\"\\033[92m✅ All required packages installed successfully.\\033[0m\")"
      ],
      "metadata": {
        "id": "q2WWjuJDosnT",
        "outputId": "a1b3ff91-0f9b-4bc6-e61b-40d81f66cfc5",
        "colab": {
          "base_uri": "https://localhost:8080/"
        }
      },
      "execution_count": 4,
      "outputs": [
        {
          "output_type": "stream",
          "name": "stdout",
          "text": [
            "\u001b[92m✅ All required packages installed successfully.\u001b[0m\n"
          ]
        }
      ]
    },
    {
      "cell_type": "markdown",
      "metadata": {
        "id": "_nrcGi8GGvR6"
      },
      "source": [
        "#### Import libraries"
      ]
    },
    {
      "cell_type": "code",
      "execution_count": 5,
      "metadata": {
        "id": "9IvMWblLGvR6"
      },
      "outputs": [],
      "source": [
        "import numpy as np\n",
        "import pandas as pd\n",
        "import matplotlib.pyplot as plt\n",
        "import seaborn as sns\n",
        "import os\n",
        "import glob\n",
        "import shutil"
      ]
    },
    {
      "cell_type": "markdown",
      "metadata": {
        "id": "ZuwTCX9DGvR6"
      },
      "source": [
        "#### Load the EDA & Preprocessing notebook"
      ]
    },
    {
      "cell_type": "code",
      "execution_count": 6,
      "metadata": {
        "id": "Z1AI1gqPGvR6"
      },
      "outputs": [],
      "source": [
        "# df2 = pd.read_parquet(\"/home/data/processed/PreProcessing.parquet\")\n",
        "df2 = pd.read_parquet(\"/content/drive/MyDrive/datasets/processed/PreProcessingcolab.parquet\")"
      ]
    },
    {
      "cell_type": "code",
      "source": [
        "# prompt: remove the time_idx\n",
        "\n",
        "df2 = df2.drop('time_idx', axis=1, errors='ignore')"
      ],
      "metadata": {
        "id": "mZZh53blWRlQ"
      },
      "execution_count": 7,
      "outputs": []
    },
    {
      "cell_type": "markdown",
      "metadata": {
        "id": "mnvMP_NxGvR6"
      },
      "source": [
        "#### Time Based Calender features"
      ]
    },
    {
      "cell_type": "code",
      "execution_count": 8,
      "metadata": {
        "id": "NRxiT_CSGvR7"
      },
      "outputs": [],
      "source": [
        "df2['hour'] = df2['timestamp'].dt.hour\n",
        "df2['dayofweek'] = df2['timestamp'].dt.dayofweek\n",
        "df2['is_weekend'] = df2['dayofweek'] >= 5\n",
        "df2['month'] = df2['timestamp'].dt.month\n",
        "df2['day'] = df2['timestamp'].dt.day"
      ]
    },
    {
      "cell_type": "markdown",
      "metadata": {
        "id": "M5nxnqIKGvR7"
      },
      "source": [
        "#### Cyclical Time Features for Time Series Data"
      ]
    },
    {
      "cell_type": "code",
      "execution_count": 9,
      "metadata": {
        "id": "Kk_K3kGoGvR7"
      },
      "outputs": [],
      "source": [
        "# Cyclical encoding for hour\n",
        "df2['hour_sin'] = np.sin(2 * np.pi * df2['hour'] / 24).round(4)\n",
        "df2['hour_cos'] = np.cos(2 * np.pi * df2['hour'] / 24).round(4)\n",
        "\n",
        "# Same for day of week\n",
        "df2['dayofweek_sin'] = np.sin(2 * np.pi * df2['dayofweek'] / 7).round(4)\n",
        "df2['dayofweek_cos'] = np.cos(2 * np.pi * df2['dayofweek'] / 7).round(4)\n",
        "\n",
        "# Optional month encoding if relevant\n",
        "df2['month_sin'] = np.sin(2 * np.pi * (df2['month'] - 1) / 12).round(4)\n",
        "df2['month_cos'] = np.cos(2 * np.pi * (df2['month'] - 1) / 12).round(4)"
      ]
    },
    {
      "cell_type": "code",
      "execution_count": 10,
      "metadata": {
        "id": "mb-zBQVlGvR7",
        "outputId": "48dca744-926a-4bfb-8910-63ee64d8bb3f",
        "colab": {
          "base_uri": "https://localhost:8080/",
          "height": 394
        }
      },
      "outputs": [
        {
          "output_type": "execute_result",
          "data": {
            "text/plain": [
              "            timestamp  Timestamp [s]  CPU cores  \\\n",
              "0 2013-08-12 13:45:00   1.376315e+09        4.0   \n",
              "1 2013-08-12 13:50:00   1.376315e+09        4.0   \n",
              "2 2013-08-12 13:55:00   1.376316e+09        4.0   \n",
              "3 2013-08-12 14:00:00   1.376316e+09        4.0   \n",
              "4 2013-08-12 14:05:00   1.376316e+09        4.0   \n",
              "\n",
              "   CPU capacity provisioned [MHZ]  CPU usage [MHZ]  CPU usage [%]  \\\n",
              "0                     11703.99824     10890.570362      93.050000   \n",
              "1                     11703.99824     10434.114431      89.150000   \n",
              "2                     11703.99824     10539.450415      90.050000   \n",
              "3                     11703.99824     10951.041020      93.566667   \n",
              "4                     11703.99824     10913.978359      93.250000   \n",
              "\n",
              "   Memory capacity provisioned [KB]  Memory usage [KB]  \\\n",
              "0                        67108864.0       6.755624e+06   \n",
              "1                        67108864.0       8.947846e+06   \n",
              "2                        67108864.0       1.879048e+07   \n",
              "3                        67108864.0       9.305761e+06   \n",
              "4                        67108864.0       6.352970e+06   \n",
              "\n",
              "   Disk read throughput [KB/s]  Disk write throughput [KB/s]  ...  dayofweek  \\\n",
              "0                     1.333333                  19137.333333  ...          0   \n",
              "1                     2.533333                  19974.933333  ...          0   \n",
              "2                     5.466667                   8791.800000  ...          0   \n",
              "3                     5.400000                  15679.533333  ...          0   \n",
              "4                     4.466667                  15553.733333  ...          0   \n",
              "\n",
              "   is_weekend month day  hour_sin  hour_cos  dayofweek_sin  dayofweek_cos  \\\n",
              "0       False     8  12   -0.2588   -0.9659            0.0            1.0   \n",
              "1       False     8  12   -0.2588   -0.9659            0.0            1.0   \n",
              "2       False     8  12   -0.2588   -0.9659            0.0            1.0   \n",
              "3       False     8  12   -0.5000   -0.8660            0.0            1.0   \n",
              "4       False     8  12   -0.5000   -0.8660            0.0            1.0   \n",
              "\n",
              "   month_sin  month_cos  \n",
              "0       -0.5     -0.866  \n",
              "1       -0.5     -0.866  \n",
              "2       -0.5     -0.866  \n",
              "3       -0.5     -0.866  \n",
              "4       -0.5     -0.866  \n",
              "\n",
              "[5 rows x 25 columns]"
            ],
            "text/html": [
              "\n",
              "  <div id=\"df-c3ad8d7a-6df9-4545-ba96-0f039c6d04a8\" class=\"colab-df-container\">\n",
              "    <div>\n",
              "<style scoped>\n",
              "    .dataframe tbody tr th:only-of-type {\n",
              "        vertical-align: middle;\n",
              "    }\n",
              "\n",
              "    .dataframe tbody tr th {\n",
              "        vertical-align: top;\n",
              "    }\n",
              "\n",
              "    .dataframe thead th {\n",
              "        text-align: right;\n",
              "    }\n",
              "</style>\n",
              "<table border=\"1\" class=\"dataframe\">\n",
              "  <thead>\n",
              "    <tr style=\"text-align: right;\">\n",
              "      <th></th>\n",
              "      <th>timestamp</th>\n",
              "      <th>Timestamp [s]</th>\n",
              "      <th>CPU cores</th>\n",
              "      <th>CPU capacity provisioned [MHZ]</th>\n",
              "      <th>CPU usage [MHZ]</th>\n",
              "      <th>CPU usage [%]</th>\n",
              "      <th>Memory capacity provisioned [KB]</th>\n",
              "      <th>Memory usage [KB]</th>\n",
              "      <th>Disk read throughput [KB/s]</th>\n",
              "      <th>Disk write throughput [KB/s]</th>\n",
              "      <th>...</th>\n",
              "      <th>dayofweek</th>\n",
              "      <th>is_weekend</th>\n",
              "      <th>month</th>\n",
              "      <th>day</th>\n",
              "      <th>hour_sin</th>\n",
              "      <th>hour_cos</th>\n",
              "      <th>dayofweek_sin</th>\n",
              "      <th>dayofweek_cos</th>\n",
              "      <th>month_sin</th>\n",
              "      <th>month_cos</th>\n",
              "    </tr>\n",
              "  </thead>\n",
              "  <tbody>\n",
              "    <tr>\n",
              "      <th>0</th>\n",
              "      <td>2013-08-12 13:45:00</td>\n",
              "      <td>1.376315e+09</td>\n",
              "      <td>4.0</td>\n",
              "      <td>11703.99824</td>\n",
              "      <td>10890.570362</td>\n",
              "      <td>93.050000</td>\n",
              "      <td>67108864.0</td>\n",
              "      <td>6.755624e+06</td>\n",
              "      <td>1.333333</td>\n",
              "      <td>19137.333333</td>\n",
              "      <td>...</td>\n",
              "      <td>0</td>\n",
              "      <td>False</td>\n",
              "      <td>8</td>\n",
              "      <td>12</td>\n",
              "      <td>-0.2588</td>\n",
              "      <td>-0.9659</td>\n",
              "      <td>0.0</td>\n",
              "      <td>1.0</td>\n",
              "      <td>-0.5</td>\n",
              "      <td>-0.866</td>\n",
              "    </tr>\n",
              "    <tr>\n",
              "      <th>1</th>\n",
              "      <td>2013-08-12 13:50:00</td>\n",
              "      <td>1.376315e+09</td>\n",
              "      <td>4.0</td>\n",
              "      <td>11703.99824</td>\n",
              "      <td>10434.114431</td>\n",
              "      <td>89.150000</td>\n",
              "      <td>67108864.0</td>\n",
              "      <td>8.947846e+06</td>\n",
              "      <td>2.533333</td>\n",
              "      <td>19974.933333</td>\n",
              "      <td>...</td>\n",
              "      <td>0</td>\n",
              "      <td>False</td>\n",
              "      <td>8</td>\n",
              "      <td>12</td>\n",
              "      <td>-0.2588</td>\n",
              "      <td>-0.9659</td>\n",
              "      <td>0.0</td>\n",
              "      <td>1.0</td>\n",
              "      <td>-0.5</td>\n",
              "      <td>-0.866</td>\n",
              "    </tr>\n",
              "    <tr>\n",
              "      <th>2</th>\n",
              "      <td>2013-08-12 13:55:00</td>\n",
              "      <td>1.376316e+09</td>\n",
              "      <td>4.0</td>\n",
              "      <td>11703.99824</td>\n",
              "      <td>10539.450415</td>\n",
              "      <td>90.050000</td>\n",
              "      <td>67108864.0</td>\n",
              "      <td>1.879048e+07</td>\n",
              "      <td>5.466667</td>\n",
              "      <td>8791.800000</td>\n",
              "      <td>...</td>\n",
              "      <td>0</td>\n",
              "      <td>False</td>\n",
              "      <td>8</td>\n",
              "      <td>12</td>\n",
              "      <td>-0.2588</td>\n",
              "      <td>-0.9659</td>\n",
              "      <td>0.0</td>\n",
              "      <td>1.0</td>\n",
              "      <td>-0.5</td>\n",
              "      <td>-0.866</td>\n",
              "    </tr>\n",
              "    <tr>\n",
              "      <th>3</th>\n",
              "      <td>2013-08-12 14:00:00</td>\n",
              "      <td>1.376316e+09</td>\n",
              "      <td>4.0</td>\n",
              "      <td>11703.99824</td>\n",
              "      <td>10951.041020</td>\n",
              "      <td>93.566667</td>\n",
              "      <td>67108864.0</td>\n",
              "      <td>9.305761e+06</td>\n",
              "      <td>5.400000</td>\n",
              "      <td>15679.533333</td>\n",
              "      <td>...</td>\n",
              "      <td>0</td>\n",
              "      <td>False</td>\n",
              "      <td>8</td>\n",
              "      <td>12</td>\n",
              "      <td>-0.5000</td>\n",
              "      <td>-0.8660</td>\n",
              "      <td>0.0</td>\n",
              "      <td>1.0</td>\n",
              "      <td>-0.5</td>\n",
              "      <td>-0.866</td>\n",
              "    </tr>\n",
              "    <tr>\n",
              "      <th>4</th>\n",
              "      <td>2013-08-12 14:05:00</td>\n",
              "      <td>1.376316e+09</td>\n",
              "      <td>4.0</td>\n",
              "      <td>11703.99824</td>\n",
              "      <td>10913.978359</td>\n",
              "      <td>93.250000</td>\n",
              "      <td>67108864.0</td>\n",
              "      <td>6.352970e+06</td>\n",
              "      <td>4.466667</td>\n",
              "      <td>15553.733333</td>\n",
              "      <td>...</td>\n",
              "      <td>0</td>\n",
              "      <td>False</td>\n",
              "      <td>8</td>\n",
              "      <td>12</td>\n",
              "      <td>-0.5000</td>\n",
              "      <td>-0.8660</td>\n",
              "      <td>0.0</td>\n",
              "      <td>1.0</td>\n",
              "      <td>-0.5</td>\n",
              "      <td>-0.866</td>\n",
              "    </tr>\n",
              "  </tbody>\n",
              "</table>\n",
              "<p>5 rows × 25 columns</p>\n",
              "</div>\n",
              "    <div class=\"colab-df-buttons\">\n",
              "\n",
              "  <div class=\"colab-df-container\">\n",
              "    <button class=\"colab-df-convert\" onclick=\"convertToInteractive('df-c3ad8d7a-6df9-4545-ba96-0f039c6d04a8')\"\n",
              "            title=\"Convert this dataframe to an interactive table.\"\n",
              "            style=\"display:none;\">\n",
              "\n",
              "  <svg xmlns=\"http://www.w3.org/2000/svg\" height=\"24px\" viewBox=\"0 -960 960 960\">\n",
              "    <path d=\"M120-120v-720h720v720H120Zm60-500h600v-160H180v160Zm220 220h160v-160H400v160Zm0 220h160v-160H400v160ZM180-400h160v-160H180v160Zm440 0h160v-160H620v160ZM180-180h160v-160H180v160Zm440 0h160v-160H620v160Z\"/>\n",
              "  </svg>\n",
              "    </button>\n",
              "\n",
              "  <style>\n",
              "    .colab-df-container {\n",
              "      display:flex;\n",
              "      gap: 12px;\n",
              "    }\n",
              "\n",
              "    .colab-df-convert {\n",
              "      background-color: #E8F0FE;\n",
              "      border: none;\n",
              "      border-radius: 50%;\n",
              "      cursor: pointer;\n",
              "      display: none;\n",
              "      fill: #1967D2;\n",
              "      height: 32px;\n",
              "      padding: 0 0 0 0;\n",
              "      width: 32px;\n",
              "    }\n",
              "\n",
              "    .colab-df-convert:hover {\n",
              "      background-color: #E2EBFA;\n",
              "      box-shadow: 0px 1px 2px rgba(60, 64, 67, 0.3), 0px 1px 3px 1px rgba(60, 64, 67, 0.15);\n",
              "      fill: #174EA6;\n",
              "    }\n",
              "\n",
              "    .colab-df-buttons div {\n",
              "      margin-bottom: 4px;\n",
              "    }\n",
              "\n",
              "    [theme=dark] .colab-df-convert {\n",
              "      background-color: #3B4455;\n",
              "      fill: #D2E3FC;\n",
              "    }\n",
              "\n",
              "    [theme=dark] .colab-df-convert:hover {\n",
              "      background-color: #434B5C;\n",
              "      box-shadow: 0px 1px 3px 1px rgba(0, 0, 0, 0.15);\n",
              "      filter: drop-shadow(0px 1px 2px rgba(0, 0, 0, 0.3));\n",
              "      fill: #FFFFFF;\n",
              "    }\n",
              "  </style>\n",
              "\n",
              "    <script>\n",
              "      const buttonEl =\n",
              "        document.querySelector('#df-c3ad8d7a-6df9-4545-ba96-0f039c6d04a8 button.colab-df-convert');\n",
              "      buttonEl.style.display =\n",
              "        google.colab.kernel.accessAllowed ? 'block' : 'none';\n",
              "\n",
              "      async function convertToInteractive(key) {\n",
              "        const element = document.querySelector('#df-c3ad8d7a-6df9-4545-ba96-0f039c6d04a8');\n",
              "        const dataTable =\n",
              "          await google.colab.kernel.invokeFunction('convertToInteractive',\n",
              "                                                    [key], {});\n",
              "        if (!dataTable) return;\n",
              "\n",
              "        const docLinkHtml = 'Like what you see? Visit the ' +\n",
              "          '<a target=\"_blank\" href=https://colab.research.google.com/notebooks/data_table.ipynb>data table notebook</a>'\n",
              "          + ' to learn more about interactive tables.';\n",
              "        element.innerHTML = '';\n",
              "        dataTable['output_type'] = 'display_data';\n",
              "        await google.colab.output.renderOutput(dataTable, element);\n",
              "        const docLink = document.createElement('div');\n",
              "        docLink.innerHTML = docLinkHtml;\n",
              "        element.appendChild(docLink);\n",
              "      }\n",
              "    </script>\n",
              "  </div>\n",
              "\n",
              "\n",
              "    <div id=\"df-daff90b9-6d84-4808-9117-969368ff1a9c\">\n",
              "      <button class=\"colab-df-quickchart\" onclick=\"quickchart('df-daff90b9-6d84-4808-9117-969368ff1a9c')\"\n",
              "                title=\"Suggest charts\"\n",
              "                style=\"display:none;\">\n",
              "\n",
              "<svg xmlns=\"http://www.w3.org/2000/svg\" height=\"24px\"viewBox=\"0 0 24 24\"\n",
              "     width=\"24px\">\n",
              "    <g>\n",
              "        <path d=\"M19 3H5c-1.1 0-2 .9-2 2v14c0 1.1.9 2 2 2h14c1.1 0 2-.9 2-2V5c0-1.1-.9-2-2-2zM9 17H7v-7h2v7zm4 0h-2V7h2v10zm4 0h-2v-4h2v4z\"/>\n",
              "    </g>\n",
              "</svg>\n",
              "      </button>\n",
              "\n",
              "<style>\n",
              "  .colab-df-quickchart {\n",
              "      --bg-color: #E8F0FE;\n",
              "      --fill-color: #1967D2;\n",
              "      --hover-bg-color: #E2EBFA;\n",
              "      --hover-fill-color: #174EA6;\n",
              "      --disabled-fill-color: #AAA;\n",
              "      --disabled-bg-color: #DDD;\n",
              "  }\n",
              "\n",
              "  [theme=dark] .colab-df-quickchart {\n",
              "      --bg-color: #3B4455;\n",
              "      --fill-color: #D2E3FC;\n",
              "      --hover-bg-color: #434B5C;\n",
              "      --hover-fill-color: #FFFFFF;\n",
              "      --disabled-bg-color: #3B4455;\n",
              "      --disabled-fill-color: #666;\n",
              "  }\n",
              "\n",
              "  .colab-df-quickchart {\n",
              "    background-color: var(--bg-color);\n",
              "    border: none;\n",
              "    border-radius: 50%;\n",
              "    cursor: pointer;\n",
              "    display: none;\n",
              "    fill: var(--fill-color);\n",
              "    height: 32px;\n",
              "    padding: 0;\n",
              "    width: 32px;\n",
              "  }\n",
              "\n",
              "  .colab-df-quickchart:hover {\n",
              "    background-color: var(--hover-bg-color);\n",
              "    box-shadow: 0 1px 2px rgba(60, 64, 67, 0.3), 0 1px 3px 1px rgba(60, 64, 67, 0.15);\n",
              "    fill: var(--button-hover-fill-color);\n",
              "  }\n",
              "\n",
              "  .colab-df-quickchart-complete:disabled,\n",
              "  .colab-df-quickchart-complete:disabled:hover {\n",
              "    background-color: var(--disabled-bg-color);\n",
              "    fill: var(--disabled-fill-color);\n",
              "    box-shadow: none;\n",
              "  }\n",
              "\n",
              "  .colab-df-spinner {\n",
              "    border: 2px solid var(--fill-color);\n",
              "    border-color: transparent;\n",
              "    border-bottom-color: var(--fill-color);\n",
              "    animation:\n",
              "      spin 1s steps(1) infinite;\n",
              "  }\n",
              "\n",
              "  @keyframes spin {\n",
              "    0% {\n",
              "      border-color: transparent;\n",
              "      border-bottom-color: var(--fill-color);\n",
              "      border-left-color: var(--fill-color);\n",
              "    }\n",
              "    20% {\n",
              "      border-color: transparent;\n",
              "      border-left-color: var(--fill-color);\n",
              "      border-top-color: var(--fill-color);\n",
              "    }\n",
              "    30% {\n",
              "      border-color: transparent;\n",
              "      border-left-color: var(--fill-color);\n",
              "      border-top-color: var(--fill-color);\n",
              "      border-right-color: var(--fill-color);\n",
              "    }\n",
              "    40% {\n",
              "      border-color: transparent;\n",
              "      border-right-color: var(--fill-color);\n",
              "      border-top-color: var(--fill-color);\n",
              "    }\n",
              "    60% {\n",
              "      border-color: transparent;\n",
              "      border-right-color: var(--fill-color);\n",
              "    }\n",
              "    80% {\n",
              "      border-color: transparent;\n",
              "      border-right-color: var(--fill-color);\n",
              "      border-bottom-color: var(--fill-color);\n",
              "    }\n",
              "    90% {\n",
              "      border-color: transparent;\n",
              "      border-bottom-color: var(--fill-color);\n",
              "    }\n",
              "  }\n",
              "</style>\n",
              "\n",
              "      <script>\n",
              "        async function quickchart(key) {\n",
              "          const quickchartButtonEl =\n",
              "            document.querySelector('#' + key + ' button');\n",
              "          quickchartButtonEl.disabled = true;  // To prevent multiple clicks.\n",
              "          quickchartButtonEl.classList.add('colab-df-spinner');\n",
              "          try {\n",
              "            const charts = await google.colab.kernel.invokeFunction(\n",
              "                'suggestCharts', [key], {});\n",
              "          } catch (error) {\n",
              "            console.error('Error during call to suggestCharts:', error);\n",
              "          }\n",
              "          quickchartButtonEl.classList.remove('colab-df-spinner');\n",
              "          quickchartButtonEl.classList.add('colab-df-quickchart-complete');\n",
              "        }\n",
              "        (() => {\n",
              "          let quickchartButtonEl =\n",
              "            document.querySelector('#df-daff90b9-6d84-4808-9117-969368ff1a9c button');\n",
              "          quickchartButtonEl.style.display =\n",
              "            google.colab.kernel.accessAllowed ? 'block' : 'none';\n",
              "        })();\n",
              "      </script>\n",
              "    </div>\n",
              "\n",
              "    </div>\n",
              "  </div>\n"
            ],
            "application/vnd.google.colaboratory.intrinsic+json": {
              "type": "dataframe",
              "variable_name": "df2"
            }
          },
          "metadata": {},
          "execution_count": 10
        }
      ],
      "source": [
        "df2.head()"
      ]
    },
    {
      "cell_type": "code",
      "execution_count": 11,
      "metadata": {
        "id": "T7hsolxnGvR7",
        "outputId": "ce1a3eb6-2714-4de3-9a6a-0654611cb80b",
        "colab": {
          "base_uri": "https://localhost:8080/",
          "height": 487
        }
      },
      "outputs": [
        {
          "output_type": "display_data",
          "data": {
            "text/plain": [
              "<Figure size 800x500 with 1 Axes>"
            ],
            "image/png": "[encoded data removed]"
          },
          "metadata": {}
        }
      ],
      "source": [
        "import matplotlib.pyplot as plt\n",
        "\n",
        "# Example: Plot cyclical encoding for one day (0 to 23 hours)\n",
        "hours = np.arange(0, 24)\n",
        "hour_sin = np.sin(2 * np.pi * hours / 24)\n",
        "hour_cos = np.cos(2 * np.pi * hours / 24)\n",
        "\n",
        "plt.figure(figsize=(8, 5))\n",
        "plt.plot(hours, hour_sin, label='hour_sin', marker='o')\n",
        "plt.plot(hours, hour_cos, label='hour_cos', marker='s')\n",
        "plt.title(\"Cyclical Encoding of Hour (Sine & Cosine)\")\n",
        "plt.xlabel(\"Hour of Day\")\n",
        "plt.ylabel(\"Value\")\n",
        "plt.grid()\n",
        "plt.legend()\n",
        "plt.show()"
      ]
    },
    {
      "cell_type": "markdown",
      "metadata": {
        "id": "Urz6vKJ8GvR7"
      },
      "source": [
        "#### Compute the CPU & Memory usage"
      ]
    },
    {
      "cell_type": "code",
      "execution_count": 12,
      "metadata": {
        "id": "n0dv7gZSGvR7"
      },
      "outputs": [],
      "source": [
        "df2['cpu_utilization_ratio'] = (df2['CPU usage [MHZ]'] / df2['CPU capacity provisioned [MHZ]']).round(4)\n",
        "df2['memory_utilization_ratio'] = (df2['Memory usage [KB]'] / df2['Memory capacity provisioned [KB]']).round(4)\n",
        "\n",
        "# Optional: Convert to percentage view for easy debugging (not for modeling)\n",
        "# df2['cpu_util_percent'] = (df2['cpu_utilization_ratio'] * 100).round(2)\n",
        "# df2['memory_util_percent'] = (df2['memory_utilization_ratio'] * 100).round(2)"
      ]
    },
    {
      "cell_type": "markdown",
      "metadata": {
        "id": "cp6gVDF2GvR7"
      },
      "source": [
        "#### Lag Features Trend Detection of CPU & Memory Features"
      ]
    },
    {
      "cell_type": "code",
      "execution_count": 13,
      "metadata": {
        "id": "OdtSlTLWGvR7"
      },
      "outputs": [],
      "source": [
        "# Resource Utilization Change Features (Trend Detection)\n",
        "\n",
        "df2['cpu_util_prev'] = df2.groupby('VM')['cpu_utilization_ratio'].shift(1)\n",
        "df2['cpu_util_diff'] = df2['cpu_utilization_ratio'] - df2['cpu_util_prev']\n",
        "\n",
        "df2['memory_util_prev'] = df2.groupby('VM')['memory_utilization_ratio'].shift(1)\n",
        "df2['memory_util_diff'] = df2['memory_utilization_ratio'] - df2['memory_util_prev']"
      ]
    },
    {
      "cell_type": "markdown",
      "metadata": {
        "id": "74EAlMPOGvR7"
      },
      "source": [
        "#### Compute the Disk Usage Ratio, Rolling stats"
      ]
    },
    {
      "cell_type": "code",
      "execution_count": 14,
      "metadata": {
        "id": "6Jc_6O8nGvR7"
      },
      "outputs": [],
      "source": [
        "# Total Disk Throughput\n",
        "df2['disk_total_throughput'] = (\n",
        "    df2['Disk read throughput [KB/s]'] + df2['Disk write throughput [KB/s]']\n",
        ")\n",
        "\n",
        "# Rolling Average and Std for Disk (window size = 5)\n",
        "df2['disk_rolling_mean'] = (\n",
        "    df2.groupby('VM')['disk_total_throughput']\n",
        "    .rolling(window=5)\n",
        "    .mean()\n",
        "    .reset_index(level=0, drop=True)\n",
        ")\n",
        "df2['disk_rolling_std'] = (\n",
        "    df2.groupby('VM')['disk_total_throughput']\n",
        "    .rolling(window=5)\n",
        "    .std()\n",
        "    .reset_index(level=0, drop=True)\n",
        ")"
      ]
    },
    {
      "cell_type": "markdown",
      "metadata": {
        "id": "hHiqpdi5GvR7"
      },
      "source": [
        "#### Compute the Network Throughput, Rolling stats"
      ]
    },
    {
      "cell_type": "code",
      "execution_count": 15,
      "metadata": {
        "id": "HWXh6gYsGvR7"
      },
      "outputs": [],
      "source": [
        "# Total Network Throughput\n",
        "df2['network_total_throughput'] = (\n",
        "    df2['Network received throughput [KB/s]'] + df2['Network transmitted throughput [KB/s]']\n",
        ")\n",
        "\n",
        "# Rolling Average and Std for Network (window size = 5)\n",
        "df2['network_rolling_mean'] = (\n",
        "    df2.groupby('VM')['network_total_throughput']\n",
        "    .rolling(window=5)\n",
        "    .mean()\n",
        "    .reset_index(level=0, drop=True)\n",
        ")\n",
        "df2['network_rolling_std'] = (\n",
        "    df2.groupby('VM')['network_total_throughput']\n",
        "    .rolling(window=5)\n",
        "    .std()\n",
        "    .reset_index(level=0, drop=True)\n",
        ")"
      ]
    },
    {
      "cell_type": "markdown",
      "metadata": {
        "id": "jHTn-rMOGvR8"
      },
      "source": [
        "####  Lag Features Trend Detection of Disk & Network Features"
      ]
    },
    {
      "cell_type": "code",
      "execution_count": 16,
      "metadata": {
        "id": "pMYHpHwhGvR8"
      },
      "outputs": [],
      "source": [
        "# -------------------- Disk Features --------------------\n",
        "if 'Disk read throughput [KB/s]' in df2.columns:\n",
        "    df2['disk_read_prev'] = df2.groupby('VM')['Disk read throughput [KB/s]'].shift(1)\n",
        "    df2['disk_read_diff'] = df2['Disk read throughput [KB/s]'] - df2['disk_read_prev']\n",
        "\n",
        "if 'Disk write throughput [KB/s]' in df2.columns:\n",
        "    df2['disk_write_prev'] = df2.groupby('VM')['Disk write throughput [KB/s]'].shift(1)\n",
        "    df2['disk_write_diff'] = df2['Disk write throughput [KB/s]'] - df2['disk_write_prev']\n",
        "\n",
        "# -------------------- Network Features --------------------\n",
        "df2['network_received_prev'] = df2.groupby('VM')['Network received throughput [KB/s]'].shift(1)\n",
        "df2['network_received_diff'] = df2['Network received throughput [KB/s]'] - df2['network_received_prev']\n",
        "\n",
        "df2['network_transmitted_prev'] = df2.groupby('VM')['Network transmitted throughput [KB/s]'].shift(1)\n",
        "df2['network_transmitted_diff'] = df2['Network transmitted throughput [KB/s]'] - df2['network_transmitted_prev']\n",
        "\n",
        "# Total Network Throughput Change per VM\n",
        "df2['network_total_prev'] = df2.groupby('VM')['network_total_throughput'].shift(1)\n",
        "df2['network_total_diff'] = df2['network_total_throughput'] - df2['network_total_prev']"
      ]
    },
    {
      "cell_type": "markdown",
      "metadata": {
        "id": "uahpLA5CGvR8"
      },
      "source": [
        "#### Resource Utilization Behavior"
      ]
    },
    {
      "cell_type": "code",
      "execution_count": 17,
      "metadata": {
        "id": "ttPTgXE5GvR8",
        "outputId": "2a1ead9a-f2c3-45b1-ce27-42ded2b2f1ed",
        "colab": {
          "base_uri": "https://localhost:8080/",
          "height": 803
        }
      },
      "outputs": [
        {
          "output_type": "display_data",
          "data": {
            "text/plain": [
              "<Figure size 600x400 with 1 Axes>"
            ],
            "image/png": "[encoded data removed]"
          },
          "metadata": {}
        },
        {
          "output_type": "display_data",
          "data": {
            "text/plain": [
              "<Figure size 600x400 with 1 Axes>"
            ],
            "image/png": "[encoded data removed]"
          },
          "metadata": {}
        }
      ],
      "source": [
        "# ✅ First, clip to 0–1 range\n",
        "df2['cpu_utilization_ratio'] = df2['cpu_utilization_ratio'].clip(0, 1)\n",
        "df2['memory_utilization_ratio'] = df2['memory_utilization_ratio'].clip(0, 1)\n",
        "\n",
        "# ✅ Now remove NaNs and infs AFTER clipping\n",
        "clean_cpu = df2['cpu_utilization_ratio'].replace([np.inf, -np.inf], np.nan).dropna()\n",
        "clean_mem = df2['memory_utilization_ratio'].replace([np.inf, -np.inf], np.nan).dropna()\n",
        "\n",
        "# ✅ Plot\n",
        "plt.figure(figsize=(6, 4))\n",
        "plt.hist(clean_cpu, bins=50, alpha=0.7, color='red', label='CPU Utilization')\n",
        "plt.title(\"CPU Utilization Distribution\")\n",
        "plt.xlabel(\"Utilization Ratio\")\n",
        "plt.ylabel(\"Frequency\")\n",
        "plt.grid(True)\n",
        "plt.legend()\n",
        "plt.show()\n",
        "\n",
        "plt.figure(figsize=(6, 4))\n",
        "plt.hist(clean_mem, bins=50, alpha=0.7, color='green', label='Memory Utilization')\n",
        "plt.title(\"Memory Utilization Distribution\")\n",
        "plt.xlabel(\"Utilization Ratio\")\n",
        "plt.ylabel(\"Frequency\")\n",
        "plt.grid(True)\n",
        "plt.legend()\n",
        "plt.show()"
      ]
    },
    {
      "cell_type": "code",
      "source": [
        "# ✅ Step 1: Clean disk & network throughput columns\n",
        "clean_disk = df2['disk_total_throughput'].replace([np.inf, -np.inf], np.nan).dropna()\n",
        "clean_net = df2['network_total_throughput'].replace([np.inf, -np.inf], np.nan).dropna()\n",
        "\n",
        "# # ✅ Step 2: Apply log1p transformation\n",
        "log_disk = np.log1p(clean_disk)\n",
        "log_net = np.log1p(clean_net)\n",
        "\n",
        "# ✅ Step 3: Plot Disk Throughput Distribution\n",
        "plt.figure(figsize=(6, 4))\n",
        "plt.hist(log_disk, bins=50, alpha=0.7, color='purple', label='Disk Throughput (log1p)')\n",
        "plt.title(\"Disk Throughput Distribution (log-scaled)\")\n",
        "plt.xlabel(\"log1p(KB/s)\")\n",
        "plt.ylabel(\"Frequency\")\n",
        "plt.grid(True)\n",
        "plt.legend()\n",
        "plt.tight_layout()\n",
        "plt.show()\n",
        "\n",
        "# ✅ Step 4: Plot Network Throughput Distribution\n",
        "plt.figure(figsize=(6, 4))\n",
        "plt.hist(log_net, bins=50, alpha=0.7, color='blue', label='Network Throughput (log1p)')\n",
        "plt.title(\"Network Throughput Distribution (log-scaled)\")\n",
        "plt.xlabel(\"log1p(KB/s)\")\n",
        "plt.ylabel(\"Frequency\")\n",
        "plt.grid(True)\n",
        "plt.legend()\n",
        "plt.tight_layout()\n",
        "plt.show()\n"
      ],
      "metadata": {
        "id": "FzUlzoEHWKRX",
        "outputId": "9bec7ad7-ea1d-4ec4-b275-2de45905534e",
        "colab": {
          "base_uri": "https://localhost:8080/",
          "height": 797
        }
      },
      "execution_count": 18,
      "outputs": [
        {
          "output_type": "display_data",
          "data": {
            "text/plain": [
              "<Figure size 600x400 with 1 Axes>"
            ],
            "image/png": "[encoded data removed]"
          },
          "metadata": {}
        },
        {
          "output_type": "display_data",
          "data": {
            "text/plain": [
              "<Figure size 600x400 with 1 Axes>"
            ],
            "image/png": "[encoded data removed]"
          },
          "metadata": {}
        }
      ]
    },
    {
      "cell_type": "code",
      "source": [
        "df2.columns"
      ],
      "metadata": {
        "colab": {
          "base_uri": "https://localhost:8080/"
        },
        "id": "pQIqDWyJAJZg",
        "outputId": "f8eef40d-ed08-4ced-b574-51529b359136"
      },
      "execution_count": 19,
      "outputs": [
        {
          "output_type": "execute_result",
          "data": {
            "text/plain": [
              "Index(['timestamp', 'Timestamp [s]', 'CPU cores',\n",
              "       'CPU capacity provisioned [MHZ]', 'CPU usage [MHZ]', 'CPU usage [%]',\n",
              "       'Memory capacity provisioned [KB]', 'Memory usage [KB]',\n",
              "       'Disk read throughput [KB/s]', 'Disk write throughput [KB/s]',\n",
              "       'Network received throughput [KB/s]',\n",
              "       'Network transmitted throughput [KB/s]', 'time_diff', 'VM', 'hour',\n",
              "       'dayofweek', 'is_weekend', 'month', 'day', 'hour_sin', 'hour_cos',\n",
              "       'dayofweek_sin', 'dayofweek_cos', 'month_sin', 'month_cos',\n",
              "       'cpu_utilization_ratio', 'memory_utilization_ratio', 'cpu_util_prev',\n",
              "       'cpu_util_diff', 'memory_util_prev', 'memory_util_diff',\n",
              "       'disk_total_throughput', 'disk_rolling_mean', 'disk_rolling_std',\n",
              "       'network_total_throughput', 'network_rolling_mean',\n",
              "       'network_rolling_std', 'disk_read_prev', 'disk_read_diff',\n",
              "       'disk_write_prev', 'disk_write_diff', 'network_received_prev',\n",
              "       'network_received_diff', 'network_transmitted_prev',\n",
              "       'network_transmitted_diff', 'network_total_prev', 'network_total_diff'],\n",
              "      dtype='object')"
            ]
          },
          "metadata": {},
          "execution_count": 19
        }
      ]
    },
    {
      "cell_type": "code",
      "source": [
        "core_utilization_features = [\n",
        "    \"cpu_utilization_ratio\",\n",
        "    \"memory_utilization_ratio\",\n",
        "    \"disk_total_throughput\",\n",
        "    \"network_total_throughput\"\n",
        "]\n",
        "\n",
        "lag_diff_features = [\n",
        "    \"cpu_util_prev\", \"cpu_util_diff\",\n",
        "    \"memory_util_prev\", \"memory_util_diff\",\n",
        "    \"disk_read_prev\", \"disk_read_diff\",\n",
        "    \"disk_write_prev\", \"disk_write_diff\",\n",
        "    \"network_received_prev\", \"network_received_diff\",\n",
        "    \"network_transmitted_prev\", \"network_transmitted_diff\",\n",
        "    \"network_total_prev\", \"network_total_diff\"\n",
        "]\n",
        "\n",
        "rolling_features = [\n",
        "    \"disk_rolling_mean\", \"disk_rolling_std\",\n",
        "    \"network_rolling_mean\", \"network_rolling_std\"\n",
        "]\n",
        "\n",
        "time_features = [\n",
        "    \"hour\", \"day\", \"dayofweek\", \"month\",\n",
        "    \"hour_sin\", \"hour_cos\",\n",
        "    \"dayofweek_sin\", \"dayofweek_cos\",\n",
        "    \"month_sin\", \"month_cos\",\n",
        "    \"is_weekend\"\n",
        "]\n",
        "\n",
        "static_features = [\n",
        "    \"VM\"  # Include \"vm_type\" if available\n",
        "]\n",
        "\n",
        "timestamp_features = [\n",
        "    \"timestamp\", \"Timestamp [s]\"\n",
        "]"
      ],
      "metadata": {
        "id": "KqHY63Y-AJSL"
      },
      "execution_count": 20,
      "outputs": []
    },
    {
      "cell_type": "code",
      "source": [
        "common_features_all_targets = (\n",
        "    core_utilization_features +\n",
        "    lag_diff_features +\n",
        "    rolling_features +\n",
        "    time_features +\n",
        "    static_features +\n",
        "    timestamp_features\n",
        ")"
      ],
      "metadata": {
        "id": "-0-KdZRHAJJO"
      },
      "execution_count": 21,
      "outputs": []
    },
    {
      "cell_type": "code",
      "source": [
        "df3 = df2[common_features_all_targets].copy()"
      ],
      "metadata": {
        "id": "NCdh6kRZXJOD"
      },
      "execution_count": null,
      "outputs": []
    },
    {
      "cell_type": "code",
      "source": [
        "import missingno as msno\n",
        "import matplotlib.pyplot as plt\n",
        "\n",
        "print(df3.isna().sum().sort_values(ascending=False))"
      ],
      "metadata": {
        "id": "vgQqmWtlAI4q"
      },
      "execution_count": null,
      "outputs": []
    },
    {
      "cell_type": "code",
      "source": [
        "df3 = df2[core_utilization_features + lag_diff_features + rolling_features + time_features + static_features + timestamp_features].copy()\n",
        "print(df3.isna().sum().sort_values(ascending=False))"
      ],
      "metadata": {
        "id": "D2RSVAl6VRtG"
      },
      "execution_count": null,
      "outputs": []
    },
    {
      "cell_type": "code",
      "source": [
        "# Step 1: Fill targets with forward-fill + backfill per VM\n",
        "tarc = [\"cpu_utilization_ratio\", \"memory_utilization_ratio\"]\n",
        "# Use transform instead of apply to maintain the original index\n",
        "df3[tarc] = df3.groupby(\"VM\")[tarc].transform(lambda x: x.ffill().bfill())"
      ],
      "metadata": {
        "id": "beQgpIDPAIwE"
      },
      "execution_count": null,
      "outputs": []
    },
    {
      "cell_type": "code",
      "source": [
        "# Step 2: Fill lag/diff columns with 0\n",
        "\n",
        "df3[lag_diff_features] = df3[lag_diff_features].fillna(0)"
      ],
      "metadata": {
        "id": "9IBokmgoAIGp"
      },
      "execution_count": null,
      "outputs": []
    },
    {
      "cell_type": "code",
      "source": [
        "# Step 3: Recalculate rolling features to fix NaNs from rolling window start\n",
        "df3[\"disk_rolling_mean\"] = df3.groupby(\"VM\")[\"disk_total_throughput\"].transform(lambda x: x.rolling(window=5, min_periods=1).mean())\n",
        "df3[\"disk_rolling_std\"] = df3.groupby(\"VM\")[\"disk_total_throughput\"].transform(lambda x: x.rolling(window=5, min_periods=1).std())\n",
        "\n",
        "df3[\"network_rolling_mean\"] = df3.groupby(\"VM\")[\"network_total_throughput\"].transform(lambda x: x.rolling(window=5, min_periods=1).mean())\n",
        "df3[\"network_rolling_std\"] = df3.groupby(\"VM\")[\"network_total_throughput\"].transform(lambda x: x.rolling(window=5, min_periods=1).std())"
      ],
      "metadata": {
        "id": "Rdz763KVbBkE"
      },
      "execution_count": null,
      "outputs": []
    },
    {
      "cell_type": "code",
      "source": [
        "# Step 4: Final drop remaining NaNs (if any)\n",
        "df3.dropna(inplace=True)"
      ],
      "metadata": {
        "id": "BEAxVrq5bPOV"
      },
      "execution_count": null,
      "outputs": []
    },
    {
      "cell_type": "code",
      "source": [
        "import numpy as np\n",
        "\n",
        "df3.replace([np.inf, -np.inf], np.nan, inplace=True)"
      ],
      "metadata": {
        "id": "SZslaFubdi3u"
      },
      "execution_count": null,
      "outputs": []
    },
    {
      "cell_type": "code",
      "source": [
        "import numpy as np\n",
        "\n",
        "# Check for remaining NaNs\n",
        "nan_summary = df3.isna().sum()\n",
        "print(\"🔍 Remaining NaNs:\\n\", nan_summary[nan_summary > 0])\n",
        "\n",
        "# Check for infinities\n",
        "inf_check = np.isinf(df3.select_dtypes(include=[np.number])).sum()\n",
        "print(\"🔍 Infinities:\\n\", inf_check[inf_check > 0])"
      ],
      "metadata": {
        "id": "ijEKcl9yc3PA"
      },
      "execution_count": null,
      "outputs": []
    },
    {
      "cell_type": "code",
      "source": [
        "# View again\n",
        "inf_cols = [\"cpu_util_prev\", \"cpu_util_diff\", \"memory_util_prev\", \"memory_util_diff\"]\n",
        "df3[inf_cols].isna().sum()"
      ],
      "metadata": {
        "id": "6WkHf_oMduSr"
      },
      "execution_count": null,
      "outputs": []
    },
    {
      "cell_type": "code",
      "source": [
        "df3[inf_cols] = df3[inf_cols].fillna(0)"
      ],
      "metadata": {
        "id": "CK1OVUQ4eVnh"
      },
      "execution_count": null,
      "outputs": []
    },
    {
      "cell_type": "code",
      "source": [
        "# View again\n",
        "inf_cols = [\"cpu_util_prev\", \"cpu_util_diff\", \"memory_util_prev\", \"memory_util_diff\"]\n",
        "df3[inf_cols].isna().sum()"
      ],
      "metadata": {
        "id": "1U_Ted25er9C"
      },
      "execution_count": null,
      "outputs": []
    },
    {
      "cell_type": "code",
      "source": [
        "df5 = df2[core_utilization_features + lag_diff_features + rolling_features + time_features + static_features + timestamp_features].copy()\n",
        "print(df5.isna().sum().sort_values(ascending=False))"
      ],
      "metadata": {
        "id": "1X74XxX_fGJF"
      },
      "execution_count": null,
      "outputs": []
    },
    {
      "cell_type": "code",
      "source": [
        "import numpy as np\n",
        "\n",
        "# Check for NaNs, Infs, and duplicates\n",
        "print(\"🧼 Final Data Validation Summary:\")\n",
        "print(\"-\" * 40)\n",
        "print(f\"🚫 NaNs present: {df3.isna().sum().sum()}\")  # Total NaNs\n",
        "print(f\"♾️ Infs present: {np.isinf(df3.select_dtypes(include=[np.number])).sum().sum()}\")  # Total Infs\n",
        "print(f\"🌀 Duplicate rows: {df3.duplicated().sum()}\")\n",
        "print(f\"✅ Final shape: {df3.shape}\")"
      ],
      "metadata": {
        "id": "f41BLJgnfpbY"
      },
      "execution_count": null,
      "outputs": []
    },
    {
      "cell_type": "code",
      "source": [
        "vm_lengths = df3.groupby(\"VM\").size()"
      ],
      "metadata": {
        "id": "jJ6_F2U6hEpu"
      },
      "execution_count": null,
      "outputs": []
    },
    {
      "cell_type": "code",
      "source": [
        "vm_lengths"
      ],
      "metadata": {
        "id": "78b3N8WvhGLs"
      },
      "execution_count": null,
      "outputs": []
    },
    {
      "cell_type": "code",
      "source": [
        "vm_stats = df3.groupby(\"VM\").agg(\n",
        "    total_rows = (\"timestamp\", \"count\"),\n",
        "    cpu_mean = (\"cpu_utilization_ratio\", \"mean\"),\n",
        "    cpu_std = (\"cpu_utilization_ratio\", \"std\"),\n",
        "    mem_mean = (\"memory_utilization_ratio\", \"mean\"),\n",
        "    mem_std = (\"memory_utilization_ratio\", \"std\"),\n",
        "    nan_ratio = (lambda x: x.isna().mean())  # or compute for key cols separately\n",
        ")"
      ],
      "metadata": {
        "id": "ashRVy7Si1BD"
      },
      "execution_count": null,
      "outputs": []
    },
    {
      "cell_type": "code",
      "source": [
        "asdfasdf"
      ],
      "metadata": {
        "id": "levZjixrjLmf"
      },
      "execution_count": null,
      "outputs": []
    },
    {
      "cell_type": "code",
      "source": [
        "min_len = 60  # example 48 + 12\n",
        "valid_vms = vm_stats[vm_stats[\"total_rows\"] >= min_len]"
      ],
      "metadata": {
        "id": "rTVhIV_8i_0D"
      },
      "execution_count": null,
      "outputs": []
    },
    {
      "cell_type": "code",
      "source": [
        "# Correlation matrix b/w targets"
      ],
      "metadata": {
        "id": "4GbWYCTnof6j"
      },
      "execution_count": null,
      "outputs": []
    },
    {
      "cell_type": "code",
      "source": [
        "# Define targets\n",
        "target_cols = [\n",
        "    'cpu_utilization_ratio',\n",
        "    'memory_utilization_ratio',\n",
        "    'disk_total_throughput',\n",
        "    'network_total_throughput'\n",
        "]\n",
        "\n",
        "# Compute correlation matrix\n",
        "corr_matrix = df2[target_cols].corr()\n",
        "\n",
        "print(corr_matrix)\n",
        "\n",
        "# Set up the plot\n",
        "plt.figure(figsize=(8, 6))\n",
        "sns.heatmap(corr_matrix, annot=True, cmap='coolwarm', fmt=\".2f\", linewidths=0.5)\n",
        "\n",
        "# Title and layout\n",
        "plt.title(\"🔗 Correlation Matrix of Resource Utilization Metrics\", fontsize=14, weight='bold')\n",
        "plt.tight_layout()\n",
        "plt.show()"
      ],
      "metadata": {
        "id": "HjLW_dtpoWID"
      },
      "execution_count": null,
      "outputs": []
    },
    {
      "cell_type": "code",
      "execution_count": null,
      "metadata": {
        "id": "__F3rEvRGvR8"
      },
      "outputs": [],
      "source": [
        "print(df2.columns.tolist())"
      ]
    },
    {
      "cell_type": "markdown",
      "metadata": {
        "id": "KXdyrZQtGvR8"
      },
      "source": [
        "#### Save the cleaned DataFrame to a Parquet file"
      ]
    },
    {
      "cell_type": "code",
      "execution_count": null,
      "metadata": {
        "id": "qwXdkuJGGvR8"
      },
      "outputs": [],
      "source": [
        "# df2.to_parquet(\"/home/data/processed/FeatureEng.parquet\", index=False)\n",
        "# df2.to_parquet(\"/content/drive/MyDrive/datasets/processed/FeatureEngcolab.parquet\", index=False)\n",
        "\n",
        "# Define save path\n",
        "save_path = \"/content/drive/MyDrive/datasets/processed/FeatureEngcolab\"\n",
        "\n",
        "# Step 1: Clean old folders\n",
        "shutil.rmtree(save_path, ignore_errors=True)\n",
        "\n",
        "# Step 2: Re-save from your cleaned df2\n",
        "df2.to_parquet(save_path, partition_cols=[\"VM\"], index=False)\n",
        "\n",
        "print(\"✅ Clean overwrite done.\")"
      ]
    },
    {
      "cell_type": "code",
      "source": [],
      "metadata": {
        "id": "4e9IRvwJRCE1"
      },
      "execution_count": null,
      "outputs": []
    }
  ],
  "metadata": {
    "kernelspec": {
      "display_name": "Python 3",
      "name": "python3"
    },
    "language_info": {
      "codemirror_mode": {
        "name": "ipython",
        "version": 3
      },
      "file_extension": ".py",
      "mimetype": "text/x-python",
      "name": "python",
      "nbconvert_exporter": "python",
      "pygments_lexer": "ipython3",
      "version": "3.8.12"
    },
    "vscode": {
      "interpreter": {
        "hash": "2133a3972b28273c10fa027bbde5fb58efc69f3a1cd517826cf4b1affadfce4e"
      }
    },
    "colab": {
      "provenance": [],
      "gpuType": "V28"
    },
    "accelerator": "TPU"
  },
  "nbformat": 4,
  "nbformat_minor": 0
}