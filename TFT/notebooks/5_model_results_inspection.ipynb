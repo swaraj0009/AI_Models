{
  "nbformat": 4,
  "nbformat_minor": 0,
  "metadata": {
    "colab": {
      "provenance": [],
      "authorship_tag": "ABX9TyOAIQWq62aP1pEytHS/NhxR",
      "include_colab_link": true
    },
    "kernelspec": {
      "name": "python3",
      "display_name": "Python 3"
    },
    "language_info": {
      "name": "python"
    }
  },
  "cells": [
    {
      "cell_type": "markdown",
      "metadata": {
        "id": "view-in-github",
        "colab_type": "text"
      },
      "source": [
        "<a href=\"https://colab.research.google.com/github/swaraj0009/AI_Models/blob/master/TFT/notebooks/5_model_results_inspection.ipynb\" target=\"_parent\"><img src=\"https://colab.research.google.com/assets/colab-badge.svg\" alt=\"Open In Colab\"/></a>"
      ]
    },
    {
      "cell_type": "code",
      "execution_count": 1,
      "metadata": {
        "colab": {
          "base_uri": "https://localhost:8080/"
        },
        "id": "kzSTkJv2lfOP",
        "outputId": "63f4aec1-2eba-4bfe-d060-968d4cfd05ab"
      },
      "outputs": [
        {
          "output_type": "stream",
          "name": "stdout",
          "text": [
            "Mounted at /content/drive\n"
          ]
        }
      ],
      "source": [
        "from google.colab import drive\n",
        "drive.mount('/content/drive')"
      ]
    },
    {
      "cell_type": "code",
      "source": [
        "# ⚡ Quick Setup - Run after runtime reset (CPU/GPU Switch)\n",
        "# Installs essential packages silently to save output clutter\n",
        "\n",
        "!pip install dask pytz torch pytorch-forecasting pytorch-lightning \\\n",
        "    rich colorama matplotlib seaborn pandas numpy tensorboard \\\n",
        "    'lightning[extra]' pyarrow fastparquet --quiet\n",
        "\n",
        "print(\"\\033[92m✅ All required packages installed successfully.\\033[0m\")\n",
        "\n",
        "# # Lightweight Install for Reporting Notebook\n",
        "# !pip install pandas matplotlib seaborn pyarrow fastparquet rich colorama \\\n",
        "#   pytorch-forecasting pytorch-lightning --quiet\n",
        "\n",
        "# print(\"\\033[92m✅ Reporting dependencies installed successfully.\\033[0m\")"
      ],
      "metadata": {
        "id": "yum0NVQKsB-j",
        "outputId": "96fdda1b-fa92-49b8-a1da-f5daa8e97c36",
        "colab": {
          "base_uri": "https://localhost:8080/"
        }
      },
      "execution_count": null,
      "outputs": [
        {
          "output_type": "stream",
          "name": "stdout",
          "text": [
            "\u001b[2K   \u001b[90m━━━━━━━━━━━━━━━━━━━━━━━━━━━━━━━━━━━━━━━━\u001b[0m \u001b[32m363.4/363.4 MB\u001b[0m \u001b[31m1.5 MB/s\u001b[0m eta \u001b[36m0:00:00\u001b[0m\n",
            "\u001b[2K   \u001b[90m━━━━━━━━━━━━━━━━━━━━━━━━━━━━━━━━━━━━━━━━\u001b[0m \u001b[32m13.8/13.8 MB\u001b[0m \u001b[31m81.0 MB/s\u001b[0m eta \u001b[36m0:00:00\u001b[0m\n",
            "\u001b[2K   \u001b[90m━━━━━━━━━━━━━━━━━━━━━━━━━━━━━━━━━━━━━━━━\u001b[0m \u001b[32m24.6/24.6 MB\u001b[0m \u001b[31m62.6 MB/s\u001b[0m eta \u001b[36m0:00:00\u001b[0m\n",
            "\u001b[2K   \u001b[90m━━━━━━━━━━━━━━━━━━━━━━━━━━━━━━━━━━━━━━━━\u001b[0m \u001b[32m883.7/883.7 kB\u001b[0m \u001b[31m39.3 MB/s\u001b[0m eta \u001b[36m0:00:00\u001b[0m\n",
            "\u001b[2K   \u001b[90m━━━━━━━━━━━━━━━━━━━━━━━━━━━━━━━━━━━━━━━━\u001b[0m \u001b[32m664.8/664.8 MB\u001b[0m \u001b[31m1.2 MB/s\u001b[0m eta \u001b[36m0:00:00\u001b[0m\n",
            "\u001b[2K   \u001b[90m━━━━━━━━━━━━━━━━━━━━━━━━━━━━━━━━━━━━━━━━\u001b[0m \u001b[32m211.5/211.5 MB\u001b[0m \u001b[31m4.1 MB/s\u001b[0m eta \u001b[36m0:00:00\u001b[0m\n",
            "\u001b[2K   \u001b[90m━━━━━━━━━━━━━━━━━━━━━━━━━━━━━━━━━━━━━━━━\u001b[0m \u001b[32m56.3/56.3 MB\u001b[0m \u001b[31m9.9 MB/s\u001b[0m eta \u001b[36m0:00:00\u001b[0m\n",
            "\u001b[2K   \u001b[90m━━━━━━━━━━━━━━━━━━━━━━━━━━━━━━━━━━━━━━━━\u001b[0m \u001b[32m127.9/127.9 MB\u001b[0m \u001b[31m5.1 MB/s\u001b[0m eta \u001b[36m0:00:00\u001b[0m\n",
            "\u001b[2K   \u001b[90m━━━━━━━━━━━━━━━━━━━━━━━━━━━━━━━━━━━━━━━━\u001b[0m \u001b[32m207.5/207.5 MB\u001b[0m \u001b[31m4.6 MB/s\u001b[0m eta \u001b[36m0:00:00\u001b[0m\n",
            "\u001b[2K   \u001b[90m━━━━━━━━━━━━━━━━━━━━━━━━━━━━━━━━━━━━━━━━\u001b[0m \u001b[32m21.1/21.1 MB\u001b[0m \u001b[31m43.9 MB/s\u001b[0m eta \u001b[36m0:00:00\u001b[0m\n",
            "\u001b[2K   \u001b[90m━━━━━━━━━━━━━━━━━━━━━━━━━━━━━━━━━━━━━━━━\u001b[0m \u001b[32m260.9/260.9 kB\u001b[0m \u001b[31m15.4 MB/s\u001b[0m eta \u001b[36m0:00:00\u001b[0m\n",
            "\u001b[2K   \u001b[90m━━━━━━━━━━━━━━━━━━━━━━━━━━━━━━━━━━━━━━━━\u001b[0m \u001b[32m825.4/825.4 kB\u001b[0m \u001b[31m31.3 MB/s\u001b[0m eta \u001b[36m0:00:00\u001b[0m\n",
            "\u001b[2K   \u001b[90m━━━━━━━━━━━━━━━━━━━━━━━━━━━━━━━━━━━━━━━━\u001b[0m \u001b[32m1.8/1.8 MB\u001b[0m \u001b[31m43.7 MB/s\u001b[0m eta \u001b[36m0:00:00\u001b[0m\n",
            "\u001b[2K   \u001b[90m━━━━━━━━━━━━━━━━━━━━━━━━━━━━━━━━━━━━━━━━\u001b[0m \u001b[32m72.9/72.9 MB\u001b[0m \u001b[31m8.9 MB/s\u001b[0m eta \u001b[36m0:00:00\u001b[0m\n",
            "\u001b[2K   \u001b[90m━━━━━━━━━━━━━━━━━━━━━━━━━━━━━━━━━━━━━━━━\u001b[0m \u001b[32m154.5/154.5 kB\u001b[0m \u001b[31m10.0 MB/s\u001b[0m eta \u001b[36m0:00:00\u001b[0m\n",
            "\u001b[2K   \u001b[90m━━━━━━━━━━━━━━━━━━━━━━━━━━━━━━━━━━━━━━━━\u001b[0m \u001b[32m224.3/224.3 kB\u001b[0m \u001b[31m13.6 MB/s\u001b[0m eta \u001b[36m0:00:00\u001b[0m\n",
            "\u001b[2K   \u001b[90m━━━━━━━━━━━━━━━━━━━━━━━━━━━━━━━━━━━━━━━━\u001b[0m \u001b[32m821.1/821.1 kB\u001b[0m \u001b[31m28.9 MB/s\u001b[0m eta \u001b[36m0:00:00\u001b[0m\n",
            "\u001b[2K   \u001b[90m━━━━━━━━━━━━━━━━━━━━━━━━━━━━━━━━━━━━━━━━\u001b[0m \u001b[32m87.2/87.2 kB\u001b[0m \u001b[31m2.2 MB/s\u001b[0m eta \u001b[36m0:00:00\u001b[0m\n",
            "\u001b[2K   \u001b[90m━━━━━━━━━━━━━━━━━━━━━━━━━━━━━━━━━━━━━━━━\u001b[0m \u001b[32m962.6/962.6 kB\u001b[0m \u001b[31m28.6 MB/s\u001b[0m eta \u001b[36m0:00:00\u001b[0m\n",
            "\u001b[2K   \u001b[90m━━━━━━━━━━━━━━━━━━━━━━━━━━━━━━━━━━━━━━━━\u001b[0m \u001b[32m6.5/6.5 MB\u001b[0m \u001b[31m37.9 MB/s\u001b[0m eta \u001b[36m0:00:00\u001b[0m\n",
            "\u001b[2K   \u001b[90m━━━━━━━━━━━━━━━━━━━━━━━━━━━━━━━━━━━━━━━━\u001b[0m \u001b[32m624.4/624.4 kB\u001b[0m \u001b[31m16.7 MB/s\u001b[0m eta \u001b[36m0:00:00\u001b[0m\n",
            "\u001b[?25h\u001b[92m✅ All required packages installed successfully.\u001b[0m\n"
          ]
        }
      ]
    },
    {
      "cell_type": "markdown",
      "source": [
        "## Setup paths and imports"
      ],
      "metadata": {
        "id": "ZRRsBAlGmvBS"
      }
    },
    {
      "cell_type": "code",
      "source": [
        "# Standard Library\n",
        "import os\n",
        "import datetime\n",
        "import glob\n",
        "import json\n",
        "import shutil\n",
        "import math\n",
        "import pytz\n",
        "from concurrent.futures import ThreadPoolExecutor\n",
        "from pathlib import Path\n",
        "\n",
        "# Third-Party Libraries\n",
        "import numpy as np\n",
        "import pandas as pd\n",
        "import dask.dataframe as dd\n",
        "import matplotlib.pyplot as plt\n",
        "import seaborn as sns\n",
        "\n",
        "import torch\n",
        "\n",
        "# PyTorch Lightning\n",
        "# from datetime import datetime\n",
        "from pytorch_lightning import Trainer\n",
        "from pytorch_lightning.loggers import CSVLogger\n",
        "from pytorch_lightning.callbacks import ModelCheckpoint\n",
        "\n",
        "# PyTorch Forecasting\n",
        "from pytorch_forecasting import TimeSeriesDataSet, TemporalFusionTransformer\n",
        "from pytorch_forecasting.data import GroupNormalizer\n",
        "from pytorch_forecasting.metrics import RMSE\n",
        "\n",
        "ist = pytz.timezone('Asia/Kolkata')\n",
        "now_ist = datetime.datetime.now(ist)\n",
        "timestamp = now_ist.strftime(\"%Y%m%d-%H%M%S\")\n",
        "print(f\"All Libraries are loaded : {timestamp}\")"
      ],
      "metadata": {
        "id": "_ZtoFWKAlrZA",
        "colab": {
          "base_uri": "https://localhost:8080/"
        },
        "outputId": "e2206e4c-de87-49a5-85c7-26c8c5a659fd"
      },
      "execution_count": null,
      "outputs": [
        {
          "output_type": "stream",
          "name": "stdout",
          "text": [
            "All Libraries are loaded : 20250703-200851\n"
          ]
        }
      ]
    },
    {
      "cell_type": "markdown",
      "source": [
        "## Input the folder to visualise"
      ],
      "metadata": {
        "id": "6WGualIIqqQ9"
      }
    },
    {
      "cell_type": "code",
      "source": [
        "from pathlib import Path\n",
        "\n",
        "output_base_dir = Path(\"/content/drive/MyDrive/output\")\n",
        "log_dir = Path(\"/content/drive/MyDrive/output/logs\")\n",
        "\n",
        "relative_output_path = \"/content/drive/MyDrive/output/cpu_30VMs_past40_fut12_bs32_lr1e-02_hid10_20250703-163744/cpu_utilization_ratio_run_20250703-163744\"\n",
        "relative_log_path = \"/content/drive/MyDrive/output/logs/cpu_30VMs_past40_fut12_bs32_lr1e-02_hid10_20250703-163744/cpu_utilization_ratio_log/version_0\"\n",
        "\n",
        "output_path = output_base_dir / relative_output_path\n",
        "log_path = output_base_dir / relative_log_path\n",
        "\n",
        "# print(\"full_output_path:\", full_output_path, \"\\nfull_log_path:\", full_log_path)"
      ],
      "metadata": {
        "id": "Wk5xIbYRqnxE"
      },
      "execution_count": null,
      "outputs": []
    },
    {
      "cell_type": "markdown",
      "source": [
        "## Load and plot training metrics"
      ],
      "metadata": {
        "id": "9L336ks8m1So"
      }
    },
    {
      "cell_type": "code",
      "source": [
        "metrics = pd.read_csv(os.path.join(log_path, \"metrics.csv\"))\n",
        "print(metrics.head())\n",
        "\n",
        "plt.figure(figsize=(10,6))\n",
        "plt.plot(metrics['epoch'], metrics['train_loss'], label='Train Loss')\n",
        "plt.plot(metrics['epoch'], metrics['val_loss'], label='Validation Loss')\n",
        "plt.xlabel('Epoch')\n",
        "plt.ylabel('Loss')\n",
        "plt.title('Train & Validation Loss')\n",
        "plt.legend()\n",
        "plt.grid(True)\n",
        "plt.show()"
      ],
      "metadata": {
        "colab": {
          "base_uri": "https://localhost:8080/",
          "height": 635
        },
        "id": "X6o1J0b0m2c-",
        "outputId": "014cf305-c9ca-416c-ed7a-049ec7a566c2"
      },
      "execution_count": null,
      "outputs": [
        {
          "output_type": "stream",
          "name": "stdout",
          "text": [
            "   epoch  step  train_loss  val_loss\n",
            "0      0    49    0.018815       NaN\n",
            "1      0    99    0.017252       NaN\n",
            "2      0   149    0.021150       NaN\n",
            "3      0   199    0.013888       NaN\n",
            "4      0   249    0.014233       NaN\n"
          ]
        },
        {
          "output_type": "display_data",
          "data": {
            "text/plain": [
              "<Figure size 1000x600 with 1 Axes>"
            ],
            "image/png": "[encoded data removed]"
          },
          "metadata": {}
        }
      ]
    },
    {
      "cell_type": "markdown",
      "source": [
        "## Load cleaned data snapshot and inspect"
      ],
      "metadata": {
        "id": "hWH4cDPbm8uq"
      }
    },
    {
      "cell_type": "code",
      "source": [
        "df = pd.read_csv(os.path.join(output_path, \"tft_df.csv\"))\n",
        "print(df.describe())\n",
        "print(df.head())\n",
        "\n",
        "plt.figure(figsize=(8,4))\n",
        "sns.histplot(df['cpu_utilization_ratio'], bins=50, kde=True)\n",
        "plt.title(\"CPU Utilization Distribution\")\n",
        "plt.show()"
      ],
      "metadata": {
        "colab": {
          "base_uri": "https://localhost:8080/",
          "height": 1000
        },
        "id": "M_VMwB9pm-Rn",
        "outputId": "4137d63d-d302-4077-d223-f4443896a558"
      },
      "execution_count": null,
      "outputs": [
        {
          "output_type": "stream",
          "name": "stdout",
          "text": [
            "       Timestamp [s]      CPU cores  CPU capacity provisioned [MHZ]  \\\n",
            "count   2.295360e+05  229536.000000                   229536.000000   \n",
            "mean    1.377613e+09       1.859495                     4896.067651   \n",
            "std     7.535814e+05       1.618380                     3855.458807   \n",
            "min     1.376315e+09       1.000000                     2399.999643   \n",
            "25%     1.376952e+09       1.000000                     2925.999291   \n",
            "50%     1.377625e+09       1.000000                     2925.999560   \n",
            "75%     1.378269e+09       2.000000                     5199.998608   \n",
            "max     1.378907e+09       8.000000                    19199.997144   \n",
            "\n",
            "       CPU usage [MHZ]  CPU usage [%]  Memory capacity provisioned [KB]  \\\n",
            "count    229536.000000  229536.000000                      2.295360e+05   \n",
            "mean        269.958052       2.297196                      5.062828e+06   \n",
            "std         861.764834       6.420805                      1.288979e+07   \n",
            "min           0.000000       0.000000                      3.694800e+04   \n",
            "25%           0.000000       0.000000                      1.680160e+05   \n",
            "50%           5.199999       0.166667                      2.611320e+05   \n",
            "75%          50.717326       1.000000                      4.206592e+06   \n",
            "max       11454.312944     105.333333                      6.710886e+07   \n",
            "\n",
            "       Memory usage [KB]  Disk read throughput [KB/s]  \\\n",
            "count       2.295360e+05                229536.000000   \n",
            "mean        2.874943e+05                     1.294082   \n",
            "std         7.198476e+05                    47.722818   \n",
            "min         0.000000e+00                     0.000000   \n",
            "25%         2.027040e+04                     0.000000   \n",
            "50%         4.351360e+04                     0.000000   \n",
            "75%         1.342176e+05                     0.000000   \n",
            "max         3.632826e+07                  8544.733333   \n",
            "\n",
            "       Disk write throughput [KB/s]  Network received throughput [KB/s]  ...  \\\n",
            "count                 229536.000000                       229536.000000  ...   \n",
            "mean                      24.849691                          114.450149  ...   \n",
            "std                      496.535262                          507.668066  ...   \n",
            "min                        0.000000                            0.000000  ...   \n",
            "25%                        0.000000                            0.000000  ...   \n",
            "50%                        0.533333                            0.000000  ...   \n",
            "75%                        1.333333                            0.333333  ...   \n",
            "max                    56630.600000                        27891.733333  ...   \n",
            "\n",
            "       disk_read_diff  disk_write_prev  disk_write_diff  \\\n",
            "count   229509.000000    229509.000000    229509.000000   \n",
            "mean         0.006828        24.852057        -0.069213   \n",
            "std         50.092170       496.564401       252.212515   \n",
            "min      -6779.133333         0.000000    -35220.066667   \n",
            "25%          0.000000         0.000000        -0.133333   \n",
            "50%          0.000000         0.533333         0.000000   \n",
            "75%          0.000000         1.333333         0.066667   \n",
            "max       7126.466667     56630.600000     38480.800000   \n",
            "\n",
            "       network_received_prev  network_received_diff  network_transmitted_prev  \\\n",
            "count          229509.000000          229509.000000             229509.000000   \n",
            "mean              114.369154               0.082234                  5.229978   \n",
            "std               506.159010             161.069395                 33.285763   \n",
            "min                 0.000000          -20786.333333                  0.000000   \n",
            "25%                 0.000000               0.000000                  0.000000   \n",
            "50%                 0.000000               0.000000                  0.000000   \n",
            "75%                 0.333333               0.000000                  1.000000   \n",
            "max             27891.733333           22835.133333               4387.666667   \n",
            "\n",
            "       network_transmitted_diff  network_total_prev  network_total_diff  \\\n",
            "count             229509.000000       229509.000000       229509.000000   \n",
            "mean                   0.002094          119.599132            0.084328   \n",
            "std                   25.032296          517.710029          165.405662   \n",
            "min                -2775.533333            0.000000       -20784.533333   \n",
            "25%                    0.000000            0.000000            0.000000   \n",
            "50%                    0.000000            0.000000            0.000000   \n",
            "75%                    0.000000            1.000000            0.000000   \n",
            "max                 2409.000000        28402.200000        22834.933333   \n",
            "\n",
            "               vm_id  \n",
            "count  229536.000000  \n",
            "mean      915.403627  \n",
            "std       288.161383  \n",
            "min         1.000000  \n",
            "25%      1005.000000  \n",
            "50%      1011.000000  \n",
            "75%      1018.000000  \n",
            "max      1024.000000  \n",
            "\n",
            "[8 rows x 47 columns]\n",
            "   Timestamp [s]  CPU cores  CPU capacity provisioned [MHZ]  CPU usage [MHZ]  \\\n",
            "0     1376314846          4                     11703.99824     10912.027692   \n",
            "1     1376315146          4                     11703.99824     10890.570362   \n",
            "2     1376315446          4                     11703.99824     10434.114431   \n",
            "3     1376315746          4                     11703.99824     10539.450415   \n",
            "4     1376316046          4                     11703.99824     10951.041020   \n",
            "\n",
            "   CPU usage [%]  Memory capacity provisioned [KB]  Memory usage [KB]  \\\n",
            "0      93.233333                        67108864.0       6.129274e+06   \n",
            "1      93.050000                        67108864.0       6.755624e+06   \n",
            "2      89.150000                        67108864.0       8.947846e+06   \n",
            "3      90.050000                        67108864.0       1.879048e+07   \n",
            "4      93.566667                        67108864.0       9.305761e+06   \n",
            "\n",
            "   Disk read throughput [KB/s]  Disk write throughput [KB/s]  \\\n",
            "0                     0.133333                  15981.600000   \n",
            "1                     1.333333                  19137.333333   \n",
            "2                     2.533333                  19974.933333   \n",
            "3                     5.466667                   8791.800000   \n",
            "4                     5.400000                  15679.533333   \n",
            "\n",
            "   Network received throughput [KB/s]  ...  disk_read_diff disk_write_prev  \\\n",
            "0                            0.000000  ...             NaN             NaN   \n",
            "1                            0.000000  ...        1.200000    15981.600000   \n",
            "2                          535.666667  ...        1.200000    19137.333333   \n",
            "3                          349.666667  ...        2.933333    19974.933333   \n",
            "4                            0.000000  ...       -0.066667     8791.800000   \n",
            "\n",
            "   disk_write_diff network_received_prev  network_received_diff  \\\n",
            "0              NaN                   NaN                    NaN   \n",
            "1      3155.733333              0.000000               0.000000   \n",
            "2       837.600000              0.000000             535.666667   \n",
            "3    -11183.133333            535.666667            -186.000000   \n",
            "4      6887.733333            349.666667            -349.666667   \n",
            "\n",
            "   network_transmitted_prev  network_transmitted_diff  network_total_prev  \\\n",
            "0                       NaN                       NaN                 NaN   \n",
            "1                  2.133333                  0.466667            2.133333   \n",
            "2                  2.600000                 21.333333            2.600000   \n",
            "3                 23.933333                -18.466667          559.600000   \n",
            "4                  5.466667                 -3.400000          355.133333   \n",
            "\n",
            "   network_total_diff  vm_id  \n",
            "0                 NaN      1  \n",
            "1            0.466667      1  \n",
            "2          557.000000      1  \n",
            "3         -204.466667      1  \n",
            "4         -353.066667      1  \n",
            "\n",
            "[5 rows x 50 columns]\n"
          ]
        },
        {
          "output_type": "display_data",
          "data": {
            "text/plain": [
              "<Figure size 800x400 with 1 Axes>"
            ],
            "image/png": "[encoded data removed]"
          },
          "metadata": {}
        }
      ]
    },
    {
      "cell_type": "markdown",
      "source": [
        "## Load saved dataset for inference consistency"
      ],
      "metadata": {
        "id": "SkMB5Bs1nC7B"
      }
    },
    {
      "cell_type": "code",
      "source": [
        "dataset = TimeSeriesDataSet.load(os.path.join(output_path, \"tft_df\"))\n",
        "print(dataset)"
      ],
      "metadata": {
        "colab": {
          "base_uri": "https://localhost:8080/",
          "height": 339
        },
        "id": "bqPIvKnjnE1R",
        "outputId": "30e82c24-016e-4693-e942-53ef67aea3f1"
      },
      "execution_count": null,
      "outputs": [
        {
          "output_type": "error",
          "ename": "FileNotFoundError",
          "evalue": "[Errno 2] No such file or directory: '/content/drive/MyDrive/output/cpu_30VMs_past40_fut12_bs32_lr1e-02_hid10_20250703-163744/cpu_utilization_ratio_run_20250703-163744/tft_df'",
          "traceback": [
            "\u001b[0;31m---------------------------------------------------------------------------\u001b[0m",
            "\u001b[0;31mFileNotFoundError\u001b[0m                         Traceback (most recent call last)",
            "\u001b[0;32m/tmp/ipython-input-13-3683862333.py\u001b[0m in \u001b[0;36m<cell line: 0>\u001b[0;34m()\u001b[0m\n\u001b[0;32m----> 1\u001b[0;31m \u001b[0mdataset\u001b[0m \u001b[0;34m=\u001b[0m \u001b[0mTimeSeriesDataSet\u001b[0m\u001b[0;34m.\u001b[0m\u001b[0mload\u001b[0m\u001b[0;34m(\u001b[0m\u001b[0mos\u001b[0m\u001b[0;34m.\u001b[0m\u001b[0mpath\u001b[0m\u001b[0;34m.\u001b[0m\u001b[0mjoin\u001b[0m\u001b[0;34m(\u001b[0m\u001b[0moutput_path\u001b[0m\u001b[0;34m,\u001b[0m \u001b[0;34m\"tft_df\"\u001b[0m\u001b[0;34m)\u001b[0m\u001b[0;34m)\u001b[0m\u001b[0;34m\u001b[0m\u001b[0;34m\u001b[0m\u001b[0m\n\u001b[0m\u001b[1;32m      2\u001b[0m \u001b[0mprint\u001b[0m\u001b[0;34m(\u001b[0m\u001b[0mdataset\u001b[0m\u001b[0;34m)\u001b[0m\u001b[0;34m\u001b[0m\u001b[0;34m\u001b[0m\u001b[0m\n",
            "\u001b[0;32m/usr/local/lib/python3.11/dist-packages/pytorch_forecasting/data/timeseries/_timeseries.py\u001b[0m in \u001b[0;36mload\u001b[0;34m(cls, fname)\u001b[0m\n\u001b[1;32m   1067\u001b[0m             \u001b[0mTimeSeriesDataSet\u001b[0m\u001b[0;34m\u001b[0m\u001b[0;34m\u001b[0m\u001b[0m\n\u001b[1;32m   1068\u001b[0m         \"\"\"\n\u001b[0;32m-> 1069\u001b[0;31m         \u001b[0mobj\u001b[0m \u001b[0;34m=\u001b[0m \u001b[0mtorch\u001b[0m\u001b[0;34m.\u001b[0m\u001b[0mload\u001b[0m\u001b[0;34m(\u001b[0m\u001b[0mfname\u001b[0m\u001b[0;34m)\u001b[0m\u001b[0;34m\u001b[0m\u001b[0;34m\u001b[0m\u001b[0m\n\u001b[0m\u001b[1;32m   1070\u001b[0m         \u001b[0;32massert\u001b[0m \u001b[0misinstance\u001b[0m\u001b[0;34m(\u001b[0m\u001b[0mobj\u001b[0m\u001b[0;34m,\u001b[0m \u001b[0mcls\u001b[0m\u001b[0;34m)\u001b[0m\u001b[0;34m,\u001b[0m \u001b[0;34mf\"Loaded file is not of class {cls}\"\u001b[0m\u001b[0;34m\u001b[0m\u001b[0;34m\u001b[0m\u001b[0m\n\u001b[1;32m   1071\u001b[0m         \u001b[0;32mreturn\u001b[0m \u001b[0mobj\u001b[0m\u001b[0;34m\u001b[0m\u001b[0;34m\u001b[0m\u001b[0m\n",
            "\u001b[0;32m/usr/local/lib/python3.11/dist-packages/torch/serialization.py\u001b[0m in \u001b[0;36mload\u001b[0;34m(f, map_location, pickle_module, weights_only, mmap, **pickle_load_args)\u001b[0m\n\u001b[1;32m   1423\u001b[0m         \u001b[0mpickle_load_args\u001b[0m\u001b[0;34m[\u001b[0m\u001b[0;34m\"encoding\"\u001b[0m\u001b[0;34m]\u001b[0m \u001b[0;34m=\u001b[0m \u001b[0;34m\"utf-8\"\u001b[0m\u001b[0;34m\u001b[0m\u001b[0;34m\u001b[0m\u001b[0m\n\u001b[1;32m   1424\u001b[0m \u001b[0;34m\u001b[0m\u001b[0m\n\u001b[0;32m-> 1425\u001b[0;31m     \u001b[0;32mwith\u001b[0m \u001b[0m_open_file_like\u001b[0m\u001b[0;34m(\u001b[0m\u001b[0mf\u001b[0m\u001b[0;34m,\u001b[0m \u001b[0;34m\"rb\"\u001b[0m\u001b[0;34m)\u001b[0m \u001b[0;32mas\u001b[0m \u001b[0mopened_file\u001b[0m\u001b[0;34m:\u001b[0m\u001b[0;34m\u001b[0m\u001b[0;34m\u001b[0m\u001b[0m\n\u001b[0m\u001b[1;32m   1426\u001b[0m         \u001b[0;32mif\u001b[0m \u001b[0m_is_zipfile\u001b[0m\u001b[0;34m(\u001b[0m\u001b[0mopened_file\u001b[0m\u001b[0;34m)\u001b[0m\u001b[0;34m:\u001b[0m\u001b[0;34m\u001b[0m\u001b[0;34m\u001b[0m\u001b[0m\n\u001b[1;32m   1427\u001b[0m             \u001b[0;31m# The zipfile reader is going to advance the current file position.\u001b[0m\u001b[0;34m\u001b[0m\u001b[0;34m\u001b[0m\u001b[0m\n",
            "\u001b[0;32m/usr/local/lib/python3.11/dist-packages/torch/serialization.py\u001b[0m in \u001b[0;36m_open_file_like\u001b[0;34m(name_or_buffer, mode)\u001b[0m\n\u001b[1;32m    749\u001b[0m \u001b[0;32mdef\u001b[0m \u001b[0m_open_file_like\u001b[0m\u001b[0;34m(\u001b[0m\u001b[0mname_or_buffer\u001b[0m\u001b[0;34m,\u001b[0m \u001b[0mmode\u001b[0m\u001b[0;34m)\u001b[0m\u001b[0;34m:\u001b[0m\u001b[0;34m\u001b[0m\u001b[0;34m\u001b[0m\u001b[0m\n\u001b[1;32m    750\u001b[0m     \u001b[0;32mif\u001b[0m \u001b[0m_is_path\u001b[0m\u001b[0;34m(\u001b[0m\u001b[0mname_or_buffer\u001b[0m\u001b[0;34m)\u001b[0m\u001b[0;34m:\u001b[0m\u001b[0;34m\u001b[0m\u001b[0;34m\u001b[0m\u001b[0m\n\u001b[0;32m--> 751\u001b[0;31m         \u001b[0;32mreturn\u001b[0m \u001b[0m_open_file\u001b[0m\u001b[0;34m(\u001b[0m\u001b[0mname_or_buffer\u001b[0m\u001b[0;34m,\u001b[0m \u001b[0mmode\u001b[0m\u001b[0;34m)\u001b[0m\u001b[0;34m\u001b[0m\u001b[0;34m\u001b[0m\u001b[0m\n\u001b[0m\u001b[1;32m    752\u001b[0m     \u001b[0;32melse\u001b[0m\u001b[0;34m:\u001b[0m\u001b[0;34m\u001b[0m\u001b[0;34m\u001b[0m\u001b[0m\n\u001b[1;32m    753\u001b[0m         \u001b[0;32mif\u001b[0m \u001b[0;34m\"w\"\u001b[0m \u001b[0;32min\u001b[0m \u001b[0mmode\u001b[0m\u001b[0;34m:\u001b[0m\u001b[0;34m\u001b[0m\u001b[0;34m\u001b[0m\u001b[0m\n",
            "\u001b[0;32m/usr/local/lib/python3.11/dist-packages/torch/serialization.py\u001b[0m in \u001b[0;36m__init__\u001b[0;34m(self, name, mode)\u001b[0m\n\u001b[1;32m    730\u001b[0m \u001b[0;32mclass\u001b[0m \u001b[0m_open_file\u001b[0m\u001b[0;34m(\u001b[0m\u001b[0m_opener\u001b[0m\u001b[0;34m)\u001b[0m\u001b[0;34m:\u001b[0m\u001b[0;34m\u001b[0m\u001b[0;34m\u001b[0m\u001b[0m\n\u001b[1;32m    731\u001b[0m     \u001b[0;32mdef\u001b[0m \u001b[0m__init__\u001b[0m\u001b[0;34m(\u001b[0m\u001b[0mself\u001b[0m\u001b[0;34m,\u001b[0m \u001b[0mname\u001b[0m\u001b[0;34m,\u001b[0m \u001b[0mmode\u001b[0m\u001b[0;34m)\u001b[0m\u001b[0;34m:\u001b[0m\u001b[0;34m\u001b[0m\u001b[0;34m\u001b[0m\u001b[0m\n\u001b[0;32m--> 732\u001b[0;31m         \u001b[0msuper\u001b[0m\u001b[0;34m(\u001b[0m\u001b[0;34m)\u001b[0m\u001b[0;34m.\u001b[0m\u001b[0m__init__\u001b[0m\u001b[0;34m(\u001b[0m\u001b[0mopen\u001b[0m\u001b[0;34m(\u001b[0m\u001b[0mname\u001b[0m\u001b[0;34m,\u001b[0m \u001b[0mmode\u001b[0m\u001b[0;34m)\u001b[0m\u001b[0;34m)\u001b[0m\u001b[0;34m\u001b[0m\u001b[0;34m\u001b[0m\u001b[0m\n\u001b[0m\u001b[1;32m    733\u001b[0m \u001b[0;34m\u001b[0m\u001b[0m\n\u001b[1;32m    734\u001b[0m     \u001b[0;32mdef\u001b[0m \u001b[0m__exit__\u001b[0m\u001b[0;34m(\u001b[0m\u001b[0mself\u001b[0m\u001b[0;34m,\u001b[0m \u001b[0;34m*\u001b[0m\u001b[0margs\u001b[0m\u001b[0;34m)\u001b[0m\u001b[0;34m:\u001b[0m\u001b[0;34m\u001b[0m\u001b[0;34m\u001b[0m\u001b[0m\n",
            "\u001b[0;31mFileNotFoundError\u001b[0m: [Errno 2] No such file or directory: '/content/drive/MyDrive/output/cpu_30VMs_past40_fut12_bs32_lr1e-02_hid10_20250703-163744/cpu_utilization_ratio_run_20250703-163744/tft_df'"
          ]
        }
      ]
    },
    {
      "cell_type": "markdown",
      "source": [
        "## Simple tuning suggestions based on metrics"
      ],
      "metadata": {
        "id": "P6e_B67KnHuD"
      }
    },
    {
      "cell_type": "code",
      "source": [
        "def analyze_metrics(metrics_df):\n",
        "    train_last = metrics_df['train_loss'].iloc[-1]\n",
        "    val_last = metrics_df['val_loss'].iloc[-1]\n",
        "    diff = val_last - train_last\n",
        "\n",
        "    print(f\"Last Train Loss: {train_last:.4f}\")\n",
        "    print(f\"Last Val Loss: {val_last:.4f}\")\n",
        "    print(f\"Difference (Val - Train): {diff:.4f}\")\n",
        "\n",
        "    if val_last > 0.5:\n",
        "        print(\"High validation loss → try increasing model size or training longer.\")\n",
        "    elif diff > 0.1:\n",
        "        print(\"Possible overfitting → try increasing dropout or early stopping patience.\")\n",
        "    elif train_last > 0.5:\n",
        "        print(\"High training loss → try reducing dropout or increasing hidden size.\")\n",
        "    else:\n",
        "        print(\"Training looks good. Consider lowering learning rate for fine tuning.\")\n",
        "\n",
        "analyze_metrics(metrics)"
      ],
      "metadata": {
        "colab": {
          "base_uri": "https://localhost:8080/"
        },
        "id": "otlG8PiunI8S",
        "outputId": "ffcab16b-4fb1-466d-c13b-6ff6d88767ea"
      },
      "execution_count": null,
      "outputs": [
        {
          "output_type": "stream",
          "name": "stdout",
          "text": [
            "Last Train Loss: nan\n",
            "Last Val Loss: 0.0960\n",
            "Difference (Val - Train): nan\n",
            "Training looks good. Consider lowering learning rate for fine tuning.\n"
          ]
        }
      ]
    },
    {
      "cell_type": "markdown",
      "source": [
        "## Inspect checkpoint metadata"
      ],
      "metadata": {
        "id": "PXfd-ZfunN8d"
      }
    },
    {
      "cell_type": "code",
      "source": [
        "import torch\n",
        "ckpt_path = os.path.join(output_path, \"tft-epoch=XX-val_loss=YY.ckpt\")\n",
        "ckpt = torch.load(ckpt_path, map_location=\"cpu\")\n",
        "\n",
        "print(\"Checkpoint keys:\", ckpt.keys())\n",
        "print(\"Epoch:\", ckpt['epoch'])\n",
        "print(\"Global step:\", ckpt['global_step'])\n",
        "print(\"Hyperparameters:\", ckpt['hyper_parameters'])"
      ],
      "metadata": {
        "id": "6cwtmYO_nMY0"
      },
      "execution_count": null,
      "outputs": []
    },
    {
      "cell_type": "code",
      "source": [
        "from pytorch_forecasting import TemporalFusionTransformer\n",
        "\n",
        "# Load model from checkpoint\n",
        "model = TemporalFusionTransformer.load_from_checkpoint(\"/path/to/last.ckpt\")\n",
        "\n",
        "# Generate forecast\n",
        "predictions = model.predict(your_timeseries_data)\n",
        "\n",
        "# Save forecast for UI\n",
        "predictions.to_csv(\"/content/drive/MyDrive/InfraForecast/vm_001_forecast.csv\")\n"
      ],
      "metadata": {
        "id": "1TlZEXxF0Mj2"
      },
      "execution_count": null,
      "outputs": []
    }
  ]
}