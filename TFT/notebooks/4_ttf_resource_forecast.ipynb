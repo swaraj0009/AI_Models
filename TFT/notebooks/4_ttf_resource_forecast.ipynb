{
  "cells": [
    {
      "cell_type": "code",
      "source": [
        "# Step 1"
      ],
      "metadata": {
        "id": "k7HI3qeIiOaq"
      },
      "execution_count": 64,
      "outputs": []
    },
    {
      "cell_type": "code",
      "source": [
        "# # prompt: write code for google drive\n",
        "\n",
        "# from google.colab import drive\n",
        "# drive.mount('/content/drive')"
      ],
      "metadata": {
        "colab": {
          "base_uri": "https://localhost:8080/"
        },
        "id": "9imFCsDrwtVO",
        "outputId": "db0aec5d-141a-400d-baf5-40dc42ea3783"
      },
      "execution_count": 65,
      "outputs": [
        {
          "output_type": "stream",
          "name": "stdout",
          "text": [
            "Drive already mounted at /content/drive; to attempt to forcibly remount, call drive.mount(\"/content/drive\", force_remount=True).\n"
          ]
        }
      ]
    },
    {
      "cell_type": "code",
      "source": [
        "# ⚡ Quick Setup - Run after runtime reset (CPU/GPU Switch)\n",
        "# Installs essential packages silently to save output clutter\n",
        "\n",
        "!pip install dask pytz torch pytorch-forecasting pytorch-lightning \\\n",
        "    rich colorama matplotlib seaborn pandas numpy tensorboard \\\n",
        "    'lightning[extra]' pyarrow fastparquet --quiet\n",
        "\n",
        "print(\"\\033[92m✅ All required packages installed successfully.\\033[0m\")"
      ],
      "metadata": {
        "collapsed": true,
        "colab": {
          "base_uri": "https://localhost:8080/"
        },
        "id": "C9TAeg3MxRMV",
        "outputId": "02e1b426-4103-4286-e5dc-65a30427e92d"
      },
      "execution_count": 66,
      "outputs": [
        {
          "output_type": "stream",
          "name": "stdout",
          "text": [
            "\u001b[92m✅ All required packages installed successfully.\u001b[0m\n"
          ]
        }
      ]
    },
    {
      "cell_type": "code",
      "source": [
        "import pytorch_forecasting\n",
        "print(pytorch_forecasting.__version__)"
      ],
      "metadata": {
        "colab": {
          "base_uri": "https://localhost:8080/"
        },
        "id": "FaIEEmvVFzpU",
        "outputId": "cddf3f25-8d2f-4925-d769-55e37b25ae58"
      },
      "execution_count": 67,
      "outputs": [
        {
          "output_type": "stream",
          "name": "stdout",
          "text": [
            "1.4.0\n"
          ]
        }
      ]
    },
    {
      "cell_type": "code",
      "execution_count": 68,
      "metadata": {
        "id": "zMD5usllwmtY",
        "colab": {
          "base_uri": "https://localhost:8080/"
        },
        "outputId": "2633234b-100f-4b81-e7a7-08e499418a85"
      },
      "outputs": [
        {
          "output_type": "stream",
          "name": "stdout",
          "text": [
            "All Libraries are loaded : 20250703-163744\n"
          ]
        }
      ],
      "source": [
        "# Standard Library\n",
        "import os\n",
        "import datetime\n",
        "import glob\n",
        "import json\n",
        "import shutil\n",
        "import math\n",
        "import pytz\n",
        "from concurrent.futures import ThreadPoolExecutor\n",
        "\n",
        "# Third-Party Libraries\n",
        "import numpy as np\n",
        "import pandas as pd\n",
        "import dask.dataframe as dd\n",
        "import matplotlib.pyplot as plt\n",
        "import seaborn as sns\n",
        "\n",
        "import torch\n",
        "\n",
        "# PyTorch Lightning\n",
        "# from datetime import datetime\n",
        "from pytorch_lightning import Trainer\n",
        "from pytorch_lightning.loggers import CSVLogger\n",
        "from pytorch_lightning.callbacks import ModelCheckpoint\n",
        "\n",
        "# PyTorch Forecasting\n",
        "from pytorch_forecasting import TimeSeriesDataSet, TemporalFusionTransformer\n",
        "from pytorch_forecasting.data import GroupNormalizer\n",
        "from pytorch_forecasting.metrics import RMSE\n",
        "\n",
        "ist = pytz.timezone('Asia/Kolkata')\n",
        "now_ist = datetime.datetime.now(ist)\n",
        "timestamp = now_ist.strftime(\"%Y%m%d-%H%M%S\")\n",
        "print(f\"All Libraries are loaded : {timestamp}\")"
      ]
    },
    {
      "cell_type": "code",
      "source": [
        "# --------- User Configurable Parameters ---------\n",
        "\n",
        "# Data path & VM selection\n",
        "parquet_path = \"/content/drive/MyDrive/datasets/processed/FeatureEngcolab\"\n",
        "\n",
        "# e.g., 50, 100, 250 etc.\n",
        "num_vms_to_load = 30\n",
        "\n",
        "# Model training parameters\n",
        "train_config = {\n",
        "    \"targets\": ['cpu_utilization_ratio'],\n",
        "    \"time_varying_known_reals\": ['time_idx', 'hour_sin', 'hour_cos', 'dayofweek_sin', 'dayofweek_cos', 'month_sin', 'month_cos'],\n",
        "    \"group_ids\": ['vm_id'],\n",
        "    \"max_encoder_length\": 40,\n",
        "    \"max_prediction_length\": 12,\n",
        "    \"hidden_size\": 10,\n",
        "    \"dropout\": 0.1,\n",
        "    \"learning_rate\": 0.01,\n",
        "    \"batch_size\": 32,\n",
        "    \"num_workers\": 2,\n",
        "    \"early_stopping_patience\": 3,\n",
        "    \"epochs\": 1,\n",
        "    \"loss_fn\": RMSE(),\n",
        "    \"output_base_dir\": \"/content/drive/MyDrive/output\",\n",
        "    \"log_dir\": \"/content/drive/MyDrive/output/logs\"\n",
        "}\n",
        "\n",
        "# VM count for folder naming (update if needed)\n",
        "vm_count = f\"{num_vms_to_load}VMs\""
      ],
      "metadata": {
        "id": "Y4lrYzgxwbLr"
      },
      "execution_count": 69,
      "outputs": []
    },
    {
      "cell_type": "code",
      "source": [
        "# --------- Helper: Generate Run Folder Name ---------\n",
        "\n",
        "def get_run_folder_name(train_config, vm_count):\n",
        "    target = \"cpu\"\n",
        "    past = f\"past{train_config['max_encoder_length']}\"\n",
        "    fut = f\"fut{train_config['max_prediction_length']}\"\n",
        "    batch = f\"bs{train_config['batch_size']}\"\n",
        "    lr = f\"lr{train_config['learning_rate']:.0e}\".replace('+0', '')\n",
        "    hid = f\"hid{train_config['hidden_size']}\"\n",
        "\n",
        "    return f\"{target}_{vm_count}_{past}_{fut}_{batch}_{lr}_{hid}_{timestamp}\""
      ],
      "metadata": {
        "id": "bOkI1ts2yIlj"
      },
      "execution_count": 70,
      "outputs": []
    },
    {
      "cell_type": "code",
      "source": [
        "# --------- Main Processing ---------\n",
        "\n",
        "vm_folders = sorted([\n",
        "    name.split('=')[1] for name in os.listdir(parquet_path) if name.startswith(\"VM=\")\n",
        "])\n",
        "\n",
        "print(f\"Available VMs: {vm_folders[:10]} ... Total: {len(vm_folders)}\")\n",
        "\n",
        "# Load First N VMs Dynamically [100, 250, 500, 750, 1000, 1250]\n",
        "\n",
        "for N in [num_vms_to_load]:\n",
        "    selected_vms = vm_folders[:N]\n",
        "\n",
        "    df3 = dd.read_parquet(\n",
        "        parquet_path,\n",
        "        filters=[(\"VM\", \"in\", selected_vms)]\n",
        "    ).compute()\n",
        "\n",
        "    print(f\"✅ Loaded {N} VMs → Shape: {df3.shape}\")\n",
        "\n",
        "# print(df3.columns.tolist())\n",
        "# print(df3[['Timestamp', 'time_idx']].tail())\n"
      ],
      "metadata": {
        "colab": {
          "base_uri": "https://localhost:8080/"
        },
        "id": "kSFyV3GBVwiJ",
        "outputId": "95b90c55-5158-4809-b5b3-5997294a5f36"
      },
      "execution_count": 71,
      "outputs": [
        {
          "output_type": "stream",
          "name": "stdout",
          "text": [
            "Available VMs: ['1', '10', '100', '1000', '1001', '1002', '1003', '1004', '1005', '1006'] ... Total: 1250\n",
            "✅ Loaded 30 VMs → Shape: (264533, 50)\n"
          ]
        }
      ]
    },
    {
      "cell_type": "code",
      "execution_count": 72,
      "metadata": {
        "id": "JpDH8N3TwmtZ",
        "colab": {
          "base_uri": "https://localhost:8080/"
        },
        "outputId": "8298cc13-ae84-4210-afe7-f8cfd2864cbe"
      },
      "outputs": [
        {
          "output_type": "stream",
          "name": "stdout",
          "text": [
            "Columns available: ['Timestamp [s]', 'CPU cores', 'CPU capacity provisioned [MHZ]', 'CPU usage [MHZ]', 'CPU usage [%]', 'Memory capacity provisioned [KB]', 'Memory usage [KB]', 'Disk read throughput [KB/s]', 'Disk write throughput [KB/s]', 'Network received throughput [KB/s]', 'Network transmitted throughput [KB/s]', 'Timestamp', 'time_idx', 'time_diff', 'hour', 'dayofweek', 'is_weekend', 'month', 'day', 'hour_sin', 'hour_cos', 'dayofweek_sin', 'dayofweek_cos', 'month_sin', 'month_cos', 'cpu_utilization_ratio', 'memory_utilization_ratio', 'cpu_util_percent', 'memory_util_percent', 'cpu_util_prev', 'cpu_util_diff', 'memory_util_prev', 'memory_util_diff', 'disk_total_throughput', 'disk_rolling_mean', 'disk_rolling_std', 'network_total_throughput', 'network_rolling_mean', 'network_rolling_std', 'disk_read_prev', 'disk_read_diff', 'disk_write_prev', 'disk_write_diff', 'network_received_prev', 'network_received_diff', 'network_transmitted_prev', 'network_transmitted_diff', 'network_total_prev', 'network_total_diff', 'vm_id']\n"
          ]
        }
      ],
      "source": [
        "# Preprocess dataframe\n",
        "\n",
        "df3 = df3.rename(columns={'VM': 'vm_id'})\n",
        "\n",
        "tft_df = df3.dropna(subset=[\n",
        "    'cpu_utilization_ratio',\n",
        "    'memory_utilization_ratio',\n",
        "    'disk_total_throughput',\n",
        "    'network_total_throughput'\n",
        "])\n",
        "\n",
        "# Using Dask for big data preprocessing; switch to Pandas with .compute() as most ML models need Pandas DataFrame.\n",
        "\n",
        "tft_df = tft_df.compute() if 'dask' in str(type(tft_df)) else tft_df\n",
        "\n",
        "print(f\"Columns available: {tft_df.columns.tolist()}\")\n",
        "\n",
        "# Define target variables\n",
        "# targets = ['cpu_utilization_ratio', 'memory_utilization_ratio', 'disk_total_throughput', 'network_total_throughput']"
      ]
    },
    {
      "cell_type": "code",
      "source": [
        "# Setup output and log folders based on run config\n",
        "\n",
        "folder_name = get_run_folder_name(train_config, vm_count)\n",
        "\n",
        "train_config[\"output_base_dir\"] = os.path.join(train_config[\"output_base_dir\"], folder_name)\n",
        "train_config[\"log_dir\"] = os.path.join(train_config[\"log_dir\"], folder_name)\n",
        "\n",
        "os.makedirs(train_config[\"output_base_dir\"], exist_ok=True)\n",
        "os.makedirs(train_config[\"log_dir\"], exist_ok=True)\n",
        "\n",
        "print(\"Output directory:\", train_config[\"output_base_dir\"])\n",
        "print(\"Log directory:\", train_config[\"log_dir\"])\n",
        "\n",
        "# Now you can proceed to model training using `tft_df` and `train_config` as usual."
      ],
      "metadata": {
        "id": "Ib5yqZQz-9PZ",
        "colab": {
          "base_uri": "https://localhost:8080/"
        },
        "outputId": "6ef39d2e-7960-4558-bf45-7cca2c685e4d"
      },
      "execution_count": 73,
      "outputs": [
        {
          "output_type": "stream",
          "name": "stdout",
          "text": [
            "Output directory: /content/drive/MyDrive/output/cpu_30VMs_past40_fut12_bs32_lr1e-02_hid10_20250703-163744\n",
            "Log directory: /content/drive/MyDrive/output/logs/cpu_30VMs_past40_fut12_bs32_lr1e-02_hid10_20250703-163744\n"
          ]
        }
      ]
    },
    {
      "cell_type": "code",
      "source": [
        "import math\n",
        "\n",
        "# Basic Dataset Summary\n",
        "print(f\"\\n✅ Dataset Summary:\")\n",
        "print(f\"- Min time_idx      : {tft_df['time_idx'].min()}\")\n",
        "print(f\"- Max time_idx      : {tft_df['time_idx'].max()}\")\n",
        "print(f\"- Total rows        : {len(tft_df):,}\")\n",
        "print(f\"- Batch size config : {train_config['batch_size']}\")\n",
        "\n",
        "# Train/Val Split Calculation\n",
        "max_time_idx = tft_df['time_idx'].max()\n",
        "split_point = max_time_idx * 0.8\n",
        "\n",
        "train_rows = (tft_df['time_idx'] <= split_point).sum()\n",
        "val_rows = (tft_df['time_idx'] > split_point).sum()\n",
        "total_rows = len(tft_df)\n",
        "val_pct = 100 * val_rows / total_rows\n",
        "\n",
        "print(f\"\\n✅ Train/Validation Split:\")\n",
        "print(f\"- Split point (time_idx > {split_point:.2f})\")\n",
        "print(f\"- Train rows       : {train_rows:,}\")\n",
        "print(f\"- Validation rows  : {val_rows:,} ({val_pct:.2f}%)\")\n",
        "\n",
        "# Important for model creation\n",
        "val_df = tft_df[tft_df['time_idx'] > split_point]\n",
        "\n",
        "# Validation Window Stats\n",
        "val_points = len(val_df)\n",
        "min_required = train_config['max_encoder_length'] + train_config['max_prediction_length']\n",
        "total_val_windows = val_points - min_required + 1\n",
        "expected_val_batches = math.ceil(total_val_windows / train_config['batch_size'])\n",
        "\n",
        "print(f\"\\n✅ Validation Window Stats:\")\n",
        "print(f\"- Validation points : {val_points:,}\")\n",
        "print(f\"- Min required points: {min_required}\")\n",
        "print(f\"- Total windows      : {total_val_windows:,}\")\n",
        "print(f\"- Expected batches   : {expected_val_batches:,}\")"
      ],
      "metadata": {
        "id": "7Z-9l7eg5-3j",
        "colab": {
          "base_uri": "https://localhost:8080/"
        },
        "outputId": "ebff9f3a-864f-4657-caad-ada24d049a01"
      },
      "execution_count": 74,
      "outputs": [
        {
          "output_type": "stream",
          "name": "stdout",
          "text": [
            "\n",
            "✅ Dataset Summary:\n",
            "- Min time_idx      : 0\n",
            "- Max time_idx      : 8639\n",
            "- Total rows        : 229,536\n",
            "- Batch size config : 32\n",
            "\n",
            "✅ Train/Validation Split:\n",
            "- Split point (time_idx > 6911.20)\n",
            "- Train rows       : 186,537\n",
            "- Validation rows  : 42,999 (18.73%)\n",
            "\n",
            "✅ Validation Window Stats:\n",
            "- Validation points : 42,999\n",
            "- Min required points: 52\n",
            "- Total windows      : 42,948\n",
            "- Expected batches   : 1,343\n"
          ]
        }
      ]
    },
    {
      "cell_type": "code",
      "source": [
        "# Reset index (important for unique indexing)\n",
        "tft_df = tft_df.reset_index(drop=True)\n",
        "\n",
        "# Prepare TimeSeriesDataSet for training portion (80%)\n",
        "dataset = TimeSeriesDataSet(\n",
        "    tft_df[tft_df.time_idx <= tft_df['time_idx'].max() * 0.8],\n",
        "    time_idx='time_idx',\n",
        "    target=train_config[\"targets\"][0],  # 'cpu_utilization_ratio' here\n",
        "    group_ids=train_config[\"group_ids\"],\n",
        "    max_encoder_length=train_config[\"max_encoder_length\"],\n",
        "    max_prediction_length=train_config[\"max_prediction_length\"],\n",
        "    time_varying_known_reals=train_config[\"time_varying_known_reals\"],\n",
        "    time_varying_unknown_reals=train_config[\"targets\"],\n",
        "    target_normalizer=GroupNormalizer(groups=train_config[\"group_ids\"]),\n",
        "    add_relative_time_idx=True,\n",
        "    add_target_scales=True,\n",
        "    add_encoder_length=True,\n",
        "    allow_missing_timesteps=True\n",
        ")\n",
        "\n",
        "# Validation dataset for prediction (no randomization, full data)\n",
        "# ✅ \"TimeSeriesDataSet applies sliding window logic on the training data,\n",
        "# using the full configuration like past steps, future steps, groups, and prepares the dataset accordingly.\"\n",
        "\n",
        "val_df = val_df.reset_index(drop=True) # Reset index of val_df\n",
        "\n",
        "val_dataset = TimeSeriesDataSet.from_dataset(\n",
        "    dataset, val_df, predict=True, stop_randomization=True\n",
        ")\n",
        "\n",
        "# Create dataloaders\n",
        "\n",
        "train_dataloader = dataset.to_dataloader(\n",
        "    train=True,\n",
        "    batch_size=train_config[\"batch_size\"],\n",
        "    num_workers=train_config[\"num_workers\"]\n",
        ")\n",
        "\n",
        "val_dataloader = val_dataset.to_dataloader(\n",
        "    train=False,\n",
        "    batch_size=train_config[\"batch_size\"],\n",
        "    num_workers=train_config[\"num_workers\"]\n",
        ")\n",
        "\n",
        "\n",
        "print(f\"✅ Dataset and dataloaders ready. Train batches: {len(train_dataloader)}, Val batches: {len(val_dataloader)}\")"
      ],
      "metadata": {
        "colab": {
          "base_uri": "https://localhost:8080/"
        },
        "id": "Ra7_fpzplKsf",
        "outputId": "13e62cea-6d43-4055-c47d-a6b0ab7f69bc"
      },
      "execution_count": 75,
      "outputs": [
        {
          "output_type": "stream",
          "name": "stdout",
          "text": [
            "✅ Dataset and dataloaders ready. Train batches: 5781, Val batches: 1\n"
          ]
        }
      ]
    },
    {
      "cell_type": "code",
      "source": [
        "# Step 7"
      ],
      "metadata": {
        "id": "ifn5CPwejuIW"
      },
      "execution_count": 76,
      "outputs": []
    },
    {
      "cell_type": "code",
      "source": [
        "# Logging & Callbacks"
      ],
      "metadata": {
        "id": "7alep3zj6DeQ"
      },
      "execution_count": 77,
      "outputs": []
    },
    {
      "cell_type": "code",
      "source": [
        "from pytorch_lightning.callbacks import EarlyStopping\n",
        "\n",
        "for target in train_config[\"targets\"]:\n",
        "    print(f\"\\n🔁 Training for target: {target}\")\n",
        "\n",
        "    run_dir = os.path.join(train_config[\"output_base_dir\"], f\"{target}_run_{timestamp}\")\n",
        "    os.makedirs(run_dir, exist_ok=True)\n",
        "\n",
        "    # Save cleaned dataset snapshot for debugging\n",
        "    tft_df.to_csv(f\"{run_dir}/tft_df.csv\", index=False)\n",
        "\n",
        "    # Setup logging & checkpointing\n",
        "    logger = CSVLogger(save_dir=train_config[\"log_dir\"], name=f\"{target}_log\")\n",
        "\n",
        "    checkpoint_callback = ModelCheckpoint(\n",
        "        monitor=\"val_loss\",\n",
        "        dirpath=run_dir,\n",
        "        filename=\"tft-{epoch:02d}-{val_loss:.2f}\",\n",
        "        save_top_k=1,\n",
        "        save_last=True,\n",
        "        mode=\"min\"\n",
        "    )\n",
        "\n",
        "    early_stopping = EarlyStopping(monitor=\"val_loss\", patience=train_config[\"early_stopping_patience\"], mode=\"min\")"
      ],
      "metadata": {
        "id": "X07NZKn0SeUH",
        "colab": {
          "base_uri": "https://localhost:8080/"
        },
        "outputId": "8eccf0a0-00fe-4248-c006-70bb68732882"
      },
      "execution_count": 78,
      "outputs": [
        {
          "output_type": "stream",
          "name": "stdout",
          "text": [
            "\n",
            "🔁 Training for target: cpu_utilization_ratio\n"
          ]
        }
      ]
    },
    {
      "cell_type": "code",
      "source": [
        "# Step 8"
      ],
      "metadata": {
        "id": "U-V1Oi69jw5R"
      },
      "execution_count": 79,
      "outputs": []
    },
    {
      "cell_type": "code",
      "source": [
        "# Model, Lightning, Trainer"
      ],
      "metadata": {
        "id": "EUJRG3D76ISe"
      },
      "execution_count": 80,
      "outputs": []
    },
    {
      "cell_type": "code",
      "source": [
        "import pytorch_lightning as pl\n",
        "\n",
        "class TFTLightningModule(pl.LightningModule):\n",
        "    def __init__(self, tft_model: TemporalFusionTransformer, learning_rate: float, loss_fn: torch.nn.Module):\n",
        "        super().__init__()\n",
        "        self.tft_model = tft_model\n",
        "        self.learning_rate = learning_rate\n",
        "        self.loss_fn = loss_fn\n",
        "\n",
        "    def forward(self, x):\n",
        "        return self.tft_model(x)\n",
        "\n",
        "    def training_step(self, batch, batch_idx):\n",
        "        x, y = batch\n",
        "        y_hat = self(x)\n",
        "        loss = self.loss_fn(y_hat.prediction, y) # Extract prediction from output\n",
        "        self.log(\"train_loss\", loss)\n",
        "        return loss\n",
        "\n",
        "    def validation_step(self, batch, batch_idx):\n",
        "        x, y = batch\n",
        "        y_hat = self(x)\n",
        "        loss = self.loss_fn(y_hat.prediction, y) # Extract prediction from output\n",
        "        self.log(\"val_loss\", loss)\n",
        "        return loss\n",
        "\n",
        "    def configure_optimizers(self):\n",
        "        optimizer = torch.optim.Adam(self.parameters(), lr=self.learning_rate)\n",
        "        return optimizer\n",
        "\n",
        "# Create the TFT model\n",
        "tft_model = TemporalFusionTransformer.from_dataset(\n",
        "    dataset,\n",
        "    learning_rate=train_config[\"learning_rate\"],\n",
        "    hidden_size=train_config[\"hidden_size\"],\n",
        "    dropout=train_config[\"dropout\"],\n",
        "    loss=train_config[\"loss_fn\"],\n",
        "    log_interval=10,\n",
        "    reduce_on_plateau_patience=4\n",
        ")\n",
        "\n",
        "# Wrap the TFT model in a LightningModule\n",
        "model = TFTLightningModule(\n",
        "    tft_model=tft_model,\n",
        "    learning_rate=train_config[\"learning_rate\"],\n",
        "    loss_fn=train_config[\"loss_fn\"]\n",
        ")\n",
        "\n",
        "# Setup Trainer\n",
        "if torch.cuda.is_available():\n",
        "    accelerator = \"gpu\"\n",
        "    devices = 1\n",
        "else:\n",
        "    accelerator = \"cpu\"\n",
        "    devices = 1\n",
        "\n",
        "trainer = Trainer(\n",
        "    max_epochs=train_config[\"epochs\"],\n",
        "    accelerator=accelerator,\n",
        "    devices=devices,\n",
        "    logger=logger,\n",
        "    callbacks=[checkpoint_callback, early_stopping],\n",
        "    enable_checkpointing=True\n",
        ")\n",
        "\n",
        "# Fit the model\n",
        "trainer.fit(model, train_dataloaders=train_dataloader, val_dataloaders=val_dataloader)"
      ],
      "metadata": {
        "id": "paex9VsEaJBj",
        "colab": {
          "base_uri": "https://localhost:8080/",
          "height": 364,
          "referenced_widgets": [
            "d1505708086f4049ba71a8862d0fcb98",
            "654c1523e0e344cdb4cf6ec177bb24a1",
            "05d5ed191b7e472aac26905adb8f07aa",
            "3bdc535afecb4cc6a8d0d83c2e7ab1dc",
            "65b84dfb26304761849ac93c7009159b",
            "c6e42e2a94d248769477101f79217070",
            "5cddf74f072a4dc5b4efd965f6474566",
            "95e99a48312542878f4ad707063454c6",
            "76c9bb800a2a4fd482a3ed1d819a2383",
            "bab1a0bca4b544d6a9cf34eff7f7ea23",
            "cefa20538beb4fd887ebb17698a6263c",
            "770df08ef5414516baccb21ff453e0a2",
            "b4d37d94aa5447fe9751578b24a23388",
            "dcfa1dc49ec443a2990bcc4c07948085",
            "85f0ce8f771947c9a3f07712ed6c249b",
            "d4d89291920044d9b183682d94068698",
            "31bc11a488374355a1886b1fa23c1bc8",
            "7d0cbaad1ecb4726a0668ee85ef0b8ea",
            "3fee85f0b7a146108592e14191b5cb90",
            "2ec8cf4be5b248898b0238fce1391e79",
            "576d945bcaf340b381e2f00098948922",
            "bbee31b70b514195a547bdb763d47652"
          ]
        },
        "outputId": "44a19139-de80-4f8c-e8ff-2b3a1141e47c"
      },
      "execution_count": null,
      "outputs": [
        {
          "output_type": "stream",
          "name": "stderr",
          "text": [
            "INFO:pytorch_lightning.utilities.rank_zero:GPU available: False, used: False\n",
            "INFO:pytorch_lightning.utilities.rank_zero:TPU available: False, using: 0 TPU cores\n",
            "INFO:pytorch_lightning.utilities.rank_zero:HPU available: False, using: 0 HPUs\n",
            "/usr/local/lib/python3.11/dist-packages/pytorch_lightning/callbacks/model_checkpoint.py:658: Checkpoint directory /content/drive/MyDrive/output/cpu_30VMs_past40_fut12_bs32_lr1e-02_hid10_20250703-163744/cpu_utilization_ratio_run_20250703-163744 exists and is not empty.\n",
            "INFO:pytorch_lightning.callbacks.model_summary:\n",
            "  | Name      | Type                      | Params | Mode \n",
            "----------------------------------------------------------------\n",
            "0 | tft_model | TemporalFusionTransformer | 15.3 K | train\n",
            "1 | loss_fn   | RMSE                      | 0      | train\n",
            "----------------------------------------------------------------\n",
            "15.3 K    Trainable params\n",
            "0         Non-trainable params\n",
            "15.3 K    Total params\n",
            "0.061     Total estimated model params size (MB)\n",
            "454       Modules in train mode\n",
            "0         Modules in eval mode\n"
          ]
        },
        {
          "output_type": "display_data",
          "data": {
            "text/plain": [
              "Sanity Checking: |          | 0/? [00:00<?, ?it/s]"
            ],
            "application/vnd.jupyter.widget-view+json": {
              "version_major": 2,
              "version_minor": 0,
              "model_id": "d1505708086f4049ba71a8862d0fcb98"
            }
          },
          "metadata": {}
        },
        {
          "output_type": "stream",
          "name": "stderr",
          "text": [
            "/usr/local/lib/python3.11/dist-packages/pytorch_lightning/utilities/data.py:79: Trying to infer the `batch_size` from an ambiguous collection. The batch size we found is 25. To avoid any miscalculations, use `self.log(..., batch_size=batch_size)`.\n"
          ]
        },
        {
          "output_type": "display_data",
          "data": {
            "text/plain": [
              "Training: |          | 0/? [00:00<?, ?it/s]"
            ],
            "application/vnd.jupyter.widget-view+json": {
              "version_major": 2,
              "version_minor": 0,
              "model_id": "770df08ef5414516baccb21ff453e0a2"
            }
          },
          "metadata": {}
        }
      ]
    },
    {
      "cell_type": "code",
      "source": [
        "# Step 9"
      ],
      "metadata": {
        "id": "qWzxncyzjz2_"
      },
      "execution_count": null,
      "outputs": []
    },
    {
      "cell_type": "code",
      "source": [
        "# 🔍 Make raw predictions on validation set"
      ],
      "metadata": {
        "id": "xKis-Xvt6PHD"
      },
      "execution_count": null,
      "outputs": []
    },
    {
      "cell_type": "code",
      "source": [
        "# 🔮 Step 1: Make raw predictions on validation set\n",
        "prediction_output = model.tft_model.predict(\n",
        "    val_dataloader, mode='raw', return_x=True\n",
        ")\n",
        "\n",
        "# ✅ Step 2: Extract input and output\n",
        "x = prediction_output.x\n",
        "predictions = prediction_output.output\n",
        "\n",
        "# ✅ Step 3: Extract forecast values as numpy array (for CSV export)\n",
        "forecast = predictions.prediction[0].detach().cpu().numpy()\n",
        "\n",
        "# ✅ Step 4: Plot forecast using built-in TFT visualization\n",
        "fig = model.tft_model.plot_prediction(\n",
        "    x, predictions, idx=0, show_future_observed=True\n",
        ")\n",
        "plt.title(f\"Prediction Plot for {target}\")\n",
        "\n",
        "# ✅ Reduce legend size and move it neatly outside\n",
        "plt.legend(\n",
        "    loc='upper left',\n",
        "    bbox_to_anchor=(1, 1),\n",
        "    fontsize='small',      # You can try 'small', 'x-small', numeric values like 8\n",
        "    frameon=True,          # Adds box around legend for clarity\n",
        ")\n",
        "\n",
        "plt.tight_layout()\n",
        "plt.show()\n",
        "\n",
        "# ✅ Step 5: Save the plot as PNG\n",
        "plt.savefig(f\"{run_dir}/plot.png\", bbox_inches='tight')  # Ensure nothing gets cut off\n",
        "plt.close()\n",
        "print(f\"✅ Prediction plot saved at: {run_dir}/plot.png\")\n",
        "\n",
        "# ✅ Step 6: Save forecast to CSV\n",
        "pd.DataFrame(forecast, columns=[f'{target}_forecast']).to_csv(\n",
        "    f\"{run_dir}/predictions.csv\", index=False\n",
        ")\n",
        "print(f\"✅ Forecast values saved to: {run_dir}/predictions.csv\")"
      ],
      "metadata": {
        "id": "jKofCIO0aQEg"
      },
      "execution_count": null,
      "outputs": []
    },
    {
      "cell_type": "code",
      "source": [
        "# Predicted CPU Utilization next future steps based on above config."
      ],
      "metadata": {
        "id": "cmpvQ087SI_D"
      },
      "execution_count": null,
      "outputs": []
    },
    {
      "cell_type": "code",
      "source": [
        "print(forecast)\n",
        "print(type(forecast))\n",
        "print(forecast.shape)"
      ],
      "metadata": {
        "id": "gbhIzkOpIdkW"
      },
      "execution_count": null,
      "outputs": []
    },
    {
      "cell_type": "code",
      "source": [
        "# Step 10"
      ],
      "metadata": {
        "id": "Cmm5RNurj5Vl"
      },
      "execution_count": null,
      "outputs": []
    },
    {
      "cell_type": "code",
      "source": [
        "# Spike Detection & Save Metadata"
      ],
      "metadata": {
        "id": "Gn6zSuWTnP7E"
      },
      "execution_count": null,
      "outputs": []
    },
    {
      "cell_type": "code",
      "source": [
        "# 🔍 Simple spike detection based on 95th percentile threshold\n",
        "spikes = forecast > np.percentile(forecast, 95)\n",
        "\n",
        "# Save run notes and spike count\n",
        "with open(f\"{run_dir}/notes.txt\", \"w\") as f:\n",
        "    f.write(f\"Target: {target}\\n\")\n",
        "    f.write(f\"Spikes > 95th percentile: {int(spikes.sum())}\\n\")\n",
        "    f.write(\"Review plot.png and predictions.csv for further insights.\\n\")\n",
        "\n",
        "# 💾 Save training config for reproducibility\n",
        "# Create a serializable version of train_config\n",
        "serializable_train_config = train_config.copy()\n",
        "# Replace the non-serializable loss_fn object with its name\n",
        "serializable_train_config[\"loss_fn\"] = serializable_train_config[\"loss_fn\"].__class__.__name__\n",
        "\n",
        "with open(f\"{run_dir}/params.json\", \"w\") as f:\n",
        "    json.dump(serializable_train_config, f, indent=2)\n",
        "\n",
        "print(f\"✅ Run complete. Outputs saved at: {run_dir}\")"
      ],
      "metadata": {
        "id": "ZZViKR3poBY3"
      },
      "execution_count": null,
      "outputs": []
    },
    {
      "cell_type": "code",
      "source": [
        "forecast_path = os.path.join(run_dir, \"predictions.csv\")\n",
        "print(f\"✅ Forecast values saved to: {forecast_path}\")"
      ],
      "metadata": {
        "id": "5iELq2nboDno"
      },
      "execution_count": null,
      "outputs": []
    }
  ],
  "metadata": {
    "kernelspec": {
      "display_name": "Python 3",
      "name": "python3"
    },
    "language_info": {
      "codemirror_mode": {
        "name": "ipython",
        "version": 3
      },
      "file_extension": ".py",
      "mimetype": "text/x-python",
      "name": "python",
      "nbconvert_exporter": "python",
      "pygments_lexer": "ipython3",
      "version": "3.8.12"
    },
    "orig_nbformat": 4,
    "vscode": {
      "interpreter": {
        "hash": "2133a3972b28273c10fa027bbde5fb58efc69f3a1cd517826cf4b1affadfce4e"
      }
    },
    "colab": {
      "provenance": []
    },
    "widgets": {
      "application/vnd.jupyter.widget-state+json": {
        "d1505708086f4049ba71a8862d0fcb98": {
          "model_module": "@jupyter-widgets/controls",
          "model_name": "HBoxModel",
          "model_module_version": "1.5.0",
          "state": {
            "_dom_classes": [],
            "_model_module": "@jupyter-widgets/controls",
            "_model_module_version": "1.5.0",
            "_model_name": "HBoxModel",
            "_view_count": null,
            "_view_module": "@jupyter-widgets/controls",
            "_view_module_version": "1.5.0",
            "_view_name": "HBoxView",
            "box_style": "",
            "children": [
              "IPY_MODEL_654c1523e0e344cdb4cf6ec177bb24a1",
              "IPY_MODEL_05d5ed191b7e472aac26905adb8f07aa",
              "IPY_MODEL_3bdc535afecb4cc6a8d0d83c2e7ab1dc"
            ],
            "layout": "IPY_MODEL_65b84dfb26304761849ac93c7009159b"
          }
        },
        "654c1523e0e344cdb4cf6ec177bb24a1": {
          "model_module": "@jupyter-widgets/controls",
          "model_name": "HTMLModel",
          "model_module_version": "1.5.0",
          "state": {
            "_dom_classes": [],
            "_model_module": "@jupyter-widgets/controls",
            "_model_module_version": "1.5.0",
            "_model_name": "HTMLModel",
            "_view_count": null,
            "_view_module": "@jupyter-widgets/controls",
            "_view_module_version": "1.5.0",
            "_view_name": "HTMLView",
            "description": "",
            "description_tooltip": null,
            "layout": "IPY_MODEL_c6e42e2a94d248769477101f79217070",
            "placeholder": "​",
            "style": "IPY_MODEL_5cddf74f072a4dc5b4efd965f6474566",
            "value": "Sanity Checking DataLoader 0: 100%"
          }
        },
        "05d5ed191b7e472aac26905adb8f07aa": {
          "model_module": "@jupyter-widgets/controls",
          "model_name": "FloatProgressModel",
          "model_module_version": "1.5.0",
          "state": {
            "_dom_classes": [],
            "_model_module": "@jupyter-widgets/controls",
            "_model_module_version": "1.5.0",
            "_model_name": "FloatProgressModel",
            "_view_count": null,
            "_view_module": "@jupyter-widgets/controls",
            "_view_module_version": "1.5.0",
            "_view_name": "ProgressView",
            "bar_style": "",
            "description": "",
            "description_tooltip": null,
            "layout": "IPY_MODEL_95e99a48312542878f4ad707063454c6",
            "max": 1,
            "min": 0,
            "orientation": "horizontal",
            "style": "IPY_MODEL_76c9bb800a2a4fd482a3ed1d819a2383",
            "value": 1
          }
        },
        "3bdc535afecb4cc6a8d0d83c2e7ab1dc": {
          "model_module": "@jupyter-widgets/controls",
          "model_name": "HTMLModel",
          "model_module_version": "1.5.0",
          "state": {
            "_dom_classes": [],
            "_model_module": "@jupyter-widgets/controls",
            "_model_module_version": "1.5.0",
            "_model_name": "HTMLModel",
            "_view_count": null,
            "_view_module": "@jupyter-widgets/controls",
            "_view_module_version": "1.5.0",
            "_view_name": "HTMLView",
            "description": "",
            "description_tooltip": null,
            "layout": "IPY_MODEL_bab1a0bca4b544d6a9cf34eff7f7ea23",
            "placeholder": "​",
            "style": "IPY_MODEL_cefa20538beb4fd887ebb17698a6263c",
            "value": " 1/1 [00:00&lt;00:00,  8.98it/s]"
          }
        },
        "65b84dfb26304761849ac93c7009159b": {
          "model_module": "@jupyter-widgets/base",
          "model_name": "LayoutModel",
          "model_module_version": "1.2.0",
          "state": {
            "_model_module": "@jupyter-widgets/base",
            "_model_module_version": "1.2.0",
            "_model_name": "LayoutModel",
            "_view_count": null,
            "_view_module": "@jupyter-widgets/base",
            "_view_module_version": "1.2.0",
            "_view_name": "LayoutView",
            "align_content": null,
            "align_items": null,
            "align_self": null,
            "border": null,
            "bottom": null,
            "display": "inline-flex",
            "flex": null,
            "flex_flow": "row wrap",
            "grid_area": null,
            "grid_auto_columns": null,
            "grid_auto_flow": null,
            "grid_auto_rows": null,
            "grid_column": null,
            "grid_gap": null,
            "grid_row": null,
            "grid_template_areas": null,
            "grid_template_columns": null,
            "grid_template_rows": null,
            "height": null,
            "justify_content": null,
            "justify_items": null,
            "left": null,
            "margin": null,
            "max_height": null,
            "max_width": null,
            "min_height": null,
            "min_width": null,
            "object_fit": null,
            "object_position": null,
            "order": null,
            "overflow": null,
            "overflow_x": null,
            "overflow_y": null,
            "padding": null,
            "right": null,
            "top": null,
            "visibility": "hidden",
            "width": "100%"
          }
        },
        "c6e42e2a94d248769477101f79217070": {
          "model_module": "@jupyter-widgets/base",
          "model_name": "LayoutModel",
          "model_module_version": "1.2.0",
          "state": {
            "_model_module": "@jupyter-widgets/base",
            "_model_module_version": "1.2.0",
            "_model_name": "LayoutModel",
            "_view_count": null,
            "_view_module": "@jupyter-widgets/base",
            "_view_module_version": "1.2.0",
            "_view_name": "LayoutView",
            "align_content": null,
            "align_items": null,
            "align_self": null,
            "border": null,
            "bottom": null,
            "display": null,
            "flex": null,
            "flex_flow": null,
            "grid_area": null,
            "grid_auto_columns": null,
            "grid_auto_flow": null,
            "grid_auto_rows": null,
            "grid_column": null,
            "grid_gap": null,
            "grid_row": null,
            "grid_template_areas": null,
            "grid_template_columns": null,
            "grid_template_rows": null,
            "height": null,
            "justify_content": null,
            "justify_items": null,
            "left": null,
            "margin": null,
            "max_height": null,
            "max_width": null,
            "min_height": null,
            "min_width": null,
            "object_fit": null,
            "object_position": null,
            "order": null,
            "overflow": null,
            "overflow_x": null,
            "overflow_y": null,
            "padding": null,
            "right": null,
            "top": null,
            "visibility": null,
            "width": null
          }
        },
        "5cddf74f072a4dc5b4efd965f6474566": {
          "model_module": "@jupyter-widgets/controls",
          "model_name": "DescriptionStyleModel",
          "model_module_version": "1.5.0",
          "state": {
            "_model_module": "@jupyter-widgets/controls",
            "_model_module_version": "1.5.0",
            "_model_name": "DescriptionStyleModel",
            "_view_count": null,
            "_view_module": "@jupyter-widgets/base",
            "_view_module_version": "1.2.0",
            "_view_name": "StyleView",
            "description_width": ""
          }
        },
        "95e99a48312542878f4ad707063454c6": {
          "model_module": "@jupyter-widgets/base",
          "model_name": "LayoutModel",
          "model_module_version": "1.2.0",
          "state": {
            "_model_module": "@jupyter-widgets/base",
            "_model_module_version": "1.2.0",
            "_model_name": "LayoutModel",
            "_view_count": null,
            "_view_module": "@jupyter-widgets/base",
            "_view_module_version": "1.2.0",
            "_view_name": "LayoutView",
            "align_content": null,
            "align_items": null,
            "align_self": null,
            "border": null,
            "bottom": null,
            "display": null,
            "flex": "2",
            "flex_flow": null,
            "grid_area": null,
            "grid_auto_columns": null,
            "grid_auto_flow": null,
            "grid_auto_rows": null,
            "grid_column": null,
            "grid_gap": null,
            "grid_row": null,
            "grid_template_areas": null,
            "grid_template_columns": null,
            "grid_template_rows": null,
            "height": null,
            "justify_content": null,
            "justify_items": null,
            "left": null,
            "margin": null,
            "max_height": null,
            "max_width": null,
            "min_height": null,
            "min_width": null,
            "object_fit": null,
            "object_position": null,
            "order": null,
            "overflow": null,
            "overflow_x": null,
            "overflow_y": null,
            "padding": null,
            "right": null,
            "top": null,
            "visibility": null,
            "width": null
          }
        },
        "76c9bb800a2a4fd482a3ed1d819a2383": {
          "model_module": "@jupyter-widgets/controls",
          "model_name": "ProgressStyleModel",
          "model_module_version": "1.5.0",
          "state": {
            "_model_module": "@jupyter-widgets/controls",
            "_model_module_version": "1.5.0",
            "_model_name": "ProgressStyleModel",
            "_view_count": null,
            "_view_module": "@jupyter-widgets/base",
            "_view_module_version": "1.2.0",
            "_view_name": "StyleView",
            "bar_color": null,
            "description_width": ""
          }
        },
        "bab1a0bca4b544d6a9cf34eff7f7ea23": {
          "model_module": "@jupyter-widgets/base",
          "model_name": "LayoutModel",
          "model_module_version": "1.2.0",
          "state": {
            "_model_module": "@jupyter-widgets/base",
            "_model_module_version": "1.2.0",
            "_model_name": "LayoutModel",
            "_view_count": null,
            "_view_module": "@jupyter-widgets/base",
            "_view_module_version": "1.2.0",
            "_view_name": "LayoutView",
            "align_content": null,
            "align_items": null,
            "align_self": null,
            "border": null,
            "bottom": null,
            "display": null,
            "flex": null,
            "flex_flow": null,
            "grid_area": null,
            "grid_auto_columns": null,
            "grid_auto_flow": null,
            "grid_auto_rows": null,
            "grid_column": null,
            "grid_gap": null,
            "grid_row": null,
            "grid_template_areas": null,
            "grid_template_columns": null,
            "grid_template_rows": null,
            "height": null,
            "justify_content": null,
            "justify_items": null,
            "left": null,
            "margin": null,
            "max_height": null,
            "max_width": null,
            "min_height": null,
            "min_width": null,
            "object_fit": null,
            "object_position": null,
            "order": null,
            "overflow": null,
            "overflow_x": null,
            "overflow_y": null,
            "padding": null,
            "right": null,
            "top": null,
            "visibility": null,
            "width": null
          }
        },
        "cefa20538beb4fd887ebb17698a6263c": {
          "model_module": "@jupyter-widgets/controls",
          "model_name": "DescriptionStyleModel",
          "model_module_version": "1.5.0",
          "state": {
            "_model_module": "@jupyter-widgets/controls",
            "_model_module_version": "1.5.0",
            "_model_name": "DescriptionStyleModel",
            "_view_count": null,
            "_view_module": "@jupyter-widgets/base",
            "_view_module_version": "1.2.0",
            "_view_name": "StyleView",
            "description_width": ""
          }
        },
        "770df08ef5414516baccb21ff453e0a2": {
          "model_module": "@jupyter-widgets/controls",
          "model_name": "HBoxModel",
          "model_module_version": "1.5.0",
          "state": {
            "_dom_classes": [],
            "_model_module": "@jupyter-widgets/controls",
            "_model_module_version": "1.5.0",
            "_model_name": "HBoxModel",
            "_view_count": null,
            "_view_module": "@jupyter-widgets/controls",
            "_view_module_version": "1.5.0",
            "_view_name": "HBoxView",
            "box_style": "",
            "children": [
              "IPY_MODEL_b4d37d94aa5447fe9751578b24a23388",
              "IPY_MODEL_dcfa1dc49ec443a2990bcc4c07948085",
              "IPY_MODEL_85f0ce8f771947c9a3f07712ed6c249b"
            ],
            "layout": "IPY_MODEL_d4d89291920044d9b183682d94068698"
          }
        },
        "b4d37d94aa5447fe9751578b24a23388": {
          "model_module": "@jupyter-widgets/controls",
          "model_name": "HTMLModel",
          "model_module_version": "1.5.0",
          "state": {
            "_dom_classes": [],
            "_model_module": "@jupyter-widgets/controls",
            "_model_module_version": "1.5.0",
            "_model_name": "HTMLModel",
            "_view_count": null,
            "_view_module": "@jupyter-widgets/controls",
            "_view_module_version": "1.5.0",
            "_view_name": "HTMLView",
            "description": "",
            "description_tooltip": null,
            "layout": "IPY_MODEL_31bc11a488374355a1886b1fa23c1bc8",
            "placeholder": "​",
            "style": "IPY_MODEL_7d0cbaad1ecb4726a0668ee85ef0b8ea",
            "value": "Epoch 0:   2%"
          }
        },
        "dcfa1dc49ec443a2990bcc4c07948085": {
          "model_module": "@jupyter-widgets/controls",
          "model_name": "FloatProgressModel",
          "model_module_version": "1.5.0",
          "state": {
            "_dom_classes": [],
            "_model_module": "@jupyter-widgets/controls",
            "_model_module_version": "1.5.0",
            "_model_name": "FloatProgressModel",
            "_view_count": null,
            "_view_module": "@jupyter-widgets/controls",
            "_view_module_version": "1.5.0",
            "_view_name": "ProgressView",
            "bar_style": "",
            "description": "",
            "description_tooltip": null,
            "layout": "IPY_MODEL_3fee85f0b7a146108592e14191b5cb90",
            "max": 5781,
            "min": 0,
            "orientation": "horizontal",
            "style": "IPY_MODEL_2ec8cf4be5b248898b0238fce1391e79",
            "value": 127
          }
        },
        "85f0ce8f771947c9a3f07712ed6c249b": {
          "model_module": "@jupyter-widgets/controls",
          "model_name": "HTMLModel",
          "model_module_version": "1.5.0",
          "state": {
            "_dom_classes": [],
            "_model_module": "@jupyter-widgets/controls",
            "_model_module_version": "1.5.0",
            "_model_name": "HTMLModel",
            "_view_count": null,
            "_view_module": "@jupyter-widgets/controls",
            "_view_module_version": "1.5.0",
            "_view_name": "HTMLView",
            "description": "",
            "description_tooltip": null,
            "layout": "IPY_MODEL_576d945bcaf340b381e2f00098948922",
            "placeholder": "​",
            "style": "IPY_MODEL_bbee31b70b514195a547bdb763d47652",
            "value": " 127/5781 [00:38&lt;28:24,  3.32it/s, v_num=0]"
          }
        },
        "d4d89291920044d9b183682d94068698": {
          "model_module": "@jupyter-widgets/base",
          "model_name": "LayoutModel",
          "model_module_version": "1.2.0",
          "state": {
            "_model_module": "@jupyter-widgets/base",
            "_model_module_version": "1.2.0",
            "_model_name": "LayoutModel",
            "_view_count": null,
            "_view_module": "@jupyter-widgets/base",
            "_view_module_version": "1.2.0",
            "_view_name": "LayoutView",
            "align_content": null,
            "align_items": null,
            "align_self": null,
            "border": null,
            "bottom": null,
            "display": "inline-flex",
            "flex": null,
            "flex_flow": "row wrap",
            "grid_area": null,
            "grid_auto_columns": null,
            "grid_auto_flow": null,
            "grid_auto_rows": null,
            "grid_column": null,
            "grid_gap": null,
            "grid_row": null,
            "grid_template_areas": null,
            "grid_template_columns": null,
            "grid_template_rows": null,
            "height": null,
            "justify_content": null,
            "justify_items": null,
            "left": null,
            "margin": null,
            "max_height": null,
            "max_width": null,
            "min_height": null,
            "min_width": null,
            "object_fit": null,
            "object_position": null,
            "order": null,
            "overflow": null,
            "overflow_x": null,
            "overflow_y": null,
            "padding": null,
            "right": null,
            "top": null,
            "visibility": null,
            "width": "100%"
          }
        },
        "31bc11a488374355a1886b1fa23c1bc8": {
          "model_module": "@jupyter-widgets/base",
          "model_name": "LayoutModel",
          "model_module_version": "1.2.0",
          "state": {
            "_model_module": "@jupyter-widgets/base",
            "_model_module_version": "1.2.0",
            "_model_name": "LayoutModel",
            "_view_count": null,
            "_view_module": "@jupyter-widgets/base",
            "_view_module_version": "1.2.0",
            "_view_name": "LayoutView",
            "align_content": null,
            "align_items": null,
            "align_self": null,
            "border": null,
            "bottom": null,
            "display": null,
            "flex": null,
            "flex_flow": null,
            "grid_area": null,
            "grid_auto_columns": null,
            "grid_auto_flow": null,
            "grid_auto_rows": null,
            "grid_column": null,
            "grid_gap": null,
            "grid_row": null,
            "grid_template_areas": null,
            "grid_template_columns": null,
            "grid_template_rows": null,
            "height": null,
            "justify_content": null,
            "justify_items": null,
            "left": null,
            "margin": null,
            "max_height": null,
            "max_width": null,
            "min_height": null,
            "min_width": null,
            "object_fit": null,
            "object_position": null,
            "order": null,
            "overflow": null,
            "overflow_x": null,
            "overflow_y": null,
            "padding": null,
            "right": null,
            "top": null,
            "visibility": null,
            "width": null
          }
        },
        "7d0cbaad1ecb4726a0668ee85ef0b8ea": {
          "model_module": "@jupyter-widgets/controls",
          "model_name": "DescriptionStyleModel",
          "model_module_version": "1.5.0",
          "state": {
            "_model_module": "@jupyter-widgets/controls",
            "_model_module_version": "1.5.0",
            "_model_name": "DescriptionStyleModel",
            "_view_count": null,
            "_view_module": "@jupyter-widgets/base",
            "_view_module_version": "1.2.0",
            "_view_name": "StyleView",
            "description_width": ""
          }
        },
        "3fee85f0b7a146108592e14191b5cb90": {
          "model_module": "@jupyter-widgets/base",
          "model_name": "LayoutModel",
          "model_module_version": "1.2.0",
          "state": {
            "_model_module": "@jupyter-widgets/base",
            "_model_module_version": "1.2.0",
            "_model_name": "LayoutModel",
            "_view_count": null,
            "_view_module": "@jupyter-widgets/base",
            "_view_module_version": "1.2.0",
            "_view_name": "LayoutView",
            "align_content": null,
            "align_items": null,
            "align_self": null,
            "border": null,
            "bottom": null,
            "display": null,
            "flex": "2",
            "flex_flow": null,
            "grid_area": null,
            "grid_auto_columns": null,
            "grid_auto_flow": null,
            "grid_auto_rows": null,
            "grid_column": null,
            "grid_gap": null,
            "grid_row": null,
            "grid_template_areas": null,
            "grid_template_columns": null,
            "grid_template_rows": null,
            "height": null,
            "justify_content": null,
            "justify_items": null,
            "left": null,
            "margin": null,
            "max_height": null,
            "max_width": null,
            "min_height": null,
            "min_width": null,
            "object_fit": null,
            "object_position": null,
            "order": null,
            "overflow": null,
            "overflow_x": null,
            "overflow_y": null,
            "padding": null,
            "right": null,
            "top": null,
            "visibility": null,
            "width": null
          }
        },
        "2ec8cf4be5b248898b0238fce1391e79": {
          "model_module": "@jupyter-widgets/controls",
          "model_name": "ProgressStyleModel",
          "model_module_version": "1.5.0",
          "state": {
            "_model_module": "@jupyter-widgets/controls",
            "_model_module_version": "1.5.0",
            "_model_name": "ProgressStyleModel",
            "_view_count": null,
            "_view_module": "@jupyter-widgets/base",
            "_view_module_version": "1.2.0",
            "_view_name": "StyleView",
            "bar_color": null,
            "description_width": ""
          }
        },
        "576d945bcaf340b381e2f00098948922": {
          "model_module": "@jupyter-widgets/base",
          "model_name": "LayoutModel",
          "model_module_version": "1.2.0",
          "state": {
            "_model_module": "@jupyter-widgets/base",
            "_model_module_version": "1.2.0",
            "_model_name": "LayoutModel",
            "_view_count": null,
            "_view_module": "@jupyter-widgets/base",
            "_view_module_version": "1.2.0",
            "_view_name": "LayoutView",
            "align_content": null,
            "align_items": null,
            "align_self": null,
            "border": null,
            "bottom": null,
            "display": null,
            "flex": null,
            "flex_flow": null,
            "grid_area": null,
            "grid_auto_columns": null,
            "grid_auto_flow": null,
            "grid_auto_rows": null,
            "grid_column": null,
            "grid_gap": null,
            "grid_row": null,
            "grid_template_areas": null,
            "grid_template_columns": null,
            "grid_template_rows": null,
            "height": null,
            "justify_content": null,
            "justify_items": null,
            "left": null,
            "margin": null,
            "max_height": null,
            "max_width": null,
            "min_height": null,
            "min_width": null,
            "object_fit": null,
            "object_position": null,
            "order": null,
            "overflow": null,
            "overflow_x": null,
            "overflow_y": null,
            "padding": null,
            "right": null,
            "top": null,
            "visibility": null,
            "width": null
          }
        },
        "bbee31b70b514195a547bdb763d47652": {
          "model_module": "@jupyter-widgets/controls",
          "model_name": "DescriptionStyleModel",
          "model_module_version": "1.5.0",
          "state": {
            "_model_module": "@jupyter-widgets/controls",
            "_model_module_version": "1.5.0",
            "_model_name": "DescriptionStyleModel",
            "_view_count": null,
            "_view_module": "@jupyter-widgets/base",
            "_view_module_version": "1.2.0",
            "_view_name": "StyleView",
            "description_width": ""
          }
        }
      }
    }
  },
  "nbformat": 4,
  "nbformat_minor": 0
}