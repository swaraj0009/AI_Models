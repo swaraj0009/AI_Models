{
  "cells": [
    {
      "cell_type": "markdown",
      "metadata": {
        "id": "view-in-github",
        "colab_type": "text"
      },
      "source": [
        "<a href=\"https://colab.research.google.com/github/swaraj0009/AI_Models/blob/master/TFT/notebooks/4_ttf_resource_forecast.ipynb\" target=\"_parent\"><img src=\"https://colab.research.google.com/assets/colab-badge.svg\" alt=\"Open In Colab\"/></a>"
      ]
    },
    {
      "cell_type": "markdown",
      "source": [
        "## Drive Loading"
      ],
      "metadata": {
        "id": "Zut3EaByhFTn"
      }
    },
    {
      "cell_type": "code",
      "source": [
        "from google.colab import drive\n",
        "drive.mount('/content/drive')"
      ],
      "metadata": {
        "colab": {
          "base_uri": "https://localhost:8080/"
        },
        "id": "9imFCsDrwtVO",
        "outputId": "d17eef6a-4510-4de4-f154-24c63293b1ba"
      },
      "execution_count": 1,
      "outputs": [
        {
          "output_type": "stream",
          "name": "stdout",
          "text": [
            "Mounted at /content/drive\n"
          ]
        }
      ]
    },
    {
      "cell_type": "markdown",
      "source": [
        "## Install Libraries"
      ],
      "metadata": {
        "id": "is7xTtSYgp0x"
      }
    },
    {
      "cell_type": "code",
      "source": [
        "# ⚡ Quick Setup - Run after runtime reset (CPU/GPU Switch)\n",
        "# Installs essential packages silently to save output clutter\n",
        "\n",
        "!pip install dask pytz torch pytorch-forecasting pytorch-lightning \\\n",
        "    rich colorama matplotlib seaborn pandas numpy tensorboard \\\n",
        "    'lightning[extra]' pyarrow fastparquet --quiet > /dev/null\n",
        "\n",
        "print(\"\\033[92m✅ All required packages installed successfully.\\033[0m\")"
      ],
      "metadata": {
        "collapsed": true,
        "colab": {
          "base_uri": "https://localhost:8080/"
        },
        "id": "C9TAeg3MxRMV",
        "outputId": "9a2da7b5-43a1-43b2-ce15-31e22eed2f1c"
      },
      "execution_count": 2,
      "outputs": [
        {
          "output_type": "stream",
          "name": "stdout",
          "text": [
            "\u001b[92m✅ All required packages installed successfully.\u001b[0m\n"
          ]
        }
      ]
    },
    {
      "cell_type": "markdown",
      "source": [
        "## Import Libraries"
      ],
      "metadata": {
        "id": "MEIX0ouRhGwT"
      }
    },
    {
      "cell_type": "code",
      "execution_count": null,
      "metadata": {
        "id": "zMD5usllwmtY"
      },
      "outputs": [],
      "source": [
        "# Standard Library\n",
        "import os\n",
        "import datetime\n",
        "import glob\n",
        "import json\n",
        "import shutil\n",
        "import math\n",
        "import pytz\n",
        "from concurrent.futures import ThreadPoolExecutor\n",
        "\n",
        "# Third-Party Libraries\n",
        "import numpy as np\n",
        "import pandas as pd\n",
        "import dask.dataframe as dd\n",
        "import matplotlib.pyplot as plt\n",
        "import seaborn as sns\n",
        "\n",
        "import torch\n",
        "\n",
        "# PyTorch Lightning\n",
        "# from datetime import datetime\n",
        "import pytorch_forecasting\n",
        "from pytorch_lightning import Trainer\n",
        "from pytorch_lightning.loggers import CSVLogger\n",
        "from pytorch_lightning.callbacks import ModelCheckpoint\n",
        "\n",
        "# PyTorch Forecasting\n",
        "from pytorch_forecasting import TimeSeriesDataSet, TemporalFusionTransformer\n",
        "from pytorch_forecasting.data import GroupNormalizer\n",
        "from pytorch_forecasting.metrics import RMSE\n",
        "\n",
        "ist = pytz.timezone('Asia/Kolkata')\n",
        "now_ist = datetime.datetime.now(ist)\n",
        "timestamp = now_ist.strftime(\"%Y%m%d-%H%M%S\")\n",
        "print(f\"All Libraries are loaded : {timestamp}\")"
      ]
    },
    {
      "cell_type": "markdown",
      "source": [
        "## Fetch Top 200 Vms data"
      ],
      "metadata": {
        "id": "0F3OxjHFFuec"
      }
    },
    {
      "cell_type": "code",
      "source": [
        "# import os\n",
        "# import pyarrow.dataset as ds\n",
        "# import pandas as pd\n",
        "# import dask.dataframe as dd\n",
        "\n",
        "# # --- CONFIGURATION ---\n",
        "\n",
        "# # Base folder where all VM folders live\n",
        "# parquet_path = \"/content/drive/MyDrive/datasets/processed/FeatureEngcolab\"\n",
        "\n",
        "# # Output CSV for top VMs\n",
        "# output_csv = \"/content/drive/MyDrive/datasets/processed/top_vms_fast.csv\"\n",
        "\n",
        "# # Thresholds\n",
        "# min_required_rows = 6000\n",
        "# top_n_vms = 200\n",
        "\n",
        "# # --- SCAN VM FOLDERS ---\n",
        "\n",
        "# vm_folders = sorted([\n",
        "#     name for name in os.listdir(parquet_path) if name.startswith(\"VM\")\n",
        "# ])\n",
        "# print(f\"🔍 Found {len(vm_folders)} VM folders.\")\n",
        "\n",
        "# vm_sizes = []\n",
        "\n",
        "# for vm_folder in vm_folders:\n",
        "#     folder_path = os.path.join(parquet_path, vm_folder)\n",
        "#     try:\n",
        "#         # Create a dataset pointing to the folder\n",
        "#         dataset = ds.dataset(folder_path, format=\"parquet\")\n",
        "#         num_rows = dataset.count_rows()\n",
        "\n",
        "#         if num_rows >= min_required_rows:\n",
        "#             vm_id = vm_folder.split(\"=\")[1]\n",
        "#             vm_sizes.append((vm_id, num_rows))\n",
        "#     except Exception as e:\n",
        "#         print(f\"⚠️ Skipped {vm_folder}: {e}\")\n",
        "\n",
        "# # --- FILTER AND SAVE ---\n",
        "\n",
        "# vm_stats_df = pd.DataFrame(vm_sizes, columns=[\"vm_id\", \"row_count\"])\n",
        "# top_vms_df = vm_stats_df.sort_values(by=\"row_count\", ascending=False).head(top_n_vms)\n",
        "\n",
        "# print(f\"\\n✅ Selected Top {top_n_vms} VMs with ≥ {min_required_rows} rows\")\n",
        "# print(top_vms_df.head())\n",
        "\n",
        "# top_vms_df.to_csv(output_csv, index=False)\n",
        "# print(f\"📁 Saved to: {output_csv}\")\n",
        "\n",
        "# # --- LOAD SELECTED VMs USING DASK ---\n",
        "\n",
        "# selected_vms = top_vms_df[\"vm_id\"].tolist()\n",
        "\n",
        "# df3 = dd.read_parquet(\n",
        "#     parquet_path,\n",
        "#     filters=[(\"VM\", \"in\", selected_vms)]\n",
        "# ).compute()\n",
        "\n",
        "# print(f\"\\n📦 Final Loaded Data Shape: {df3.shape}\")"
      ],
      "metadata": {
        "id": "-v62FJRe7Ybu"
      },
      "execution_count": 4,
      "outputs": []
    },
    {
      "cell_type": "markdown",
      "source": [
        "## User Configurable Parameters"
      ],
      "metadata": {
        "id": "YsYJkzavg7c5"
      }
    },
    {
      "cell_type": "code",
      "source": [
        "\n",
        "# Data path & VM selection\n",
        "parquet_path = \"/content/drive/MyDrive/datasets/processed/FeatureEngcolab\"\n",
        "\n",
        "output_csv = \"/content/drive/MyDrive/datasets/processed/top_vms_fast.csv\"\n",
        "\n",
        "# e.g., 50, 100, 250 etc.\n",
        "num_vms_to_load = 200\n",
        "\n",
        "# Model training parameters\n",
        "train_config = {\n",
        "    \"targets\": ['cpu_utilization_ratio','memory_utilization_ratio'],\n",
        "    # \"targets\": ['disk_total_throughput','network_total_throughput'],\n",
        "    \"time_varying_known_reals\": ['time_idx', 'hour_sin', 'hour_cos', 'dayofweek_sin', 'dayofweek_cos', 'month_sin', 'month_cos'],\n",
        "    \"time_varying_unknown_reals\": [\"CPU usage [%]\", \"Memory usage [KB]\", \"cpu_util_percent\", \"memory_util_percent\"],\n",
        "    # \"time_varying_unknown_reals\": [\"Disk read throughput [KB/s]\", \"Disk write throughput [KB/s]\", \"Network received throughput [KB/s]\", \"Network transmitted throughput [KB/s]\", \"disk_rolling_mean\", \"disk_rolling_std\", \"network_rolling_mean\", \"network_rolling_std\"],\n",
        "    \"group_ids\": ['vm_id'],\n",
        "    \"max_encoder_length\": 4000,\n",
        "    \"max_prediction_length\": 2016,\n",
        "    \"hidden_size\": 16,\n",
        "    \"dropout\": 0.2,\n",
        "    \"learning_rate\": 0.001,\n",
        "    \"batch_size\": 4,\n",
        "    \"num_workers\": 2,\n",
        "    \"early_stopping_patience\": 5,\n",
        "    \"epochs\": 10,\n",
        "    \"loss_fn\": RMSE(),\n",
        "    \"output_base_dir\": \"/content/drive/MyDrive/output\",\n",
        "    \"log_dir\": \"/content/drive/MyDrive/output/logs\"\n",
        "}\n",
        "\n",
        "# VM count for folder naming (update if needed)\n",
        "vm_count = f\"{num_vms_to_load}VMs\""
      ],
      "metadata": {
        "id": "Y4lrYzgxwbLr"
      },
      "execution_count": 54,
      "outputs": []
    },
    {
      "cell_type": "markdown",
      "source": [
        "## VM Configure"
      ],
      "metadata": {
        "id": "iIP9NMkMhW4b"
      }
    },
    {
      "cell_type": "code",
      "source": [
        "# Read top VMs list (expecting column 'vm_id')\n",
        "top_vms_df = pd.read_csv(output_csv)\n",
        "top_vm_ids = top_vms_df['vm_id'].astype(str).tolist()\n",
        "\n",
        "print(f\"✅ Total Top VMs to Load: {len(top_vm_ids)}\")\n",
        "\n",
        "# Read only selected VMs from parquet using Dask with filters\n",
        "df3 = dd.read_parquet(\n",
        "    parquet_path,\n",
        "    filters=[(\"VM\", \"in\", top_vm_ids)]\n",
        ").compute()\n",
        "\n",
        "# Rename VM column for consistency\n",
        "df3 = df3.rename(columns={'VM': 'vm_id'})\n",
        "\n",
        "print(f\"✅ Loaded VM Data → Shape: {df3.shape}\")\n",
        "print(f\"🧠 Unique VMs in data: {df3['vm_id'].nunique()}\")"
      ],
      "metadata": {
        "colab": {
          "base_uri": "https://localhost:8080/"
        },
        "id": "kSFyV3GBVwiJ",
        "outputId": "f5b05289-32d8-4d80-d78b-2a7f176525e2"
      },
      "execution_count": 28,
      "outputs": [
        {
          "output_type": "stream",
          "name": "stdout",
          "text": [
            "✅ Total Top VMs to Load: 200\n",
            "✅ Loaded VM Data → Shape: (1727800, 50)\n",
            "🧠 Unique VMs in data: 200\n"
          ]
        }
      ]
    },
    {
      "cell_type": "markdown",
      "source": [
        "## Columns Filter"
      ],
      "metadata": {
        "id": "rDSk5HS0iVcy"
      }
    },
    {
      "cell_type": "code",
      "execution_count": 29,
      "metadata": {
        "id": "JpDH8N3TwmtZ",
        "colab": {
          "base_uri": "https://localhost:8080/"
        },
        "outputId": "15881c89-87d6-48f0-fa9b-1933021cf3bf"
      },
      "outputs": [
        {
          "output_type": "stream",
          "name": "stdout",
          "text": [
            "📊 Columns available before filtering: 50\n",
            "['timestamp', 'Timestamp [s]', 'CPU cores', 'CPU capacity provisioned [MHZ]', 'CPU usage [MHZ]', 'CPU usage [%]', 'Memory capacity provisioned [KB]', 'Memory usage [KB]', 'Disk read throughput [KB/s]', 'Disk write throughput [KB/s]', 'Network received throughput [KB/s]', 'Network transmitted throughput [KB/s]', 'time_idx', 'time_diff', 'hour', 'dayofweek', 'is_weekend', 'month', 'day', 'hour_sin', 'hour_cos', 'dayofweek_sin', 'dayofweek_cos', 'month_sin', 'month_cos', 'cpu_utilization_ratio', 'memory_utilization_ratio', 'cpu_util_percent', 'memory_util_percent', 'cpu_util_prev', 'cpu_util_diff', 'memory_util_prev', 'memory_util_diff', 'disk_total_throughput', 'disk_rolling_mean', 'disk_rolling_std', 'network_total_throughput', 'network_rolling_mean', 'network_rolling_std', 'disk_read_prev', 'disk_read_diff', 'disk_write_prev', 'disk_write_diff', 'network_received_prev', 'network_received_diff', 'network_transmitted_prev', 'network_transmitted_diff', 'network_total_prev', 'network_total_diff', 'vm_id']\n",
            "✅ Columns after filtering: 15\n",
            "\u001b[94mℹ️ Clean DataFrame → Columns: 15 | Shape: (1702799, 15)\u001b[0m\n"
          ]
        }
      ],
      "source": [
        "df3 = df3.rename(columns={'VM': 'vm_id'})\n",
        "\n",
        "tft_df = df3.dropna(subset=[\n",
        "    'cpu_utilization_ratio',\n",
        "    'memory_utilization_ratio',\n",
        "    'disk_total_throughput',\n",
        "    'network_total_throughput'\n",
        "])\n",
        "\n",
        "# Convert Dask to Pandas\n",
        "tft_df = tft_df.compute() if 'dask' in str(type(tft_df)) else tft_df\n",
        "\n",
        "print(f\"📊 Columns available before filtering: {len(tft_df.columns)}\")\n",
        "print(tft_df.columns.tolist())\n",
        "\n",
        "# ✅ Drop unused columns - place this here\n",
        "columns_to_keep = (\n",
        "    train_config[\"time_varying_known_reals\"]\n",
        "    + train_config[\"time_varying_unknown_reals\"]\n",
        "    + train_config[\"targets\"]\n",
        "    + train_config[\"group_ids\"]\n",
        "    + ['time_idx', 'timestamp']\n",
        ")\n",
        "columns_to_keep = list(set(columns_to_keep))  # Remove duplicates if any\n",
        "tft_df = tft_df[columns_to_keep]\n",
        "\n",
        "print(f\"✅ Columns after filtering: {len(tft_df.columns)}\")\n",
        "\n",
        "    # Confirm category conversion only after filtering\n",
        "tft_df[\"vm_id\"] = tft_df[\"vm_id\"].astype(\"category\")\n",
        "tft_df[\"vm_id\"] = tft_df[\"vm_id\"].cat.remove_unused_categories()\n",
        "\n",
        "print(f\"\\033[94mℹ️ Clean DataFrame → Columns: {len(tft_df.columns)} | Shape: {tft_df.shape}\\033[0m\")\n"
      ]
    },
    {
      "cell_type": "markdown",
      "source": [
        "## 70:30 Split Logic with Reset Index"
      ],
      "metadata": {
        "id": "7lxANWba7IRD"
      }
    },
    {
      "cell_type": "code",
      "source": [
        "# Reset index (important for unique indexing)\n",
        "tft_df = tft_df.reset_index(drop=True)\n",
        "\n",
        "train_ratio = 0.7\n",
        "\n",
        "# Convert time_idx to integer\n",
        "tft_df['time_idx'] = tft_df['time_idx'].astype(int)\n",
        "\n",
        "# Determine the split point for training and validation\n",
        "max_time_idx = tft_df['time_idx'].max()\n",
        "split_point = int(max_time_idx * train_ratio)\n",
        "\n",
        "# Split data into training and validation sets\n",
        "train_df = tft_df[tft_df.time_idx <= split_point].copy()\n",
        "val_df = tft_df[tft_df.time_idx > split_point].copy()"
      ],
      "metadata": {
        "id": "pEgkRazj7DZb"
      },
      "execution_count": null,
      "outputs": []
    },
    {
      "cell_type": "markdown",
      "source": [
        "## Pre validation check for split for Encoder & prediction"
      ],
      "metadata": {
        "id": "ZYOMUIIL7gi9"
      }
    },
    {
      "cell_type": "code",
      "source": [
        "# ---- Evaluation of time window sufficiency ----\n",
        "\n",
        "max_encoder_length = train_config[\"max_encoder_length\"]\n",
        "max_prediction_length = train_config[\"max_prediction_length\"]\n",
        "\n",
        "\n",
        "# How many unique time_idx values in each split?\n",
        "train_time_steps = train_df['time_idx'].nunique()\n",
        "val_time_steps = val_df['time_idx'].nunique()\n",
        "\n",
        "# Required steps\n",
        "required_train_steps = max_encoder_length + max_prediction_length\n",
        "required_val_steps = max_prediction_length\n",
        "print(\"\\n📊 Check: Config\\n\")\n",
        "\n",
        "print(f\"🟩 Max Encoder Length: {max_encoder_length}\")\n",
        "print(f\"🟨 Max Prediction Length: {max_prediction_length}\")\n",
        "print(f\"🟩 Both Combined: {required_train_steps}\")\n",
        "\n",
        "print(\"\\n📊 Check: Does the split satisfy the window requirements?\\n\")\n",
        "\n",
        "print(f\"🟩 Total Row Length: {max_time_idx}\")\n",
        "print(f\"🟩 Train Time Steps: {train_time_steps} (Required: ≥ {required_train_steps})\")\n",
        "print(f\"🟨 Val Time Steps  : {val_time_steps} (Required: ≥ {required_val_steps})\")\n",
        "\n",
        "if train_time_steps >= required_train_steps:\n",
        "    print(\"✅ Training window satisfies requirement.\")\n",
        "else:\n",
        "    print(\"❌ Training window too short.\")\n",
        "\n",
        "if val_time_steps >= required_val_steps:\n",
        "    print(\"✅ Validation window satisfies requirement.\")\n",
        "else:\n",
        "    print(\"❌ Validation window too short.\")\n",
        "\n",
        "\n",
        "# Training needs: max_encoder_length + max_prediction_length\n",
        "# Validation needs: max_prediction_length"
      ],
      "metadata": {
        "id": "4fLQyI2hqd-_",
        "outputId": "127b20cd-c3f9-49f2-e5d7-8c2d380f3265",
        "colab": {
          "base_uri": "https://localhost:8080/"
        }
      },
      "execution_count": 56,
      "outputs": [
        {
          "output_type": "stream",
          "name": "stdout",
          "text": [
            "\n",
            "📊 Check: Config\n",
            "\n",
            "🟩 Max Encoder Length: 4000\n",
            "🟨 Max Prediction Length: 2016\n",
            "🟩 Both Combined: 6016\n",
            "\n",
            "📊 Check: Does the split satisfy the window requirements?\n",
            "\n",
            "🟩 Total Row Length: 8639\n",
            "🟩 Train Time Steps: 6047 (Required: ≥ 6016)\n",
            "🟨 Val Time Steps  : 2592 (Required: ≥ 2016)\n",
            "✅ Training window satisfies requirement.\n",
            "✅ Validation window satisfies requirement.\n"
          ]
        }
      ]
    },
    {
      "cell_type": "markdown",
      "source": [
        "## Variable summary before Modeling"
      ],
      "metadata": {
        "id": "KCszK3G1uwsd"
      }
    },
    {
      "cell_type": "code",
      "source": [
        "import seaborn as sns\n",
        "import matplotlib.pyplot as plt\n",
        "\n",
        "# ✅ Step 1: Count time_idx per VM\n",
        "vm_time_lengths = tft_df.groupby(\"vm_id\",observed=False)[\"time_idx\"].nunique().sort_values()\n",
        "\n",
        "# ✅ Step 2: Identify valid VMs\n",
        "valid_vm_ids = vm_time_lengths[vm_time_lengths >= required_train_steps].index\n",
        "invalid_vm_ids = vm_time_lengths[vm_time_lengths < required_train_steps].index\n",
        "\n",
        "# ✅ Step 3: Report summary\n",
        "print(\"\\n📊 VM Time Index Analysis:\")\n",
        "print(f\"- Total VMs              : {len(vm_time_lengths):,}\")\n",
        "print(f\"- Min steps per VM       : {vm_time_lengths.min()}\")\n",
        "print(f\"- Max steps per VM       : {vm_time_lengths.max()}\")\n",
        "print(f\"- Required per VM        : {required_train_steps}\")\n",
        "print(f\"- ✅ Valid VMs            : {len(valid_vm_ids):,}\")\n",
        "print(f\"- ❌ Invalid VMs          : {len(invalid_vm_ids):,}\")\n",
        "print(f\"- % Valid VMs            : {100 * len(valid_vm_ids) / len(vm_time_lengths):.2f}%\")\n",
        "\n",
        "\n",
        "# ✅ Step 4 (Optional): Filter invalid VMs\n",
        "tft_df = tft_df[tft_df[\"vm_id\"].isin(valid_vm_ids)]\n",
        "\n",
        "# ✅ Step 5 (Optional): Histogram\n",
        "plt.figure(figsize=(8, 5))\n",
        "sns.histplot(vm_time_lengths, bins=40, kde=False, color=\"steelblue\")\n",
        "plt.axvline(required_train_steps, color=\"red\", linestyle=\"--\", label=f\"min_required={min_required_steps}\")\n",
        "plt.title(\"Time Steps Per VM\")\n",
        "plt.xlabel(\"Time Steps\")\n",
        "plt.ylabel(\"VM Count\")\n",
        "plt.legend()\n",
        "plt.grid(True)\n",
        "plt.tight_layout()\n",
        "plt.show()"
      ],
      "metadata": {
        "id": "7Z-9l7eg5-3j",
        "colab": {
          "base_uri": "https://localhost:8080/",
          "height": 668
        },
        "outputId": "065d9df1-3033-4a84-ce94-5fa79a437a1d"
      },
      "execution_count": 57,
      "outputs": [
        {
          "output_type": "stream",
          "name": "stdout",
          "text": [
            "\n",
            "📊 VM Time Index Analysis:\n",
            "- Total VMs              : 200\n",
            "- Min steps per VM       : 1105\n",
            "- Max steps per VM       : 8639\n",
            "- Required per VM        : 6016\n",
            "- ✅ Valid VMs            : 196\n",
            "- ❌ Invalid VMs          : 4\n",
            "- % Valid VMs            : 98.00%\n"
          ]
        },
        {
          "output_type": "display_data",
          "data": {
            "text/plain": [
              "<Figure size 800x500 with 1 Axes>"
            ],
            "image/png": "[encoded data removed]"
          },
          "metadata": {}
        }
      ]
    },
    {
      "cell_type": "markdown",
      "source": [
        "## Dataset and dataloaders ready"
      ],
      "metadata": {
        "id": "zs0rxyuQuH1c"
      }
    },
    {
      "cell_type": "code",
      "source": [
        "# Fill missing values in relevant columns\n",
        "# fill_cols = ['disk_rolling_mean', 'network_rolling_mean', 'disk_rolling_std', 'network_rolling_std']\n",
        "# for col in fill_cols:\n",
        "#     if col in train_df.columns:\n",
        "#         train_df[col] = train_df[col].fillna(0)\n",
        "#     if col in val_df.columns:\n",
        "#         val_df[col] = val_df[col].fillna(0)\n",
        "\n",
        "# Prepare TimeSeriesDataSet for training portion (80%)\n",
        "dataset = TimeSeriesDataSet(\n",
        "    train_df,\n",
        "    time_idx='time_idx',\n",
        "    target=train_config[\"targets\"][0],  # 'cpu_utilization_ratio' here\n",
        "    group_ids=train_config[\"group_ids\"],\n",
        "    max_encoder_length=train_config[\"max_encoder_length\"],\n",
        "    max_prediction_length=train_config[\"max_prediction_length\"],\n",
        "    time_varying_known_reals=train_config[\"time_varying_known_reals\"],\n",
        "    time_varying_unknown_reals=train_config[\"time_varying_unknown_reals\"],\n",
        "    target_normalizer=GroupNormalizer(groups=train_config[\"group_ids\"]),\n",
        "    add_relative_time_idx=True,\n",
        "    add_target_scales=True,\n",
        "    add_encoder_length=True,\n",
        "    allow_missing_timesteps=True\n",
        ")\n",
        "\n",
        "# Validation dataset for prediction (no randomization, full data)\n",
        "# ✅ \"TimeSeriesDataSet applies sliding window logic on the training data,\n",
        "# using the full configuration like past steps, future steps, groups, and prepares the dataset accordingly.\"\n",
        "\n",
        "val_df = val_df.reset_index(drop=True) # Reset index of val_df\n",
        "\n",
        "val_dataset = TimeSeriesDataSet.from_dataset(\n",
        "    dataset, val_df, predict=True, stop_randomization=True\n",
        ")\n",
        "\n",
        "# Create dataloaders\n",
        "# performs Batching, Padding, Time-aware slicing for forecasting\n",
        "\n",
        "train_dataloader = dataset.to_dataloader(\n",
        "    train=True,\n",
        "    batch_size=train_config[\"batch_size\"],\n",
        "    num_workers=train_config[\"num_workers\"]\n",
        ")\n",
        "\n",
        "val_dataloader = val_dataset.to_dataloader(\n",
        "    train=False,\n",
        "    batch_size=train_config[\"batch_size\"],\n",
        "    num_workers=train_config[\"num_workers\"]\n",
        ")\n",
        "\n",
        "\n",
        "print(f\"✅ Dataset and dataloaders ready. Train batches: {len(train_dataloader)}, Val batches: {len(val_dataloader)}\")"
      ],
      "metadata": {
        "colab": {
          "base_uri": "https://localhost:8080/",
          "height": 382
        },
        "id": "RkrZt4FfzkVZ",
        "outputId": "ba4c98a7-a388-41e8-c8c0-51d85f466c80"
      },
      "execution_count": 58,
      "outputs": [
        {
          "output_type": "error",
          "ename": "AssertionError",
          "evalue": "filters should not remove entries all entries - check encoder/decoder lengths and lags",
          "traceback": [
            "\u001b[0;31m---------------------------------------------------------------------------\u001b[0m",
            "\u001b[0;31mAssertionError\u001b[0m                            Traceback (most recent call last)",
            "\u001b[0;32m/tmp/ipython-input-58-4136169343.py\u001b[0m in \u001b[0;36m<cell line: 0>\u001b[0;34m()\u001b[0m\n\u001b[1;32m     30\u001b[0m \u001b[0mval_df\u001b[0m \u001b[0;34m=\u001b[0m \u001b[0mval_df\u001b[0m\u001b[0;34m.\u001b[0m\u001b[0mreset_index\u001b[0m\u001b[0;34m(\u001b[0m\u001b[0mdrop\u001b[0m\u001b[0;34m=\u001b[0m\u001b[0;32mTrue\u001b[0m\u001b[0;34m)\u001b[0m \u001b[0;31m# Reset index of val_df\u001b[0m\u001b[0;34m\u001b[0m\u001b[0;34m\u001b[0m\u001b[0m\n\u001b[1;32m     31\u001b[0m \u001b[0;34m\u001b[0m\u001b[0m\n\u001b[0;32m---> 32\u001b[0;31m val_dataset = TimeSeriesDataSet.from_dataset(\n\u001b[0m\u001b[1;32m     33\u001b[0m     \u001b[0mdataset\u001b[0m\u001b[0;34m,\u001b[0m \u001b[0mval_df\u001b[0m\u001b[0;34m,\u001b[0m \u001b[0mpredict\u001b[0m\u001b[0;34m=\u001b[0m\u001b[0;32mTrue\u001b[0m\u001b[0;34m,\u001b[0m \u001b[0mstop_randomization\u001b[0m\u001b[0;34m=\u001b[0m\u001b[0;32mTrue\u001b[0m\u001b[0;34m\u001b[0m\u001b[0;34m\u001b[0m\u001b[0m\n\u001b[1;32m     34\u001b[0m )\n",
            "\u001b[0;32m/usr/local/lib/python3.11/dist-packages/pytorch_forecasting/data/timeseries/_timeseries.py\u001b[0m in \u001b[0;36mfrom_dataset\u001b[0;34m(cls, dataset, data, stop_randomization, predict, **update_kwargs)\u001b[0m\n\u001b[1;32m   1661\u001b[0m             \u001b[0mnew\u001b[0m \u001b[0mdataset\u001b[0m\u001b[0;34m\u001b[0m\u001b[0;34m\u001b[0m\u001b[0m\n\u001b[1;32m   1662\u001b[0m         \"\"\"\n\u001b[0;32m-> 1663\u001b[0;31m         return cls.from_parameters(\n\u001b[0m\u001b[1;32m   1664\u001b[0m             \u001b[0mdataset\u001b[0m\u001b[0;34m.\u001b[0m\u001b[0mget_parameters\u001b[0m\u001b[0;34m(\u001b[0m\u001b[0;34m)\u001b[0m\u001b[0;34m,\u001b[0m\u001b[0;34m\u001b[0m\u001b[0;34m\u001b[0m\u001b[0m\n\u001b[1;32m   1665\u001b[0m             \u001b[0mdata\u001b[0m\u001b[0;34m,\u001b[0m\u001b[0;34m\u001b[0m\u001b[0;34m\u001b[0m\u001b[0m\n",
            "\u001b[0;32m/usr/local/lib/python3.11/dist-packages/pytorch_forecasting/data/timeseries/_timeseries.py\u001b[0m in \u001b[0;36mfrom_parameters\u001b[0;34m(cls, parameters, data, stop_randomization, predict, **update_kwargs)\u001b[0m\n\u001b[1;32m   1723\u001b[0m         \u001b[0mparameters\u001b[0m\u001b[0;34m.\u001b[0m\u001b[0mupdate\u001b[0m\u001b[0;34m(\u001b[0m\u001b[0mupdate_kwargs\u001b[0m\u001b[0;34m)\u001b[0m\u001b[0;34m\u001b[0m\u001b[0;34m\u001b[0m\u001b[0m\n\u001b[1;32m   1724\u001b[0m \u001b[0;34m\u001b[0m\u001b[0m\n\u001b[0;32m-> 1725\u001b[0;31m         \u001b[0mnew\u001b[0m \u001b[0;34m=\u001b[0m \u001b[0mcls\u001b[0m\u001b[0;34m(\u001b[0m\u001b[0mdata\u001b[0m\u001b[0;34m,\u001b[0m \u001b[0;34m**\u001b[0m\u001b[0mparameters\u001b[0m\u001b[0;34m)\u001b[0m\u001b[0;34m\u001b[0m\u001b[0;34m\u001b[0m\u001b[0m\n\u001b[0m\u001b[1;32m   1726\u001b[0m         \u001b[0;32mreturn\u001b[0m \u001b[0mnew\u001b[0m\u001b[0;34m\u001b[0m\u001b[0;34m\u001b[0m\u001b[0m\n\u001b[1;32m   1727\u001b[0m \u001b[0;34m\u001b[0m\u001b[0m\n",
            "\u001b[0;32m/usr/local/lib/python3.11/dist-packages/pytorch_forecasting/data/timeseries/_timeseries.py\u001b[0m in \u001b[0;36m__init__\u001b[0;34m(self, data, time_idx, target, group_ids, weight, max_encoder_length, min_encoder_length, min_prediction_idx, min_prediction_length, max_prediction_length, static_categoricals, static_reals, time_varying_known_categoricals, time_varying_known_reals, time_varying_unknown_categoricals, time_varying_unknown_reals, variable_groups, constant_fill_strategy, allow_missing_timesteps, lags, add_relative_time_idx, add_target_scales, add_encoder_length, target_normalizer, categorical_encoders, scalers, randomize_length, predict_mode)\u001b[0m\n\u001b[1;32m    644\u001b[0m \u001b[0;34m\u001b[0m\u001b[0m\n\u001b[1;32m    645\u001b[0m         \u001b[0;31m# create index\u001b[0m\u001b[0;34m\u001b[0m\u001b[0;34m\u001b[0m\u001b[0m\n\u001b[0;32m--> 646\u001b[0;31m         \u001b[0mself\u001b[0m\u001b[0;34m.\u001b[0m\u001b[0mindex\u001b[0m \u001b[0;34m=\u001b[0m \u001b[0mself\u001b[0m\u001b[0;34m.\u001b[0m\u001b[0m_construct_index\u001b[0m\u001b[0;34m(\u001b[0m\u001b[0mdata\u001b[0m\u001b[0;34m,\u001b[0m \u001b[0mpredict_mode\u001b[0m\u001b[0;34m=\u001b[0m\u001b[0mself\u001b[0m\u001b[0;34m.\u001b[0m\u001b[0mpredict_mode\u001b[0m\u001b[0;34m)\u001b[0m\u001b[0;34m\u001b[0m\u001b[0;34m\u001b[0m\u001b[0m\n\u001b[0m\u001b[1;32m    647\u001b[0m \u001b[0;34m\u001b[0m\u001b[0m\n\u001b[1;32m    648\u001b[0m         \u001b[0;31m# data conversion to torch tensors\u001b[0m\u001b[0;34m\u001b[0m\u001b[0;34m\u001b[0m\u001b[0m\n",
            "\u001b[0;32m/usr/local/lib/python3.11/dist-packages/pytorch_forecasting/data/timeseries/_timeseries.py\u001b[0m in \u001b[0;36m_construct_index\u001b[0;34m(self, data, predict_mode)\u001b[0m\n\u001b[1;32m   1859\u001b[0m             \u001b[0;34m\"check encoder/decoder lengths and lags\"\u001b[0m\u001b[0;34m\u001b[0m\u001b[0;34m\u001b[0m\u001b[0m\n\u001b[1;32m   1860\u001b[0m         )\n\u001b[0;32m-> 1861\u001b[0;31m         \u001b[0;32massert\u001b[0m \u001b[0mlen\u001b[0m\u001b[0;34m(\u001b[0m\u001b[0mdf_index\u001b[0m\u001b[0;34m)\u001b[0m \u001b[0;34m>\u001b[0m \u001b[0;36m0\u001b[0m\u001b[0;34m,\u001b[0m \u001b[0mmsg\u001b[0m\u001b[0;34m\u001b[0m\u001b[0;34m\u001b[0m\u001b[0m\n\u001b[0m\u001b[1;32m   1862\u001b[0m \u001b[0;34m\u001b[0m\u001b[0m\n\u001b[1;32m   1863\u001b[0m         \u001b[0;32mreturn\u001b[0m \u001b[0mdf_index\u001b[0m\u001b[0;34m\u001b[0m\u001b[0;34m\u001b[0m\u001b[0m\n",
            "\u001b[0;31mAssertionError\u001b[0m: filters should not remove entries all entries - check encoder/decoder lengths and lags"
          ]
        }
      ]
    },
    {
      "cell_type": "markdown",
      "source": [
        "## Output & Log Folder Creation"
      ],
      "metadata": {
        "id": "BoJ1pukZhskL"
      }
    },
    {
      "cell_type": "code",
      "source": [
        "# Setup output and log folders based on run config\n",
        "\n",
        "import pytz\n",
        "import datetime\n",
        "\n",
        "ist = pytz.timezone('Asia/Kolkata')\n",
        "now_ist = datetime.datetime.now(ist)\n",
        "timestamp = now_ist.strftime(\"%Y%m%d-%H%M%S\")\n",
        "\n",
        "def get_run_folder_name(train_config, vm_count):\n",
        "    target = \"cpu\"\n",
        "    past = f\"past{train_config['max_encoder_length']}\"\n",
        "    fut = f\"fut{train_config['max_prediction_length']}\"\n",
        "    batch = f\"bs{train_config['batch_size']}\"\n",
        "    lr = f\"lr{train_config['learning_rate']:.0e}\".replace('+0', '')\n",
        "    hid = f\"hid{train_config['hidden_size']}\"\n",
        "\n",
        "    return f\"{target}_{vm_count}_{past}_{fut}_{batch}_{lr}_{hid}_{timestamp}\"\n",
        "\n",
        "folder_name = get_run_folder_name(train_config, vm_count)\n",
        "\n",
        "train_config[\"output_base_dir\"] = os.path.join(train_config[\"output_base_dir\"], folder_name)\n",
        "train_config[\"log_dir\"] = os.path.join(train_config[\"log_dir\"], folder_name)\n",
        "\n",
        "os.makedirs(train_config[\"output_base_dir\"], exist_ok=True)\n",
        "os.makedirs(train_config[\"log_dir\"], exist_ok=True)\n",
        "\n",
        "print(\"Output directory:\", train_config[\"output_base_dir\"])\n",
        "print(\"Log directory:\", train_config[\"log_dir\"])\n",
        "\n",
        "# Now you can proceed to model training using `tft_df` and `train_config` as usual."
      ],
      "metadata": {
        "id": "Ib5yqZQz-9PZ"
      },
      "execution_count": null,
      "outputs": []
    },
    {
      "cell_type": "markdown",
      "source": [
        "## Logging & Callbacks"
      ],
      "metadata": {
        "id": "tLG5FXgbvkJs"
      }
    },
    {
      "cell_type": "code",
      "source": [
        "# Logging & Callbacks\n",
        "from pytorch_lightning.callbacks import EarlyStopping\n",
        "\n",
        "for target in train_config[\"targets\"]:\n",
        "    print(f\"\\n🔁 Training for target: {target}\")\n",
        "\n",
        "    run_dir = os.path.join(train_config[\"output_base_dir\"], f\"{target}_run_{timestamp}\")\n",
        "    os.makedirs(run_dir, exist_ok=True)\n",
        "\n",
        "    # Save Raw cleaned DF for inspection (TFT input format)\n",
        "    tft_df.to_csv(f\"{run_dir}/tft_df.csv\", index=False)\n",
        "\n",
        "    # Save structured TimeSeriesDataset (structure, scalers, etc.)\n",
        "    dataset.save(f\"{run_dir}/tft_df_metadata\")  # <-- .save stores dataset metadata\n",
        "\n",
        "    # Save metadata for mapping forecasts (VM, time)\n",
        "    meta_cols = ['vm_id', 'timestamp', 'time_idx']\n",
        "\n",
        "    if all(col in val_df.columns for col in meta_cols):\n",
        "        meta_df = val_df[meta_cols].reset_index(drop=True)\n",
        "        meta_df.to_csv(f\"{run_dir}/forecast_metadata.csv\", index=False)\n",
        "        print(f\"✅ Metadata saved to: {run_dir}/forecast_metadata.csv\")\n",
        "    else:\n",
        "        print(f\"⚠️ Skipping metadata save — columns not found: {meta_cols}\")\n",
        "\n",
        "    # Setup logging & checkpointing\n",
        "    logger = CSVLogger(save_dir=train_config[\"log_dir\"], name=f\"{target}_log\")\n",
        "\n",
        "    checkpoint_callback = ModelCheckpoint(\n",
        "        monitor=\"val_loss\",\n",
        "        dirpath=run_dir,\n",
        "        filename=\"tft-{epoch:02d}-{val_loss:.2f}\",\n",
        "        save_top_k=1,\n",
        "        save_last=True,\n",
        "        mode=\"min\"\n",
        "    )\n",
        "\n",
        "    early_stopping = EarlyStopping(\n",
        "        monitor=\"val_loss\",\n",
        "        patience=train_config[\"early_stopping_patience\"],\n",
        "        mode=\"min\"\n",
        "    )"
      ],
      "metadata": {
        "id": "X07NZKn0SeUH"
      },
      "execution_count": null,
      "outputs": []
    },
    {
      "cell_type": "markdown",
      "source": [
        "## Model, Lightning, Trainer"
      ],
      "metadata": {
        "id": "XuuT4XcivziV"
      }
    },
    {
      "cell_type": "code",
      "source": [
        "import pytorch_lightning as pl\n",
        "\n",
        "class TFTLightningModule(pl.LightningModule):\n",
        "    def __init__(self, tft_model: TemporalFusionTransformer, learning_rate: float, loss_fn: torch.nn.Module):\n",
        "        super().__init__()\n",
        "        self.tft_model = tft_model\n",
        "        self.learning_rate = learning_rate\n",
        "        self.loss_fn = loss_fn\n",
        "\n",
        "    def forward(self, x):\n",
        "        return self.tft_model(x)\n",
        "\n",
        "    def training_step(self, batch, batch_idx):\n",
        "        x, y = batch\n",
        "        y_hat = self(x)\n",
        "        loss = self.loss_fn(y_hat.prediction, y) # Extract prediction from output\n",
        "        self.log(\"train_loss\", loss)\n",
        "        return loss\n",
        "\n",
        "    def validation_step(self, batch, batch_idx):\n",
        "        x, y = batch\n",
        "        y_hat = self(x)\n",
        "        loss = self.loss_fn(y_hat.prediction, y) # Extract prediction from output\n",
        "        self.log(\"val_loss\", loss)\n",
        "        return loss\n",
        "\n",
        "    def configure_optimizers(self):\n",
        "        optimizer = torch.optim.Adam(self.parameters(), lr=self.learning_rate)\n",
        "        return optimizer\n",
        "\n",
        "# Create the TFT model\n",
        "tft_model = TemporalFusionTransformer.from_dataset(\n",
        "    dataset,\n",
        "    learning_rate=train_config[\"learning_rate\"],\n",
        "    hidden_size=train_config[\"hidden_size\"],\n",
        "    dropout=train_config[\"dropout\"],\n",
        "    loss=train_config[\"loss_fn\"],\n",
        "    log_interval=10,\n",
        "    reduce_on_plateau_patience=4\n",
        ")\n",
        "\n",
        "# Wrap the TFT model in a LightningModule\n",
        "model = TFTLightningModule(\n",
        "    tft_model=tft_model,\n",
        "    learning_rate=train_config[\"learning_rate\"],\n",
        "    loss_fn=train_config[\"loss_fn\"]\n",
        ")\n",
        "\n",
        "# Setup Trainer\n",
        "if torch.cuda.is_available():\n",
        "    accelerator = \"gpu\"\n",
        "    devices = 1\n",
        "else:\n",
        "    accelerator = \"cpu\"\n",
        "    devices = 1\n",
        "\n",
        "trainer = Trainer(\n",
        "    max_epochs=train_config[\"epochs\"],\n",
        "    accelerator=accelerator,\n",
        "    devices=devices,\n",
        "    logger=logger,\n",
        "    callbacks=[checkpoint_callback, early_stopping],\n",
        "    enable_checkpointing=True\n",
        ")\n",
        "\n",
        "# Fit the model\n",
        "trainer.fit(model, train_dataloaders=train_dataloader, val_dataloaders=val_dataloader)"
      ],
      "metadata": {
        "id": "paex9VsEaJBj"
      },
      "execution_count": null,
      "outputs": []
    },
    {
      "cell_type": "markdown",
      "source": [
        "# Actual vs Prediction Graphs"
      ],
      "metadata": {
        "id": "YAkb7l6BytSM"
      }
    },
    {
      "cell_type": "code",
      "source": [
        "# 🔮 Step 1: Make raw predictions on validation set\n",
        "prediction_output = model.tft_model.predict(\n",
        "    val_dataloader, mode='raw', return_x=True\n",
        ")\n",
        "\n",
        "# ✅ Step 2: Extract input and output\n",
        "x = prediction_output.x\n",
        "predictions = prediction_output.output\n",
        "\n",
        "# ✅ Step 3: Extract forecast values as numpy array (for CSV export)\n",
        "forecast = predictions.prediction[0].detach().cpu().numpy()\n",
        "\n",
        "# ✅ Step 4: Plot forecast using built-in TFT visualization\n",
        "fig = model.tft_model.plot_prediction(\n",
        "    x, predictions, idx=0, show_future_observed=True\n",
        ")\n",
        "plt.title(f\"Prediction Plot for {target}\")\n",
        "\n",
        "# ✅ Reduce legend size and move it neatly outside\n",
        "plt.legend(\n",
        "    loc='upper left',\n",
        "    bbox_to_anchor=(1, 1),\n",
        "    fontsize='small',      # You can try 'small', 'x-small', numeric values like 8\n",
        "    frameon=True,          # Adds box around legend for clarity\n",
        ")\n",
        "\n",
        "plt.tight_layout()\n",
        "plt.show()\n",
        "\n",
        "# ✅ Step 5: Save the plot as PNG\n",
        "plt.savefig(f\"{run_dir}/plot.png\", bbox_inches='tight')  # Ensure nothing gets cut off\n",
        "plt.close()\n",
        "print(f\"✅ Prediction plot saved at: {run_dir}/plot.png\")\n",
        "\n",
        "# ✅ Step 6: Save forecast to CSV\n",
        "pd.DataFrame(forecast, columns=[f'{target}_forecast']).to_csv(\n",
        "    f\"{run_dir}/predictions.csv\", index=False\n",
        ")\n",
        "print(f\"✅ Forecast values saved to: {run_dir}/predictions.csv\")"
      ],
      "metadata": {
        "id": "B2qLHzHdywHd"
      },
      "execution_count": null,
      "outputs": []
    },
    {
      "cell_type": "markdown",
      "source": [
        "## Spike Detection & Save Metadata"
      ],
      "metadata": {
        "id": "Wp2UKawDwVRc"
      }
    },
    {
      "cell_type": "code",
      "source": [
        "spikes = forecast > np.percentile(forecast, 95)\n",
        "\n",
        "# Save run notes and spike count\n",
        "with open(f\"{run_dir}/notes.txt\", \"w\") as f:\n",
        "    f.write(f\"Target: {target}\\n\")\n",
        "    f.write(f\"Spikes > 95th percentile: {int(spikes.sum())}\\n\")\n",
        "    f.write(\"Review plot.png and predictions.csv for further insights.\\n\")\n",
        "\n",
        "# 💾 Save training config for reproducibility\n",
        "# Create a serializable version of train_config\n",
        "serializable_train_config = train_config.copy()\n",
        "# Replace the non-serializable loss_fn object with its name\n",
        "serializable_train_config[\"loss_fn\"] = serializable_train_config[\"loss_fn\"].__class__.__name__\n",
        "\n",
        "with open(f\"{run_dir}/modelconfig.json\", \"w\") as f:\n",
        "    json.dump(serializable_train_config, f, indent=2)\n",
        "\n",
        "print(f\"✅ Run complete. Outputs saved at: {run_dir}\")"
      ],
      "metadata": {
        "id": "ZZViKR3poBY3"
      },
      "execution_count": null,
      "outputs": []
    },
    {
      "cell_type": "code",
      "source": [
        "forecast_path = os.path.join(run_dir, \"predictions.csv\")\n",
        "print(f\"✅ Forecast values saved to: {forecast_path}\")"
      ],
      "metadata": {
        "id": "5iELq2nboDno"
      },
      "execution_count": null,
      "outputs": []
    },
    {
      "cell_type": "code",
      "source": [
        "# # Command to inspect .ckpt\n",
        "\n",
        "# ckpt = torch.load(\"path/to/tft-epoch=01-val_loss=0.04.ckpt\", map_location=torch.device('cpu'))\n",
        "# print(ckpt.keys())"
      ],
      "metadata": {
        "id": "rxsLstiSU8nn",
        "collapsed": true
      },
      "execution_count": null,
      "outputs": []
    },
    {
      "cell_type": "code",
      "source": [
        "# print(ckpt[\"epoch\"])             # Epoch number\n",
        "# print(ckpt[\"global_step\"])       # Total steps\n",
        "# print(ckpt[\"hyper_parameters\"])  # Saved hyperparameters"
      ],
      "metadata": {
        "id": "ebOmwcNBVDlH"
      },
      "execution_count": null,
      "outputs": []
    },
    {
      "cell_type": "code",
      "source": [],
      "metadata": {
        "id": "k9bYj41m4Dc2"
      },
      "execution_count": null,
      "outputs": []
    }
  ],
  "metadata": {
    "kernelspec": {
      "display_name": "Python 3",
      "name": "python3"
    },
    "language_info": {
      "codemirror_mode": {
        "name": "ipython",
        "version": 3
      },
      "file_extension": ".py",
      "mimetype": "text/x-python",
      "name": "python",
      "nbconvert_exporter": "python",
      "pygments_lexer": "ipython3",
      "version": "3.8.12"
    },
    "orig_nbformat": 4,
    "vscode": {
      "interpreter": {
        "hash": "2133a3972b28273c10fa027bbde5fb58efc69f3a1cd517826cf4b1affadfce4e"
      }
    },
    "colab": {
      "provenance": [],
      "include_colab_link": true
    }
  },
  "nbformat": 4,
  "nbformat_minor": 0
}