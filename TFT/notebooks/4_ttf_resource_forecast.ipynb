{
  "cells": [
    {
      "cell_type": "markdown",
      "metadata": {
        "id": "view-in-github",
        "colab_type": "text"
      },
      "source": [
        "<a href=\"https://colab.research.google.com/github/swaraj0009/AI_Models/blob/master/TFT/notebooks/4_ttf_resource_forecast.ipynb\" target=\"_parent\"><img src=\"https://colab.research.google.com/assets/colab-badge.svg\" alt=\"Open In Colab\"/></a>"
      ]
    },
    {
      "cell_type": "markdown",
      "source": [
        "## Drive Loading"
      ],
      "metadata": {
        "id": "Zut3EaByhFTn"
      }
    },
    {
      "cell_type": "code",
      "source": [
        "from google.colab import drive\n",
        "drive.mount('/content/drive')"
      ],
      "metadata": {
        "colab": {
          "base_uri": "https://localhost:8080/"
        },
        "id": "9imFCsDrwtVO",
        "outputId": "76191524-0af5-43df-f881-a149ba776f79"
      },
      "execution_count": 1,
      "outputs": [
        {
          "output_type": "stream",
          "name": "stdout",
          "text": [
            "Mounted at /content/drive\n"
          ]
        }
      ]
    },
    {
      "cell_type": "markdown",
      "source": [
        "## Install Libraries"
      ],
      "metadata": {
        "id": "is7xTtSYgp0x"
      }
    },
    {
      "cell_type": "code",
      "source": [
        "# ⚡ Quick Setup - Run after runtime reset (CPU/GPU Switch)\n",
        "# Installs essential packages silently to save output clutter\n",
        "\n",
        "!pip install dask pytz torch pytorch-forecasting pytorch-lightning \\\n",
        "    rich colorama matplotlib seaborn pandas numpy tensorboard \\\n",
        "    'lightning[extra]' pyarrow fastparquet --quiet > /dev/null\n",
        "\n",
        "print(\"\\033[92m✅ All required packages installed successfully.\\033[0m\")"
      ],
      "metadata": {
        "collapsed": true,
        "colab": {
          "base_uri": "https://localhost:8080/"
        },
        "id": "C9TAeg3MxRMV",
        "outputId": "2480e7e1-fcaf-4822-c729-5a79ed97557b"
      },
      "execution_count": 2,
      "outputs": [
        {
          "output_type": "stream",
          "name": "stdout",
          "text": [
            "\u001b[92m✅ All required packages installed successfully.\u001b[0m\n"
          ]
        }
      ]
    },
    {
      "cell_type": "markdown",
      "source": [
        "## Import Libraries"
      ],
      "metadata": {
        "id": "MEIX0ouRhGwT"
      }
    },
    {
      "cell_type": "code",
      "execution_count": 26,
      "metadata": {
        "id": "zMD5usllwmtY",
        "colab": {
          "base_uri": "https://localhost:8080/"
        },
        "outputId": "683fe377-afb3-46d3-9964-9acda50e8dc1"
      },
      "outputs": [
        {
          "output_type": "stream",
          "name": "stdout",
          "text": [
            "All Libraries are loaded : 20250706-230952\n"
          ]
        }
      ],
      "source": [
        "# Standard Library\n",
        "import os\n",
        "import datetime\n",
        "import glob\n",
        "import json\n",
        "import shutil\n",
        "import math\n",
        "import pytz\n",
        "from concurrent.futures import ThreadPoolExecutor\n",
        "\n",
        "# Third-Party Libraries\n",
        "import numpy as np\n",
        "import pandas as pd\n",
        "import dask.dataframe as dd\n",
        "import matplotlib.pyplot as plt\n",
        "import seaborn as sns\n",
        "\n",
        "import torch\n",
        "\n",
        "# PyTorch Lightning\n",
        "# from datetime import datetime\n",
        "import pytorch_forecasting\n",
        "from pytorch_lightning import Trainer\n",
        "from pytorch_lightning.loggers import CSVLogger\n",
        "from pytorch_lightning.callbacks import ModelCheckpoint\n",
        "\n",
        "# PyTorch Forecasting\n",
        "from pytorch_forecasting import TimeSeriesDataSet, TemporalFusionTransformer\n",
        "from pytorch_forecasting.data import GroupNormalizer\n",
        "from pytorch_forecasting.metrics import RMSE\n",
        "from pytorch_forecasting.data import NaNLabelEncoder\n",
        "from torch.utils.data import DataLoader\n",
        "from pytorch_forecasting.data.encoders import GroupNormalizer\n",
        "\n",
        "\n",
        "\n",
        "ist = pytz.timezone('Asia/Kolkata')\n",
        "now_ist = datetime.datetime.now(ist)\n",
        "timestamp = now_ist.strftime(\"%Y%m%d-%H%M%S\")\n",
        "print(f\"All Libraries are loaded : {timestamp}\")"
      ]
    },
    {
      "cell_type": "markdown",
      "source": [
        "## User Configurable Parameters"
      ],
      "metadata": {
        "id": "YsYJkzavg7c5"
      }
    },
    {
      "cell_type": "code",
      "source": [
        "\n",
        "# Data path & VM selection\n",
        "parquet_path = \"/content/drive/MyDrive/datasets/processed/FeatureEng_full_streak.parquet\"\n",
        "\n",
        "# e.g., 50, 100, 250 etc.\n",
        "num_vms_to_load = 200\n",
        "\n",
        "# Model training parameters\n",
        "train_config = {\n",
        "    # 🎯 Prediction Targets\n",
        "    \"targets\": [\n",
        "        \"cpu_utilization_ratio\",\n",
        "        \"memory_utilization_ratio\",\n",
        "        \"disk_total_throughput\",\n",
        "        \"network_total_throughput\"\n",
        "    ],\n",
        "\n",
        "    # 📅 Known time-dependent features (known at prediction time)\n",
        "    \"time_varying_known_reals\": [\n",
        "        \"time_idx\",\n",
        "        \"hour\", \"day\", \"dayofweek\", \"month\", \"is_weekend\",\n",
        "        \"hour_sin\", \"hour_cos\",\n",
        "        \"dayofweek_sin\", \"dayofweek_cos\",\n",
        "        \"month_sin\", \"month_cos\"\n",
        "    ],\n",
        "\n",
        "    # 📈 Features only known up to current timestep (future unknown)\n",
        "    \"time_varying_unknown_reals\": [\n",
        "        \"cpu_util_prev\", \"cpu_util_diff\",\n",
        "        \"memory_util_prev\", \"memory_util_diff\",\n",
        "        \"network_total_prev\", \"network_total_diff\",\n",
        "        \"disk_write_prev\", \"disk_write_diff\",\n",
        "        \"disk_rolling_mean\", \"network_rolling_mean\"\n",
        "    ],\n",
        "\n",
        "    # 🔐 Grouping feature\n",
        "    \"group_ids\": [\"vm_id\"],\n",
        "\n",
        "    # 🧠 Sequence lengths (adjust based on resources)\n",
        "    \"max_encoder_length\": 4000,      # input length\n",
        "    \"max_prediction_length\": 2016,     # forecast horizon\n",
        "\n",
        "    # ⚙️ Model Hyperparameters (tune later)\n",
        "    \"hidden_size\": 16,\n",
        "    \"dropout\": 0.2,\n",
        "    \"learning_rate\": 0.001,\n",
        "    \"batch_size\": 4,\n",
        "    \"num_workers\": 2,\n",
        "\n",
        "    # 🛑 Early stopping\n",
        "    \"early_stopping_patience\": 5,\n",
        "    \"epochs\": 10,\n",
        "\n",
        "    # 🧮 Loss function\n",
        "    \"loss_fn\": RMSE(),\n",
        "\n",
        "    # 💾 Output paths\n",
        "    \"output_base_dir\": \"/content/drive/MyDrive/output\",\n",
        "    \"log_dir\": \"/content/drive/MyDrive/output/logs\"\n",
        "}\n",
        "\n",
        "# VM count for folder naming (update if needed)\n",
        "vm_count = f\"{num_vms_to_load}VMs\""
      ],
      "metadata": {
        "id": "Y4lrYzgxwbLr"
      },
      "execution_count": 19,
      "outputs": []
    },
    {
      "cell_type": "code",
      "source": [
        "df5 = pd.read_parquet(parquet_path)\n",
        "\n",
        "print(f\"✅ Loaded data shape: {df5.shape}\")\n",
        "print(f\"🔢 Unique VMs: {df5['vm_id'].nunique()}\")"
      ],
      "metadata": {
        "colab": {
          "base_uri": "https://localhost:8080/"
        },
        "id": "Fj81xFUJjf_1",
        "outputId": "93a0aeef-cfcb-4263-a4c5-4155db1d14fb"
      },
      "execution_count": 7,
      "outputs": [
        {
          "output_type": "stream",
          "name": "stdout",
          "text": [
            "✅ Loaded data shape: (6487138, 38)\n",
            "🔢 Unique VMs: 751\n"
          ]
        }
      ]
    },
    {
      "cell_type": "code",
      "source": [
        "# Group by VM and count how many time steps each VM has\n",
        "vm_streaks = df5.groupby(\"vm_id\").agg(\n",
        "    total_points=(\"time_idx\", \"count\"),\n",
        "    max_time_idx=(\"time_idx\", \"max\")\n",
        ").reset_index()\n",
        "\n",
        "# Sort by total_points (or max_time_idx) descending\n",
        "top_200_vms = vm_streaks.sort_values(by=\"total_points\", ascending=False).head(200)[\"vm_id\"]\n",
        "\n",
        "print(f\"✅ Selected top 200 VMs with longest data streaks.\")"
      ],
      "metadata": {
        "colab": {
          "base_uri": "https://localhost:8080/"
        },
        "id": "ybFhjPlCj2i8",
        "outputId": "cc5ab7ff-a486-4786-aa8c-6c29b801a2ed"
      },
      "execution_count": 8,
      "outputs": [
        {
          "output_type": "stream",
          "name": "stdout",
          "text": [
            "✅ Selected top 200 VMs with longest data streaks.\n"
          ]
        }
      ]
    },
    {
      "cell_type": "markdown",
      "source": [
        "## VM Configure"
      ],
      "metadata": {
        "id": "iIP9NMkMhW4b"
      }
    },
    {
      "cell_type": "code",
      "source": [
        "# Filter original DataFrame for these 200 VMs\n",
        "df6 = df5[df5[\"vm_id\"].isin(top_200_vms)].copy()\n",
        "print(f\"✅ Filtered data shape (top 200 VMs): {df6.shape}\")"
      ],
      "metadata": {
        "colab": {
          "base_uri": "https://localhost:8080/"
        },
        "id": "6stdAQxokYhP",
        "outputId": "70baf94d-3530-4d0d-eeeb-cbe6c8b2c5d0"
      },
      "execution_count": 9,
      "outputs": [
        {
          "output_type": "stream",
          "name": "stdout",
          "text": [
            "✅ Filtered data shape (top 200 VMs): (1727600, 38)\n"
          ]
        }
      ]
    },
    {
      "cell_type": "code",
      "source": [
        "print(f\"🎯 VMs in final dataset: {df6['vm_id'].nunique()}\")  # Should be 200"
      ],
      "metadata": {
        "colab": {
          "base_uri": "https://localhost:8080/"
        },
        "id": "OglSlB95k1f8",
        "outputId": "a9065447-c609-4311-c7e2-b13b48431a9c"
      },
      "execution_count": 11,
      "outputs": [
        {
          "output_type": "stream",
          "name": "stdout",
          "text": [
            "🎯 VMs in final dataset: 200\n"
          ]
        }
      ]
    },
    {
      "cell_type": "markdown",
      "source": [
        "## Columns Filter"
      ],
      "metadata": {
        "id": "rDSk5HS0iVcy"
      }
    },
    {
      "cell_type": "code",
      "execution_count": 15,
      "metadata": {
        "id": "JpDH8N3TwmtZ",
        "colab": {
          "base_uri": "https://localhost:8080/"
        },
        "outputId": "b1098334-2411-4c1d-d7e5-fafafeb07f39"
      },
      "outputs": [
        {
          "output_type": "stream",
          "name": "stdout",
          "text": [
            "✅ Columns after filtering: 28\n",
            "\u001b[94mℹ️ Clean DataFrame → Columns: 28 | Shape: (1727600, 28)\u001b[0m\n"
          ]
        }
      ],
      "source": [
        "# ✅ Drop unused columns based on train_config\n",
        "columns_to_keep = (\n",
        "    train_config[\"time_varying_known_reals\"]\n",
        "    + train_config[\"time_varying_unknown_reals\"]\n",
        "    + train_config[\"targets\"]\n",
        "    + train_config[\"group_ids\"]\n",
        "    + ['time_idx', 'timestamp']\n",
        ")\n",
        "\n",
        "# 🔁 Remove duplicates in case of overlaps\n",
        "columns_to_keep = list(set(columns_to_keep))\n",
        "\n",
        "# 📉 Filter DataFrame\n",
        "df6 = df6[columns_to_keep]\n",
        "\n",
        "print(f\"✅ Columns after filtering: {len(df6.columns)}\")\n",
        "\n",
        "# 🧼 Optimize category column\n",
        "if \"vm_id\" in df6.columns:\n",
        "    df6[\"vm_id\"] = df6[\"vm_id\"].astype(\"category\")\n",
        "    df6[\"vm_id\"] = df6[\"vm_id\"].cat.remove_unused_categories()\n",
        "\n",
        "print(f\"\\033[94mℹ️ Clean DataFrame → Columns: {len(df6.columns)} | Shape: {df6.shape}\\033[0m\")"
      ]
    },
    {
      "cell_type": "markdown",
      "source": [
        "## 70:30 Split Logic with Reset Index"
      ],
      "metadata": {
        "id": "7lxANWba7IRD"
      }
    },
    {
      "cell_type": "code",
      "source": [
        "train_ratio = 0.8\n",
        "\n",
        "train_df_list = []\n",
        "val_df_list = []\n",
        "\n",
        "for vm_id, group in df6.groupby(\"vm_id\",observed=False):\n",
        "    group = group.sort_values(\"time_idx\")\n",
        "    split_idx = int(len(group) * train_ratio)\n",
        "\n",
        "    train_df_list.append(group.iloc[:split_idx])\n",
        "    val_df_list.append(group.iloc[split_idx:])\n",
        "\n",
        "# Combine all\n",
        "train_df = pd.concat(train_df_list).reset_index(drop=True)\n",
        "val_df = pd.concat(val_df_list).reset_index(drop=True)\n",
        "\n",
        "print(f\"✅ Train shape: {train_df.shape}\")\n",
        "print(f\"✅ Val shape: {val_df.shape}\")"
      ],
      "metadata": {
        "id": "pEgkRazj7DZb",
        "colab": {
          "base_uri": "https://localhost:8080/"
        },
        "outputId": "ffe3a6b5-bb8c-4abe-c0d7-17a35cb48f12"
      },
      "execution_count": 18,
      "outputs": [
        {
          "output_type": "stream",
          "name": "stdout",
          "text": [
            "✅ Train shape: (1382000, 28)\n",
            "✅ Val shape: (345600, 28)\n"
          ]
        }
      ]
    },
    {
      "cell_type": "markdown",
      "source": [
        "## Pre validation check for split for Encoder & prediction"
      ],
      "metadata": {
        "id": "ZYOMUIIL7gi9"
      }
    },
    {
      "cell_type": "code",
      "source": [
        "# Step 1: Define required steps\n",
        "required_train_steps = train_config[\"max_encoder_length\"] + train_config[\"max_prediction_length\"]\n",
        "required_val_steps = train_config[\"max_prediction_length\"]\n",
        "\n",
        "# Step 2: Get the split point\n",
        "train_ratio = 0.7\n",
        "max_time_idx = df6[\"time_idx\"].max()\n",
        "split_point = int(max_time_idx * train_ratio)\n",
        "\n",
        "# Step 3: Split data\n",
        "train_df = df6[df6[\"time_idx\"] <= split_point].copy()\n",
        "val_df = df6[df6[\"time_idx\"] > split_point].copy()\n",
        "\n",
        "# Step 4: Validate VMs having enough time points\n",
        "vm_train_counts = train_df.groupby(\"vm_id\",observed=False)[\"time_idx\"].nunique()\n",
        "vm_val_counts = val_df.groupby(\"vm_id\",observed=False)[\"time_idx\"].nunique()\n",
        "\n",
        "# Step 5: Filter valid VMs\n",
        "valid_train_vms = vm_train_counts[vm_train_counts >= required_train_steps].index\n",
        "valid_val_vms = vm_val_counts[vm_val_counts >= required_val_steps].index\n",
        "\n",
        "# Step 6: Filter DataFrames\n",
        "train_df = train_df[train_df[\"vm_id\"].isin(valid_train_vms)].copy()\n",
        "val_df = val_df[val_df[\"vm_id\"].isin(valid_val_vms)].copy()\n",
        "\n",
        "# Step 7: Summary\n",
        "print(\"\\n📊 VM-Level Split Window Check\\n\")\n",
        "print(f\"✅ VMs valid for training   : {len(valid_train_vms)} / {vm_train_counts.shape[0]}\")\n",
        "print(f\"✅ VMs valid for validation : {len(valid_val_vms)} / {vm_val_counts.shape[0]}\")"
      ],
      "metadata": {
        "id": "4fLQyI2hqd-_",
        "outputId": "c1f056df-7a72-4101-f9fc-a85af2c45d25",
        "colab": {
          "base_uri": "https://localhost:8080/"
        }
      },
      "execution_count": 25,
      "outputs": [
        {
          "output_type": "stream",
          "name": "stdout",
          "text": [
            "\n",
            "📊 VM-Level Split Window Check\n",
            "\n",
            "✅ VMs valid for training   : 200 / 200\n",
            "✅ VMs valid for validation : 200 / 200\n"
          ]
        }
      ]
    },
    {
      "cell_type": "markdown",
      "source": [
        "## Set Configuration"
      ],
      "metadata": {
        "id": "opiXlao30zOn"
      }
    },
    {
      "cell_type": "code",
      "source": [
        "max_encoder_length = train_config[\"max_encoder_length\"]\n",
        "max_prediction_length = train_config[\"max_prediction_length\"]\n",
        "group_ids = train_config[\"group_ids\"]\n",
        "targets = train_config[\"targets\"]  # e.g., [\"cpu_utilization_ratio\"]\n",
        "time_varying_known_reals = train_config[\"time_varying_known_reals\"]\n",
        "time_varying_unknown_reals = train_config[\"time_varying_unknown_reals\"]\n",
        "batchsize = train_config[\"batch_size\"]\n",
        "numworkers = train_config[\"num_workers\"]\n",
        "learningrate = train_config[\"learning_rate\"]\n",
        "hiddensize = train_config[\"hidden_size\"]\n",
        "lossfn = train_config[\"loss_fn\"]\n",
        "dropout = train_config[\"dropout\"]"
      ],
      "metadata": {
        "id": "MBHvjTvw0wNN"
      },
      "execution_count": 27,
      "outputs": []
    },
    {
      "cell_type": "markdown",
      "source": [
        "## TimeSeriesDataSet"
      ],
      "metadata": {
        "id": "zs0rxyuQuH1c"
      }
    },
    {
      "cell_type": "code",
      "source": [
        "# Training Dataset\n",
        "tft_dataset = TimeSeriesDataSet(\n",
        "    train_df,\n",
        "    time_idx=\"time_idx\",\n",
        "    target=targets[0],  # Start with first target (e.g., \"cpu_utilization_ratio\")\n",
        "    group_ids=group_ids,\n",
        "    max_encoder_length=max_encoder_length,\n",
        "    max_prediction_length=max_prediction_length,\n",
        "    time_varying_known_reals=time_varying_known_reals,\n",
        "    time_varying_unknown_reals=time_varying_unknown_reals,\n",
        "    static_categoricals=[],\n",
        "    static_reals=[],\n",
        "    target_normalizer=GroupNormalizer(groups=group_ids),\n",
        "    add_relative_time_idx=True,\n",
        "    add_target_scales=True,\n",
        "    add_encoder_length=True,\n",
        ")\n",
        "\n",
        "val_dataset = tft_dataset.from_dataset(\n",
        "    tft_dataset,\n",
        "    val_df,\n",
        "    predict=True,\n",
        "    stop_randomization=True\n",
        ")\n",
        "\n",
        "from torch.utils.data import DataLoader\n",
        "\n",
        "train_dataloader = tft_dataset.to_dataloader(train=True, batch_size=batchsize, num_workers=numworkers)\n",
        "val_dataloader = val_dataset.to_dataloader(train=False, batch_size=batchsize, num_workers=numworkers)"
      ],
      "metadata": {
        "id": "RkrZt4FfzkVZ"
      },
      "execution_count": null,
      "outputs": []
    },
    {
      "cell_type": "markdown",
      "source": [
        "## Output & Log Folder Creation"
      ],
      "metadata": {
        "id": "BoJ1pukZhskL"
      }
    },
    {
      "cell_type": "code",
      "source": [
        "# Step 1: Short name for target\n",
        "def get_short_target_name(targets):\n",
        "    short_map = {\n",
        "        \"cpu_utilization_ratio\": \"cpu\",\n",
        "        \"memory_utilization_ratio\": \"mem\",\n",
        "        \"disk_total_throughput\": \"disk\",\n",
        "        \"network_total_throughput\": \"net\"\n",
        "    }\n",
        "    if isinstance(targets, list) and targets:\n",
        "        return short_map.get(targets[0], targets[0][:3])\n",
        "    return \"unknown\"\n",
        "\n",
        "# Step 2: Folder naming using extracted vars\n",
        "def get_run_folder_name(vm_count):\n",
        "    return \"_\".join([\n",
        "        get_short_target_name(targets),\n",
        "        f\"{vm_count}vms\",\n",
        "        f\"past{max_encoder_length}\",\n",
        "        f\"fut{max_prediction_length}\",\n",
        "        f\"bs{batchsize}\",\n",
        "        f\"lr{learningrate:.0e}\".replace('+0', ''),\n",
        "        f\"hid{hiddensize}\",\n",
        "        timestamp\n",
        "    ])\n",
        "\n",
        "# Step 3: Build folder name\n",
        "folder_name = get_run_folder_name(vm_count)\n",
        "train_config[\"output_base_dir\"] = os.path.join(train_config[\"output_base_dir\"], folder_name)\n",
        "train_config[\"log_dir\"] = os.path.join(train_config[\"log_dir\"], folder_name)\n",
        "\n",
        "# Step 4: Create folders\n",
        "os.makedirs(train_config[\"output_base_dir\"], exist_ok=True)\n",
        "os.makedirs(train_config[\"log_dir\"], exist_ok=True)\n",
        "\n",
        "# Step 5: Print summary\n",
        "print(\"✅ Output directory:\", train_config[\"output_base_dir\"])\n",
        "print(\"✅ Log directory   :\", train_config[\"log_dir\"])"
      ],
      "metadata": {
        "id": "Ib5yqZQz-9PZ"
      },
      "execution_count": null,
      "outputs": []
    },
    {
      "cell_type": "markdown",
      "source": [
        "## Logging & Callbacks"
      ],
      "metadata": {
        "id": "tLG5FXgbvkJs"
      }
    },
    {
      "cell_type": "code",
      "source": [
        "tft_df = df6\n",
        "\n",
        "from pytorch_lightning.loggers import CSVLogger\n",
        "from pytorch_lightning.callbacks import ModelCheckpoint, EarlyStopping\n",
        "\n",
        "for target in targets:\n",
        "    print(f\"\\n🔁 Training for target: {target}\")\n",
        "\n",
        "    # Create a sub-run directory inside the already named output folder\n",
        "    run_dir = os.path.join(train_config[\"output_base_dir\"], f\"{target}_run_{timestamp}\")\n",
        "    os.makedirs(run_dir, exist_ok=True)\n",
        "\n",
        "    # Save the cleaned input dataframe\n",
        "    tft_df.to_csv(os.path.join(run_dir, \"tft_df.csv\"), index=False)\n",
        "\n",
        "    # Save TimeSeriesDataset structure (scaler, normalization settings, etc.)\n",
        "    dataset.save(os.path.join(run_dir, \"tft_df_metadata\"))\n",
        "\n",
        "    # Save validation metadata for inverse transforms or plotting\n",
        "    meta_cols = ['vm_id', 'timestamp', 'time_idx']\n",
        "    if all(col in val_df.columns for col in meta_cols):\n",
        "        meta_df = val_df[meta_cols].reset_index(drop=True)\n",
        "        meta_df.to_csv(os.path.join(run_dir, \"forecast_metadata.csv\"), index=False)\n",
        "        print(f\"✅ Metadata saved to: {run_dir}/forecast_metadata.csv\")\n",
        "    else:\n",
        "        print(f\"⚠️ Skipping metadata save — missing columns: {meta_cols}\")\n",
        "\n",
        "    # Initialize CSV Logger (each target has its own log)\n",
        "    logger = CSVLogger(\n",
        "        save_dir=train_config[\"log_dir\"],\n",
        "        name=f\"{target}_log\"\n",
        "    )\n",
        "\n",
        "    # Best checkpoint based on val_loss\n",
        "    checkpoint_callback = ModelCheckpoint(\n",
        "        monitor=\"val_loss\",\n",
        "        dirpath=run_dir,\n",
        "        filename=\"tft-{epoch:02d}-{val_loss:.2f}\",\n",
        "        save_top_k=1,\n",
        "        save_last=True,\n",
        "        mode=\"min\"\n",
        "    )\n",
        "\n",
        "    # Early stopping to avoid overfitting\n",
        "    early_stopping = EarlyStopping(\n",
        "        monitor=\"val_loss\",\n",
        "        patience=train_config[\"early_stopping_patience\"],\n",
        "        mode=\"min\"\n",
        "    )"
      ],
      "metadata": {
        "id": "X07NZKn0SeUH"
      },
      "execution_count": null,
      "outputs": []
    },
    {
      "cell_type": "markdown",
      "source": [
        "## Model, Lightning, Trainer"
      ],
      "metadata": {
        "id": "XuuT4XcivziV"
      }
    },
    {
      "cell_type": "code",
      "source": [
        "import os\n",
        "import torch\n",
        "import pytorch_lightning as pl\n",
        "from pytorch_lightning import Trainer\n",
        "from pytorch_lightning.callbacks import ModelCheckpoint, EarlyStopping\n",
        "from pytorch_lightning.loggers import CSVLogger\n",
        "from pytorch_forecasting import TemporalFusionTransformer\n",
        "\n",
        "# ✅ Lightning Module Wrapper\n",
        "class TFTLightningModule(pl.LightningModule):\n",
        "    def __init__(self, tft_model: TemporalFusionTransformer, learning_rate: float, loss_fn: torch.nn.Module):\n",
        "        super().__init__()\n",
        "        self.tft_model = tft_model\n",
        "        self.learning_rate = learning_rate\n",
        "        self.loss_fn = loss_fn\n",
        "\n",
        "    def forward(self, x):\n",
        "        return self.tft_model(x)\n",
        "\n",
        "    def training_step(self, batch, batch_idx):\n",
        "        x, y = batch\n",
        "        y_hat = self(x)\n",
        "        loss = self.loss_fn(y_hat.prediction, y)\n",
        "        self.log(\"train_loss\", loss, on_step=False, on_epoch=True)\n",
        "        return loss\n",
        "\n",
        "    def validation_step(self, batch, batch_idx):\n",
        "        x, y = batch\n",
        "        y_hat = self(x)\n",
        "        loss = self.loss_fn(y_hat.prediction, y)\n",
        "        self.log(\"val_loss\", loss, on_step=False, on_epoch=True)\n",
        "        return loss\n",
        "\n",
        "    def configure_optimizers(self):\n",
        "        optimizer = torch.optim.Adam(self.parameters(), lr=self.learning_rate)\n",
        "        return {\n",
        "            \"optimizer\": optimizer,\n",
        "            \"monitor\": \"val_loss\"\n",
        "        }\n",
        "\n",
        "# ✅ Create the TFT Model from dataset\n",
        "tft_model = TemporalFusionTransformer.from_dataset(\n",
        "    dataset,\n",
        "    learning_rate=learningrate,\n",
        "    hidden_size=hiddensize,\n",
        "    dropout=dropout,\n",
        "    loss=lossfn,\n",
        "    log_interval=10,\n",
        "    reduce_on_plateau_patience=4\n",
        ")\n",
        "\n",
        "# ✅ Wrap the TFT model in LightningModule\n",
        "model = TFTLightningModule(\n",
        "    tft_model=tft_model,\n",
        "    learning_rate=learningrate,\n",
        "    loss_fn=lossfn\n",
        ")\n",
        "\n",
        "# ✅ Detect hardware accelerator\n",
        "if torch.cuda.is_available():\n",
        "    accelerator = \"gpu\"\n",
        "    devices = 1\n",
        "else:\n",
        "    accelerator = \"cpu\"\n",
        "    devices = 1\n",
        "\n",
        "# ✅ Setup Trainer with callbacks and logger\n",
        "trainer = Trainer(\n",
        "    max_epochs=train_config[\"epochs\"],\n",
        "    accelerator=accelerator,\n",
        "    devices=devices,\n",
        "    logger=logger,  # Assumes you have already defined CSVLogger above\n",
        "    callbacks=[checkpoint_callback, early_stopping],\n",
        "    enable_checkpointing=True\n",
        ")\n",
        "\n",
        "# ✅ Train the model\n",
        "trainer.fit(model, train_dataloaders=train_dataloader, val_dataloaders=val_dataloader)\n",
        "\n",
        "# (Optional) Save the best model path\n",
        "print(f\"✅ Best model checkpoint saved at: {checkpoint_callback.best_model_path}\")"
      ],
      "metadata": {
        "id": "paex9VsEaJBj"
      },
      "execution_count": null,
      "outputs": []
    },
    {
      "cell_type": "markdown",
      "source": [
        "# Actual vs Prediction Graphs"
      ],
      "metadata": {
        "id": "YAkb7l6BytSM"
      }
    },
    {
      "cell_type": "code",
      "source": [
        "# 🔮 Step 1: Make raw predictions on validation set\n",
        "prediction_output = model.tft_model.predict(\n",
        "    val_dataloader, mode='raw', return_x=True\n",
        ")\n",
        "\n",
        "# ✅ Step 2: Extract input and output\n",
        "x = prediction_output[\"x\"]\n",
        "predictions = prediction_output[\"output\"]\n",
        "\n",
        "# ✅ Step 3: Extract forecast values as numpy array (for CSV export)\n",
        "forecast = predictions[\"prediction\"].detach().cpu().numpy()\n",
        "\n",
        "# ✅ Step 4: Plot forecast using built-in TFT visualization\n",
        "fig = model.tft_model.plot_prediction(\n",
        "    x, predictions, idx=0, show_future_observed=True\n",
        ")\n",
        "plt.title(f\"Prediction Plot for {target}\")\n",
        "\n",
        "# ✅ Reduce legend size and move it neatly outside\n",
        "plt.legend(\n",
        "    loc='upper left',\n",
        "    bbox_to_anchor=(1, 1),\n",
        "    fontsize='small',\n",
        "    frameon=True\n",
        ")\n",
        "\n",
        "plt.tight_layout()\n",
        "\n",
        "# ✅ Step 5: Save the plot as PNG\n",
        "plt.savefig(f\"{run_dir}/plot.png\", bbox_inches='tight')\n",
        "plt.close()\n",
        "print(f\"✅ Prediction plot saved at: {run_dir}/plot.png\")\n",
        "\n",
        "# ✅ Step 6: Save forecast to CSV\n",
        "pd.DataFrame(forecast, columns=[f'{target}_forecast']).to_csv(\n",
        "    f\"{run_dir}/predictions.csv\", index=False\n",
        ")\n",
        "print(f\"✅ Forecast values saved to: {run_dir}/predictions.csv\")"
      ],
      "metadata": {
        "id": "B2qLHzHdywHd"
      },
      "execution_count": null,
      "outputs": []
    },
    {
      "cell_type": "markdown",
      "source": [
        "## Spike Detection & Save Metadata"
      ],
      "metadata": {
        "id": "Wp2UKawDwVRc"
      }
    },
    {
      "cell_type": "code",
      "source": [
        "import os\n",
        "import json\n",
        "import numpy as np\n",
        "\n",
        "# Ensure forecast is a NumPy array\n",
        "if isinstance(forecast, torch.Tensor):\n",
        "    forecast = forecast.detach().cpu().numpy()\n",
        "elif isinstance(forecast, pd.Series):\n",
        "    forecast = forecast.values\n",
        "else:\n",
        "    forecast = np.array(forecast)\n",
        "\n",
        "# Detect spikes above the 95th percentile\n",
        "spikes = forecast > np.percentile(forecast, 95)\n",
        "spike_count = int(spikes.sum())\n",
        "\n",
        "# 🔹 Save notes.txt with target name and spike info\n",
        "notes_path = os.path.join(run_dir, \"notes.txt\")\n",
        "with open(notes_path, \"w\") as f:\n",
        "    f.write(f\"Target: {target}\\n\")\n",
        "    f.write(f\"Spikes > 95th percentile: {spike_count}\\n\")\n",
        "    f.write(\"Review plot.png and predictions.csv for further insights.\\n\")\n",
        "\n",
        "print(f\"📄 Notes saved at: {notes_path}\")\n",
        "\n",
        "# 🔹 Prepare train_config for JSON (remove non-serializable objects)\n",
        "serializable_train_config = train_config.copy()\n",
        "serializable_train_config[\"loss_fn\"] = serializable_train_config[\"loss_fn\"].__class__.__name__\n",
        "\n",
        "# 🔹 Save model config as JSON\n",
        "config_path = os.path.join(run_dir, \"modelconfig.json\")\n",
        "with open(config_path, \"w\") as f:\n",
        "    json.dump(serializable_train_config, f, indent=2)\n",
        "\n",
        "print(f\"✅ Config saved at: {config_path}\")\n",
        "print(f\"✅ Run complete. Outputs saved at: {run_dir}\")\n",
        "\n",
        "forecast_path = os.path.join(run_dir, \"predictions.csv\")\n",
        "forecast_df.to_csv(forecast_path, index=False)\n",
        "print(f\"✅ Forecast values saved to: {forecast_path}\")"
      ],
      "metadata": {
        "id": "ZZViKR3poBY3"
      },
      "execution_count": null,
      "outputs": []
    },
    {
      "cell_type": "code",
      "source": [],
      "metadata": {
        "id": "5iELq2nboDno"
      },
      "execution_count": null,
      "outputs": []
    },
    {
      "cell_type": "code",
      "source": [],
      "metadata": {
        "id": "k9bYj41m4Dc2"
      },
      "execution_count": null,
      "outputs": []
    },
    {
      "cell_type": "code",
      "source": [],
      "metadata": {
        "id": "RmkEnl8nF--f"
      },
      "execution_count": null,
      "outputs": []
    }
  ],
  "metadata": {
    "kernelspec": {
      "display_name": "Python 3",
      "name": "python3"
    },
    "language_info": {
      "codemirror_mode": {
        "name": "ipython",
        "version": 3
      },
      "file_extension": ".py",
      "mimetype": "text/x-python",
      "name": "python",
      "nbconvert_exporter": "python",
      "pygments_lexer": "ipython3",
      "version": "3.8.12"
    },
    "orig_nbformat": 4,
    "vscode": {
      "interpreter": {
        "hash": "2133a3972b28273c10fa027bbde5fb58efc69f3a1cd517826cf4b1affadfce4e"
      }
    },
    "colab": {
      "provenance": [],
      "toc_visible": true,
      "include_colab_link": true
    }
  },
  "nbformat": 4,
  "nbformat_minor": 0
}