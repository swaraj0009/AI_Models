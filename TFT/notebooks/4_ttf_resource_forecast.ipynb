{
  "cells": [
    {
      "cell_type": "markdown",
      "metadata": {
        "id": "view-in-github",
        "colab_type": "text"
      },
      "source": [
        "<a href=\"https://colab.research.google.com/github/swaraj0009/AI_Models/blob/master/TFT/notebooks/4_ttf_resource_forecast.ipynb\" target=\"_parent\"><img src=\"https://colab.research.google.com/assets/colab-badge.svg\" alt=\"Open In Colab\"/></a>"
      ]
    },
    {
      "cell_type": "markdown",
      "source": [
        "## Drive Loading"
      ],
      "metadata": {
        "id": "Zut3EaByhFTn"
      }
    },
    {
      "cell_type": "code",
      "source": [
        "from google.colab import drive\n",
        "drive.mount('/content/drive')"
      ],
      "metadata": {
        "colab": {
          "base_uri": "https://localhost:8080/"
        },
        "id": "9imFCsDrwtVO",
        "outputId": "76191524-0af5-43df-f881-a149ba776f79"
      },
      "execution_count": 1,
      "outputs": [
        {
          "output_type": "stream",
          "name": "stdout",
          "text": [
            "Mounted at /content/drive\n"
          ]
        }
      ]
    },
    {
      "cell_type": "markdown",
      "source": [
        "## Install Libraries"
      ],
      "metadata": {
        "id": "is7xTtSYgp0x"
      }
    },
    {
      "cell_type": "code",
      "source": [
        "# ⚡ Quick Setup - Run after runtime reset (CPU/GPU Switch)\n",
        "# Installs essential packages silently to save output clutter\n",
        "\n",
        "!pip install dask pytz torch pytorch-forecasting pytorch-lightning \\\n",
        "    rich colorama matplotlib seaborn pandas numpy tensorboard \\\n",
        "    'lightning[extra]' pyarrow fastparquet --quiet > /dev/null\n",
        "\n",
        "print(\"\\033[92m✅ All required packages installed successfully.\\033[0m\")"
      ],
      "metadata": {
        "collapsed": true,
        "colab": {
          "base_uri": "https://localhost:8080/"
        },
        "id": "C9TAeg3MxRMV",
        "outputId": "2480e7e1-fcaf-4822-c729-5a79ed97557b"
      },
      "execution_count": 2,
      "outputs": [
        {
          "output_type": "stream",
          "name": "stdout",
          "text": [
            "\u001b[92m✅ All required packages installed successfully.\u001b[0m\n"
          ]
        }
      ]
    },
    {
      "cell_type": "markdown",
      "source": [
        "## Import Libraries"
      ],
      "metadata": {
        "id": "MEIX0ouRhGwT"
      }
    },
    {
      "cell_type": "code",
      "execution_count": 3,
      "metadata": {
        "id": "zMD5usllwmtY",
        "colab": {
          "base_uri": "https://localhost:8080/"
        },
        "outputId": "e36eab99-d5a9-47da-c573-eff88fe6d725"
      },
      "outputs": [
        {
          "output_type": "stream",
          "name": "stdout",
          "text": [
            "All Libraries are loaded : 20250706-215111\n"
          ]
        }
      ],
      "source": [
        "# Standard Library\n",
        "import os\n",
        "import datetime\n",
        "import glob\n",
        "import json\n",
        "import shutil\n",
        "import math\n",
        "import pytz\n",
        "from concurrent.futures import ThreadPoolExecutor\n",
        "\n",
        "# Third-Party Libraries\n",
        "import numpy as np\n",
        "import pandas as pd\n",
        "import dask.dataframe as dd\n",
        "import matplotlib.pyplot as plt\n",
        "import seaborn as sns\n",
        "\n",
        "import torch\n",
        "\n",
        "# PyTorch Lightning\n",
        "# from datetime import datetime\n",
        "import pytorch_forecasting\n",
        "from pytorch_lightning import Trainer\n",
        "from pytorch_lightning.loggers import CSVLogger\n",
        "from pytorch_lightning.callbacks import ModelCheckpoint\n",
        "\n",
        "# PyTorch Forecasting\n",
        "from pytorch_forecasting import TimeSeriesDataSet, TemporalFusionTransformer\n",
        "from pytorch_forecasting.data import GroupNormalizer\n",
        "from pytorch_forecasting.metrics import RMSE\n",
        "\n",
        "ist = pytz.timezone('Asia/Kolkata')\n",
        "now_ist = datetime.datetime.now(ist)\n",
        "timestamp = now_ist.strftime(\"%Y%m%d-%H%M%S\")\n",
        "print(f\"All Libraries are loaded : {timestamp}\")"
      ]
    },
    {
      "cell_type": "markdown",
      "source": [
        "## User Configurable Parameters"
      ],
      "metadata": {
        "id": "YsYJkzavg7c5"
      }
    },
    {
      "cell_type": "code",
      "source": [
        "\n",
        "# Data path & VM selection\n",
        "parquet_path = \"/content/drive/MyDrive/datasets/processed/FeatureEng_full_streak.parquet\"\n",
        "\n",
        "# e.g., 50, 100, 250 etc.\n",
        "num_vms_to_load = 200\n",
        "\n",
        "# Model training parameters\n",
        "train_config = {\n",
        "    # 🎯 Prediction Targets\n",
        "    \"targets\": [\n",
        "        \"cpu_utilization_ratio\",\n",
        "        \"memory_utilization_ratio\",\n",
        "        \"disk_total_throughput\",\n",
        "        \"network_total_throughput\"\n",
        "    ],\n",
        "\n",
        "    # 📅 Known time-dependent features (known at prediction time)\n",
        "    \"time_varying_known_reals\": [\n",
        "        \"time_idx\",\n",
        "        \"hour\", \"day\", \"dayofweek\", \"month\", \"is_weekend\",\n",
        "        \"hour_sin\", \"hour_cos\",\n",
        "        \"dayofweek_sin\", \"dayofweek_cos\",\n",
        "        \"month_sin\", \"month_cos\"\n",
        "    ],\n",
        "\n",
        "    # 📈 Features only known up to current timestep (future unknown)\n",
        "    \"time_varying_unknown_reals\": [\n",
        "        \"cpu_util_prev\", \"cpu_util_diff\",\n",
        "        \"memory_util_prev\", \"memory_util_diff\",\n",
        "        \"network_total_prev\", \"network_total_diff\",\n",
        "        \"disk_write_prev\", \"disk_write_diff\",\n",
        "        \"disk_rolling_mean\", \"network_rolling_mean\"\n",
        "    ],\n",
        "\n",
        "    # 🔐 Grouping feature\n",
        "    \"group_ids\": [\"vm_id\"],\n",
        "\n",
        "    # 🧠 Sequence lengths (adjust based on resources)\n",
        "    \"max_encoder_length\": 2016,      # input length\n",
        "    \"max_prediction_length\": 96,     # forecast horizon\n",
        "\n",
        "    # ⚙️ Model Hyperparameters (tune later)\n",
        "    \"hidden_size\": 16,\n",
        "    \"dropout\": 0.2,\n",
        "    \"learning_rate\": 0.001,\n",
        "    \"batch_size\": 4,\n",
        "    \"num_workers\": 2,\n",
        "\n",
        "    # 🛑 Early stopping\n",
        "    \"early_stopping_patience\": 5,\n",
        "    \"epochs\": 10,\n",
        "\n",
        "    # 🧮 Loss function\n",
        "    \"loss_fn\": RMSE(),\n",
        "\n",
        "    # 💾 Output paths\n",
        "    \"output_base_dir\": \"/content/drive/MyDrive/output\",\n",
        "    \"log_dir\": \"/content/drive/MyDrive/output/logs\"\n",
        "}\n",
        "\n",
        "# VM count for folder naming (update if needed)\n",
        "vm_count = f\"{num_vms_to_load}VMs\""
      ],
      "metadata": {
        "id": "Y4lrYzgxwbLr"
      },
      "execution_count": 5,
      "outputs": []
    },
    {
      "cell_type": "code",
      "source": [
        "df5 = pd.read_parquet(parquet_path)\n",
        "\n",
        "print(f\"✅ Loaded data shape: {df5.shape}\")\n",
        "print(f\"🔢 Unique VMs: {df5['vm_id'].nunique()}\")"
      ],
      "metadata": {
        "id": "Fj81xFUJjf_1",
        "outputId": "93a0aeef-cfcb-4263-a4c5-4155db1d14fb",
        "colab": {
          "base_uri": "https://localhost:8080/"
        }
      },
      "execution_count": 7,
      "outputs": [
        {
          "output_type": "stream",
          "name": "stdout",
          "text": [
            "✅ Loaded data shape: (6487138, 38)\n",
            "🔢 Unique VMs: 751\n"
          ]
        }
      ]
    },
    {
      "cell_type": "code",
      "source": [
        "# Group by VM and count how many time steps each VM has\n",
        "vm_streaks = df5.groupby(\"vm_id\").agg(\n",
        "    total_points=(\"time_idx\", \"count\"),\n",
        "    max_time_idx=(\"time_idx\", \"max\")\n",
        ").reset_index()\n",
        "\n",
        "# Sort by total_points (or max_time_idx) descending\n",
        "top_200_vms = vm_streaks.sort_values(by=\"total_points\", ascending=False).head(200)[\"vm_id\"]\n",
        "\n",
        "print(f\"✅ Selected top 200 VMs with longest data streaks.\")"
      ],
      "metadata": {
        "id": "ybFhjPlCj2i8",
        "outputId": "cc5ab7ff-a486-4786-aa8c-6c29b801a2ed",
        "colab": {
          "base_uri": "https://localhost:8080/"
        }
      },
      "execution_count": 8,
      "outputs": [
        {
          "output_type": "stream",
          "name": "stdout",
          "text": [
            "✅ Selected top 200 VMs with longest data streaks.\n"
          ]
        }
      ]
    },
    {
      "cell_type": "markdown",
      "source": [
        "## VM Configure"
      ],
      "metadata": {
        "id": "iIP9NMkMhW4b"
      }
    },
    {
      "cell_type": "code",
      "source": [
        "# Filter original DataFrame for these 200 VMs\n",
        "df6 = df5[df5[\"vm_id\"].isin(top_200_vms)].copy()\n",
        "print(f\"✅ Filtered data shape (top 200 VMs): {df6.shape}\")"
      ],
      "metadata": {
        "id": "6stdAQxokYhP",
        "outputId": "70baf94d-3530-4d0d-eeeb-cbe6c8b2c5d0",
        "colab": {
          "base_uri": "https://localhost:8080/"
        }
      },
      "execution_count": 9,
      "outputs": [
        {
          "output_type": "stream",
          "name": "stdout",
          "text": [
            "✅ Filtered data shape (top 200 VMs): (1727600, 38)\n"
          ]
        }
      ]
    },
    {
      "cell_type": "code",
      "source": [
        "print(f\"🎯 VMs in final dataset: {df6['vm_id'].nunique()}\")  # Should be 200"
      ],
      "metadata": {
        "id": "OglSlB95k1f8",
        "outputId": "a9065447-c609-4311-c7e2-b13b48431a9c",
        "colab": {
          "base_uri": "https://localhost:8080/"
        }
      },
      "execution_count": 11,
      "outputs": [
        {
          "output_type": "stream",
          "name": "stdout",
          "text": [
            "🎯 VMs in final dataset: 200\n"
          ]
        }
      ]
    },
    {
      "cell_type": "markdown",
      "source": [
        "## Columns Filter"
      ],
      "metadata": {
        "id": "rDSk5HS0iVcy"
      }
    },
    {
      "cell_type": "code",
      "execution_count": 15,
      "metadata": {
        "id": "JpDH8N3TwmtZ",
        "colab": {
          "base_uri": "https://localhost:8080/"
        },
        "outputId": "b1098334-2411-4c1d-d7e5-fafafeb07f39"
      },
      "outputs": [
        {
          "output_type": "stream",
          "name": "stdout",
          "text": [
            "✅ Columns after filtering: 28\n",
            "\u001b[94mℹ️ Clean DataFrame → Columns: 28 | Shape: (1727600, 28)\u001b[0m\n"
          ]
        }
      ],
      "source": [
        "# ✅ Drop unused columns based on train_config\n",
        "columns_to_keep = (\n",
        "    train_config[\"time_varying_known_reals\"]\n",
        "    + train_config[\"time_varying_unknown_reals\"]\n",
        "    + train_config[\"targets\"]\n",
        "    + train_config[\"group_ids\"]\n",
        "    + ['time_idx', 'timestamp']\n",
        ")\n",
        "\n",
        "# 🔁 Remove duplicates in case of overlaps\n",
        "columns_to_keep = list(set(columns_to_keep))\n",
        "\n",
        "# 📉 Filter DataFrame\n",
        "df6 = df6[columns_to_keep]\n",
        "\n",
        "print(f\"✅ Columns after filtering: {len(df6.columns)}\")\n",
        "\n",
        "# 🧼 Optimize category column\n",
        "if \"vm_id\" in df6.columns:\n",
        "    df6[\"vm_id\"] = df6[\"vm_id\"].astype(\"category\")\n",
        "    df6[\"vm_id\"] = df6[\"vm_id\"].cat.remove_unused_categories()\n",
        "\n",
        "print(f\"\\033[94mℹ️ Clean DataFrame → Columns: {len(df6.columns)} | Shape: {df6.shape}\\033[0m\")"
      ]
    },
    {
      "cell_type": "markdown",
      "source": [
        "## 70:30 Split Logic with Reset Index"
      ],
      "metadata": {
        "id": "7lxANWba7IRD"
      }
    },
    {
      "cell_type": "code",
      "source": [
        "train_ratio = 0.8\n",
        "\n",
        "train_df_list = []\n",
        "val_df_list = []\n",
        "\n",
        "for vm_id, group in df6.groupby(\"vm_id\",observed=False):\n",
        "    group = group.sort_values(\"time_idx\")\n",
        "    split_idx = int(len(group) * train_ratio)\n",
        "\n",
        "    train_df_list.append(group.iloc[:split_idx])\n",
        "    val_df_list.append(group.iloc[split_idx:])\n",
        "\n",
        "# Combine all\n",
        "train_df = pd.concat(train_df_list).reset_index(drop=True)\n",
        "val_df = pd.concat(val_df_list).reset_index(drop=True)\n",
        "\n",
        "print(f\"✅ Train shape: {train_df.shape}\")\n",
        "print(f\"✅ Val shape: {val_df.shape}\")"
      ],
      "metadata": {
        "id": "pEgkRazj7DZb",
        "outputId": "ffe3a6b5-bb8c-4abe-c0d7-17a35cb48f12",
        "colab": {
          "base_uri": "https://localhost:8080/"
        }
      },
      "execution_count": 18,
      "outputs": [
        {
          "output_type": "stream",
          "name": "stdout",
          "text": [
            "✅ Train shape: (1382000, 28)\n",
            "✅ Val shape: (345600, 28)\n"
          ]
        }
      ]
    },
    {
      "cell_type": "markdown",
      "source": [
        "## Pre validation check for split for Encoder & prediction"
      ],
      "metadata": {
        "id": "ZYOMUIIL7gi9"
      }
    },
    {
      "cell_type": "code",
      "source": [
        "# ---- Evaluation of time window sufficiency ----\n",
        "\n",
        "max_encoder_length = train_config[\"max_encoder_length\"]\n",
        "max_prediction_length = train_config[\"max_prediction_length\"]\n",
        "\n",
        "# How many unique time_idx values in each split?\n",
        "train_time_steps = train_df['time_idx'].nunique()\n",
        "val_time_steps = val_df['time_idx'].nunique()\n",
        "\n",
        "# Required steps\n",
        "required_train_steps = max_encoder_length + max_prediction_length\n",
        "required_val_steps = max_prediction_length\n",
        "print(\"\\n📊 Check: Config\\n\")\n",
        "\n",
        "print(f\"🟩 Max Encoder Length: {max_encoder_length}\")\n",
        "print(f\"🟨 Max Prediction Length: {max_prediction_length}\")\n",
        "print(f\"🟩 Both Combined: {required_train_steps}\")\n",
        "\n",
        "print(\"\\n📊 Check: Does the split satisfy the window requirements?\\n\")\n",
        "\n",
        "print(f\"🟩 Total Row Length: {max_time_idx}\")\n",
        "print(f\"🟩 Train Time Steps: {train_time_steps} (Required: ≥ {required_train_steps})\")\n",
        "print(f\"🟨 Val Time Steps  : {val_time_steps} (Required: ≥ {required_val_steps})\")\n",
        "\n",
        "if train_time_steps >= required_train_steps:\n",
        "    print(\"✅ Training window satisfies requirement.\")\n",
        "else:\n",
        "    print(\"❌ Training window too short.\")\n",
        "\n",
        "if val_time_steps >= required_val_steps:\n",
        "    print(\"✅ Validation window satisfies requirement.\")\n",
        "else:\n",
        "    print(\"❌ Validation window too short.\")\n",
        "\n",
        "\n",
        "# Training needs: max_encoder_length + max_prediction_length\n",
        "# Validation needs: max_prediction_length"
      ],
      "metadata": {
        "id": "4fLQyI2hqd-_",
        "outputId": "3f6c89de-6900-4158-bf4d-89a40bc8ffa7",
        "colab": {
          "base_uri": "https://localhost:8080/"
        }
      },
      "execution_count": null,
      "outputs": [
        {
          "output_type": "stream",
          "name": "stdout",
          "text": [
            "\n",
            "📊 Check: Config\n",
            "\n",
            "🟩 Max Encoder Length: 2016\n",
            "🟨 Max Prediction Length: 2016\n",
            "🟩 Both Combined: 4032\n",
            "\n",
            "📊 Check: Does the split satisfy the window requirements?\n",
            "\n",
            "🟩 Total Row Length: 8639\n",
            "🟩 Train Time Steps: 6047 (Required: ≥ 4032)\n",
            "🟨 Val Time Steps  : 2592 (Required: ≥ 2016)\n",
            "✅ Training window satisfies requirement.\n",
            "✅ Validation window satisfies requirement.\n"
          ]
        }
      ]
    },
    {
      "cell_type": "markdown",
      "source": [
        "## Variable summary before Modeling"
      ],
      "metadata": {
        "id": "KCszK3G1uwsd"
      }
    },
    {
      "cell_type": "code",
      "source": [
        "import seaborn as sns\n",
        "import matplotlib.pyplot as plt\n",
        "\n",
        "# ✅ Step 1: Count time_idx per VM\n",
        "vm_time_lengths = tft_df.groupby(\"vm_id\",observed=False)[\"time_idx\"].nunique().sort_values()\n",
        "\n",
        "# ✅ Step 2: Identify valid VMs\n",
        "valid_vm_ids = vm_time_lengths[vm_time_lengths >= required_train_steps].index\n",
        "invalid_vm_ids = vm_time_lengths[vm_time_lengths < required_train_steps].index\n",
        "\n",
        "# ✅ Step 3: Report summary\n",
        "print(\"\\n📊 VM Time Index Analysis:\")\n",
        "print(f\"- Total VMs              : {len(vm_time_lengths):,}\")\n",
        "print(f\"- Min steps per VM       : {vm_time_lengths.min()}\")\n",
        "print(f\"- Max steps per VM       : {vm_time_lengths.max()}\")\n",
        "print(f\"- Required per VM        : {required_train_steps}\")\n",
        "print(f\"- ✅ Valid VMs            : {len(valid_vm_ids):,}\")\n",
        "print(f\"- ❌ Invalid VMs          : {len(invalid_vm_ids):,}\")\n",
        "print(f\"- % Valid VMs            : {100 * len(valid_vm_ids) / len(vm_time_lengths):.2f}%\")\n",
        "\n",
        "\n",
        "# ✅ Step 4 (Optional): Filter invalid VMs\n",
        "tft_df = tft_df[tft_df[\"vm_id\"].isin(valid_vm_ids)]\n",
        "\n",
        "# ✅ Step 5 (Optional): Histogram\n",
        "plt.figure(figsize=(8, 5))\n",
        "sns.histplot(vm_time_lengths, bins=40, kde=False, color=\"steelblue\")\n",
        "plt.axvline(required_train_steps, color=\"red\", linestyle=\"--\", label=f\"min_required={required_train_steps}\")\n",
        "plt.title(\"Time Steps Per VM\")\n",
        "plt.xlabel(\"Time Steps\")\n",
        "plt.ylabel(\"VM Count\")\n",
        "plt.legend()\n",
        "plt.grid(True)\n",
        "plt.tight_layout()\n",
        "plt.show()"
      ],
      "metadata": {
        "id": "7Z-9l7eg5-3j",
        "colab": {
          "base_uri": "https://localhost:8080/",
          "height": 668
        },
        "outputId": "a9de0030-b5f5-4672-c160-7df36b233b45"
      },
      "execution_count": null,
      "outputs": [
        {
          "output_type": "stream",
          "name": "stdout",
          "text": [
            "\n",
            "📊 VM Time Index Analysis:\n",
            "- Total VMs              : 200\n",
            "- Min steps per VM       : 1105\n",
            "- Max steps per VM       : 8639\n",
            "- Required per VM        : 4032\n",
            "- ✅ Valid VMs            : 196\n",
            "- ❌ Invalid VMs          : 4\n",
            "- % Valid VMs            : 98.00%\n"
          ]
        },
        {
          "output_type": "display_data",
          "data": {
            "text/plain": [
              "<Figure size 800x500 with 1 Axes>"
            ],
            "image/png": "[encoded data removed]"
          },
          "metadata": {}
        }
      ]
    },
    {
      "cell_type": "markdown",
      "source": [
        "## Per VM check"
      ],
      "metadata": {
        "id": "AnWrD6rP_42W"
      }
    },
    {
      "cell_type": "code",
      "source": [
        "# Ensure time_idx is integer and sorted\n",
        "val_df['time_idx'] = val_df['time_idx'].astype(int)\n",
        "val_df = val_df.sort_values([\"vm_id\", \"time_idx\"]).reset_index(drop=True)\n",
        "\n",
        "# Filter VMs that have enough data for validation\n",
        "valid_val_vms = val_df.groupby(\"vm_id\").filter(lambda x: x['time_idx'].nunique() >= max_prediction_length)\n",
        "invalid_vms = val_df['vm_id'].nunique() - valid_val_vms['vm_id'].nunique()\n",
        "\n",
        "print(f\"✅ Valid VMs in val_df: {valid_val_vms['vm_id'].nunique()}\")\n",
        "print(f\"⚠️  Skipped VMs in val_df due to insufficient time_idx: {invalid_vms}\")\n",
        "\n",
        "val_df = valid_val_vms.reset_index(drop=True)"
      ],
      "metadata": {
        "colab": {
          "base_uri": "https://localhost:8080/"
        },
        "id": "6foPowVl__P8",
        "outputId": "a34a27c7-0f3a-4a12-c3c5-8672fc4b6f40"
      },
      "execution_count": null,
      "outputs": [
        {
          "output_type": "stream",
          "name": "stdout",
          "text": [
            "✅ Valid VMs in val_df: 196\n",
            "⚠️  Skipped VMs in val_df due to insufficient time_idx: 0\n"
          ]
        }
      ]
    },
    {
      "cell_type": "markdown",
      "source": [
        "## Dataset and dataloaders ready"
      ],
      "metadata": {
        "id": "zs0rxyuQuH1c"
      }
    },
    {
      "cell_type": "code",
      "source": [
        "# Fill missing values in relevant columns\n",
        "# fill_cols = ['disk_rolling_mean', 'network_rolling_mean', 'disk_rolling_std', 'network_rolling_std']\n",
        "# for col in fill_cols:\n",
        "#     if col in train_df.columns:\n",
        "#         train_df[col] = train_df[col].fillna(0)\n",
        "#     if col in val_df.columns:\n",
        "#         val_df[col] = val_df[col].fillna(0)\n",
        "\n",
        "# Prepare TimeSeriesDataSet for training portion (70%)\n",
        "\n",
        "dataset = TimeSeriesDataSet(\n",
        "    train_df,\n",
        "    time_idx='time_idx',\n",
        "    target=train_config[\"targets\"][0],  # 'cpu_utilization_ratio' here\n",
        "    group_ids=train_config[\"group_ids\"],\n",
        "    max_encoder_length=train_config[\"max_encoder_length\"],\n",
        "    max_prediction_length=train_config[\"max_prediction_length\"],\n",
        "    time_varying_known_reals=train_config[\"time_varying_known_reals\"],\n",
        "    time_varying_unknown_reals=train_config[\"time_varying_unknown_reals\"],\n",
        "    target_normalizer=GroupNormalizer(groups=train_config[\"group_ids\"]),\n",
        "    add_relative_time_idx=True,\n",
        "    add_target_scales=True,\n",
        "    add_encoder_length=True,\n",
        "    allow_missing_timesteps=True\n",
        ")\n",
        "\n",
        "# Validation dataset for prediction (no randomization, full data)\n",
        "# ✅ \"TimeSeriesDataSet applies sliding window logic on the training data,\n",
        "# using the full configuration like past steps, future steps, groups, and prepares the dataset accordingly.\"\n",
        "\n",
        "# Filter val_df to include only VMs with sufficient data for prediction\n",
        "required_val_steps = train_config[\"max_prediction_length\"]\n",
        "valid_val_vms_filtered = val_df.groupby(\"vm_id\").filter(lambda x: x['time_idx'].nunique() >= required_val_steps)\n",
        "\n",
        "# Reset index before creating the validation dataset\n",
        "val_df_for_dataset = valid_val_vms_filtered.reset_index(drop=True)\n",
        "\n",
        "val_dataset = TimeSeriesDataSet.from_dataset(\n",
        "    dataset,\n",
        "    val_df_for_dataset,\n",
        "    predict=True,\n",
        "    stop_randomization=True\n",
        ")\n",
        "\n",
        "\n",
        "# Create dataloaders\n",
        "# performs Batching, Padding, Time-aware slicing for forecasting\n",
        "\n",
        "train_dataloader = dataset.to_dataloader(\n",
        "    train=True,\n",
        "    batch_size=train_config[\"batch_size\"],\n",
        "    num_workers=train_config[\"num_workers\"]\n",
        ")\n",
        "\n",
        "val_dataloader = val_dataset.to_dataloader(\n",
        "    train=False,\n",
        "    batch_size=train_config[\"batch_size\"],\n",
        "    num_workers=train_config[\"num_workers\"]\n",
        ")\n",
        "\n",
        "\n",
        "print(f\"✅ Dataset and dataloaders ready. Train batches: {len(train_dataloader)}, Val batches: {len(val_dataloader)}\")"
      ],
      "metadata": {
        "colab": {
          "base_uri": "https://localhost:8080/",
          "height": 400
        },
        "id": "RkrZt4FfzkVZ",
        "outputId": "764cc95d-5755-4a11-eb3a-c49896156362"
      },
      "execution_count": null,
      "outputs": [
        {
          "output_type": "error",
          "ename": "AssertionError",
          "evalue": "filters should not remove entries all entries - check encoder/decoder lengths and lags",
          "traceback": [
            "\u001b[0;31m---------------------------------------------------------------------------\u001b[0m",
            "\u001b[0;31mAssertionError\u001b[0m                            Traceback (most recent call last)",
            "\u001b[0;32m/tmp/ipython-input-61-109522933.py\u001b[0m in \u001b[0;36m<cell line: 0>\u001b[0;34m()\u001b[0m\n\u001b[1;32m     36\u001b[0m \u001b[0mval_df_for_dataset\u001b[0m \u001b[0;34m=\u001b[0m \u001b[0mvalid_val_vms_filtered\u001b[0m\u001b[0;34m.\u001b[0m\u001b[0mreset_index\u001b[0m\u001b[0;34m(\u001b[0m\u001b[0mdrop\u001b[0m\u001b[0;34m=\u001b[0m\u001b[0;32mTrue\u001b[0m\u001b[0;34m)\u001b[0m\u001b[0;34m\u001b[0m\u001b[0;34m\u001b[0m\u001b[0m\n\u001b[1;32m     37\u001b[0m \u001b[0;34m\u001b[0m\u001b[0m\n\u001b[0;32m---> 38\u001b[0;31m val_dataset = TimeSeriesDataSet.from_dataset(\n\u001b[0m\u001b[1;32m     39\u001b[0m     \u001b[0mdataset\u001b[0m\u001b[0;34m,\u001b[0m\u001b[0;34m\u001b[0m\u001b[0;34m\u001b[0m\u001b[0m\n\u001b[1;32m     40\u001b[0m     \u001b[0mval_df_for_dataset\u001b[0m\u001b[0;34m,\u001b[0m\u001b[0;34m\u001b[0m\u001b[0;34m\u001b[0m\u001b[0m\n",
            "\u001b[0;32m/usr/local/lib/python3.11/dist-packages/pytorch_forecasting/data/timeseries/_timeseries.py\u001b[0m in \u001b[0;36mfrom_dataset\u001b[0;34m(cls, dataset, data, stop_randomization, predict, **update_kwargs)\u001b[0m\n\u001b[1;32m   1661\u001b[0m             \u001b[0mnew\u001b[0m \u001b[0mdataset\u001b[0m\u001b[0;34m\u001b[0m\u001b[0;34m\u001b[0m\u001b[0m\n\u001b[1;32m   1662\u001b[0m         \"\"\"\n\u001b[0;32m-> 1663\u001b[0;31m         return cls.from_parameters(\n\u001b[0m\u001b[1;32m   1664\u001b[0m             \u001b[0mdataset\u001b[0m\u001b[0;34m.\u001b[0m\u001b[0mget_parameters\u001b[0m\u001b[0;34m(\u001b[0m\u001b[0;34m)\u001b[0m\u001b[0;34m,\u001b[0m\u001b[0;34m\u001b[0m\u001b[0;34m\u001b[0m\u001b[0m\n\u001b[1;32m   1665\u001b[0m             \u001b[0mdata\u001b[0m\u001b[0;34m,\u001b[0m\u001b[0;34m\u001b[0m\u001b[0;34m\u001b[0m\u001b[0m\n",
            "\u001b[0;32m/usr/local/lib/python3.11/dist-packages/pytorch_forecasting/data/timeseries/_timeseries.py\u001b[0m in \u001b[0;36mfrom_parameters\u001b[0;34m(cls, parameters, data, stop_randomization, predict, **update_kwargs)\u001b[0m\n\u001b[1;32m   1723\u001b[0m         \u001b[0mparameters\u001b[0m\u001b[0;34m.\u001b[0m\u001b[0mupdate\u001b[0m\u001b[0;34m(\u001b[0m\u001b[0mupdate_kwargs\u001b[0m\u001b[0;34m)\u001b[0m\u001b[0;34m\u001b[0m\u001b[0;34m\u001b[0m\u001b[0m\n\u001b[1;32m   1724\u001b[0m \u001b[0;34m\u001b[0m\u001b[0m\n\u001b[0;32m-> 1725\u001b[0;31m         \u001b[0mnew\u001b[0m \u001b[0;34m=\u001b[0m \u001b[0mcls\u001b[0m\u001b[0;34m(\u001b[0m\u001b[0mdata\u001b[0m\u001b[0;34m,\u001b[0m \u001b[0;34m**\u001b[0m\u001b[0mparameters\u001b[0m\u001b[0;34m)\u001b[0m\u001b[0;34m\u001b[0m\u001b[0;34m\u001b[0m\u001b[0m\n\u001b[0m\u001b[1;32m   1726\u001b[0m         \u001b[0;32mreturn\u001b[0m \u001b[0mnew\u001b[0m\u001b[0;34m\u001b[0m\u001b[0;34m\u001b[0m\u001b[0m\n\u001b[1;32m   1727\u001b[0m \u001b[0;34m\u001b[0m\u001b[0m\n",
            "\u001b[0;32m/usr/local/lib/python3.11/dist-packages/pytorch_forecasting/data/timeseries/_timeseries.py\u001b[0m in \u001b[0;36m__init__\u001b[0;34m(self, data, time_idx, target, group_ids, weight, max_encoder_length, min_encoder_length, min_prediction_idx, min_prediction_length, max_prediction_length, static_categoricals, static_reals, time_varying_known_categoricals, time_varying_known_reals, time_varying_unknown_categoricals, time_varying_unknown_reals, variable_groups, constant_fill_strategy, allow_missing_timesteps, lags, add_relative_time_idx, add_target_scales, add_encoder_length, target_normalizer, categorical_encoders, scalers, randomize_length, predict_mode)\u001b[0m\n\u001b[1;32m    644\u001b[0m \u001b[0;34m\u001b[0m\u001b[0m\n\u001b[1;32m    645\u001b[0m         \u001b[0;31m# create index\u001b[0m\u001b[0;34m\u001b[0m\u001b[0;34m\u001b[0m\u001b[0m\n\u001b[0;32m--> 646\u001b[0;31m         \u001b[0mself\u001b[0m\u001b[0;34m.\u001b[0m\u001b[0mindex\u001b[0m \u001b[0;34m=\u001b[0m \u001b[0mself\u001b[0m\u001b[0;34m.\u001b[0m\u001b[0m_construct_index\u001b[0m\u001b[0;34m(\u001b[0m\u001b[0mdata\u001b[0m\u001b[0;34m,\u001b[0m \u001b[0mpredict_mode\u001b[0m\u001b[0;34m=\u001b[0m\u001b[0mself\u001b[0m\u001b[0;34m.\u001b[0m\u001b[0mpredict_mode\u001b[0m\u001b[0;34m)\u001b[0m\u001b[0;34m\u001b[0m\u001b[0;34m\u001b[0m\u001b[0m\n\u001b[0m\u001b[1;32m    647\u001b[0m \u001b[0;34m\u001b[0m\u001b[0m\n\u001b[1;32m    648\u001b[0m         \u001b[0;31m# data conversion to torch tensors\u001b[0m\u001b[0;34m\u001b[0m\u001b[0;34m\u001b[0m\u001b[0m\n",
            "\u001b[0;32m/usr/local/lib/python3.11/dist-packages/pytorch_forecasting/data/timeseries/_timeseries.py\u001b[0m in \u001b[0;36m_construct_index\u001b[0;34m(self, data, predict_mode)\u001b[0m\n\u001b[1;32m   1859\u001b[0m             \u001b[0;34m\"check encoder/decoder lengths and lags\"\u001b[0m\u001b[0;34m\u001b[0m\u001b[0;34m\u001b[0m\u001b[0m\n\u001b[1;32m   1860\u001b[0m         )\n\u001b[0;32m-> 1861\u001b[0;31m         \u001b[0;32massert\u001b[0m \u001b[0mlen\u001b[0m\u001b[0;34m(\u001b[0m\u001b[0mdf_index\u001b[0m\u001b[0;34m)\u001b[0m \u001b[0;34m>\u001b[0m \u001b[0;36m0\u001b[0m\u001b[0;34m,\u001b[0m \u001b[0mmsg\u001b[0m\u001b[0;34m\u001b[0m\u001b[0;34m\u001b[0m\u001b[0m\n\u001b[0m\u001b[1;32m   1862\u001b[0m \u001b[0;34m\u001b[0m\u001b[0m\n\u001b[1;32m   1863\u001b[0m         \u001b[0;32mreturn\u001b[0m \u001b[0mdf_index\u001b[0m\u001b[0;34m\u001b[0m\u001b[0;34m\u001b[0m\u001b[0m\n",
            "\u001b[0;31mAssertionError\u001b[0m: filters should not remove entries all entries - check encoder/decoder lengths and lags"
          ]
        }
      ]
    },
    {
      "cell_type": "markdown",
      "source": [
        "## Output & Log Folder Creation"
      ],
      "metadata": {
        "id": "BoJ1pukZhskL"
      }
    },
    {
      "cell_type": "code",
      "source": [
        "# Setup output and log folders based on run config\n",
        "\n",
        "import pytz\n",
        "import datetime\n",
        "\n",
        "ist = pytz.timezone('Asia/Kolkata')\n",
        "now_ist = datetime.datetime.now(ist)\n",
        "timestamp = now_ist.strftime(\"%Y%m%d-%H%M%S\")\n",
        "\n",
        "def get_run_folder_name(train_config, vm_count):\n",
        "    target = \"cpu\"\n",
        "    past = f\"past{train_config['max_encoder_length']}\"\n",
        "    fut = f\"fut{train_config['max_prediction_length']}\"\n",
        "    batch = f\"bs{train_config['batch_size']}\"\n",
        "    lr = f\"lr{train_config['learning_rate']:.0e}\".replace('+0', '')\n",
        "    hid = f\"hid{train_config['hidden_size']}\"\n",
        "\n",
        "    return f\"{target}_{vm_count}_{past}_{fut}_{batch}_{lr}_{hid}_{timestamp}\"\n",
        "\n",
        "folder_name = get_run_folder_name(train_config, vm_count)\n",
        "\n",
        "train_config[\"output_base_dir\"] = os.path.join(train_config[\"output_base_dir\"], folder_name)\n",
        "train_config[\"log_dir\"] = os.path.join(train_config[\"log_dir\"], folder_name)\n",
        "\n",
        "os.makedirs(train_config[\"output_base_dir\"], exist_ok=True)\n",
        "os.makedirs(train_config[\"log_dir\"], exist_ok=True)\n",
        "\n",
        "print(\"Output directory:\", train_config[\"output_base_dir\"])\n",
        "print(\"Log directory:\", train_config[\"log_dir\"])\n",
        "\n",
        "# Now you can proceed to model training using `tft_df` and `train_config` as usual."
      ],
      "metadata": {
        "id": "Ib5yqZQz-9PZ"
      },
      "execution_count": null,
      "outputs": []
    },
    {
      "cell_type": "markdown",
      "source": [
        "## Logging & Callbacks"
      ],
      "metadata": {
        "id": "tLG5FXgbvkJs"
      }
    },
    {
      "cell_type": "code",
      "source": [
        "# Logging & Callbacks\n",
        "from pytorch_lightning.callbacks import EarlyStopping\n",
        "\n",
        "for target in train_config[\"targets\"]:\n",
        "    print(f\"\\n🔁 Training for target: {target}\")\n",
        "\n",
        "    run_dir = os.path.join(train_config[\"output_base_dir\"], f\"{target}_run_{timestamp}\")\n",
        "    os.makedirs(run_dir, exist_ok=True)\n",
        "\n",
        "    # Save Raw cleaned DF for inspection (TFT input format)\n",
        "    tft_df.to_csv(f\"{run_dir}/tft_df.csv\", index=False)\n",
        "\n",
        "    # Save structured TimeSeriesDataset (structure, scalers, etc.)\n",
        "    dataset.save(f\"{run_dir}/tft_df_metadata\")  # <-- .save stores dataset metadata\n",
        "\n",
        "    # Save metadata for mapping forecasts (VM, time)\n",
        "    meta_cols = ['vm_id', 'timestamp', 'time_idx']\n",
        "\n",
        "    if all(col in val_df.columns for col in meta_cols):\n",
        "        meta_df = val_df[meta_cols].reset_index(drop=True)\n",
        "        meta_df.to_csv(f\"{run_dir}/forecast_metadata.csv\", index=False)\n",
        "        print(f\"✅ Metadata saved to: {run_dir}/forecast_metadata.csv\")\n",
        "    else:\n",
        "        print(f\"⚠️ Skipping metadata save — columns not found: {meta_cols}\")\n",
        "\n",
        "    # Setup logging & checkpointing\n",
        "    logger = CSVLogger(save_dir=train_config[\"log_dir\"], name=f\"{target}_log\")\n",
        "\n",
        "    checkpoint_callback = ModelCheckpoint(\n",
        "        monitor=\"val_loss\",\n",
        "        dirpath=run_dir,\n",
        "        filename=\"tft-{epoch:02d}-{val_loss:.2f}\",\n",
        "        save_top_k=1,\n",
        "        save_last=True,\n",
        "        mode=\"min\"\n",
        "    )\n",
        "\n",
        "    early_stopping = EarlyStopping(\n",
        "        monitor=\"val_loss\",\n",
        "        patience=train_config[\"early_stopping_patience\"],\n",
        "        mode=\"min\"\n",
        "    )"
      ],
      "metadata": {
        "id": "X07NZKn0SeUH"
      },
      "execution_count": null,
      "outputs": []
    },
    {
      "cell_type": "markdown",
      "source": [
        "## Model, Lightning, Trainer"
      ],
      "metadata": {
        "id": "XuuT4XcivziV"
      }
    },
    {
      "cell_type": "code",
      "source": [
        "import pytorch_lightning as pl\n",
        "\n",
        "class TFTLightningModule(pl.LightningModule):\n",
        "    def __init__(self, tft_model: TemporalFusionTransformer, learning_rate: float, loss_fn: torch.nn.Module):\n",
        "        super().__init__()\n",
        "        self.tft_model = tft_model\n",
        "        self.learning_rate = learning_rate\n",
        "        self.loss_fn = loss_fn\n",
        "\n",
        "    def forward(self, x):\n",
        "        return self.tft_model(x)\n",
        "\n",
        "    def training_step(self, batch, batch_idx):\n",
        "        x, y = batch\n",
        "        y_hat = self(x)\n",
        "        loss = self.loss_fn(y_hat.prediction, y) # Extract prediction from output\n",
        "        self.log(\"train_loss\", loss)\n",
        "        return loss\n",
        "\n",
        "    def validation_step(self, batch, batch_idx):\n",
        "        x, y = batch\n",
        "        y_hat = self(x)\n",
        "        loss = self.loss_fn(y_hat.prediction, y) # Extract prediction from output\n",
        "        self.log(\"val_loss\", loss)\n",
        "        return loss\n",
        "\n",
        "    def configure_optimizers(self):\n",
        "        optimizer = torch.optim.Adam(self.parameters(), lr=self.learning_rate)\n",
        "        return optimizer\n",
        "\n",
        "# Create the TFT model\n",
        "tft_model = TemporalFusionTransformer.from_dataset(\n",
        "    dataset,\n",
        "    learning_rate=train_config[\"learning_rate\"],\n",
        "    hidden_size=train_config[\"hidden_size\"],\n",
        "    dropout=train_config[\"dropout\"],\n",
        "    loss=train_config[\"loss_fn\"],\n",
        "    log_interval=10,\n",
        "    reduce_on_plateau_patience=4\n",
        ")\n",
        "\n",
        "# Wrap the TFT model in a LightningModule\n",
        "model = TFTLightningModule(\n",
        "    tft_model=tft_model,\n",
        "    learning_rate=train_config[\"learning_rate\"],\n",
        "    loss_fn=train_config[\"loss_fn\"]\n",
        ")\n",
        "\n",
        "# Setup Trainer\n",
        "if torch.cuda.is_available():\n",
        "    accelerator = \"gpu\"\n",
        "    devices = 1\n",
        "else:\n",
        "    accelerator = \"cpu\"\n",
        "    devices = 1\n",
        "\n",
        "trainer = Trainer(\n",
        "    max_epochs=train_config[\"epochs\"],\n",
        "    accelerator=accelerator,\n",
        "    devices=devices,\n",
        "    logger=logger,\n",
        "    callbacks=[checkpoint_callback, early_stopping],\n",
        "    enable_checkpointing=True\n",
        ")\n",
        "\n",
        "# Fit the model\n",
        "trainer.fit(model, train_dataloaders=train_dataloader, val_dataloaders=val_dataloader)"
      ],
      "metadata": {
        "id": "paex9VsEaJBj"
      },
      "execution_count": null,
      "outputs": []
    },
    {
      "cell_type": "markdown",
      "source": [
        "# Actual vs Prediction Graphs"
      ],
      "metadata": {
        "id": "YAkb7l6BytSM"
      }
    },
    {
      "cell_type": "code",
      "source": [
        "# 🔮 Step 1: Make raw predictions on validation set\n",
        "prediction_output = model.tft_model.predict(\n",
        "    val_dataloader, mode='raw', return_x=True\n",
        ")\n",
        "\n",
        "# ✅ Step 2: Extract input and output\n",
        "x = prediction_output.x\n",
        "predictions = prediction_output.output\n",
        "\n",
        "# ✅ Step 3: Extract forecast values as numpy array (for CSV export)\n",
        "forecast = predictions.prediction[0].detach().cpu().numpy()\n",
        "\n",
        "# ✅ Step 4: Plot forecast using built-in TFT visualization\n",
        "fig = model.tft_model.plot_prediction(\n",
        "    x, predictions, idx=0, show_future_observed=True\n",
        ")\n",
        "plt.title(f\"Prediction Plot for {target}\")\n",
        "\n",
        "# ✅ Reduce legend size and move it neatly outside\n",
        "plt.legend(\n",
        "    loc='upper left',\n",
        "    bbox_to_anchor=(1, 1),\n",
        "    fontsize='small',      # You can try 'small', 'x-small', numeric values like 8\n",
        "    frameon=True,          # Adds box around legend for clarity\n",
        ")\n",
        "\n",
        "plt.tight_layout()\n",
        "plt.show()\n",
        "\n",
        "# ✅ Step 5: Save the plot as PNG\n",
        "plt.savefig(f\"{run_dir}/plot.png\", bbox_inches='tight')  # Ensure nothing gets cut off\n",
        "plt.close()\n",
        "print(f\"✅ Prediction plot saved at: {run_dir}/plot.png\")\n",
        "\n",
        "# ✅ Step 6: Save forecast to CSV\n",
        "pd.DataFrame(forecast, columns=[f'{target}_forecast']).to_csv(\n",
        "    f\"{run_dir}/predictions.csv\", index=False\n",
        ")\n",
        "print(f\"✅ Forecast values saved to: {run_dir}/predictions.csv\")"
      ],
      "metadata": {
        "id": "B2qLHzHdywHd"
      },
      "execution_count": null,
      "outputs": []
    },
    {
      "cell_type": "markdown",
      "source": [
        "## Spike Detection & Save Metadata"
      ],
      "metadata": {
        "id": "Wp2UKawDwVRc"
      }
    },
    {
      "cell_type": "code",
      "source": [
        "spikes = forecast > np.percentile(forecast, 95)\n",
        "\n",
        "# Save run notes and spike count\n",
        "with open(f\"{run_dir}/notes.txt\", \"w\") as f:\n",
        "    f.write(f\"Target: {target}\\n\")\n",
        "    f.write(f\"Spikes > 95th percentile: {int(spikes.sum())}\\n\")\n",
        "    f.write(\"Review plot.png and predictions.csv for further insights.\\n\")\n",
        "\n",
        "# 💾 Save training config for reproducibility\n",
        "# Create a serializable version of train_config\n",
        "serializable_train_config = train_config.copy()\n",
        "# Replace the non-serializable loss_fn object with its name\n",
        "serializable_train_config[\"loss_fn\"] = serializable_train_config[\"loss_fn\"].__class__.__name__\n",
        "\n",
        "with open(f\"{run_dir}/modelconfig.json\", \"w\") as f:\n",
        "    json.dump(serializable_train_config, f, indent=2)\n",
        "\n",
        "print(f\"✅ Run complete. Outputs saved at: {run_dir}\")"
      ],
      "metadata": {
        "id": "ZZViKR3poBY3"
      },
      "execution_count": null,
      "outputs": []
    },
    {
      "cell_type": "code",
      "source": [
        "forecast_path = os.path.join(run_dir, \"predictions.csv\")\n",
        "print(f\"✅ Forecast values saved to: {forecast_path}\")"
      ],
      "metadata": {
        "id": "5iELq2nboDno"
      },
      "execution_count": null,
      "outputs": []
    },
    {
      "cell_type": "code",
      "source": [
        "# # Command to inspect .ckpt\n",
        "\n",
        "# ckpt = torch.load(\"path/to/tft-epoch=01-val_loss=0.04.ckpt\", map_location=torch.device('cpu'))\n",
        "# print(ckpt.keys())"
      ],
      "metadata": {
        "id": "rxsLstiSU8nn",
        "collapsed": true
      },
      "execution_count": null,
      "outputs": []
    },
    {
      "cell_type": "code",
      "source": [
        "# print(ckpt[\"epoch\"])             # Epoch number\n",
        "# print(ckpt[\"global_step\"])       # Total steps\n",
        "# print(ckpt[\"hyper_parameters\"])  # Saved hyperparameters"
      ],
      "metadata": {
        "id": "ebOmwcNBVDlH"
      },
      "execution_count": null,
      "outputs": []
    },
    {
      "cell_type": "code",
      "source": [],
      "metadata": {
        "id": "k9bYj41m4Dc2"
      },
      "execution_count": null,
      "outputs": []
    },
    {
      "cell_type": "code",
      "metadata": {
        "id": "d6f56c8b",
        "outputId": "2d6c0a9f-cad1-402a-9aef-a2aed3e5aea8",
        "colab": {
          "base_uri": "https://localhost:8080/"
        }
      },
      "source": [
        "# Diagnose the AssertionError in val_dataset creation\n",
        "\n",
        "required_prediction_length = train_config[\"max_prediction_length\"]\n",
        "print(f\"Checking validation data for VMs with less than {required_prediction_length} consecutive time steps.\")\n",
        "\n",
        "invalid_vms_for_prediction = []\n",
        "\n",
        "for vm_id, group_df in val_df_for_dataset.groupby('vm_id', observed=False):\n",
        "    # Check for continuous time indices\n",
        "    time_indices = group_df['time_idx'].sort_values().tolist()\n",
        "    if not time_indices:\n",
        "        invalid_vms_for_prediction.append(vm_id)\n",
        "        print(f\"  - VM {vm_id}: No time indices found.\")\n",
        "        continue\n",
        "\n",
        "    # Check if there is any sequence of length required_prediction_length\n",
        "    # A simple check is to see if the total number of time steps is enough\n",
        "    # for at least one sequence. More robust check would involve looking for gaps.\n",
        "    max_possible_sequences = max(0, time_indices[-1] - time_indices[0] - required_prediction_length + 2)\n",
        "\n",
        "\n",
        "    if group_df['time_idx'].nunique() < required_prediction_length:\n",
        "         invalid_vms_for_prediction.append(vm_id)\n",
        "         print(f\"  - VM {vm_id}: Total unique time steps ({group_df['time_idx'].nunique()}) is less than required prediction length ({required_prediction_length}).\")\n",
        "\n",
        "    # More thorough check for gaps - simplified approach\n",
        "    # Check if the difference between consecutive time_idx is always 1\n",
        "    if not all(diff == 1 for diff in np.diff(time_indices)):\n",
        "         # This VM has gaps. Let's check if there's *at least one* valid sequence possible\n",
        "         # A valid sequence needs required_prediction_length consecutive time_idx values.\n",
        "         # This is a simplified check and might not catch all edge cases with multiple small gaps.\n",
        "         has_valid_sequence = False\n",
        "         if len(time_indices) >= required_prediction_length:\n",
        "             for i in range(len(time_indices) - required_prediction_length + 1):\n",
        "                 if all(time_indices[i+j] == time_indices[i] + j for j in range(required_prediction_length)):\n",
        "                     has_valid_sequence = True\n",
        "                     break\n",
        "         if not has_valid_sequence:\n",
        "              invalid_vms_for_prediction.append(vm_id)\n",
        "              print(f\"  - VM {vm_id}: Has gaps or not enough consecutive time steps for prediction sequences.\")\n",
        "\n",
        "\n",
        "# Remove duplicate VM IDs if any were added multiple times\n",
        "invalid_vms_for_prediction = list(set(invalid_vms_for_prediction))\n",
        "\n",
        "if invalid_vms_for_prediction:\n",
        "    print(f\"\\n⚠️ Found {len(invalid_vms_for_prediction)} VMs causing issues for validation dataset creation:\")\n",
        "    print(invalid_vms_for_prediction)\n",
        "    print(\"\\nThese VMs likely do not have a continuous sequence of time indices of length equal to or greater than the max_prediction_length in the validation set.\")\n",
        "else:\n",
        "    print(\"\\n✅ All VMs in val_df_for_dataset appear to have enough consecutive time steps for prediction sequences.\")"
      ],
      "execution_count": null,
      "outputs": [
        {
          "output_type": "stream",
          "name": "stdout",
          "text": [
            "Checking validation data for VMs with less than 2016 consecutive time steps.\n",
            "  - VM 94: No time indices found.\n",
            "  - VM 97: No time indices found.\n",
            "  - VM 103: No time indices found.\n",
            "  - VM 104: No time indices found.\n",
            "  - VM 111: Has gaps or not enough consecutive time steps for prediction sequences.\n",
            "  - VM 116: Has gaps or not enough consecutive time steps for prediction sequences.\n",
            "  - VM 117: Has gaps or not enough consecutive time steps for prediction sequences.\n",
            "  - VM 907: Has gaps or not enough consecutive time steps for prediction sequences.\n",
            "  - VM 910: Has gaps or not enough consecutive time steps for prediction sequences.\n",
            "  - VM 911: Has gaps or not enough consecutive time steps for prediction sequences.\n",
            "  - VM 912: Has gaps or not enough consecutive time steps for prediction sequences.\n",
            "  - VM 914: Has gaps or not enough consecutive time steps for prediction sequences.\n",
            "  - VM 915: Has gaps or not enough consecutive time steps for prediction sequences.\n",
            "  - VM 917: Has gaps or not enough consecutive time steps for prediction sequences.\n",
            "  - VM 920: Has gaps or not enough consecutive time steps for prediction sequences.\n",
            "  - VM 930: Has gaps or not enough consecutive time steps for prediction sequences.\n",
            "  - VM 931: Has gaps or not enough consecutive time steps for prediction sequences.\n",
            "  - VM 933: Has gaps or not enough consecutive time steps for prediction sequences.\n",
            "  - VM 941: Has gaps or not enough consecutive time steps for prediction sequences.\n",
            "  - VM 942: Has gaps or not enough consecutive time steps for prediction sequences.\n",
            "  - VM 947: Has gaps or not enough consecutive time steps for prediction sequences.\n",
            "  - VM 949: Has gaps or not enough consecutive time steps for prediction sequences.\n",
            "  - VM 950: Has gaps or not enough consecutive time steps for prediction sequences.\n",
            "  - VM 951: Has gaps or not enough consecutive time steps for prediction sequences.\n",
            "  - VM 952: Has gaps or not enough consecutive time steps for prediction sequences.\n",
            "  - VM 953: Has gaps or not enough consecutive time steps for prediction sequences.\n",
            "  - VM 954: Has gaps or not enough consecutive time steps for prediction sequences.\n",
            "  - VM 956: Has gaps or not enough consecutive time steps for prediction sequences.\n",
            "  - VM 1017: Has gaps or not enough consecutive time steps for prediction sequences.\n",
            "  - VM 1024: Has gaps or not enough consecutive time steps for prediction sequences.\n",
            "  - VM 1025: Has gaps or not enough consecutive time steps for prediction sequences.\n",
            "  - VM 1026: Has gaps or not enough consecutive time steps for prediction sequences.\n",
            "  - VM 1039: Has gaps or not enough consecutive time steps for prediction sequences.\n",
            "  - VM 1049: Has gaps or not enough consecutive time steps for prediction sequences.\n",
            "  - VM 1053: Has gaps or not enough consecutive time steps for prediction sequences.\n",
            "  - VM 1055: Has gaps or not enough consecutive time steps for prediction sequences.\n",
            "  - VM 1058: Has gaps or not enough consecutive time steps for prediction sequences.\n",
            "  - VM 1059: Has gaps or not enough consecutive time steps for prediction sequences.\n",
            "  - VM 1060: Has gaps or not enough consecutive time steps for prediction sequences.\n",
            "  - VM 1063: Has gaps or not enough consecutive time steps for prediction sequences.\n",
            "  - VM 1066: Has gaps or not enough consecutive time steps for prediction sequences.\n",
            "  - VM 1067: Has gaps or not enough consecutive time steps for prediction sequences.\n",
            "  - VM 1070: Has gaps or not enough consecutive time steps for prediction sequences.\n",
            "  - VM 1071: Has gaps or not enough consecutive time steps for prediction sequences.\n",
            "  - VM 1075: Has gaps or not enough consecutive time steps for prediction sequences.\n",
            "  - VM 1080: Has gaps or not enough consecutive time steps for prediction sequences.\n",
            "  - VM 1081: Has gaps or not enough consecutive time steps for prediction sequences.\n",
            "  - VM 1082: Has gaps or not enough consecutive time steps for prediction sequences.\n",
            "  - VM 1090: Has gaps or not enough consecutive time steps for prediction sequences.\n",
            "  - VM 1095: Has gaps or not enough consecutive time steps for prediction sequences.\n",
            "  - VM 1096: Has gaps or not enough consecutive time steps for prediction sequences.\n",
            "  - VM 1100: Has gaps or not enough consecutive time steps for prediction sequences.\n",
            "  - VM 1112: Has gaps or not enough consecutive time steps for prediction sequences.\n",
            "  - VM 1115: Has gaps or not enough consecutive time steps for prediction sequences.\n",
            "  - VM 1117: Has gaps or not enough consecutive time steps for prediction sequences.\n",
            "  - VM 1118: Has gaps or not enough consecutive time steps for prediction sequences.\n",
            "  - VM 1119: Has gaps or not enough consecutive time steps for prediction sequences.\n",
            "  - VM 1125: Has gaps or not enough consecutive time steps for prediction sequences.\n",
            "  - VM 1140: Has gaps or not enough consecutive time steps for prediction sequences.\n",
            "  - VM 1142: Has gaps or not enough consecutive time steps for prediction sequences.\n",
            "  - VM 1146: Has gaps or not enough consecutive time steps for prediction sequences.\n",
            "  - VM 1158: Has gaps or not enough consecutive time steps for prediction sequences.\n",
            "  - VM 1160: Has gaps or not enough consecutive time steps for prediction sequences.\n",
            "  - VM 1165: Has gaps or not enough consecutive time steps for prediction sequences.\n",
            "  - VM 1166: Has gaps or not enough consecutive time steps for prediction sequences.\n",
            "  - VM 1173: Has gaps or not enough consecutive time steps for prediction sequences.\n",
            "  - VM 1177: Has gaps or not enough consecutive time steps for prediction sequences.\n",
            "  - VM 1185: Has gaps or not enough consecutive time steps for prediction sequences.\n",
            "\n",
            "⚠️ Found 68 VMs causing issues for validation dataset creation:\n",
            "[1024, 1025, 1026, 1158, 1160, 907, 1165, 910, 911, 912, 1039, 914, 915, 1166, 917, 1173, 920, 1049, 1177, 1053, 1055, 1185, 930, 931, 1058, 933, 1059, 1060, 1063, 1066, 1067, 941, 942, 1070, 1071, 947, 1075, 949, 950, 951, 952, 953, 954, 1080, 956, 1081, 1082, 1090, 1095, 1096, 1100, 1112, 1115, 1117, 94, 1118, 1119, 97, 1125, 103, 104, 111, 116, 117, 1140, 1142, 1017, 1146]\n",
            "\n",
            "These VMs likely do not have a continuous sequence of time indices of length equal to or greater than the max_prediction_length in the validation set.\n"
          ]
        }
      ]
    },
    {
      "cell_type": "code",
      "source": [],
      "metadata": {
        "id": "RmkEnl8nF--f"
      },
      "execution_count": null,
      "outputs": []
    }
  ],
  "metadata": {
    "kernelspec": {
      "display_name": "Python 3",
      "name": "python3"
    },
    "language_info": {
      "codemirror_mode": {
        "name": "ipython",
        "version": 3
      },
      "file_extension": ".py",
      "mimetype": "text/x-python",
      "name": "python",
      "nbconvert_exporter": "python",
      "pygments_lexer": "ipython3",
      "version": "3.8.12"
    },
    "orig_nbformat": 4,
    "vscode": {
      "interpreter": {
        "hash": "2133a3972b28273c10fa027bbde5fb58efc69f3a1cd517826cf4b1affadfce4e"
      }
    },
    "colab": {
      "provenance": [],
      "include_colab_link": true
    }
  },
  "nbformat": 4,
  "nbformat_minor": 0
}